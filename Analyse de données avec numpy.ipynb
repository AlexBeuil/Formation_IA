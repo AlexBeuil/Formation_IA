{
 "cells": [
  {
   "cell_type": "code",
   "execution_count": 41,
   "metadata": {},
   "outputs": [
    {
     "output_type": "stream",
     "name": "stdout",
     "text": [
      "[['1986' 'Western Pacific' 'Viet Nam' 'Wine' '0']\n ['1986' 'Americas' 'Uruguay' 'Other' '0.5']\n ['1985' 'Africa' \"Cte d'Ivoire\" 'Wine' '1.62']\n ...\n ['1986' 'Europe' 'Switzerland' 'Spirits' '2.54']\n ['1987' 'Western Pacific' 'Papua New Guinea' 'Other' '0']\n ['1986' 'Africa' 'Swaziland' 'Other' '5.15']]\n"
     ]
    }
   ],
   "source": [
    "import numpy as np \n",
    "\n",
    "world_alcohol = np.genfromtxt(\"/home/simplon/Documents/Python_cours/Introduction_a_NumPy/analyse de données avec Numpy/world_alcohol.csv\", delimiter=\",\", dtype=\"U75\", skip_header=1)\n",
    "print(world_alcohol)"
   ]
  },
  {
   "cell_type": "code",
   "execution_count": 42,
   "metadata": {},
   "outputs": [
    {
     "output_type": "stream",
     "name": "stdout",
     "text": [
      "[False False False ... False False False]\n"
     ]
    }
   ],
   "source": [
    "countries_is_canada = world_alcohol[:,2] == \"Canada\"\n",
    "print(countries_is_canada)"
   ]
  },
  {
   "cell_type": "code",
   "execution_count": 43,
   "metadata": {},
   "outputs": [
    {
     "output_type": "stream",
     "name": "stdout",
     "text": [
      "[['1984' 'Americas' 'Canada' 'Spirits' '3.35']\n ['1989' 'Americas' 'Canada' 'Wine' '1.27']\n ['1984' 'Americas' 'Canada' 'Beer' '5']\n ['1985' 'Americas' 'Canada' 'Beer' '4.94']\n ['1987' 'Americas' 'Canada' 'Wine' '1.3']\n ['1987' 'Americas' 'Canada' 'Beer' '4.83']\n ['1986' 'Americas' 'Canada' 'Other' '']\n ['1986' 'Americas' 'Canada' 'Spirits' '3.11']\n ['1985' 'Americas' 'Canada' 'Spirits' '3.21']\n ['1985' 'Americas' 'Canada' 'Other' '']\n ['1986' 'Americas' 'Canada' 'Beer' '4.87']\n ['1984' 'Americas' 'Canada' 'Wine' '1.24']\n ['1989' 'Americas' 'Canada' 'Spirits' '2.91']\n ['1984' 'Americas' 'Canada' 'Other' '']\n ['1985' 'Americas' 'Canada' 'Wine' '1.29']\n ['1987' 'Americas' 'Canada' 'Spirits' '2.99']\n ['1989' 'Americas' 'Canada' 'Beer' '4.82']\n ['1989' 'Americas' 'Canada' 'Other' '']\n ['1986' 'Americas' 'Canada' 'Wine' '1.33']\n ['1987' 'Americas' 'Canada' 'Other' '']]\n\n(20, 5)\n"
     ]
    }
   ],
   "source": [
    "# countries_canada = world_alcohol[world_alcohol[:,2] == \"Canada\"]\n",
    "countries_canada = world_alcohol[countries_is_canada]\n",
    "print(countries_canada)\n",
    "print()\n",
    "print(countries_canada.shape)"
   ]
  },
  {
   "cell_type": "code",
   "execution_count": 44,
   "metadata": {},
   "outputs": [
    {
     "output_type": "stream",
     "name": "stdout",
     "text": [
      "(20, 5)\n"
     ]
    }
   ],
   "source": [
    "country_is_algeria = world_alcohol[:,2] == \"Algeria\" \n",
    "country_is_algeria = world_alcohol[country_is_algeria]\n",
    "print(country_is_algeria.shape)"
   ]
  },
  {
   "cell_type": "code",
   "execution_count": 45,
   "metadata": {},
   "outputs": [
    {
     "output_type": "stream",
     "name": "stdout",
     "text": [
      "[['1984' 'Africa' 'Nigeria' 'Other' '6.1']\n ['1984' 'Eastern Mediterranean' 'Afghanistan' 'Other' '0']\n ['1984' 'Americas' 'Costa Rica' 'Wine' '0.06']\n ...\n ['1984' 'Europe' 'Latvia' 'Spirits' '7.5']\n ['1984' 'Africa' 'Angola' 'Wine' '0.57']\n ['1984' 'Africa' 'Central African Republic' 'Wine' '0.46']]\n646\n"
     ]
    }
   ],
   "source": [
    "countries_in_1984 = world_alcohol[:,0]==\"1984\"\n",
    "countries1984 = world_alcohol[countries_in_1984]\n",
    "print(countries1984)\n",
    "print(countries1984.shape[0])"
   ]
  },
  {
   "cell_type": "code",
   "execution_count": 46,
   "metadata": {},
   "outputs": [
    {
     "output_type": "stream",
     "name": "stdout",
     "text": [
      "[['1986' 'Africa' 'Algeria' 'Wine' '0.1']\n ['1986' 'Africa' 'Algeria' 'Spirits' '0.01']\n ['1986' 'Africa' 'Algeria' 'Beer' '0.18']\n ['1986' 'Africa' 'Algeria' 'Other' '0']]\n"
     ]
    }
   ],
   "source": [
    "is_algeria_and_1986 = (world_alcohol[:,2] == \"Algeria\") & (world_alcohol[:,0] == \"1986\")\n",
    "rows_with_algeria_and_1986 = world_alcohol[is_algeria_and_1986]\n",
    "print(rows_with_algeria_and_1986)"
   ]
  },
  {
   "cell_type": "code",
   "execution_count": 47,
   "metadata": {},
   "outputs": [
    {
     "output_type": "stream",
     "name": "stdout",
     "text": [
      "(40, 5)\n"
     ]
    }
   ],
   "source": [
    "is_algeria_or_canada = (world_alcohol[:,2] == \"Algeria\") | (world_alcohol[:,2] == \"Canada\")\n",
    "rows_with_algeria_or_canada = world_alcohol[is_algeria_or_canada,:]\n",
    "print(rows_with_algeria_or_canada.shape)"
   ]
  },
  {
   "source": [
    "# Remplacer les valeurs dans un tableau NumPy"
   ],
   "cell_type": "markdown",
   "metadata": {}
  },
  {
   "cell_type": "code",
   "execution_count": 48,
   "metadata": {},
   "outputs": [],
   "source": [
    "world_alcohol_2 = world_alcohol.copy()"
   ]
  },
  {
   "cell_type": "code",
   "execution_count": 49,
   "metadata": {},
   "outputs": [
    {
     "output_type": "stream",
     "name": "stdout",
     "text": [
      "['1986' '1986' '1985' ... '1986' '1987' '1986']\n"
     ]
    }
   ],
   "source": [
    "print(world_alcohol_2[:,0])"
   ]
  },
  {
   "cell_type": "code",
   "execution_count": 50,
   "metadata": {},
   "outputs": [
    {
     "output_type": "stream",
     "name": "stdout",
     "text": [
      "[['1986' 'Western Pacific' 'Viet Nam' 'Wine' '0']\n ['1986' 'Americas' 'Uruguay' 'Other' '0.5']\n ['1986' 'Americas' 'Colombia' 'Beer' '4.27']\n ...\n ['1986' 'Western Pacific' 'Fiji' 'Spirits' '0.05']\n ['1986' 'Europe' 'Switzerland' 'Spirits' '2.54']\n ['1986' 'Africa' 'Swaziland' 'Other' '5.15']]\n"
     ]
    }
   ],
   "source": [
    "print(world_alcohol_2[world_alcohol_2[:,0] == \"1986\"])"
   ]
  },
  {
   "cell_type": "code",
   "execution_count": 51,
   "metadata": {},
   "outputs": [
    {
     "output_type": "stream",
     "name": "stdout",
     "text": [
      "['1986' '1986' '1986' '1986' '1986' '1986' '1986' '1986' '1986' '1986'\n '1986' '1986' '1986' '1986' '1986' '1986' '1986' '1986' '1986' '1986'\n '1986' '1986' '1986' '1986' '1986' '1986' '1986' '1986' '1986' '1986'\n '1986' '1986' '1986' '1986' '1986' '1986' '1986' '1986' '1986' '1986'\n '1986' '1986' '1986' '1986' '1986' '1986' '1986' '1986' '1986' '1986'\n '1986' '1986' '1986' '1986' '1986' '1986' '1986' '1986' '1986' '1986'\n '1986' '1986' '1986' '1986' '1986' '1986' '1986' '1986' '1986' '1986'\n '1986' '1986' '1986' '1986' '1986' '1986' '1986' '1986' '1986' '1986'\n '1986' '1986' '1986' '1986' '1986' '1986' '1986' '1986' '1986' '1986'\n '1986' '1986' '1986' '1986' '1986' '1986' '1986' '1986' '1986' '1986'\n '1986' '1986' '1986' '1986' '1986' '1986' '1986' '1986' '1986' '1986'\n '1986' '1986' '1986' '1986' '1986' '1986' '1986' '1986' '1986' '1986'\n '1986' '1986' '1986' '1986' '1986' '1986' '1986' '1986' '1986' '1986'\n '1986' '1986' '1986' '1986' '1986' '1986' '1986' '1986' '1986' '1986'\n '1986' '1986' '1986' '1986' '1986' '1986' '1986' '1986' '1986' '1986'\n '1986' '1986' '1986' '1986' '1986' '1986' '1986' '1986' '1986' '1986'\n '1986' '1986' '1986' '1986' '1986' '1986' '1986' '1986' '1986' '1986'\n '1986' '1986' '1986' '1986' '1986' '1986' '1986' '1986' '1986' '1986'\n '1986' '1986' '1986' '1986' '1986' '1986' '1986' '1986' '1986' '1986'\n '1986' '1986' '1986' '1986' '1986' '1986' '1986' '1986' '1986' '1986'\n '1986' '1986' '1986' '1986' '1986' '1986' '1986' '1986' '1986' '1986'\n '1986' '1986' '1986' '1986' '1986' '1986' '1986' '1986' '1986' '1986'\n '1986' '1986' '1986' '1986' '1986' '1986' '1986' '1986' '1986' '1986'\n '1986' '1986' '1986' '1986' '1986' '1986' '1986' '1986' '1986' '1986'\n '1986' '1986' '1986' '1986' '1986' '1986' '1986' '1986' '1986' '1986'\n '1986' '1986' '1986' '1986' '1986' '1986' '1986' '1986' '1986' '1986'\n '1986' '1986' '1986' '1986' '1986' '1986' '1986' '1986' '1986' '1986'\n '1986' '1986' '1986' '1986' '1986' '1986' '1986' '1986' '1986' '1986'\n '1986' '1986' '1986' '1986' '1986' '1986' '1986' '1986' '1986' '1986'\n '1986' '1986' '1986' '1986' '1986' '1986' '1986' '1986' '1986' '1986'\n '1986' '1986' '1986' '1986' '1986' '1986' '1986' '1986' '1986' '1986'\n '1986' '1986' '1986' '1986' '1986' '1986' '1986' '1986' '1986' '1986'\n '1986' '1986' '1986' '1986' '1986' '1986' '1986' '1986' '1986' '1986'\n '1986' '1986' '1986' '1986' '1986' '1986' '1986' '1986' '1986' '1986'\n '1986' '1986' '1986' '1986' '1986' '1986' '1986' '1986' '1986' '1986'\n '1986' '1986' '1986' '1986' '1986' '1986' '1986' '1986' '1986' '1986'\n '1986' '1986' '1986' '1986' '1986' '1986' '1986' '1986' '1986' '1986'\n '1986' '1986' '1986' '1986' '1986' '1986' '1986' '1986' '1986' '1986'\n '1986' '1986' '1986' '1986' '1986' '1986' '1986' '1986' '1986' '1986'\n '1986' '1986' '1986' '1986' '1986' '1986' '1986' '1986' '1986' '1986'\n '1986' '1986' '1986' '1986' '1986' '1986' '1986' '1986' '1986' '1986'\n '1986' '1986' '1986' '1986' '1986' '1986' '1986' '1986' '1986' '1986'\n '1986' '1986' '1986' '1986' '1986' '1986' '1986' '1986' '1986' '1986'\n '1986' '1986' '1986' '1986' '1986' '1986' '1986' '1986' '1986' '1986'\n '1986' '1986' '1986' '1986' '1986' '1986' '1986' '1986' '1986' '1986'\n '1986' '1986' '1986' '1986' '1986' '1986' '1986' '1986' '1986' '1986'\n '1986' '1986' '1986' '1986' '1986' '1986' '1986' '1986' '1986' '1986'\n '1986' '1986' '1986' '1986' '1986' '1986' '1986' '1986' '1986' '1986'\n '1986' '1986' '1986' '1986' '1986' '1986' '1986' '1986' '1986' '1986'\n '1986' '1986' '1986' '1986' '1986' '1986' '1986' '1986' '1986' '1986'\n '1986' '1986' '1986' '1986' '1986' '1986' '1986' '1986' '1986' '1986'\n '1986' '1986' '1986' '1986' '1986' '1986' '1986' '1986' '1986' '1986'\n '1986' '1986' '1986' '1986' '1986' '1986' '1986' '1986' '1986' '1986'\n '1986' '1986' '1986' '1986' '1986' '1986' '1986' '1986' '1986' '1986'\n '1986' '1986' '1986' '1986' '1986' '1986' '1986' '1986' '1986' '1986'\n '1986' '1986' '1986' '1986' '1986' '1986' '1986' '1986' '1986' '1986'\n '1986' '1986' '1986' '1986' '1986' '1986' '1986' '1986' '1986' '1986'\n '1986' '1986' '1986' '1986' '1986' '1986' '1986' '1986' '1986' '1986'\n '1986' '1986' '1986' '1986' '1986' '1986' '1986' '1986' '1986' '1986'\n '1986' '1986' '1986' '1986' '1986' '1986' '1986' '1986' '1986' '1986'\n '1986' '1986' '1986' '1986' '1986' '1986' '1986' '1986' '1986' '1986'\n '1986' '1986' '1986' '1986' '1986' '1986' '1986' '1986' '1986' '1986'\n '1986' '1986' '1986' '1986' '1986' '1986' '1986' '1986' '1986' '1986'\n '1986' '1986' '1986' '1986' '1986' '1986' '1986' '1986' '1986' '1986'\n '1986' '1986' '1986' '1986' '1986' '1986' '1986' '1986' '1986' '1986'\n '1986']\n"
     ]
    }
   ],
   "source": [
    "print(world_alcohol_2[:,0][world_alcohol_2[:,0] == \"1986\"])"
   ]
  },
  {
   "cell_type": "code",
   "execution_count": 52,
   "metadata": {},
   "outputs": [],
   "source": [
    "masque = (world_alcohol_2[:,0] == \"1986\")\n",
    "world_alcohol_2[:,0][masque] = \"2018\""
   ]
  },
  {
   "cell_type": "code",
   "execution_count": 53,
   "metadata": {},
   "outputs": [
    {
     "output_type": "stream",
     "name": "stdout",
     "text": [
      "[['2018' 'Western Pacific' 'Viet Nam' 'Wine' '0']\n ['2018' 'Americas' 'Uruguay' 'Other' '0.5']\n ['1985' 'Africa' \"Cte d'Ivoire\" 'Wine' '1.62']\n ...\n ['2018' 'Europe' 'Switzerland' 'Spirits' '2.54']\n ['1987' 'Western Pacific' 'Papua New Guinea' 'Other' '0']\n ['2018' 'Africa' 'Swaziland' 'Other' '5.15']]\n"
     ]
    }
   ],
   "source": [
    "print(world_alcohol_2)"
   ]
  },
  {
   "cell_type": "code",
   "execution_count": 54,
   "metadata": {},
   "outputs": [],
   "source": [
    "masque_2 = (world_alcohol_2[:,3] == \"Wine\")\n",
    "world_alcohol_2[:,3][masque_2] = \"Beer\""
   ]
  },
  {
   "cell_type": "code",
   "execution_count": 55,
   "metadata": {},
   "outputs": [
    {
     "output_type": "stream",
     "name": "stdout",
     "text": [
      "[['2018' 'Western Pacific' 'Viet Nam' 'Beer' '0']\n ['2018' 'Americas' 'Uruguay' 'Other' '0.5']\n ['1985' 'Africa' \"Cte d'Ivoire\" 'Beer' '1.62']\n ...\n ['2018' 'Europe' 'Switzerland' 'Spirits' '2.54']\n ['1987' 'Western Pacific' 'Papua New Guinea' 'Other' '0']\n ['2018' 'Africa' 'Swaziland' 'Other' '5.15']]\n"
     ]
    }
   ],
   "source": [
    "print(world_alcohol_2)"
   ]
  },
  {
   "cell_type": "code",
   "execution_count": 56,
   "metadata": {},
   "outputs": [],
   "source": [
    "world_alcohol_2[:,3][world_alcohol_2[:,3] == \"Wine\"] = \"Beer\""
   ]
  },
  {
   "source": [
    "# Remplacer les chaines de caractéres vides"
   ],
   "cell_type": "markdown",
   "metadata": {}
  },
  {
   "cell_type": "code",
   "execution_count": 57,
   "metadata": {},
   "outputs": [
    {
     "output_type": "stream",
     "name": "stdout",
     "text": [
      "[False False False ... False False False]\n"
     ]
    }
   ],
   "source": [
    "is_value_empty = (world_alcohol[:,4] == \"\")\n",
    "print(is_value_empty)"
   ]
  },
  {
   "cell_type": "code",
   "execution_count": 58,
   "metadata": {},
   "outputs": [
    {
     "output_type": "stream",
     "name": "stdout",
     "text": [
      "[['1986' 'Western Pacific' 'Viet Nam' 'Wine' '0']\n ['1986' 'Americas' 'Uruguay' 'Other' '0.5']\n ['1985' 'Africa' \"Cte d'Ivoire\" 'Wine' '1.62']\n ...\n ['1986' 'Europe' 'Switzerland' 'Spirits' '2.54']\n ['1987' 'Western Pacific' 'Papua New Guinea' 'Other' '0']\n ['1986' 'Africa' 'Swaziland' 'Other' '5.15']]\n"
     ]
    }
   ],
   "source": [
    "world_alcohol[is_value_empty, 4] = \"0\"\n",
    "print(world_alcohol)"
   ]
  },
  {
   "source": [
    "# Convertir des types de données"
   ],
   "cell_type": "markdown",
   "metadata": {}
  },
  {
   "cell_type": "code",
   "execution_count": 59,
   "metadata": {},
   "outputs": [
    {
     "output_type": "stream",
     "name": "stdout",
     "text": [
      "[0.   0.5  1.62 ... 2.54 0.   5.15]\n"
     ]
    }
   ],
   "source": [
    "alcohol_consumption = world_alcohol[:,4]\n",
    "alcohol_consumption = alcohol_consumption.astype(float)\n",
    "print(alcohol_consumption)"
   ]
  },
  {
   "cell_type": "code",
   "execution_count": 60,
   "metadata": {},
   "outputs": [],
   "source": [
    "# Calculer la sommes et de la moyenne"
   ]
  },
  {
   "cell_type": "code",
   "execution_count": 61,
   "metadata": {},
   "outputs": [],
   "source": [
    "total_alcohol = alcohol_consumption.sum()\n",
    "average_alcohol = alcohol_consumption.mean()"
   ]
  },
  {
   "cell_type": "code",
   "execution_count": 62,
   "metadata": {},
   "outputs": [
    {
     "output_type": "stream",
     "name": "stdout",
     "text": [
      "3908.96\n"
     ]
    }
   ],
   "source": [
    "print(total_alcohol)"
   ]
  },
  {
   "cell_type": "code",
   "execution_count": 63,
   "metadata": {},
   "outputs": [
    {
     "output_type": "stream",
     "name": "stdout",
     "text": [
      "1.2001719373656738\n"
     ]
    }
   ],
   "source": [
    "print(average_alcohol)"
   ]
  },
  {
   "cell_type": "code",
   "execution_count": 64,
   "metadata": {},
   "outputs": [
    {
     "output_type": "stream",
     "name": "stdout",
     "text": [
      "La consommation total d'alcool au Canada en 1987 est de :\n9.120000000000001\nLa consommation moyenne d'alcool au Canada en 1987 est de :\n2.2800000000000002\n"
     ]
    }
   ],
   "source": [
    "# consommation total & moyenne pour le canada en 1987\n",
    "\n",
    "canada_consumption = (world_alcohol[:,2] == \"Canada\") & (world_alcohol[:,0] == \"1987\")\n",
    "rows_in_canada_consumption = world_alcohol[canada_consumption,:]\n",
    "canada_1987 = rows_in_canada_consumption[:,4]\n",
    "canada_1987 = canada_1987.astype(float)\n",
    "total_canada_1987 = canada_1987.sum()\n",
    "average_canada_1987 = canada_1987.mean()\n",
    "print(\"La consommation total d'alcool au Canada en 1987 est de :\")\n",
    "print(total_canada_1987)\n",
    "print(\"La consommation moyenne d'alcool au Canada en 1987 est de :\")\n",
    "print(average_canada_1987)"
   ]
  },
  {
   "cell_type": "code",
   "execution_count": 65,
   "metadata": {},
   "outputs": [
    {
     "output_type": "stream",
     "name": "stdout",
     "text": [
      "0.0\n"
     ]
    }
   ],
   "source": [
    "americas_consumption = (world_alcohol[:,2] == \"Americas\")\n",
    "average_americas = americas_consumption.mean()\n",
    "print(average_americas)"
   ]
  },
  {
   "cell_type": "code",
   "execution_count": 66,
   "metadata": {},
   "outputs": [
    {
     "output_type": "stream",
     "name": "stdout",
     "text": [
      "310.02\n",
      "2.0001290322580645\n"
     ]
    }
   ],
   "source": [
    "is_Americas_and_Beer = (world_alcohol[:,1] == \"Americas\") & (world_alcohol[:,3] == \"Beer\")\n",
    "Americas_and_Beer = world_alcohol[is_Americas_and_Beer]\n",
    "alcohol_consumption_Americas_and_Beer = Americas_and_Beer[:,4]\n",
    "alcohol_consumption_Americas_and_Beer = alcohol_consumption_Americas_and_Beer.astype(float)\n",
    "print(alcohol_consumption_Americas_and_Beer.sum())\n",
    "print(alcohol_consumption_Americas_and_Beer.mean())"
   ]
  },
  {
   "source": [
    "# Calculer la consommation pour chaque pays\n",
    "\n",
    "#- Tout d'abord, on crée un dictionnaire vide qui va contenir tous les #pays et leurs consommations d'alcool associées, on le nommera totals.\n",
    "\n",
    "#- Sélectionner ensuite les lignes de world_alcohol correspondant à #l'année donnée, disons 1989. Assigner le résultat à la variable year.\n",
    "\n",
    "#- Sélectionner dans une liste qu'on nommera countries tous les pays.\n",
    "\n",
    "#- Parcourir tous les pays de la liste à l'aide d'une boucle. Pour chaque pays:\n",
    "\n",
    "#>- Sélectionner les lignes de year correpondant à ce pays\n",
    "\n",
    "#>- Assigner le résultat à la variable country_consumption\n",
    "\n",
    "#>- Extraire la 5e colonne de country_consumption\n",
    "\n",
    "#>- Remplacer toute chaine de caractère vide dans cette colonne par 0\n",
    "\n",
    "#>- Convertir la colonne en décimal (float)\n",
    "\n",
    "#>- Calculer la somme de la colonne\n",
    "\n",
    "#>- Ajouter la somme au dictionnaire totals, avec comme clé le nom du pays et en valeur cette somme.\n",
    "\n",
    "#- Afficher le dictionnaire totals."
   ],
   "cell_type": "markdown",
   "metadata": {}
  },
  {
   "cell_type": "code",
   "execution_count": 67,
   "metadata": {},
   "outputs": [
    {
     "output_type": "stream",
     "name": "stdout",
     "text": [
      "['Viet Nam' 'Uruguay' \"Cte d'Ivoire\" ... 'Switzerland' 'Papua New Guinea'\n 'Swaziland']\n"
     ]
    }
   ],
   "source": [
    "totals = ()\n",
    "is_year = world_alcohol[:,0] == \"1989\"\n",
    "year = world_alcohol[is_year]\n",
    "countries = world_alcohol[:,2]\n",
    "print(countries)"
   ]
  },
  {
   "cell_type": "code",
   "execution_count": 68,
   "metadata": {},
   "outputs": [
    {
     "output_type": "stream",
     "name": "stdout",
     "text": [
      "{'Viet Nam': 0.16, 'Uruguay': 7.4399999999999995, \"Cte d'Ivoire\": 2.2, 'Colombia': 6.960000000000001, 'Saint Kitts and Nevis': 4.65, 'Guatemala': 2.47, 'Mauritius': 3.54, 'Angola': 2.28, 'Antigua and Barbuda': 4.69, 'Nigeria': 6.74, 'Botswana': 4.63, \"Lao People's Democratic Republic\": 5.95, 'Afghanistan': 0.0, 'Guinea-Bissau': 2.67, 'Costa Rica': 5.3999999999999995, 'Seychelles': 3.3000000000000003, 'Norway': 5.08, 'Kenya': 2.82, 'Myanmar': 0.16, 'Romania': 8.41, 'Turkey': 0.72, 'Comoros': 0.10999999999999999, 'Tunisia': 0.95, 'United Kingdom of Great Britain and Northern Ireland': 9.99, 'Bahrain': 4.89, 'Italy': 10.899999999999999, 'Sierra Leone': 4.380000000000001, 'Micronesia (Federated States of)': 0.0, 'Mauritania': 0.02, 'Russian Federation': 5.35, 'Egypt': 0.42000000000000004, 'Sweden': 7.47, 'Qatar': 1.4500000000000002, 'Burkina Faso': 3.99, 'Austria': 13.9, 'Czech Republic': 13.009999999999998, 'Ukraine': 5.32, 'China': 3.33, 'Lithuania': 0.0, 'Zimbabwe': 4.92, 'Trinidad and Tobago': 4.68, 'Mexico': 5.1, 'Nicaragua': 2.5, 'Malta': 7.13, 'Switzerland': 13.849999999999998, 'Finland': 9.419999999999998, 'Saudi Arabia': 0.15, 'Kuwait': 0.0, 'El Salvador': 1.77, 'Suriname': 3.67, 'Croatia': 10.92, 'Somalia': 0.0, 'Syrian Arab Republic': 0.54, 'Iran (Islamic Republic of)': 0.0, 'Papua New Guinea': 1.1099999999999999, 'Libya': 0.0, 'Bolivia (Plurinational State of)': 3.05, 'Iraq': 0.75, 'Namibia': 0.24, 'Uganda': 7.8, 'Togo': 2.2199999999999998, 'Madagascar': 1.38, 'Mali': 0.6699999999999999, 'Pakistan': 0.02, 'Cameroon': 6.359999999999999, 'Jamaica': 3.03, 'Malawi': 1.02, 'Netherlands': 10.030000000000001, 'Ireland': 11.79, 'Sri Lanka': 0.14, 'Democratic Republic of the Congo': 1.92, 'Bahamas': 12.290000000000001, 'Lebanon': 3.94, 'Bulgaria': 11.43, 'Eritrea': 0.29, 'Niger': 0.11, 'Luxembourg': 15.21, 'Indonesia': 0.07, 'Equatorial Guinea': 6.49, \"Democratic People's Republic of Korea\": 3.6799999999999997, 'Chile': 8.649999999999999, 'Central African Republic': 2.5199999999999996, 'Spain': 13.280000000000001, 'Gambia': 1.6300000000000001, 'Ghana': 1.8599999999999999, 'Brazil': 5.52, 'Portugal': 15.350000000000001, 'Burundi': 8.159999999999998, 'Belgium': 11.61, 'Paraguay': 6.51, 'Hungary': 16.29, 'Greece': 10.15, 'India': 1.66, 'Kyrgyzstan': 4.279999999999999, 'France': 16.05, 'Zambia': 3.37, 'Israel': 2.0300000000000002, 'Swaziland': 6.68, 'Canada': 9.0, 'Cambodia': 0.33, 'Cabo Verde': 2.79, 'United Arab Emirates': 4.43, 'Peru': 4.99, 'Solomon Islands': 0.5800000000000001, 'United Republic of Tanzania': 5.9, 'Chad': 0.30000000000000004, 'Cuba': 4.37, 'Guyana': 9.940000000000001, 'Mongolia': 2.59, 'Australia': 12.09, 'Sao Tome and Principe': 2.57, 'Slovenia': 12.969999999999999, 'Benin': 1.3800000000000001, 'Algeria': 0.4, 'Venezuela (Bolivarian Republic of)': 7.87, 'Ecuador': 2.54, 'Iceland': 5.359999999999999, 'Liberia': 5.61, 'Yemen': 0.2, 'Sudan': 0.15, 'Belarus': 7.9799999999999995, 'Cyprus': 9.29, 'United States of America': 9.16, 'Vanuatu': 1.74, 'Bangladesh': 0.0, 'Philippines': 3.78, 'Slovakia': 12.700000000000001, 'Poland': 9.33, 'Senegal': 0.6100000000000001, 'Honduras': 2.15, 'Bhutan': 0.31, 'Fiji': 1.9600000000000002, 'Belize': 0.0, 'Lesotho': 2.02, 'Singapore': 1.61, 'Guinea': 0.21, 'Brunei Darussalam': 2.7800000000000002, 'Congo': 3.1500000000000004, 'Thailand': 3.92, 'Djibouti': 0.87, 'Gabon': 9.34, 'Dominican Republic': 4.53, 'Morocco': 0.7, 'New Zealand': 11.52, 'Denmark': 11.649999999999999, 'Samoa': 2.63, 'Argentina': 10.82, 'Oman': 1.03, 'Kiribati': 0.48, 'Albania': 1.73, 'Nepal': 0.03, 'Malaysia': 0.68, 'Latvia': 7.039999999999999, 'Haiti': 5.81, 'South Africa': 9.21, 'Republic of Korea': 9.620000000000001, 'Japan': 7.74, 'Mozambique': 0.39, 'Ethiopia': 0.8600000000000001, 'Panama': 4.6000000000000005, 'Germany': 14.64, 'Saint Lucia': 11.62, 'Rwanda': 7.549999999999999, 'Jordan': 0.19}\n"
     ]
    }
   ],
   "source": [
    "totals = {}\n",
    "\n",
    "is_year = world_alcohol[:,0] == \"1989\"\n",
    "year = world_alcohol[is_year]\n",
    "countries = world_alcohol[:,2]\n",
    "\n",
    "for country in countries:\n",
    "    is_country = year[:,2] == country\n",
    "    country_consumption = year[is_country]\n",
    "    alcohol_column = country_consumption[:,4]\n",
    "    is_empty = alcohol_column == ''\n",
    "    alcohol_column[is_empty] = \"0\"\n",
    "    alcohol_column = alcohol_column.astype(float)\n",
    "    totals[country] = alcohol_column.sum()\n",
    "    \n",
    "print(totals)"
   ]
  },
  {
   "source": [
    "# Trouver le pays qui consomme le plus d'alcool.\n",
    "\n",
    "# - Créer une variable highest_value qui gardera en mémoire la plus grande valeur du dictionnaire totals. On la fixe à 0 pour commencer.\n",
    "\n",
    "# - Créer une variable similaire qu'on nommera highest_key qui gardera en mémoire le nom du pays associé à la plus grande valeur. On la fixe à la valeur None.\n",
    "\n",
    "# - Parcourir chaque pays du dictionnaire totals:\n",
    "\n",
    "# >- Si la valeur associée au pays est plus grande que highest_value, assigner la valeur en question à la variable highest_value et assigner la clé correspondante (nom du pays) à la variable highest_key.\n",
    "\n",
    "#- Afficher le pays qui consomme le plus d'alcool (variable highest_key)"
   ],
   "cell_type": "markdown",
   "metadata": {}
  },
  {
   "cell_type": "code",
   "execution_count": 72,
   "metadata": {},
   "outputs": [
    {
     "output_type": "stream",
     "name": "stdout",
     "text": [
      "Viet Nam\n0.16\nUruguay\n7.4399999999999995\nUruguay\n7.4399999999999995\nUruguay\n7.4399999999999995\nUruguay\n7.4399999999999995\nUruguay\n7.4399999999999995\nUruguay\n7.4399999999999995\nUruguay\n7.4399999999999995\nUruguay\n7.4399999999999995\nUruguay\n7.4399999999999995\nUruguay\n7.4399999999999995\nUruguay\n7.4399999999999995\nUruguay\n7.4399999999999995\nUruguay\n7.4399999999999995\nUruguay\n7.4399999999999995\nUruguay\n7.4399999999999995\nUruguay\n7.4399999999999995\nUruguay\n7.4399999999999995\nUruguay\n7.4399999999999995\nRomania\n8.41\nRomania\n8.41\nRomania\n8.41\nRomania\n8.41\nUnited Kingdom of Great Britain and Northern Ireland\n9.99\nUnited Kingdom of Great Britain and Northern Ireland\n9.99\nItaly\n10.899999999999999\nItaly\n10.899999999999999\nItaly\n10.899999999999999\nItaly\n10.899999999999999\nItaly\n10.899999999999999\nItaly\n10.899999999999999\nItaly\n10.899999999999999\nItaly\n10.899999999999999\nItaly\n10.899999999999999\nAustria\n13.9\nAustria\n13.9\nAustria\n13.9\nAustria\n13.9\nAustria\n13.9\nAustria\n13.9\nAustria\n13.9\nAustria\n13.9\nAustria\n13.9\nAustria\n13.9\nAustria\n13.9\nAustria\n13.9\nAustria\n13.9\nAustria\n13.9\nAustria\n13.9\nAustria\n13.9\nAustria\n13.9\nAustria\n13.9\nAustria\n13.9\nAustria\n13.9\nAustria\n13.9\nAustria\n13.9\nAustria\n13.9\nAustria\n13.9\nAustria\n13.9\nAustria\n13.9\nAustria\n13.9\nAustria\n13.9\nAustria\n13.9\nAustria\n13.9\nAustria\n13.9\nAustria\n13.9\nAustria\n13.9\nAustria\n13.9\nAustria\n13.9\nAustria\n13.9\nAustria\n13.9\nAustria\n13.9\nAustria\n13.9\nAustria\n13.9\nAustria\n13.9\nAustria\n13.9\nLuxembourg\n15.21\nLuxembourg\n15.21\nLuxembourg\n15.21\nLuxembourg\n15.21\nLuxembourg\n15.21\nLuxembourg\n15.21\nLuxembourg\n15.21\nLuxembourg\n15.21\nLuxembourg\n15.21\nLuxembourg\n15.21\nPortugal\n15.350000000000001\nPortugal\n15.350000000000001\nPortugal\n15.350000000000001\nPortugal\n15.350000000000001\nHungary\n16.29\nHungary\n16.29\nHungary\n16.29\nHungary\n16.29\nHungary\n16.29\nHungary\n16.29\nHungary\n16.29\nHungary\n16.29\nHungary\n16.29\nHungary\n16.29\nHungary\n16.29\nHungary\n16.29\nHungary\n16.29\nHungary\n16.29\nHungary\n16.29\nHungary\n16.29\nHungary\n16.29\nHungary\n16.29\nHungary\n16.29\nHungary\n16.29\nHungary\n16.29\nHungary\n16.29\nHungary\n16.29\nHungary\n16.29\nHungary\n16.29\nHungary\n16.29\nHungary\n16.29\nHungary\n16.29\nHungary\n16.29\nHungary\n16.29\nHungary\n16.29\nHungary\n16.29\nHungary\n16.29\nHungary\n16.29\nHungary\n16.29\nHungary\n16.29\nHungary\n16.29\nHungary\n16.29\nHungary\n16.29\nHungary\n16.29\nHungary\n16.29\nHungary\n16.29\nHungary\n16.29\nHungary\n16.29\nHungary\n16.29\nHungary\n16.29\nHungary\n16.29\nHungary\n16.29\nHungary\n16.29\nHungary\n16.29\nHungary\n16.29\nHungary\n16.29\nHungary\n16.29\nHungary\n16.29\nHungary\n16.29\nHungary\n16.29\nHungary\n16.29\nHungary\n16.29\nHungary\n16.29\nHungary\n16.29\nHungary\n16.29\nHungary\n16.29\nHungary\n16.29\nHungary\n16.29\nHungary\n16.29\nHungary\n16.29\nHungary\n16.29\nHungary\n16.29\nHungary\n16.29\nHungary\n16.29\nHungary\n16.29\nHungary\n16.29\nHungary\n16.29\nHungary\n16.29\nHungary\n"
     ]
    }
   ],
   "source": [
    "highest_value = 0\n",
    "highest_key = None\n",
    "\n",
    "for country in totals:\n",
    "    if highest_value < totals[country]:\n",
    "        highest_value = totals[country]\n",
    "        highest_key = country\n",
    "    print(highest_key)\n",
    "    print(highest_value)\n",
    "    \n",
    "print(highest_key)"
   ]
  },
  {
   "cell_type": "code",
   "execution_count": 70,
   "metadata": {},
   "outputs": [
    {
     "output_type": "stream",
     "name": "stdout",
     "text": [
      "16.29\n"
     ]
    }
   ],
   "source": [
    "print(highest_value)"
   ]
  },
  {
   "cell_type": "code",
   "execution_count": 71,
   "metadata": {},
   "outputs": [
    {
     "output_type": "stream",
     "name": "stdout",
     "text": [
      "{'Afghanistan': 0.0, 'Bangladesh': 0.0, 'Belize': 0.0, 'Iran (Islamic Republic of)': 0.0, 'Kuwait': 0.0, 'Libya': 0.0, 'Lithuania': 0.0, 'Micronesia (Federated States of)': 0.0, 'Somalia': 0.0, 'Mauritania': 0.02, 'Pakistan': 0.02, 'Nepal': 0.03, 'Indonesia': 0.07, 'Comoros': 0.10999999999999999, 'Niger': 0.11, 'Sri Lanka': 0.14, 'Saudi Arabia': 0.15, 'Sudan': 0.15, 'Myanmar': 0.16, 'Viet Nam': 0.16, 'Jordan': 0.19, 'Yemen': 0.2, 'Guinea': 0.21, 'Namibia': 0.24, 'Eritrea': 0.29, 'Chad': 0.30000000000000004, 'Bhutan': 0.31, 'Cambodia': 0.33, 'Mozambique': 0.39, 'Algeria': 0.4, 'Egypt': 0.42000000000000004, 'Kiribati': 0.48, 'Syrian Arab Republic': 0.54, 'Solomon Islands': 0.5800000000000001, 'Senegal': 0.6100000000000001, 'Mali': 0.6699999999999999, 'Malaysia': 0.68, 'Morocco': 0.7, 'Turkey': 0.72, 'Iraq': 0.75, 'Ethiopia': 0.8600000000000001, 'Djibouti': 0.87, 'Tunisia': 0.95, 'Malawi': 1.02, 'Oman': 1.03, 'Papua New Guinea': 1.1099999999999999, 'Madagascar': 1.38, 'Benin': 1.3800000000000001, 'Qatar': 1.4500000000000002, 'Singapore': 1.61, 'Gambia': 1.6300000000000001, 'India': 1.66, 'Albania': 1.73, 'Vanuatu': 1.74, 'El Salvador': 1.77, 'Ghana': 1.8599999999999999, 'Democratic Republic of the Congo': 1.92, 'Fiji': 1.9600000000000002, 'Lesotho': 2.02, 'Israel': 2.0300000000000002, 'Honduras': 2.15, \"Cte d'Ivoire\": 2.2, 'Togo': 2.2199999999999998, 'Angola': 2.28, 'Guatemala': 2.47, 'Nicaragua': 2.5, 'Central African Republic': 2.5199999999999996, 'Ecuador': 2.54, 'Sao Tome and Principe': 2.57, 'Mongolia': 2.59, 'Samoa': 2.63, 'Guinea-Bissau': 2.67, 'Brunei Darussalam': 2.7800000000000002, 'Cabo Verde': 2.79, 'Kenya': 2.82, 'Jamaica': 3.03, 'Bolivia (Plurinational State of)': 3.05, 'Congo': 3.1500000000000004, 'Seychelles': 3.3000000000000003, 'China': 3.33, 'Zambia': 3.37, 'Mauritius': 3.54, 'Suriname': 3.67, \"Democratic People's Republic of Korea\": 3.6799999999999997, 'Philippines': 3.78, 'Thailand': 3.92, 'Lebanon': 3.94, 'Burkina Faso': 3.99, 'Kyrgyzstan': 4.279999999999999, 'Cuba': 4.37, 'Sierra Leone': 4.380000000000001, 'United Arab Emirates': 4.43, 'Dominican Republic': 4.53, 'Panama': 4.6000000000000005, 'Botswana': 4.63, 'Saint Kitts and Nevis': 4.65, 'Trinidad and Tobago': 4.68, 'Antigua and Barbuda': 4.69, 'Bahrain': 4.89, 'Zimbabwe': 4.92, 'Peru': 4.99, 'Norway': 5.08, 'Mexico': 5.1, 'Ukraine': 5.32, 'Russian Federation': 5.35, 'Iceland': 5.359999999999999, 'Costa Rica': 5.3999999999999995, 'Brazil': 5.52, 'Liberia': 5.61, 'Haiti': 5.81, 'United Republic of Tanzania': 5.9, \"Lao People's Democratic Republic\": 5.95, 'Cameroon': 6.359999999999999, 'Equatorial Guinea': 6.49, 'Paraguay': 6.51, 'Swaziland': 6.68, 'Nigeria': 6.74, 'Colombia': 6.960000000000001, 'Latvia': 7.039999999999999, 'Malta': 7.13, 'Uruguay': 7.4399999999999995, 'Sweden': 7.47, 'Rwanda': 7.549999999999999, 'Japan': 7.74, 'Uganda': 7.8, 'Venezuela (Bolivarian Republic of)': 7.87, 'Belarus': 7.9799999999999995, 'Burundi': 8.159999999999998, 'Romania': 8.41, 'Chile': 8.649999999999999, 'Canada': 9.0, 'United States of America': 9.16, 'South Africa': 9.21, 'Cyprus': 9.29, 'Poland': 9.33, 'Gabon': 9.34, 'Finland': 9.419999999999998, 'Republic of Korea': 9.620000000000001, 'Guyana': 9.940000000000001, 'United Kingdom of Great Britain and Northern Ireland': 9.99, 'Netherlands': 10.030000000000001, 'Greece': 10.15, 'Argentina': 10.82, 'Italy': 10.899999999999999, 'Croatia': 10.92, 'Bulgaria': 11.43, 'New Zealand': 11.52, 'Belgium': 11.61, 'Saint Lucia': 11.62, 'Denmark': 11.649999999999999, 'Ireland': 11.79, 'Australia': 12.09, 'Bahamas': 12.290000000000001, 'Slovakia': 12.700000000000001, 'Slovenia': 12.969999999999999, 'Czech Republic': 13.009999999999998, 'Spain': 13.280000000000001, 'Switzerland': 13.849999999999998, 'Austria': 13.9, 'Germany': 14.64, 'Luxembourg': 15.21, 'Portugal': 15.350000000000001, 'France': 16.05, 'Hungary': 16.29}\n"
     ]
    }
   ],
   "source": [
    "world_alcohol[:,4][world_alcohol[:,4]=='']='0'\n",
    "sum_total_country=lambda country, year: world_alcohol[:,4][(world_alcohol[:,2]==country) & (world_alcohol[:,0]==year) ].astype('float').sum()\n",
    "dict_={i: sum_total_country(i, '1989') for i in np.unique(world_alcohol[:,2]) }\n",
    "\n",
    "# pour ranger le dictionnaire selon les valeurs\n",
    "sorted_keys=sorted(dict_, key=dict_.get)\n",
    "sorted_dict={}\n",
    "\n",
    "for key in sorted_keys:\n",
    "    sorted_dict[key]=dict_[key]\n",
    "\n",
    "print(sorted_dict)"
   ]
  },
  {
   "cell_type": "code",
   "execution_count": 73,
   "metadata": {},
   "outputs": [
    {
     "output_type": "stream",
     "name": "stdout",
     "text": [
      "{'Zimbabwe': 4.92, 'Venezuela (Bolivarian Republic of)': 7.87, 'El Salvador': 1.77, 'Mali': 0.6699999999999999, 'Netherlands': 10.030000000000001, 'Ghana': 1.8599999999999999, 'Cambodia': 0.33, 'Panama': 4.6000000000000005, 'Djibouti': 0.87, 'United Kingdom of Great Britain and Northern Ireland': 9.99, 'Fiji': 1.9600000000000002, 'Italy': 10.899999999999999, 'Malaysia': 0.68, 'Kiribati': 0.48, 'Ireland': 11.79, 'Congo': 3.1500000000000004, 'Dominican Republic': 4.53, 'Qatar': 1.4500000000000002, 'Bahrain': 4.89, 'Central African Republic': 2.5199999999999996, 'Belarus': 7.9799999999999995, 'United Arab Emirates': 4.43, 'Samoa': 2.63, 'Vanuatu': 1.74, 'Pakistan': 0.02, 'Iran (Islamic Republic of)': 0.0, 'Mozambique': 0.39, 'Viet Nam': 0.16, 'Bahamas': 12.290000000000001, 'Switzerland': 13.849999999999998, 'Slovenia': 12.969999999999999, 'Indonesia': 0.07, 'Austria': 13.9, 'Saudi Arabia': 0.15, 'Ethiopia': 0.8600000000000001, 'Haiti': 5.81, 'Saint Lucia': 11.62, 'Latvia': 7.039999999999999, 'Nigeria': 6.74, 'Iraq': 0.75, 'Cameroon': 6.359999999999999, 'Bangladesh': 0.0, 'Germany': 14.64, 'Jamaica': 3.03, 'Japan': 7.74, 'Iceland': 5.359999999999999, 'Ecuador': 2.54, 'New Zealand': 11.52, 'Comoros': 0.10999999999999999, 'India': 1.66, 'Kuwait': 0.0, 'Belgium': 11.61, 'Singapore': 1.61, 'Malawi': 1.02, 'Argentina': 10.82, 'Poland': 9.33, 'Brunei Darussalam': 2.7800000000000002, 'Kyrgyzstan': 4.279999999999999, 'Seychelles': 3.3000000000000003, 'Burundi': 8.159999999999998, 'Croatia': 10.92, 'Somalia': 0.0, 'Lebanon': 3.94, 'Paraguay': 6.51, 'Slovakia': 12.700000000000001, 'Cabo Verde': 2.79, 'Bulgaria': 11.43, 'Egypt': 0.42000000000000004, 'Philippines': 3.78, 'Papua New Guinea': 1.1099999999999999, 'Gabon': 9.34, 'China': 3.33, 'Benin': 1.3800000000000001, 'Denmark': 11.649999999999999, 'Chad': 0.30000000000000004, 'Yemen': 0.2, 'Uganda': 7.8, 'Brazil': 5.52, 'Swaziland': 6.68, 'Finland': 9.419999999999998, 'Cyprus': 9.29, 'Libya': 0.0, 'Costa Rica': 5.3999999999999995, 'Turkey': 0.72, 'Eritrea': 0.29, 'Namibia': 0.24, 'Peru': 4.99, 'Sao Tome and Principe': 2.57, 'Botswana': 4.63, 'Luxembourg': 15.21, 'Russian Federation': 5.35, \"Democratic People's Republic of Korea\": 3.6799999999999997, 'France': 16.05, 'Portugal': 15.350000000000001, 'Liberia': 5.61, 'Guatemala': 2.47, 'Algeria': 0.4, 'Sierra Leone': 4.380000000000001, 'Solomon Islands': 0.5800000000000001, 'Morocco': 0.7, 'Spain': 13.280000000000001, \"Cte d'Ivoire\": 2.2, 'Bolivia (Plurinational State of)': 3.05, 'Guyana': 9.940000000000001, 'Lithuania': 0.0, 'Tunisia': 0.95, 'Nicaragua': 2.5, 'Uruguay': 7.4399999999999995, 'Niger': 0.11, 'Republic of Korea': 9.620000000000001, 'Chile': 8.649999999999999, 'South Africa': 9.21, 'Antigua and Barbuda': 4.69, 'Sweden': 7.47, 'Mexico': 5.1, 'Honduras': 2.15, 'Thailand': 3.92, 'Burkina Faso': 3.99, 'Micronesia (Federated States of)': 0.0, 'Malta': 7.13, 'Togo': 2.2199999999999998, 'Israel': 2.0300000000000002, 'United States of America': 9.16, 'Cuba': 4.37, 'Saint Kitts and Nevis': 4.65, 'Senegal': 0.6100000000000001, 'Kenya': 2.82, 'Sri Lanka': 0.14, 'Canada': 9.0, 'Romania': 8.41, 'Democratic Republic of the Congo': 1.92, 'Oman': 1.03, 'Zambia': 3.37, 'Guinea-Bissau': 2.67, 'Angola': 2.28, 'Belize': 0.0, 'Syrian Arab Republic': 0.54, 'Australia': 12.09, 'Afghanistan': 0.0, 'Guinea': 0.21, 'Czech Republic': 13.009999999999998, 'Trinidad and Tobago': 4.68, 'Sudan': 0.15, 'Equatorial Guinea': 6.49, 'Mongolia': 2.59, 'Lesotho': 2.02, 'Bhutan': 0.31, 'Hungary': 16.29, 'Mauritania': 0.02, 'Nepal': 0.03, 'Norway': 5.08, 'Myanmar': 0.16, 'Gambia': 1.6300000000000001, 'Colombia': 6.960000000000001, 'Greece': 10.15, 'United Republic of Tanzania': 5.9, 'Madagascar': 1.38, 'Jordan': 0.19, 'Suriname': 3.67, 'Mauritius': 3.54, 'Ukraine': 5.32, \"Lao People's Democratic Republic\": 5.95, 'Albania': 1.73, 'Rwanda': 7.549999999999999} \n\n"
     ]
    }
   ],
   "source": [
    "year = input(\"Entrez une année : \")\n",
    "\n",
    "\n",
    "class Check_Conso_Mean_Country():\n",
    "\n",
    "    def __init__(self, year):\n",
    "        self.year = year\n",
    "        self.mean_country = self._check_mean_country()\n",
    "    \n",
    "    def _check_mean_country(self):\n",
    "        \n",
    "        totals = {}\n",
    "        is_year = world_alcohol[:,0] == self.year\n",
    "        countries = world_alcohol[:,2]\n",
    "        countriesD = set(countries)\n",
    "        countries = list(countriesD)\n",
    "        for i in countries :\n",
    "            masque = (world_alcohol[:,0] == self.year) & (world_alcohol[:,2] == i)\n",
    "            total_i = world_alcohol[masque,4].astype(float).sum()\n",
    "            totals[i] = total_i\n",
    "        return totals\n",
    "\n",
    "\n",
    "testclass = Check_Conso_Mean_Country(year)\n",
    "\n",
    "print(testclass.mean_country , '\\n')"
   ]
  },
  {
   "cell_type": "code",
   "execution_count": 74,
   "metadata": {},
   "outputs": [
    {
     "output_type": "execute_result",
     "data": {
      "text/plain": [
       "{'Guatemala': 2.47,\n",
       " 'Seychelles': 3.3000000000000003,\n",
       " 'Costa Rica': 5.3999999999999995,\n",
       " 'Mauritius': 3.54,\n",
       " 'Zimbabwe': 4.92,\n",
       " 'Suriname': 3.67,\n",
       " 'Croatia': 10.92,\n",
       " 'Syrian Arab Republic': 0.54,\n",
       " 'Bolivia (Plurinational State of)': 3.05,\n",
       " 'Somalia': 0.0,\n",
       " 'Namibia': 0.24,\n",
       " 'Uganda': 7.8,\n",
       " 'Afghanistan': 0.0,\n",
       " 'Jamaica': 3.03,\n",
       " 'Finland': 9.419999999999998,\n",
       " 'Iraq': 0.75,\n",
       " 'Malawi': 1.02,\n",
       " 'Bulgaria': 11.43,\n",
       " 'Nicaragua': 2.5,\n",
       " 'Central African Republic': 2.5199999999999996,\n",
       " 'Burundi': 8.159999999999998,\n",
       " 'Sweden': 7.47,\n",
       " 'Greece': 10.15,\n",
       " 'Kyrgyzstan': 4.279999999999999,\n",
       " 'Belgium': 11.61,\n",
       " 'Angola': 2.28,\n",
       " 'Burkina Faso': 3.99,\n",
       " 'Czech Republic': 13.009999999999998,\n",
       " 'United Arab Emirates': 4.43,\n",
       " 'Peru': 4.99,\n",
       " 'Trinidad and Tobago': 4.68,\n",
       " 'Guyana': 9.940000000000001,\n",
       " 'Bahrain': 4.89,\n",
       " 'Benin': 1.3800000000000001,\n",
       " 'Liberia': 5.61,\n",
       " 'Viet Nam': 0.16,\n",
       " 'Belarus': 7.9799999999999995,\n",
       " 'Swaziland': 6.68,\n",
       " 'France': 16.05,\n",
       " 'United States of America': 9.16,\n",
       " 'Cabo Verde': 2.79,\n",
       " 'Saudi Arabia': 0.15,\n",
       " 'Poland': 9.33,\n",
       " 'Senegal': 0.6100000000000001,\n",
       " 'Slovenia': 12.969999999999999,\n",
       " 'Hungary': 16.29,\n",
       " 'Iran (Islamic Republic of)': 0.0,\n",
       " 'Lesotho': 2.02,\n",
       " 'Gabon': 9.34,\n",
       " 'Comoros': 0.10999999999999999,\n",
       " 'Italy': 10.899999999999999,\n",
       " 'Denmark': 11.649999999999999,\n",
       " 'Canada': 9.0,\n",
       " 'Zambia': 3.37,\n",
       " 'Botswana': 4.63,\n",
       " 'Kuwait': 0.0,\n",
       " 'Russian Federation': 5.35,\n",
       " 'New Zealand': 11.52,\n",
       " 'Uruguay': 7.4399999999999995,\n",
       " 'Fiji': 1.9600000000000002,\n",
       " 'Israel': 2.0300000000000002,\n",
       " \"Cte d'Ivoire\": 2.2,\n",
       " 'Spain': 13.280000000000001,\n",
       " 'South Africa': 9.21,\n",
       " 'Morocco': 0.7,\n",
       " 'Venezuela (Bolivarian Republic of)': 7.87,\n",
       " 'Egypt': 0.42000000000000004,\n",
       " 'Ethiopia': 0.8600000000000001,\n",
       " 'Bhutan': 0.31,\n",
       " 'Chile': 8.649999999999999,\n",
       " 'Cambodia': 0.33,\n",
       " 'Mali': 0.6699999999999999,\n",
       " 'Nepal': 0.03,\n",
       " 'Kiribati': 0.48,\n",
       " 'Dominican Republic': 4.53,\n",
       " 'Vanuatu': 1.74,\n",
       " 'Solomon Islands': 0.5800000000000001,\n",
       " 'Libya': 0.0,\n",
       " 'Ukraine': 5.32,\n",
       " 'Eritrea': 0.29,\n",
       " 'Switzerland': 13.849999999999998,\n",
       " 'Mexico': 5.1,\n",
       " 'Portugal': 15.350000000000001,\n",
       " 'El Salvador': 1.77,\n",
       " 'Philippines': 3.78,\n",
       " 'Netherlands': 10.030000000000001,\n",
       " 'Mozambique': 0.39,\n",
       " 'Togo': 2.2199999999999998,\n",
       " \"Democratic People's Republic of Korea\": 3.6799999999999997,\n",
       " 'Cuba': 4.37,\n",
       " 'Singapore': 1.61,\n",
       " 'Lithuania': 0.0,\n",
       " 'Ecuador': 2.54,\n",
       " 'Malaysia': 0.68,\n",
       " 'Niger': 0.11,\n",
       " 'Democratic Republic of the Congo': 1.92,\n",
       " 'Australia': 12.09,\n",
       " 'Cyprus': 9.29,\n",
       " 'Antigua and Barbuda': 4.69,\n",
       " 'Pakistan': 0.02,\n",
       " 'Colombia': 6.960000000000001,\n",
       " 'Saint Lucia': 11.62,\n",
       " 'Brazil': 5.52,\n",
       " 'Algeria': 0.4,\n",
       " 'Malta': 7.13,\n",
       " \"Lao People's Democratic Republic\": 5.95,\n",
       " 'Turkey': 0.72,\n",
       " 'Ghana': 1.8599999999999999,\n",
       " 'Mauritania': 0.02,\n",
       " 'Cameroon': 6.359999999999999,\n",
       " 'Bahamas': 12.290000000000001,\n",
       " 'Djibouti': 0.87,\n",
       " 'Equatorial Guinea': 6.49,\n",
       " 'Oman': 1.03,\n",
       " 'Micronesia (Federated States of)': 0.0,\n",
       " 'Myanmar': 0.16,\n",
       " 'Qatar': 1.4500000000000002,\n",
       " 'Rwanda': 7.549999999999999,\n",
       " 'Mongolia': 2.59,\n",
       " 'Latvia': 7.039999999999999,\n",
       " 'Kenya': 2.82,\n",
       " 'Saint Kitts and Nevis': 4.65,\n",
       " 'Japan': 7.74,\n",
       " 'Iceland': 5.359999999999999,\n",
       " 'Papua New Guinea': 1.1099999999999999,\n",
       " 'Guinea-Bissau': 2.67,\n",
       " 'Belize': 0.0,\n",
       " 'United Republic of Tanzania': 5.9,\n",
       " 'Paraguay': 6.51,\n",
       " 'Thailand': 3.92,\n",
       " 'Tunisia': 0.95,\n",
       " 'United Kingdom of Great Britain and Northern Ireland': 9.99,\n",
       " 'Lebanon': 3.94,\n",
       " 'Luxembourg': 15.21,\n",
       " 'Albania': 1.73,\n",
       " 'Bangladesh': 0.0,\n",
       " 'Sudan': 0.15,\n",
       " 'Congo': 3.1500000000000004,\n",
       " 'Indonesia': 0.07,\n",
       " 'Sierra Leone': 4.380000000000001,\n",
       " 'Guinea': 0.21,\n",
       " 'Panama': 4.6000000000000005,\n",
       " 'Honduras': 2.15,\n",
       " 'Samoa': 2.63,\n",
       " 'Brunei Darussalam': 2.7800000000000002,\n",
       " 'Germany': 14.64,\n",
       " 'Yemen': 0.2,\n",
       " 'Chad': 0.30000000000000004,\n",
       " 'Sri Lanka': 0.14,\n",
       " 'Republic of Korea': 9.620000000000001,\n",
       " 'Sao Tome and Principe': 2.57,\n",
       " 'Slovakia': 12.700000000000001,\n",
       " 'Haiti': 5.81,\n",
       " 'Jordan': 0.19,\n",
       " 'Madagascar': 1.38,\n",
       " 'Austria': 13.9,\n",
       " 'Norway': 5.08,\n",
       " 'Argentina': 10.82,\n",
       " 'Romania': 8.41,\n",
       " 'China': 3.33,\n",
       " 'Nigeria': 6.74,\n",
       " 'India': 1.66,\n",
       " 'Ireland': 11.79,\n",
       " 'Gambia': 1.6300000000000001}"
      ]
     },
     "metadata": {},
     "execution_count": 74
    }
   ],
   "source": [
    "def total_dic(year=\"1989\"):\n",
    "\n",
    "    totals = {}\n",
    "\n",
    "    is_year = (world_alcohol[:,0] == year)\n",
    "    year_current = world_alcohol[is_year,:]\n",
    "    countries = year_current[:,2]\n",
    "\n",
    "\n",
    "    for country in countries:\n",
    "        is_country = (year_current[:,2] == country)\n",
    "        country_consumption = year_current[is_country]\n",
    "        alcohol_column = country_consumption[:,4]\n",
    "        is_empty_country_consumption = (alcohol_column == '')\n",
    "        alcohol_column[is_empty_country_consumption] = \"0\"\n",
    "        alcohol_column = alcohol_column.astype(float)\n",
    "        totals[country] = alcohol_column.sum()\n",
    "    \n",
    "    return totals\n",
    "\n",
    "total_1989 = total_dic(\"1989\")\n",
    "\n",
    "total_1989"
   ]
  },
  {
   "cell_type": "code",
   "execution_count": null,
   "metadata": {},
   "outputs": [],
   "source": []
  }
 ],
 "metadata": {
  "kernelspec": {
   "name": "python385jvsc74a57bd064b474f71659f9be32f34132c3eef93d33d176ead871b80ca6db3fa26bc83f65",
   "display_name": "Python 3.8.5 64-bit ('base': conda)"
  },
  "language_info": {
   "codemirror_mode": {
    "name": "ipython",
    "version": 3
   },
   "file_extension": ".py",
   "mimetype": "text/x-python",
   "name": "python",
   "nbconvert_exporter": "python",
   "pygments_lexer": "ipython3",
   "version": "3.8.5"
  },
  "metadata": {
   "interpreter": {
    "hash": "64b474f71659f9be32f34132c3eef93d33d176ead871b80ca6db3fa26bc83f65"
   }
  }
 },
 "nbformat": 4,
 "nbformat_minor": 4
}