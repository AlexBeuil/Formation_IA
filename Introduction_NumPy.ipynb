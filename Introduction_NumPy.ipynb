{
 "cells": [
  {
   "cell_type": "code",
   "execution_count": 15,
   "metadata": {},
   "outputs": [
    {
     "output_type": "stream",
     "name": "stdout",
     "text": [
      "[ 1  2  3  4  5  6  7  8  9 10 11 12 13 14 15 16 17 18 19 20]\n"
     ]
    },
    {
     "output_type": "execute_result",
     "data": {
      "text/plain": [
       "numpy.ndarray"
      ]
     },
     "metadata": {},
     "execution_count": 15
    }
   ],
   "source": [
    "import numpy as np\n",
    "notre_tableau=np.array([1,2,3,4,5,6,7,8,9,10,11,12,13,14,15,16,17,18,19,20])\n",
    "print(notre_tableau)\n",
    "type(notre_tableau)"
   ]
  },
  {
   "cell_type": "code",
   "execution_count": 16,
   "metadata": {},
   "outputs": [
    {
     "output_type": "stream",
     "name": "stdout",
     "text": [
      "[[1 2 3]\n [4 5 6]\n [7 8 9]]\n"
     ]
    }
   ],
   "source": [
    "mon_array_bidimensionnel=np.array([[1,2,3],[4,5,6],[7,8,9]])\n",
    "print(mon_array_bidimensionnel)"
   ]
  },
  {
   "cell_type": "code",
   "execution_count": 17,
   "metadata": {},
   "outputs": [
    {
     "output_type": "stream",
     "name": "stdout",
     "text": [
      "3\n3\n[1 4 7]\n[1 2 3]\n"
     ]
    }
   ],
   "source": [
    "# Pour selectionner la valeur de la troisiéme colonne premiére ligne\n",
    "print(mon_array_bidimensionnel[0][2])\n",
    "print(mon_array_bidimensionnel[0, 2])\n",
    "\n",
    "# Pour selectionner la premiére ligne\n",
    "print(mon_array_bidimensionnel[:,0])\n",
    "\n",
    "# Pour selectionner le premiére colonne\n",
    "print(mon_array_bidimensionnel[0,:])"
   ]
  },
  {
   "cell_type": "code",
   "execution_count": 18,
   "metadata": {
    "scrolled": false
   },
   "outputs": [
    {
     "output_type": "error",
     "ename": "ValueError",
     "evalue": "invalid literal for int() with base 10: 'texte'",
     "traceback": [
      "\u001b[0;31m---------------------------------------------------------------------------\u001b[0m",
      "\u001b[0;31mValueError\u001b[0m                                Traceback (most recent call last)",
      "\u001b[0;32m<ipython-input-18-afb0da5053a8>\u001b[0m in \u001b[0;36m<module>\u001b[0;34m\u001b[0m\n\u001b[0;32m----> 1\u001b[0;31m \u001b[0mmon_array_bidimensionnel\u001b[0m\u001b[0;34m[\u001b[0m\u001b[0;36m0\u001b[0m\u001b[0;34m,\u001b[0m \u001b[0;36m0\u001b[0m\u001b[0;34m]\u001b[0m\u001b[0;34m=\u001b[0m\u001b[0;34m\"texte\"\u001b[0m\u001b[0;34m\u001b[0m\u001b[0;34m\u001b[0m\u001b[0m\n\u001b[0m",
      "\u001b[0;31mValueError\u001b[0m: invalid literal for int() with base 10: 'texte'"
     ]
    }
   ],
   "source": [
    "mon_array_bidimensionnel[0, 0]=\"texte\""
   ]
  },
  {
   "cell_type": "code",
   "execution_count": 19,
   "metadata": {},
   "outputs": [
    {
     "output_type": "execute_result",
     "data": {
      "text/plain": [
       "dtype('int64')"
      ]
     },
     "metadata": {},
     "execution_count": 19
    }
   ],
   "source": [
    "mon_array_bidimensionnel.dtype"
   ]
  },
  {
   "cell_type": "code",
   "execution_count": 20,
   "metadata": {},
   "outputs": [
    {
     "output_type": "stream",
     "name": "stdout",
     "text": [
      "[[1.5 2.  3. ]\n [4.  5.2 6. ]\n [7.  8.  9.1]]\n"
     ]
    },
    {
     "output_type": "execute_result",
     "data": {
      "text/plain": [
       "dtype('float64')"
      ]
     },
     "metadata": {},
     "execution_count": 20
    }
   ],
   "source": [
    "mon_array_bidimensionnel=np.array([[1.5,2,3],[4,5.2,6],[7,8,9.1]], dtype = float)\n",
    "print(mon_array_bidimensionnel)\n",
    "mon_array_bidimensionnel.dtype"
   ]
  },
  {
   "cell_type": "code",
   "execution_count": 21,
   "metadata": {},
   "outputs": [],
   "source": [
    "#Créer un ndarray grâce à des fonctions NumPy"
   ]
  },
  {
   "cell_type": "code",
   "execution_count": 22,
   "metadata": {},
   "outputs": [
    {
     "output_type": "stream",
     "name": "stdout",
     "text": [
      "[[0. 0. 0. 0. 0. 0.]\n [0. 0. 0. 0. 0. 0.]\n [0. 0. 0. 0. 0. 0.]\n [0. 0. 0. 0. 0. 0.]]\n"
     ]
    }
   ],
   "source": [
    "import numpy as np\n",
    "# np.zeros() permet de créer un ndarray dont l'esemble des éléments correspondent à la valeur zéro.\n",
    "mon_array_zeros=np.zeros((4,6))\n",
    "print(mon_array_zeros)"
   ]
  },
  {
   "cell_type": "code",
   "execution_count": 23,
   "metadata": {},
   "outputs": [
    {
     "output_type": "stream",
     "name": "stdout",
     "text": [
      "[[1 1 1 1 1 1]\n [1 1 1 1 1 1]\n [1 1 1 1 1 1]\n [1 1 1 1 1 1]]\n"
     ]
    }
   ],
   "source": [
    "import numpy as np\n",
    "mon_array_ones=np.ones((4,6), dtype=int)\n",
    "print(mon_array_ones)"
   ]
  },
  {
   "cell_type": "code",
   "execution_count": 24,
   "metadata": {
    "scrolled": false
   },
   "outputs": [
    {
     "output_type": "stream",
     "name": "stdout",
     "text": [
      "[[0.9628844  0.32623065]\n [0.7631174  0.06782361]\n [0.33581892 0.12166002]\n [0.39804896 0.76283897]]\n"
     ]
    }
   ],
   "source": [
    "import numpy as np\n",
    "# np.random/random() permet de créer un tableau avec des éléments aléatoire\n",
    "mon_array_random = np.random.random((4,2))\n",
    "print(mon_array_random)"
   ]
  },
  {
   "cell_type": "code",
   "execution_count": 25,
   "metadata": {
    "scrolled": false
   },
   "outputs": [
    {
     "output_type": "stream",
     "name": "stdout",
     "text": [
      "[[5.1 3.5 1.4 0.2 1. ]\n [4.9 3.  1.4 0.2 1. ]\n [4.7 3.2 1.3 0.2 1. ]\n [4.6 3.1 1.5 0.2 1. ]\n [5.  3.6 1.4 0.2 1. ]\n [5.4 3.9 1.7 0.4 1. ]\n [4.6 3.4 1.4 0.3 1. ]\n [5.  3.4 1.5 0.2 1. ]\n [4.4 2.9 1.4 0.2 1. ]\n [4.9 3.1 1.5 0.1 1. ]\n [5.4 3.7 1.5 0.2 1. ]\n [4.8 3.4 1.6 0.2 1. ]\n [4.8 3.  1.4 0.1 1. ]\n [4.3 3.  1.1 0.1 1. ]\n [5.8 4.  1.2 0.2 1. ]\n [5.7 4.4 1.5 0.4 1. ]\n [5.4 3.9 1.3 0.4 1. ]\n [5.1 3.5 1.4 0.3 1. ]\n [5.7 3.8 1.7 0.3 1. ]\n [5.1 3.8 1.5 0.3 1. ]\n [5.4 3.4 1.7 0.2 1. ]\n [5.1 3.7 1.5 0.4 1. ]\n [4.6 3.6 1.  0.2 1. ]\n [5.1 3.3 1.7 0.5 1. ]\n [4.8 3.4 1.9 0.2 1. ]\n [5.  3.  1.6 0.2 1. ]\n [5.  3.4 1.6 0.4 1. ]\n [5.2 3.5 1.5 0.2 1. ]\n [5.2 3.4 1.4 0.2 1. ]\n [4.7 3.2 1.6 0.2 1. ]\n [4.8 3.1 1.6 0.2 1. ]\n [5.4 3.4 1.5 0.4 1. ]\n [5.2 4.1 1.5 0.1 1. ]\n [5.5 4.2 1.4 0.2 1. ]\n [4.9 3.1 1.5 0.2 1. ]\n [5.  3.2 1.2 0.2 1. ]\n [5.5 3.5 1.3 0.2 1. ]\n [4.9 3.6 1.4 0.1 1. ]\n [4.4 3.  1.3 0.2 1. ]\n [5.1 3.4 1.5 0.2 1. ]\n [5.  3.5 1.3 0.3 1. ]\n [4.5 2.3 1.3 0.3 1. ]\n [4.4 3.2 1.3 0.2 1. ]\n [5.  3.5 1.6 0.6 1. ]\n [5.1 3.8 1.9 0.4 1. ]\n [4.8 3.  1.4 0.3 1. ]\n [5.1 3.8 1.6 0.2 1. ]\n [4.6 3.2 1.4 0.2 1. ]\n [5.3 3.7 1.5 0.2 1. ]\n [5.  3.3 1.4 0.2 1. ]\n [7.  3.2 4.7 1.4 2. ]\n [6.4 3.2 4.5 1.5 2. ]\n [6.9 3.1 4.9 1.5 2. ]\n [5.5 2.3 4.  1.3 2. ]\n [6.5 2.8 4.6 1.5 2. ]\n [5.7 2.8 4.5 1.3 2. ]\n [6.3 3.3 4.7 1.6 2. ]\n [4.9 2.4 3.3 1.  2. ]\n [6.6 2.9 4.6 1.3 2. ]\n [5.2 2.7 3.9 1.4 2. ]\n [5.  2.  3.5 1.  2. ]\n [5.9 3.  4.2 1.5 2. ]\n [6.  2.2 4.  1.  2. ]\n [6.1 2.9 4.7 1.4 2. ]\n [5.6 2.9 3.6 1.3 2. ]\n [6.7 3.1 4.4 1.4 2. ]\n [5.6 3.  4.5 1.5 2. ]\n [5.8 2.7 4.1 1.  2. ]\n [6.2 2.2 4.5 1.5 2. ]\n [5.6 2.5 3.9 1.1 2. ]\n [5.9 3.2 4.8 1.8 2. ]\n [6.1 2.8 4.  1.3 2. ]\n [6.3 2.5 4.9 1.5 2. ]\n [6.1 2.8 4.7 1.2 2. ]\n [6.4 2.9 4.3 1.3 2. ]\n [6.6 3.  4.4 1.4 2. ]\n [6.8 2.8 4.8 1.4 2. ]\n [6.7 3.  5.  1.7 2. ]\n [6.  2.9 4.5 1.5 2. ]\n [5.7 2.6 3.5 1.  2. ]\n [5.5 2.4 3.8 1.1 2. ]\n [5.5 2.4 3.7 1.  2. ]\n [5.8 2.7 3.9 1.2 2. ]\n [6.  2.7 5.1 1.6 2. ]\n [5.4 3.  4.5 1.5 2. ]\n [6.  3.4 4.5 1.6 2. ]\n [6.7 3.1 4.7 1.5 2. ]\n [6.3 2.3 4.4 1.3 2. ]\n [5.6 3.  4.1 1.3 2. ]\n [5.5 2.5 4.  1.3 2. ]\n [5.5 2.6 4.4 1.2 2. ]\n [6.1 3.  4.6 1.4 2. ]\n [5.8 2.6 4.  1.2 2. ]\n [5.  2.3 3.3 1.  2. ]\n [5.6 2.7 4.2 1.3 2. ]\n [5.7 3.  4.2 1.2 2. ]\n [5.7 2.9 4.2 1.3 2. ]\n [6.2 2.9 4.3 1.3 2. ]\n [5.1 2.5 3.  1.1 2. ]\n [5.7 2.8 4.1 1.3 2. ]\n [6.3 3.3 6.  2.5 3. ]\n [5.8 2.7 5.1 1.9 3. ]\n [7.1 3.  5.9 2.1 3. ]\n [6.3 2.9 5.6 1.8 3. ]\n [6.5 3.  5.8 2.2 3. ]\n [7.6 3.  6.6 2.1 3. ]\n [4.9 2.5 4.5 1.7 3. ]\n [7.3 2.9 6.3 1.8 3. ]\n [6.7 2.5 5.8 1.8 3. ]\n [7.2 3.6 6.1 2.5 3. ]\n [6.5 3.2 5.1 2.  3. ]\n [6.4 2.7 5.3 1.9 3. ]\n [6.8 3.  5.5 2.1 3. ]\n [5.7 2.5 5.  2.  3. ]\n [5.8 2.8 5.1 2.4 3. ]\n [6.4 3.2 5.3 2.3 3. ]\n [6.5 3.  5.5 1.8 3. ]\n [7.7 3.8 6.7 2.2 3. ]\n [7.7 2.6 6.9 2.3 3. ]\n [6.  2.2 5.  1.5 3. ]\n [6.9 3.2 5.7 2.3 3. ]\n [5.6 2.8 4.9 2.  3. ]\n [7.7 2.8 6.7 2.  3. ]\n [6.3 2.7 4.9 1.8 3. ]\n [6.7 3.3 5.7 2.1 3. ]\n [7.2 3.2 6.  1.8 3. ]\n [6.2 2.8 4.8 1.8 3. ]\n [6.1 3.  4.9 1.8 3. ]\n [6.4 2.8 5.6 2.1 3. ]\n [7.2 3.  5.8 1.6 3. ]\n [7.4 2.8 6.1 1.9 3. ]\n [7.9 3.8 6.4 2.  3. ]\n [6.4 2.8 5.6 2.2 3. ]\n [6.3 2.8 5.1 1.5 3. ]\n [6.1 2.6 5.6 1.4 3. ]\n [7.7 3.  6.1 2.3 3. ]\n [6.3 3.4 5.6 2.4 3. ]\n [6.4 3.1 5.5 1.8 3. ]\n [6.  3.  4.8 1.8 3. ]\n [6.9 3.1 5.4 2.1 3. ]\n [6.7 3.1 5.6 2.4 3. ]\n [6.9 3.1 5.1 2.3 3. ]\n [5.8 2.7 5.1 1.9 3. ]\n [6.8 3.2 5.9 2.3 3. ]\n [6.7 3.3 5.7 2.5 3. ]\n [6.7 3.  5.2 2.3 3. ]\n [6.3 2.5 5.  1.9 3. ]\n [6.5 3.  5.2 2.  3. ]\n [6.2 3.4 5.4 2.3 3. ]\n [5.9 3.  5.1 1.8 3. ]]\nfloat64\n"
     ]
    },
    {
     "output_type": "execute_result",
     "data": {
      "text/plain": [
       "numpy.ndarray"
      ]
     },
     "metadata": {},
     "execution_count": 25
    }
   ],
   "source": [
    "import numpy as np\n",
    "\n",
    "iris=np.genfromtxt(\"/home/simplon/Documents/Python_cours/Introduction_a_NumPy/iris.csv\", delimiter=\";\", skip_header=True, encoding='latin-1')\n",
    "print(iris)\n",
    "print(iris.dtype)\n",
    "type(iris)"
   ]
  },
  {
   "cell_type": "code",
   "execution_count": 26,
   "metadata": {},
   "outputs": [],
   "source": [
    "import numpy as np\n",
    "np.savetxt(\"/home/simplon/Documents/Python_cours/Introduction_a_NumPy/iris_2.csv\", iris, delimiter=\";\")"
   ]
  },
  {
   "cell_type": "code",
   "execution_count": 27,
   "metadata": {},
   "outputs": [],
   "source": [
    "# 1.2 Indexation\n",
    "# 1.2.1 Indexation simple"
   ]
  },
  {
   "cell_type": "code",
   "execution_count": 28,
   "metadata": {},
   "outputs": [
    {
     "output_type": "execute_result",
     "data": {
      "text/plain": [
       "3.2"
      ]
     },
     "metadata": {},
     "execution_count": 28
    }
   ],
   "source": [
    "iris[2,1]"
   ]
  },
  {
   "cell_type": "code",
   "execution_count": 29,
   "metadata": {},
   "outputs": [
    {
     "output_type": "execute_result",
     "data": {
      "text/plain": [
       "4.0"
      ]
     },
     "metadata": {},
     "execution_count": 29
    }
   ],
   "source": [
    "iris[2,1]=4\n",
    "iris[2,1]"
   ]
  },
  {
   "cell_type": "code",
   "execution_count": 30,
   "metadata": {},
   "outputs": [
    {
     "output_type": "execute_result",
     "data": {
      "text/plain": [
       "3.2"
      ]
     },
     "metadata": {},
     "execution_count": 30
    }
   ],
   "source": [
    "iris[2,1]=3.2\n",
    "iris[2,1]"
   ]
  },
  {
   "cell_type": "code",
   "execution_count": 31,
   "metadata": {},
   "outputs": [],
   "source": [
    "# Indexation booléenne\n",
    "# Rappels : les opérateurs relationnels, permettent de comparer des valeurs : ==, !=, <, >, <=, >=\n",
    "# si on ne souhaite garder que les valeurs supérieures à 2 dans ce tableau, peu importe la colonne:"
   ]
  },
  {
   "cell_type": "code",
   "execution_count": 32,
   "metadata": {},
   "outputs": [
    {
     "output_type": "execute_result",
     "data": {
      "text/plain": [
       "array([5.1, 3.5, 4.9, 3. , 4.7, 3.2, 4.6, 3.1, 5. , 3.6, 5.4, 3.9, 4.6,\n",
       "       3.4, 5. , 3.4, 4.4, 2.9, 4.9, 3.1, 5.4, 3.7, 4.8, 3.4, 4.8, 3. ,\n",
       "       4.3, 3. , 5.8, 4. , 5.7, 4.4, 5.4, 3.9, 5.1, 3.5, 5.7, 3.8, 5.1,\n",
       "       3.8, 5.4, 3.4, 5.1, 3.7, 4.6, 3.6, 5.1, 3.3, 4.8, 3.4, 5. , 3. ,\n",
       "       5. , 3.4, 5.2, 3.5, 5.2, 3.4, 4.7, 3.2, 4.8, 3.1, 5.4, 3.4, 5.2,\n",
       "       4.1, 5.5, 4.2, 4.9, 3.1, 5. , 3.2, 5.5, 3.5, 4.9, 3.6, 4.4, 3. ,\n",
       "       5.1, 3.4, 5. , 3.5, 4.5, 2.3, 4.4, 3.2, 5. , 3.5, 5.1, 3.8, 4.8,\n",
       "       3. , 5.1, 3.8, 4.6, 3.2, 5.3, 3.7, 5. , 3.3, 7. , 3.2, 4.7, 6.4,\n",
       "       3.2, 4.5, 6.9, 3.1, 4.9, 5.5, 2.3, 4. , 6.5, 2.8, 4.6, 5.7, 2.8,\n",
       "       4.5, 6.3, 3.3, 4.7, 4.9, 2.4, 3.3, 6.6, 2.9, 4.6, 5.2, 2.7, 3.9,\n",
       "       5. , 3.5, 5.9, 3. , 4.2, 6. , 2.2, 4. , 6.1, 2.9, 4.7, 5.6, 2.9,\n",
       "       3.6, 6.7, 3.1, 4.4, 5.6, 3. , 4.5, 5.8, 2.7, 4.1, 6.2, 2.2, 4.5,\n",
       "       5.6, 2.5, 3.9, 5.9, 3.2, 4.8, 6.1, 2.8, 4. , 6.3, 2.5, 4.9, 6.1,\n",
       "       2.8, 4.7, 6.4, 2.9, 4.3, 6.6, 3. , 4.4, 6.8, 2.8, 4.8, 6.7, 3. ,\n",
       "       5. , 6. , 2.9, 4.5, 5.7, 2.6, 3.5, 5.5, 2.4, 3.8, 5.5, 2.4, 3.7,\n",
       "       5.8, 2.7, 3.9, 6. , 2.7, 5.1, 5.4, 3. , 4.5, 6. , 3.4, 4.5, 6.7,\n",
       "       3.1, 4.7, 6.3, 2.3, 4.4, 5.6, 3. , 4.1, 5.5, 2.5, 4. , 5.5, 2.6,\n",
       "       4.4, 6.1, 3. , 4.6, 5.8, 2.6, 4. , 5. , 2.3, 3.3, 5.6, 2.7, 4.2,\n",
       "       5.7, 3. , 4.2, 5.7, 2.9, 4.2, 6.2, 2.9, 4.3, 5.1, 2.5, 3. , 5.7,\n",
       "       2.8, 4.1, 6.3, 3.3, 6. , 2.5, 3. , 5.8, 2.7, 5.1, 3. , 7.1, 3. ,\n",
       "       5.9, 2.1, 3. , 6.3, 2.9, 5.6, 3. , 6.5, 3. , 5.8, 2.2, 3. , 7.6,\n",
       "       3. , 6.6, 2.1, 3. , 4.9, 2.5, 4.5, 3. , 7.3, 2.9, 6.3, 3. , 6.7,\n",
       "       2.5, 5.8, 3. , 7.2, 3.6, 6.1, 2.5, 3. , 6.5, 3.2, 5.1, 3. , 6.4,\n",
       "       2.7, 5.3, 3. , 6.8, 3. , 5.5, 2.1, 3. , 5.7, 2.5, 5. , 3. , 5.8,\n",
       "       2.8, 5.1, 2.4, 3. , 6.4, 3.2, 5.3, 2.3, 3. , 6.5, 3. , 5.5, 3. ,\n",
       "       7.7, 3.8, 6.7, 2.2, 3. , 7.7, 2.6, 6.9, 2.3, 3. , 6. , 2.2, 5. ,\n",
       "       3. , 6.9, 3.2, 5.7, 2.3, 3. , 5.6, 2.8, 4.9, 3. , 7.7, 2.8, 6.7,\n",
       "       3. , 6.3, 2.7, 4.9, 3. , 6.7, 3.3, 5.7, 2.1, 3. , 7.2, 3.2, 6. ,\n",
       "       3. , 6.2, 2.8, 4.8, 3. , 6.1, 3. , 4.9, 3. , 6.4, 2.8, 5.6, 2.1,\n",
       "       3. , 7.2, 3. , 5.8, 3. , 7.4, 2.8, 6.1, 3. , 7.9, 3.8, 6.4, 3. ,\n",
       "       6.4, 2.8, 5.6, 2.2, 3. , 6.3, 2.8, 5.1, 3. , 6.1, 2.6, 5.6, 3. ,\n",
       "       7.7, 3. , 6.1, 2.3, 3. , 6.3, 3.4, 5.6, 2.4, 3. , 6.4, 3.1, 5.5,\n",
       "       3. , 6. , 3. , 4.8, 3. , 6.9, 3.1, 5.4, 2.1, 3. , 6.7, 3.1, 5.6,\n",
       "       2.4, 3. , 6.9, 3.1, 5.1, 2.3, 3. , 5.8, 2.7, 5.1, 3. , 6.8, 3.2,\n",
       "       5.9, 2.3, 3. , 6.7, 3.3, 5.7, 2.5, 3. , 6.7, 3. , 5.2, 2.3, 3. ,\n",
       "       6.3, 2.5, 5. , 3. , 6.5, 3. , 5.2, 3. , 6.2, 3.4, 5.4, 2.3, 3. ,\n",
       "       5.9, 3. , 5.1, 3. ])"
      ]
     },
     "metadata": {},
     "execution_count": 32
    }
   ],
   "source": [
    "iris[iris>2]"
   ]
  },
  {
   "cell_type": "code",
   "execution_count": 33,
   "metadata": {},
   "outputs": [
    {
     "output_type": "execute_result",
     "data": {
      "text/plain": [
       "(472,)"
      ]
     },
     "metadata": {},
     "execution_count": 33
    }
   ],
   "source": [
    "iris[iris>2].shape"
   ]
  },
  {
   "cell_type": "code",
   "execution_count": 34,
   "metadata": {},
   "outputs": [
    {
     "output_type": "execute_result",
     "data": {
      "text/plain": [
       "472"
      ]
     },
     "metadata": {},
     "execution_count": 34
    }
   ],
   "source": [
    "iris[iris>2].shape[0]"
   ]
  },
  {
   "cell_type": "code",
   "execution_count": 35,
   "metadata": {},
   "outputs": [],
   "source": [
    "# L'expression booléenne qui suit génére un nouveau tableau, de même dimension que le tableau iris, mais qui contient unqiment des booléens, True ou False."
   ]
  },
  {
   "cell_type": "code",
   "execution_count": 36,
   "metadata": {},
   "outputs": [
    {
     "output_type": "execute_result",
     "data": {
      "text/plain": [
       "array([[ True,  True, False, False, False],\n",
       "       [ True,  True, False, False, False],\n",
       "       [ True,  True, False, False, False],\n",
       "       [ True,  True, False, False, False],\n",
       "       [ True,  True, False, False, False],\n",
       "       [ True,  True, False, False, False],\n",
       "       [ True,  True, False, False, False],\n",
       "       [ True,  True, False, False, False],\n",
       "       [ True,  True, False, False, False],\n",
       "       [ True,  True, False, False, False],\n",
       "       [ True,  True, False, False, False],\n",
       "       [ True,  True, False, False, False],\n",
       "       [ True,  True, False, False, False],\n",
       "       [ True,  True, False, False, False],\n",
       "       [ True,  True, False, False, False],\n",
       "       [ True,  True, False, False, False],\n",
       "       [ True,  True, False, False, False],\n",
       "       [ True,  True, False, False, False],\n",
       "       [ True,  True, False, False, False],\n",
       "       [ True,  True, False, False, False],\n",
       "       [ True,  True, False, False, False],\n",
       "       [ True,  True, False, False, False],\n",
       "       [ True,  True, False, False, False],\n",
       "       [ True,  True, False, False, False],\n",
       "       [ True,  True, False, False, False],\n",
       "       [ True,  True, False, False, False],\n",
       "       [ True,  True, False, False, False],\n",
       "       [ True,  True, False, False, False],\n",
       "       [ True,  True, False, False, False],\n",
       "       [ True,  True, False, False, False],\n",
       "       [ True,  True, False, False, False],\n",
       "       [ True,  True, False, False, False],\n",
       "       [ True,  True, False, False, False],\n",
       "       [ True,  True, False, False, False],\n",
       "       [ True,  True, False, False, False],\n",
       "       [ True,  True, False, False, False],\n",
       "       [ True,  True, False, False, False],\n",
       "       [ True,  True, False, False, False],\n",
       "       [ True,  True, False, False, False],\n",
       "       [ True,  True, False, False, False],\n",
       "       [ True,  True, False, False, False],\n",
       "       [ True,  True, False, False, False],\n",
       "       [ True,  True, False, False, False],\n",
       "       [ True,  True, False, False, False],\n",
       "       [ True,  True, False, False, False],\n",
       "       [ True,  True, False, False, False],\n",
       "       [ True,  True, False, False, False],\n",
       "       [ True,  True, False, False, False],\n",
       "       [ True,  True, False, False, False],\n",
       "       [ True,  True, False, False, False],\n",
       "       [ True,  True,  True, False, False],\n",
       "       [ True,  True,  True, False, False],\n",
       "       [ True,  True,  True, False, False],\n",
       "       [ True,  True,  True, False, False],\n",
       "       [ True,  True,  True, False, False],\n",
       "       [ True,  True,  True, False, False],\n",
       "       [ True,  True,  True, False, False],\n",
       "       [ True,  True,  True, False, False],\n",
       "       [ True,  True,  True, False, False],\n",
       "       [ True,  True,  True, False, False],\n",
       "       [ True, False,  True, False, False],\n",
       "       [ True,  True,  True, False, False],\n",
       "       [ True,  True,  True, False, False],\n",
       "       [ True,  True,  True, False, False],\n",
       "       [ True,  True,  True, False, False],\n",
       "       [ True,  True,  True, False, False],\n",
       "       [ True,  True,  True, False, False],\n",
       "       [ True,  True,  True, False, False],\n",
       "       [ True,  True,  True, False, False],\n",
       "       [ True,  True,  True, False, False],\n",
       "       [ True,  True,  True, False, False],\n",
       "       [ True,  True,  True, False, False],\n",
       "       [ True,  True,  True, False, False],\n",
       "       [ True,  True,  True, False, False],\n",
       "       [ True,  True,  True, False, False],\n",
       "       [ True,  True,  True, False, False],\n",
       "       [ True,  True,  True, False, False],\n",
       "       [ True,  True,  True, False, False],\n",
       "       [ True,  True,  True, False, False],\n",
       "       [ True,  True,  True, False, False],\n",
       "       [ True,  True,  True, False, False],\n",
       "       [ True,  True,  True, False, False],\n",
       "       [ True,  True,  True, False, False],\n",
       "       [ True,  True,  True, False, False],\n",
       "       [ True,  True,  True, False, False],\n",
       "       [ True,  True,  True, False, False],\n",
       "       [ True,  True,  True, False, False],\n",
       "       [ True,  True,  True, False, False],\n",
       "       [ True,  True,  True, False, False],\n",
       "       [ True,  True,  True, False, False],\n",
       "       [ True,  True,  True, False, False],\n",
       "       [ True,  True,  True, False, False],\n",
       "       [ True,  True,  True, False, False],\n",
       "       [ True,  True,  True, False, False],\n",
       "       [ True,  True,  True, False, False],\n",
       "       [ True,  True,  True, False, False],\n",
       "       [ True,  True,  True, False, False],\n",
       "       [ True,  True,  True, False, False],\n",
       "       [ True,  True,  True, False, False],\n",
       "       [ True,  True,  True, False, False],\n",
       "       [ True,  True,  True,  True,  True],\n",
       "       [ True,  True,  True, False,  True],\n",
       "       [ True,  True,  True,  True,  True],\n",
       "       [ True,  True,  True, False,  True],\n",
       "       [ True,  True,  True,  True,  True],\n",
       "       [ True,  True,  True,  True,  True],\n",
       "       [ True,  True,  True, False,  True],\n",
       "       [ True,  True,  True, False,  True],\n",
       "       [ True,  True,  True, False,  True],\n",
       "       [ True,  True,  True,  True,  True],\n",
       "       [ True,  True,  True, False,  True],\n",
       "       [ True,  True,  True, False,  True],\n",
       "       [ True,  True,  True,  True,  True],\n",
       "       [ True,  True,  True, False,  True],\n",
       "       [ True,  True,  True,  True,  True],\n",
       "       [ True,  True,  True,  True,  True],\n",
       "       [ True,  True,  True, False,  True],\n",
       "       [ True,  True,  True,  True,  True],\n",
       "       [ True,  True,  True,  True,  True],\n",
       "       [ True,  True,  True, False,  True],\n",
       "       [ True,  True,  True,  True,  True],\n",
       "       [ True,  True,  True, False,  True],\n",
       "       [ True,  True,  True, False,  True],\n",
       "       [ True,  True,  True, False,  True],\n",
       "       [ True,  True,  True,  True,  True],\n",
       "       [ True,  True,  True, False,  True],\n",
       "       [ True,  True,  True, False,  True],\n",
       "       [ True,  True,  True, False,  True],\n",
       "       [ True,  True,  True,  True,  True],\n",
       "       [ True,  True,  True, False,  True],\n",
       "       [ True,  True,  True, False,  True],\n",
       "       [ True,  True,  True, False,  True],\n",
       "       [ True,  True,  True,  True,  True],\n",
       "       [ True,  True,  True, False,  True],\n",
       "       [ True,  True,  True, False,  True],\n",
       "       [ True,  True,  True,  True,  True],\n",
       "       [ True,  True,  True,  True,  True],\n",
       "       [ True,  True,  True, False,  True],\n",
       "       [ True,  True,  True, False,  True],\n",
       "       [ True,  True,  True,  True,  True],\n",
       "       [ True,  True,  True,  True,  True],\n",
       "       [ True,  True,  True,  True,  True],\n",
       "       [ True,  True,  True, False,  True],\n",
       "       [ True,  True,  True,  True,  True],\n",
       "       [ True,  True,  True,  True,  True],\n",
       "       [ True,  True,  True,  True,  True],\n",
       "       [ True,  True,  True, False,  True],\n",
       "       [ True,  True,  True, False,  True],\n",
       "       [ True,  True,  True,  True,  True],\n",
       "       [ True,  True,  True, False,  True]])"
      ]
     },
     "metadata": {},
     "execution_count": 36
    }
   ],
   "source": [
    "iris > 2"
   ]
  },
  {
   "cell_type": "code",
   "execution_count": 37,
   "metadata": {},
   "outputs": [],
   "source": [
    "# Pour appliquer la condition sur la colonne particuliére du tableau, il faut la sélectionner en écrivant le masque booléen de la manière suivante."
   ]
  },
  {
   "cell_type": "code",
   "execution_count": 38,
   "metadata": {},
   "outputs": [
    {
     "output_type": "execute_result",
     "data": {
      "text/plain": [
       "array([[5.1, 3.5, 1.4, 0.2, 1. ],\n",
       "       [5.4, 3.9, 1.7, 0.4, 1. ],\n",
       "       [5.4, 3.7, 1.5, 0.2, 1. ],\n",
       "       [5.8, 4. , 1.2, 0.2, 1. ],\n",
       "       [5.7, 4.4, 1.5, 0.4, 1. ],\n",
       "       [5.4, 3.9, 1.3, 0.4, 1. ],\n",
       "       [5.1, 3.5, 1.4, 0.3, 1. ],\n",
       "       [5.7, 3.8, 1.7, 0.3, 1. ],\n",
       "       [5.1, 3.8, 1.5, 0.3, 1. ],\n",
       "       [5.4, 3.4, 1.7, 0.2, 1. ],\n",
       "       [5.1, 3.7, 1.5, 0.4, 1. ],\n",
       "       [5.1, 3.3, 1.7, 0.5, 1. ],\n",
       "       [5.2, 3.5, 1.5, 0.2, 1. ],\n",
       "       [5.2, 3.4, 1.4, 0.2, 1. ],\n",
       "       [5.4, 3.4, 1.5, 0.4, 1. ],\n",
       "       [5.2, 4.1, 1.5, 0.1, 1. ],\n",
       "       [5.5, 4.2, 1.4, 0.2, 1. ],\n",
       "       [5.5, 3.5, 1.3, 0.2, 1. ],\n",
       "       [5.1, 3.4, 1.5, 0.2, 1. ],\n",
       "       [5.1, 3.8, 1.9, 0.4, 1. ],\n",
       "       [5.1, 3.8, 1.6, 0.2, 1. ],\n",
       "       [5.3, 3.7, 1.5, 0.2, 1. ],\n",
       "       [7. , 3.2, 4.7, 1.4, 2. ],\n",
       "       [6.4, 3.2, 4.5, 1.5, 2. ],\n",
       "       [6.9, 3.1, 4.9, 1.5, 2. ],\n",
       "       [5.5, 2.3, 4. , 1.3, 2. ],\n",
       "       [6.5, 2.8, 4.6, 1.5, 2. ],\n",
       "       [5.7, 2.8, 4.5, 1.3, 2. ],\n",
       "       [6.3, 3.3, 4.7, 1.6, 2. ],\n",
       "       [6.6, 2.9, 4.6, 1.3, 2. ],\n",
       "       [5.2, 2.7, 3.9, 1.4, 2. ],\n",
       "       [5.9, 3. , 4.2, 1.5, 2. ],\n",
       "       [6. , 2.2, 4. , 1. , 2. ],\n",
       "       [6.1, 2.9, 4.7, 1.4, 2. ],\n",
       "       [5.6, 2.9, 3.6, 1.3, 2. ],\n",
       "       [6.7, 3.1, 4.4, 1.4, 2. ],\n",
       "       [5.6, 3. , 4.5, 1.5, 2. ],\n",
       "       [5.8, 2.7, 4.1, 1. , 2. ],\n",
       "       [6.2, 2.2, 4.5, 1.5, 2. ],\n",
       "       [5.6, 2.5, 3.9, 1.1, 2. ],\n",
       "       [5.9, 3.2, 4.8, 1.8, 2. ],\n",
       "       [6.1, 2.8, 4. , 1.3, 2. ],\n",
       "       [6.3, 2.5, 4.9, 1.5, 2. ],\n",
       "       [6.1, 2.8, 4.7, 1.2, 2. ],\n",
       "       [6.4, 2.9, 4.3, 1.3, 2. ],\n",
       "       [6.6, 3. , 4.4, 1.4, 2. ],\n",
       "       [6.8, 2.8, 4.8, 1.4, 2. ],\n",
       "       [6.7, 3. , 5. , 1.7, 2. ],\n",
       "       [6. , 2.9, 4.5, 1.5, 2. ],\n",
       "       [5.7, 2.6, 3.5, 1. , 2. ],\n",
       "       [5.5, 2.4, 3.8, 1.1, 2. ],\n",
       "       [5.5, 2.4, 3.7, 1. , 2. ],\n",
       "       [5.8, 2.7, 3.9, 1.2, 2. ],\n",
       "       [6. , 2.7, 5.1, 1.6, 2. ],\n",
       "       [5.4, 3. , 4.5, 1.5, 2. ],\n",
       "       [6. , 3.4, 4.5, 1.6, 2. ],\n",
       "       [6.7, 3.1, 4.7, 1.5, 2. ],\n",
       "       [6.3, 2.3, 4.4, 1.3, 2. ],\n",
       "       [5.6, 3. , 4.1, 1.3, 2. ],\n",
       "       [5.5, 2.5, 4. , 1.3, 2. ],\n",
       "       [5.5, 2.6, 4.4, 1.2, 2. ],\n",
       "       [6.1, 3. , 4.6, 1.4, 2. ],\n",
       "       [5.8, 2.6, 4. , 1.2, 2. ],\n",
       "       [5.6, 2.7, 4.2, 1.3, 2. ],\n",
       "       [5.7, 3. , 4.2, 1.2, 2. ],\n",
       "       [5.7, 2.9, 4.2, 1.3, 2. ],\n",
       "       [6.2, 2.9, 4.3, 1.3, 2. ],\n",
       "       [5.1, 2.5, 3. , 1.1, 2. ],\n",
       "       [5.7, 2.8, 4.1, 1.3, 2. ],\n",
       "       [6.3, 3.3, 6. , 2.5, 3. ],\n",
       "       [5.8, 2.7, 5.1, 1.9, 3. ],\n",
       "       [7.1, 3. , 5.9, 2.1, 3. ],\n",
       "       [6.3, 2.9, 5.6, 1.8, 3. ],\n",
       "       [6.5, 3. , 5.8, 2.2, 3. ],\n",
       "       [7.6, 3. , 6.6, 2.1, 3. ],\n",
       "       [7.3, 2.9, 6.3, 1.8, 3. ],\n",
       "       [6.7, 2.5, 5.8, 1.8, 3. ],\n",
       "       [7.2, 3.6, 6.1, 2.5, 3. ],\n",
       "       [6.5, 3.2, 5.1, 2. , 3. ],\n",
       "       [6.4, 2.7, 5.3, 1.9, 3. ],\n",
       "       [6.8, 3. , 5.5, 2.1, 3. ],\n",
       "       [5.7, 2.5, 5. , 2. , 3. ],\n",
       "       [5.8, 2.8, 5.1, 2.4, 3. ],\n",
       "       [6.4, 3.2, 5.3, 2.3, 3. ],\n",
       "       [6.5, 3. , 5.5, 1.8, 3. ],\n",
       "       [7.7, 3.8, 6.7, 2.2, 3. ],\n",
       "       [7.7, 2.6, 6.9, 2.3, 3. ],\n",
       "       [6. , 2.2, 5. , 1.5, 3. ],\n",
       "       [6.9, 3.2, 5.7, 2.3, 3. ],\n",
       "       [5.6, 2.8, 4.9, 2. , 3. ],\n",
       "       [7.7, 2.8, 6.7, 2. , 3. ],\n",
       "       [6.3, 2.7, 4.9, 1.8, 3. ],\n",
       "       [6.7, 3.3, 5.7, 2.1, 3. ],\n",
       "       [7.2, 3.2, 6. , 1.8, 3. ],\n",
       "       [6.2, 2.8, 4.8, 1.8, 3. ],\n",
       "       [6.1, 3. , 4.9, 1.8, 3. ],\n",
       "       [6.4, 2.8, 5.6, 2.1, 3. ],\n",
       "       [7.2, 3. , 5.8, 1.6, 3. ],\n",
       "       [7.4, 2.8, 6.1, 1.9, 3. ],\n",
       "       [7.9, 3.8, 6.4, 2. , 3. ],\n",
       "       [6.4, 2.8, 5.6, 2.2, 3. ],\n",
       "       [6.3, 2.8, 5.1, 1.5, 3. ],\n",
       "       [6.1, 2.6, 5.6, 1.4, 3. ],\n",
       "       [7.7, 3. , 6.1, 2.3, 3. ],\n",
       "       [6.3, 3.4, 5.6, 2.4, 3. ],\n",
       "       [6.4, 3.1, 5.5, 1.8, 3. ],\n",
       "       [6. , 3. , 4.8, 1.8, 3. ],\n",
       "       [6.9, 3.1, 5.4, 2.1, 3. ],\n",
       "       [6.7, 3.1, 5.6, 2.4, 3. ],\n",
       "       [6.9, 3.1, 5.1, 2.3, 3. ],\n",
       "       [5.8, 2.7, 5.1, 1.9, 3. ],\n",
       "       [6.8, 3.2, 5.9, 2.3, 3. ],\n",
       "       [6.7, 3.3, 5.7, 2.5, 3. ],\n",
       "       [6.7, 3. , 5.2, 2.3, 3. ],\n",
       "       [6.3, 2.5, 5. , 1.9, 3. ],\n",
       "       [6.5, 3. , 5.2, 2. , 3. ],\n",
       "       [6.2, 3.4, 5.4, 2.3, 3. ],\n",
       "       [5.9, 3. , 5.1, 1.8, 3. ]])"
      ]
     },
     "metadata": {},
     "execution_count": 38
    }
   ],
   "source": [
    "iris[iris[:, 0] >5]"
   ]
  },
  {
   "cell_type": "code",
   "execution_count": 39,
   "metadata": {},
   "outputs": [
    {
     "output_type": "execute_result",
     "data": {
      "text/plain": [
       "array([[6.3, 3.3, 6. , 2.5, 3. ],\n",
       "       [5.8, 2.7, 5.1, 1.9, 3. ],\n",
       "       [7.1, 3. , 5.9, 2.1, 3. ],\n",
       "       [6.3, 2.9, 5.6, 1.8, 3. ],\n",
       "       [6.5, 3. , 5.8, 2.2, 3. ],\n",
       "       [7.6, 3. , 6.6, 2.1, 3. ],\n",
       "       [4.9, 2.5, 4.5, 1.7, 3. ],\n",
       "       [7.3, 2.9, 6.3, 1.8, 3. ],\n",
       "       [6.7, 2.5, 5.8, 1.8, 3. ],\n",
       "       [7.2, 3.6, 6.1, 2.5, 3. ],\n",
       "       [6.5, 3.2, 5.1, 2. , 3. ],\n",
       "       [6.4, 2.7, 5.3, 1.9, 3. ],\n",
       "       [6.8, 3. , 5.5, 2.1, 3. ],\n",
       "       [5.7, 2.5, 5. , 2. , 3. ],\n",
       "       [5.8, 2.8, 5.1, 2.4, 3. ],\n",
       "       [6.4, 3.2, 5.3, 2.3, 3. ],\n",
       "       [6.5, 3. , 5.5, 1.8, 3. ],\n",
       "       [7.7, 3.8, 6.7, 2.2, 3. ],\n",
       "       [7.7, 2.6, 6.9, 2.3, 3. ],\n",
       "       [6. , 2.2, 5. , 1.5, 3. ],\n",
       "       [6.9, 3.2, 5.7, 2.3, 3. ],\n",
       "       [5.6, 2.8, 4.9, 2. , 3. ],\n",
       "       [7.7, 2.8, 6.7, 2. , 3. ],\n",
       "       [6.3, 2.7, 4.9, 1.8, 3. ],\n",
       "       [6.7, 3.3, 5.7, 2.1, 3. ],\n",
       "       [7.2, 3.2, 6. , 1.8, 3. ],\n",
       "       [6.2, 2.8, 4.8, 1.8, 3. ],\n",
       "       [6.1, 3. , 4.9, 1.8, 3. ],\n",
       "       [6.4, 2.8, 5.6, 2.1, 3. ],\n",
       "       [7.2, 3. , 5.8, 1.6, 3. ],\n",
       "       [7.4, 2.8, 6.1, 1.9, 3. ],\n",
       "       [7.9, 3.8, 6.4, 2. , 3. ],\n",
       "       [6.4, 2.8, 5.6, 2.2, 3. ],\n",
       "       [6.3, 2.8, 5.1, 1.5, 3. ],\n",
       "       [6.1, 2.6, 5.6, 1.4, 3. ],\n",
       "       [7.7, 3. , 6.1, 2.3, 3. ],\n",
       "       [6.3, 3.4, 5.6, 2.4, 3. ],\n",
       "       [6.4, 3.1, 5.5, 1.8, 3. ],\n",
       "       [6. , 3. , 4.8, 1.8, 3. ],\n",
       "       [6.9, 3.1, 5.4, 2.1, 3. ],\n",
       "       [6.7, 3.1, 5.6, 2.4, 3. ],\n",
       "       [6.9, 3.1, 5.1, 2.3, 3. ],\n",
       "       [5.8, 2.7, 5.1, 1.9, 3. ],\n",
       "       [6.8, 3.2, 5.9, 2.3, 3. ],\n",
       "       [6.7, 3.3, 5.7, 2.5, 3. ],\n",
       "       [6.7, 3. , 5.2, 2.3, 3. ],\n",
       "       [6.3, 2.5, 5. , 1.9, 3. ],\n",
       "       [6.5, 3. , 5.2, 2. , 3. ],\n",
       "       [6.2, 3.4, 5.4, 2.3, 3. ],\n",
       "       [5.9, 3. , 5.1, 1.8, 3. ]])"
      ]
     },
     "metadata": {},
     "execution_count": 39
    }
   ],
   "source": [
    "# conserver les type du 3 type\n",
    "iris[iris[:, 4] == 3]"
   ]
  },
  {
   "source": [
    "# Ici nous venons de sélectionner uniquement les valeurs ou la longueur des sépales est supérieure à 5 centimèetres, c'est-à-dire ou les valeurs de la premiére colonne sont supérieures à 5\n",
    "\n",
    "# Dans la cellules qui suit on isole la parti \"iris[:, 0] > 5\". C'est cette partie qui génére un ndarray à 1 dimension contenant 150 valeurs (car il y a 150 lignes dans le tableau). Ainsi, Python sait qu'il doit garder uniquement les lignes à l'indice ou la valeur est à True dans \"iris[: , 0] > 5\"."
   ],
   "cell_type": "markdown",
   "metadata": {}
  },
  {
   "cell_type": "code",
   "execution_count": 42,
   "metadata": {},
   "outputs": [
    {
     "output_type": "execute_result",
     "data": {
      "text/plain": [
       "array([ True, False, False, False, False,  True, False, False, False,\n",
       "       False,  True, False, False, False,  True,  True,  True,  True,\n",
       "        True,  True,  True,  True, False,  True, False, False, False,\n",
       "        True,  True, False, False,  True,  True,  True, False, False,\n",
       "        True, False, False,  True, False, False, False, False,  True,\n",
       "       False,  True, False,  True, False,  True,  True,  True,  True,\n",
       "        True,  True,  True, False,  True,  True, False,  True,  True,\n",
       "        True,  True,  True,  True,  True,  True,  True,  True,  True,\n",
       "        True,  True,  True,  True,  True,  True,  True,  True,  True,\n",
       "        True,  True,  True,  True,  True,  True,  True,  True,  True,\n",
       "        True,  True,  True, False,  True,  True,  True,  True,  True,\n",
       "        True,  True,  True,  True,  True,  True,  True, False,  True,\n",
       "        True,  True,  True,  True,  True,  True,  True,  True,  True,\n",
       "        True,  True,  True,  True,  True,  True,  True,  True,  True,\n",
       "        True,  True,  True,  True,  True,  True,  True,  True,  True,\n",
       "        True,  True,  True,  True,  True,  True,  True,  True,  True,\n",
       "        True,  True,  True,  True,  True,  True])"
      ]
     },
     "metadata": {},
     "execution_count": 42
    }
   ],
   "source": [
    "iris[:, 0] > 5"
   ]
  },
  {
   "source": [
    "# Fancy indexing (littéralement indexation fantaisie)\n",
    "\n",
    "# Le but est simple : donner un tableau d'indices (ou une liste d'indices) entre crochets à notre ndarray pour sélectionner plusieurs éléments non consécutifs."
   ],
   "cell_type": "markdown",
   "metadata": {}
  },
  {
   "cell_type": "code",
   "execution_count": 47,
   "metadata": {},
   "outputs": [
    {
     "output_type": "stream",
     "name": "stdout",
     "text": [
      "Contenu de notre_tableau :\n[ 1  2  3  4  5  6  7  8  9 10 11 12 13 14 15 16 17 18 19 20]\nNouveau tableau aprés fancy indexing :\n[[ 5 11  6]\n [13  9 10]]\n"
     ]
    }
   ],
   "source": [
    "notre_tableau=np.array([1,2,3,4,5,6,7,8,9,10,11,12,13,14,15,16,17,18,19,20])\n",
    "print(\"Contenu de notre_tableau :\")\n",
    "print(notre_tableau)\n",
    "print(\"Nouveau tableau aprés fancy indexing :\")\n",
    "print(notre_tableau[np.array([[4,10,5], [12,8,9]])])"
   ]
  },
  {
   "cell_type": "code",
   "execution_count": 52,
   "metadata": {},
   "outputs": [
    {
     "output_type": "stream",
     "name": "stdout",
     "text": [
      "Contenu de notre_tableau :\n[ 1  2  3  4  5  6  7  8  9 10 11 12 13 14 15 16 17 18 19 20]\nNouveau tableau aprés fancy indexing :\n[[ 5 11  6]\n [13  9 10]]\n"
     ]
    }
   ],
   "source": [
    "notre_tableau=np.array([1,2,3,4,5,6,7,8,9,10,11,12,13,14,15,16,17,18,19,20])\n",
    "print(\"Contenu de notre_tableau :\")\n",
    "print(notre_tableau)\n",
    "print(\"Nouveau tableau aprés fancy indexing :\")\n",
    "indices = np.array([[4,10,5], [12,8,9]])\n",
    "print(notre_tableau[indices])"
   ]
  },
  {
   "source": [
    "# 1.3 Accéder aux éléements par tranche (sclicing)\n",
    "# Slicing sur un tableau NumPy à 1 dimension"
   ],
   "cell_type": "markdown",
   "metadata": {}
  },
  {
   "cell_type": "code",
   "execution_count": 53,
   "metadata": {},
   "outputs": [
    {
     "output_type": "execute_result",
     "data": {
      "text/plain": [
       "array([1, 2, 3])"
      ]
     },
     "metadata": {},
     "execution_count": 53
    }
   ],
   "source": [
    "# Les trois premier éléments\n",
    "notre_tableau[:3]"
   ]
  },
  {
   "cell_type": "code",
   "execution_count": 54,
   "metadata": {},
   "outputs": [
    {
     "output_type": "execute_result",
     "data": {
      "text/plain": [
       "array([11, 12, 13, 14, 15, 16, 17, 18, 19, 20])"
      ]
     },
     "metadata": {},
     "execution_count": 54
    }
   ],
   "source": [
    "# Les derniers éléments à partir de l'index 10\n",
    "notre_tableau[10:]"
   ]
  },
  {
   "cell_type": "code",
   "execution_count": 55,
   "metadata": {},
   "outputs": [
    {
     "output_type": "execute_result",
     "data": {
      "text/plain": [
       "array([4, 5, 6, 7])"
      ]
     },
     "metadata": {},
     "execution_count": 55
    }
   ],
   "source": [
    "# Du troisiéme aux spetiéme éléments\n",
    "notre_tableau[3:7]"
   ]
  },
  {
   "cell_type": "code",
   "execution_count": 56,
   "metadata": {},
   "outputs": [
    {
     "output_type": "execute_result",
     "data": {
      "text/plain": [
       "array([ 1,  3,  5,  7,  9, 11, 13, 15, 17, 19])"
      ]
     },
     "metadata": {},
     "execution_count": 56
    }
   ],
   "source": [
    "# Tout les éléments avec un pas de deux\n",
    "notre_tableau[::2]"
   ]
  },
  {
   "source": [
    "# 1.3.2 Slicing sur un tableau NumPy à 2 dimensions"
   ],
   "cell_type": "markdown",
   "metadata": {}
  },
  {
   "cell_type": "code",
   "execution_count": 58,
   "metadata": {},
   "outputs": [
    {
     "output_type": "execute_result",
     "data": {
      "text/plain": [
       "array([[5.1, 3.5, 1.4, 0.2],\n",
       "       [4.9, 3. , 1.4, 0.2]])"
      ]
     },
     "metadata": {},
     "execution_count": 58
    }
   ],
   "source": [
    "# Ici on sélectionne les deux premiére lignes des 4 premiére colonnes.\n",
    "iris[:2,:4]"
   ]
  },
  {
   "cell_type": "code",
   "execution_count": 59,
   "metadata": {},
   "outputs": [
    {
     "output_type": "execute_result",
     "data": {
      "text/plain": [
       "array([[5.2, 2.3, 3. ],\n",
       "       [5. , 1.9, 3. ],\n",
       "       [5.2, 2. , 3. ],\n",
       "       [5.4, 2.3, 3. ],\n",
       "       [5.1, 1.8, 3. ]])"
      ]
     },
     "metadata": {},
     "execution_count": 59
    }
   ],
   "source": [
    "# Les derniéres lignes à partir de l'index 145 des dernières colonnes à partir de l'index 2.\n",
    "iris[145:,2:]"
   ]
  },
  {
   "cell_type": "code",
   "execution_count": 60,
   "metadata": {},
   "outputs": [
    {
     "output_type": "execute_result",
     "data": {
      "text/plain": [
       "array([5.1, 3.5, 1.4, 0.2, 1. ])"
      ]
     },
     "metadata": {},
     "execution_count": 60
    }
   ],
   "source": [
    "# Affiche toutes les colonnes de la ligne 0, la premiére ligne\n",
    "iris[0,:]"
   ]
  },
  {
   "cell_type": "code",
   "execution_count": 61,
   "metadata": {},
   "outputs": [
    {
     "output_type": "execute_result",
     "data": {
      "text/plain": [
       "array([5.1, 4.9, 4.7, 4.6, 5. , 5.4, 4.6, 5. , 4.4, 4.9, 5.4, 4.8, 4.8,\n",
       "       4.3, 5.8, 5.7, 5.4, 5.1, 5.7, 5.1, 5.4, 5.1, 4.6, 5.1, 4.8, 5. ,\n",
       "       5. , 5.2, 5.2, 4.7, 4.8, 5.4, 5.2, 5.5, 4.9, 5. , 5.5, 4.9, 4.4,\n",
       "       5.1, 5. , 4.5, 4.4, 5. , 5.1, 4.8, 5.1, 4.6, 5.3, 5. , 7. , 6.4,\n",
       "       6.9, 5.5, 6.5, 5.7, 6.3, 4.9, 6.6, 5.2, 5. , 5.9, 6. , 6.1, 5.6,\n",
       "       6.7, 5.6, 5.8, 6.2, 5.6, 5.9, 6.1, 6.3, 6.1, 6.4, 6.6, 6.8, 6.7,\n",
       "       6. , 5.7, 5.5, 5.5, 5.8, 6. , 5.4, 6. , 6.7, 6.3, 5.6, 5.5, 5.5,\n",
       "       6.1, 5.8, 5. , 5.6, 5.7, 5.7, 6.2, 5.1, 5.7, 6.3, 5.8, 7.1, 6.3,\n",
       "       6.5, 7.6, 4.9, 7.3, 6.7, 7.2, 6.5, 6.4, 6.8, 5.7, 5.8, 6.4, 6.5,\n",
       "       7.7, 7.7, 6. , 6.9, 5.6, 7.7, 6.3, 6.7, 7.2, 6.2, 6.1, 6.4, 7.2,\n",
       "       7.4, 7.9, 6.4, 6.3, 6.1, 7.7, 6.3, 6.4, 6. , 6.9, 6.7, 6.9, 5.8,\n",
       "       6.8, 6.7, 6.7, 6.3, 6.5, 6.2, 5.9])"
      ]
     },
     "metadata": {},
     "execution_count": 61
    }
   ],
   "source": [
    "iris[:,0]"
   ]
  },
  {
   "cell_type": "code",
   "execution_count": 62,
   "metadata": {},
   "outputs": [
    {
     "output_type": "execute_result",
     "data": {
      "text/plain": [
       "array([5.9, 3. , 5.1, 1.8, 3. ])"
      ]
     },
     "metadata": {},
     "execution_count": 62
    }
   ],
   "source": [
    "# Affiche toute les colonnes de la dernière ligne. \n",
    "iris[-1,:]"
   ]
  },
  {
   "source": [
    "# 1.4 Notion de vue et copie"
   ],
   "cell_type": "markdown",
   "metadata": {}
  },
  {
   "cell_type": "code",
   "execution_count": 64,
   "metadata": {},
   "outputs": [
    {
     "output_type": "execute_result",
     "data": {
      "text/plain": [
       "array([1, 2, 3, 4, 5])"
      ]
     },
     "metadata": {},
     "execution_count": 64
    }
   ],
   "source": [
    "sous_tableau=notre_tableau[:5]\n",
    "sous_tableau"
   ]
  },
  {
   "cell_type": "code",
   "execution_count": 65,
   "metadata": {},
   "outputs": [
    {
     "output_type": "execute_result",
     "data": {
      "text/plain": [
       "array([10,  2,  3,  4,  5])"
      ]
     },
     "metadata": {},
     "execution_count": 65
    }
   ],
   "source": [
    "sous_tableau[0]=10\n",
    "sous_tableau"
   ]
  },
  {
   "cell_type": "code",
   "execution_count": 66,
   "metadata": {},
   "outputs": [
    {
     "output_type": "execute_result",
     "data": {
      "text/plain": [
       "array([10,  2,  3,  4,  5,  6,  7,  8,  9, 10, 11, 12, 13, 14, 15, 16, 17,\n",
       "       18, 19, 20])"
      ]
     },
     "metadata": {},
     "execution_count": 66
    }
   ],
   "source": [
    "notre_tableau"
   ]
  },
  {
   "source": [
    "# La première valeur est devenue 10 aussi alors que nous avons modifié l'objet sous_tableau et non pas notre_tableau. \n",
    "# Lorsqu'on fait du slicing sur un tableau, ce qu'il retourne, c'est une vue du tableau et non pas une copie du tableau. Ce n'est pas un nouvel ndarray"
   ],
   "cell_type": "markdown",
   "metadata": {}
  },
  {
   "cell_type": "code",
   "execution_count": 68,
   "metadata": {},
   "outputs": [
    {
     "output_type": "stream",
     "name": "stdout",
     "text": [
      "[10  2  3  4  5]\n[ 1  2  3  4  5  6  7  8  9 10 11 12 13 14 15 16 17 18 19 20]\n"
     ]
    }
   ],
   "source": [
    "notre_tableau=np.array([1,2,3,4,5,6,7,8,9,10,11,12,13,14,15,16,17,18,19,20])\n",
    "sous_tableau=notre_tableau[:5].copy()\n",
    "sous_tableau[0]=10\n",
    "print(sous_tableau)\n",
    "print(notre_tableau)"
   ]
  },
  {
   "source": [
    "# 2. Les opérations mathématiques avec NumPy\n",
    "# 2.1 Les opérations arithmétiques"
   ],
   "cell_type": "markdown",
   "metadata": {}
  },
  {
   "cell_type": "code",
   "execution_count": 70,
   "metadata": {},
   "outputs": [
    {
     "output_type": "execute_result",
     "data": {
      "text/plain": [
       "array([[10, 11, 12],\n",
       "       [13, 14, 15],\n",
       "       [16, 17, 18]])"
      ]
     },
     "metadata": {},
     "execution_count": 70
    }
   ],
   "source": [
    "mon_tableau=np.array([[10,11,12],[13,14,15],[16,17,18]])\n",
    "mon_tableau"
   ]
  },
  {
   "cell_type": "code",
   "execution_count": 71,
   "metadata": {},
   "outputs": [
    {
     "output_type": "execute_result",
     "data": {
      "text/plain": [
       "array([[20, 21, 22],\n",
       "       [23, 24, 25],\n",
       "       [26, 27, 28]])"
      ]
     },
     "metadata": {},
     "execution_count": 71
    }
   ],
   "source": [
    "import numpy as np \n",
    "np.add(mon_tableau,10)"
   ]
  },
  {
   "cell_type": "code",
   "execution_count": 72,
   "metadata": {},
   "outputs": [
    {
     "output_type": "execute_result",
     "data": {
      "text/plain": [
       "array([[200, 220, 240],\n",
       "       [260, 280, 300],\n",
       "       [320, 340, 360]])"
      ]
     },
     "metadata": {},
     "execution_count": 72
    }
   ],
   "source": [
    "import numpy as np \n",
    "np.multiply(mon_tableau,20)"
   ]
  },
  {
   "cell_type": "code",
   "execution_count": 74,
   "metadata": {},
   "outputs": [
    {
     "output_type": "execute_result",
     "data": {
      "text/plain": [
       "array([[10, 11, 12],\n",
       "       [13, 14, 15],\n",
       "       [16, 17, 18]])"
      ]
     },
     "metadata": {},
     "execution_count": 74
    }
   ],
   "source": [
    "mon_tableau2=np.array([10,20,30])\n",
    "mon_tableau2\n",
    "mon_tableau"
   ]
  },
  {
   "cell_type": "code",
   "execution_count": 75,
   "metadata": {},
   "outputs": [
    {
     "output_type": "execute_result",
     "data": {
      "text/plain": [
       "array([[  0,  -9, -18],\n",
       "       [  3,  -6, -15],\n",
       "       [  6,  -3, -12]])"
      ]
     },
     "metadata": {},
     "execution_count": 75
    }
   ],
   "source": [
    "import numpy as np \n",
    "np.subtract(mon_tableau,mon_tableau2)"
   ]
  },
  {
   "cell_type": "code",
   "execution_count": 76,
   "metadata": {},
   "outputs": [
    {
     "output_type": "execute_result",
     "data": {
      "text/plain": [
       "array([[1, 2, 3],\n",
       "       [4, 5, 6],\n",
       "       [7, 8, 9]])"
      ]
     },
     "metadata": {},
     "execution_count": 76
    }
   ],
   "source": [
    "mon_tableau3=np.array([[1,2,3],[4,5,6],[7,8,9]])\n",
    "mon_tableau3"
   ]
  },
  {
   "cell_type": "code",
   "execution_count": 77,
   "metadata": {},
   "outputs": [
    {
     "output_type": "execute_result",
     "data": {
      "text/plain": [
       "array([[ 10,  22,  36],\n",
       "       [ 52,  70,  90],\n",
       "       [112, 136, 162]])"
      ]
     },
     "metadata": {},
     "execution_count": 77
    }
   ],
   "source": [
    "np.multiply(mon_tableau,mon_tableau3)"
   ]
  },
  {
   "source": [
    "# 2.2 Les fonctions d'agrégations"
   ],
   "cell_type": "markdown",
   "metadata": {}
  },
  {
   "cell_type": "code",
   "execution_count": 79,
   "metadata": {},
   "outputs": [
    {
     "output_type": "stream",
     "name": "stdout",
     "text": [
      "Somme sur l'ensemble des éléements :\n2378.7\nSomme par colonne :\n[876.5 458.6 563.7 179.9 300. ]\nSomme par ligne :\n[11.2 10.5 10.4 10.4 11.2 12.4 10.7 11.1  9.9 10.6 11.8 11.  10.3  9.5\n 12.2 13.  12.  11.3 12.5 11.7 11.7 11.7 10.4 11.6 11.3 10.8 11.4 11.4\n 11.2 10.7 10.7 11.7 11.9 12.3 10.7 10.6 11.5 11.   9.9 11.2 11.1  9.4\n 10.1 11.7 12.2 10.5 11.7 10.4 11.7 10.9 18.3 17.6 18.4 15.1 17.4 16.3\n 17.9 13.6 17.4 15.2 13.5 16.6 15.2 17.1 15.4 17.6 16.6 15.6 16.4 15.1\n 17.7 16.2 17.2 16.8 16.9 17.4 17.8 18.4 16.9 14.8 14.8 14.6 15.6 17.4\n 16.4 17.5 18.  16.3 16.  15.3 15.7 17.1 15.6 13.6 15.8 16.1 16.1 16.7\n 13.7 15.9 21.1 18.5 21.1 19.6 20.5 22.3 16.6 21.3 19.8 22.4 19.8 19.3\n 20.4 18.2 19.1 20.2 19.8 23.4 22.5 17.7 21.1 18.3 22.2 18.7 20.8 21.2\n 18.6 18.8 19.9 20.6 21.2 23.1 20.  18.7 18.7 22.1 20.7 19.8 18.6 20.5\n 20.8 20.4 18.5 21.2 21.2 20.2 18.7 19.7 20.3 18.8]\n"
     ]
    }
   ],
   "source": [
    "import numpy as np \n",
    "print(\"Somme sur l'ensemble des éléements :\")\n",
    "print(np.sum(iris))\n",
    "\n",
    "# axis = 0 signifie qu'on veut effectuer le calcul par colonne\n",
    "# et axis = 1 signifie qu'on veut effectuer le calcul par ligne. \n",
    "print(\"Somme par colonne :\")\n",
    "print(np.sum(iris, axis=0))\n",
    "print(\"Somme par ligne :\")\n",
    "print(np.sum(iris, axis=1))"
   ]
  },
  {
   "cell_type": "code",
   "execution_count": 80,
   "metadata": {},
   "outputs": [
    {
     "output_type": "stream",
     "name": "stdout",
     "text": [
      "[5.84333333 3.05733333 3.758      1.19933333 2.        ]\n[0.82530129 0.43441097 1.75940407 0.75969263 0.81649658]\n"
     ]
    }
   ],
   "source": [
    "import numpy as np \n",
    "print(np.mean(iris, axis=0))\n",
    "print(np.std(iris, axis=0))"
   ]
  },
  {
   "cell_type": "code",
   "execution_count": 81,
   "metadata": {},
   "outputs": [
    {
     "output_type": "stream",
     "name": "stdout",
     "text": [
      "[7.9 4.4 6.9 2.5 3. ]\n"
     ]
    }
   ],
   "source": [
    "import numpy as np \n",
    "print(np.max(iris, axis=0))"
   ]
  },
  {
   "cell_type": "code",
   "execution_count": 84,
   "metadata": {},
   "outputs": [
    {
     "output_type": "stream",
     "name": "stdout",
     "text": [
      "[6.588 2.974 5.552 2.026 3.   ]\n[5.936 2.77  4.26  1.326 2.   ]\n[5.006 3.428 1.462 0.246 1.   ]\n"
     ]
    }
   ],
   "source": [
    "iris3 = iris[iris[:,4]==3]\n",
    "iris2 = iris[iris[:,4]==2]\n",
    "iris1 = iris[iris[:,4]==1]\n",
    "#print(iris3)\n",
    "print(np.mean(iris3, axis=0))\n",
    "print(np.mean(iris2, axis=0))\n",
    "print(np.mean(iris1, axis=0))"
   ]
  },
  {
   "source": [
    "# 2. Inspecter un tableau grâce aux attributs de Numpy"
   ],
   "cell_type": "markdown",
   "metadata": {}
  },
  {
   "cell_type": "code",
   "execution_count": 85,
   "metadata": {},
   "outputs": [
    {
     "output_type": "stream",
     "name": "stdout",
     "text": [
      "Attribut size :\n750\nAttribut shape :\nAttribut ndim :\n2\nAttribut dtype :\nfloat64\n"
     ]
    }
   ],
   "source": [
    "print(\"Attribut size :\")\n",
    "print(iris.size)\n",
    "print(\"Attribut shape :\")\n",
    "print(\"Attribut ndim :\")\n",
    "print(iris.ndim)\n",
    "print(\"Attribut dtype :\")\n",
    "print(iris.dtype)"
   ]
  },
  {
   "cell_type": "code",
   "execution_count": 86,
   "metadata": {},
   "outputs": [
    {
     "output_type": "execute_result",
     "data": {
      "text/plain": [
       "array([[5.1, 4.9, 4.7, 4.6, 5. , 5.4, 4.6, 5. , 4.4, 4.9, 5.4, 4.8, 4.8,\n",
       "        4.3, 5.8, 5.7, 5.4, 5.1, 5.7, 5.1, 5.4, 5.1, 4.6, 5.1, 4.8, 5. ,\n",
       "        5. , 5.2, 5.2, 4.7, 4.8, 5.4, 5.2, 5.5, 4.9, 5. , 5.5, 4.9, 4.4,\n",
       "        5.1, 5. , 4.5, 4.4, 5. , 5.1, 4.8, 5.1, 4.6, 5.3, 5. , 7. , 6.4,\n",
       "        6.9, 5.5, 6.5, 5.7, 6.3, 4.9, 6.6, 5.2, 5. , 5.9, 6. , 6.1, 5.6,\n",
       "        6.7, 5.6, 5.8, 6.2, 5.6, 5.9, 6.1, 6.3, 6.1, 6.4, 6.6, 6.8, 6.7,\n",
       "        6. , 5.7, 5.5, 5.5, 5.8, 6. , 5.4, 6. , 6.7, 6.3, 5.6, 5.5, 5.5,\n",
       "        6.1, 5.8, 5. , 5.6, 5.7, 5.7, 6.2, 5.1, 5.7, 6.3, 5.8, 7.1, 6.3,\n",
       "        6.5, 7.6, 4.9, 7.3, 6.7, 7.2, 6.5, 6.4, 6.8, 5.7, 5.8, 6.4, 6.5,\n",
       "        7.7, 7.7, 6. , 6.9, 5.6, 7.7, 6.3, 6.7, 7.2, 6.2, 6.1, 6.4, 7.2,\n",
       "        7.4, 7.9, 6.4, 6.3, 6.1, 7.7, 6.3, 6.4, 6. , 6.9, 6.7, 6.9, 5.8,\n",
       "        6.8, 6.7, 6.7, 6.3, 6.5, 6.2, 5.9],\n",
       "       [3.5, 3. , 3.2, 3.1, 3.6, 3.9, 3.4, 3.4, 2.9, 3.1, 3.7, 3.4, 3. ,\n",
       "        3. , 4. , 4.4, 3.9, 3.5, 3.8, 3.8, 3.4, 3.7, 3.6, 3.3, 3.4, 3. ,\n",
       "        3.4, 3.5, 3.4, 3.2, 3.1, 3.4, 4.1, 4.2, 3.1, 3.2, 3.5, 3.6, 3. ,\n",
       "        3.4, 3.5, 2.3, 3.2, 3.5, 3.8, 3. , 3.8, 3.2, 3.7, 3.3, 3.2, 3.2,\n",
       "        3.1, 2.3, 2.8, 2.8, 3.3, 2.4, 2.9, 2.7, 2. , 3. , 2.2, 2.9, 2.9,\n",
       "        3.1, 3. , 2.7, 2.2, 2.5, 3.2, 2.8, 2.5, 2.8, 2.9, 3. , 2.8, 3. ,\n",
       "        2.9, 2.6, 2.4, 2.4, 2.7, 2.7, 3. , 3.4, 3.1, 2.3, 3. , 2.5, 2.6,\n",
       "        3. , 2.6, 2.3, 2.7, 3. , 2.9, 2.9, 2.5, 2.8, 3.3, 2.7, 3. , 2.9,\n",
       "        3. , 3. , 2.5, 2.9, 2.5, 3.6, 3.2, 2.7, 3. , 2.5, 2.8, 3.2, 3. ,\n",
       "        3.8, 2.6, 2.2, 3.2, 2.8, 2.8, 2.7, 3.3, 3.2, 2.8, 3. , 2.8, 3. ,\n",
       "        2.8, 3.8, 2.8, 2.8, 2.6, 3. , 3.4, 3.1, 3. , 3.1, 3.1, 3.1, 2.7,\n",
       "        3.2, 3.3, 3. , 2.5, 3. , 3.4, 3. ],\n",
       "       [1.4, 1.4, 1.3, 1.5, 1.4, 1.7, 1.4, 1.5, 1.4, 1.5, 1.5, 1.6, 1.4,\n",
       "        1.1, 1.2, 1.5, 1.3, 1.4, 1.7, 1.5, 1.7, 1.5, 1. , 1.7, 1.9, 1.6,\n",
       "        1.6, 1.5, 1.4, 1.6, 1.6, 1.5, 1.5, 1.4, 1.5, 1.2, 1.3, 1.4, 1.3,\n",
       "        1.5, 1.3, 1.3, 1.3, 1.6, 1.9, 1.4, 1.6, 1.4, 1.5, 1.4, 4.7, 4.5,\n",
       "        4.9, 4. , 4.6, 4.5, 4.7, 3.3, 4.6, 3.9, 3.5, 4.2, 4. , 4.7, 3.6,\n",
       "        4.4, 4.5, 4.1, 4.5, 3.9, 4.8, 4. , 4.9, 4.7, 4.3, 4.4, 4.8, 5. ,\n",
       "        4.5, 3.5, 3.8, 3.7, 3.9, 5.1, 4.5, 4.5, 4.7, 4.4, 4.1, 4. , 4.4,\n",
       "        4.6, 4. , 3.3, 4.2, 4.2, 4.2, 4.3, 3. , 4.1, 6. , 5.1, 5.9, 5.6,\n",
       "        5.8, 6.6, 4.5, 6.3, 5.8, 6.1, 5.1, 5.3, 5.5, 5. , 5.1, 5.3, 5.5,\n",
       "        6.7, 6.9, 5. , 5.7, 4.9, 6.7, 4.9, 5.7, 6. , 4.8, 4.9, 5.6, 5.8,\n",
       "        6.1, 6.4, 5.6, 5.1, 5.6, 6.1, 5.6, 5.5, 4.8, 5.4, 5.6, 5.1, 5.1,\n",
       "        5.9, 5.7, 5.2, 5. , 5.2, 5.4, 5.1],\n",
       "       [0.2, 0.2, 0.2, 0.2, 0.2, 0.4, 0.3, 0.2, 0.2, 0.1, 0.2, 0.2, 0.1,\n",
       "        0.1, 0.2, 0.4, 0.4, 0.3, 0.3, 0.3, 0.2, 0.4, 0.2, 0.5, 0.2, 0.2,\n",
       "        0.4, 0.2, 0.2, 0.2, 0.2, 0.4, 0.1, 0.2, 0.2, 0.2, 0.2, 0.1, 0.2,\n",
       "        0.2, 0.3, 0.3, 0.2, 0.6, 0.4, 0.3, 0.2, 0.2, 0.2, 0.2, 1.4, 1.5,\n",
       "        1.5, 1.3, 1.5, 1.3, 1.6, 1. , 1.3, 1.4, 1. , 1.5, 1. , 1.4, 1.3,\n",
       "        1.4, 1.5, 1. , 1.5, 1.1, 1.8, 1.3, 1.5, 1.2, 1.3, 1.4, 1.4, 1.7,\n",
       "        1.5, 1. , 1.1, 1. , 1.2, 1.6, 1.5, 1.6, 1.5, 1.3, 1.3, 1.3, 1.2,\n",
       "        1.4, 1.2, 1. , 1.3, 1.2, 1.3, 1.3, 1.1, 1.3, 2.5, 1.9, 2.1, 1.8,\n",
       "        2.2, 2.1, 1.7, 1.8, 1.8, 2.5, 2. , 1.9, 2.1, 2. , 2.4, 2.3, 1.8,\n",
       "        2.2, 2.3, 1.5, 2.3, 2. , 2. , 1.8, 2.1, 1.8, 1.8, 1.8, 2.1, 1.6,\n",
       "        1.9, 2. , 2.2, 1.5, 1.4, 2.3, 2.4, 1.8, 1.8, 2.1, 2.4, 2.3, 1.9,\n",
       "        2.3, 2.5, 2.3, 1.9, 2. , 2.3, 1.8],\n",
       "       [1. , 1. , 1. , 1. , 1. , 1. , 1. , 1. , 1. , 1. , 1. , 1. , 1. ,\n",
       "        1. , 1. , 1. , 1. , 1. , 1. , 1. , 1. , 1. , 1. , 1. , 1. , 1. ,\n",
       "        1. , 1. , 1. , 1. , 1. , 1. , 1. , 1. , 1. , 1. , 1. , 1. , 1. ,\n",
       "        1. , 1. , 1. , 1. , 1. , 1. , 1. , 1. , 1. , 1. , 1. , 2. , 2. ,\n",
       "        2. , 2. , 2. , 2. , 2. , 2. , 2. , 2. , 2. , 2. , 2. , 2. , 2. ,\n",
       "        2. , 2. , 2. , 2. , 2. , 2. , 2. , 2. , 2. , 2. , 2. , 2. , 2. ,\n",
       "        2. , 2. , 2. , 2. , 2. , 2. , 2. , 2. , 2. , 2. , 2. , 2. , 2. ,\n",
       "        2. , 2. , 2. , 2. , 2. , 2. , 2. , 2. , 2. , 3. , 3. , 3. , 3. ,\n",
       "        3. , 3. , 3. , 3. , 3. , 3. , 3. , 3. , 3. , 3. , 3. , 3. , 3. ,\n",
       "        3. , 3. , 3. , 3. , 3. , 3. , 3. , 3. , 3. , 3. , 3. , 3. , 3. ,\n",
       "        3. , 3. , 3. , 3. , 3. , 3. , 3. , 3. , 3. , 3. , 3. , 3. , 3. ,\n",
       "        3. , 3. , 3. , 3. , 3. , 3. , 3. ]])"
      ]
     },
     "metadata": {},
     "execution_count": 86
    }
   ],
   "source": [
    "iris.T "
   ]
  },
  {
   "source": [
    "# 4 Manipulation de tableaux NumPy\n",
    "# 4.1 Ajouter et supprimer des éléments d'un tableau\n",
    "# 4.1.1 Ajouter des éléments dans un tableau"
   ],
   "cell_type": "markdown",
   "metadata": {}
  },
  {
   "cell_type": "code",
   "execution_count": 88,
   "metadata": {},
   "outputs": [
    {
     "output_type": "execute_result",
     "data": {
      "text/plain": [
       "array([ 1,  2,  3,  4,  5,  6,  7,  8,  9, 10, 11, 12, 13, 14, 15, 16, 17,\n",
       "       18, 19, 20, 21, 22, 23, 24, 25])"
      ]
     },
     "metadata": {},
     "execution_count": 88
    }
   ],
   "source": [
    "np.append(notre_tableau, [21,22,23,24,25])"
   ]
  },
  {
   "cell_type": "code",
   "execution_count": 89,
   "metadata": {},
   "outputs": [
    {
     "output_type": "execute_result",
     "data": {
      "text/plain": [
       "array([[ 5.1,  3.5,  1.4,  0.2,  1. ],\n",
       "       [ 4.9,  3. ,  1.4,  0.2,  1. ],\n",
       "       [ 4.7,  3.2,  1.3,  0.2,  1. ],\n",
       "       [ 4.6,  3.1,  1.5,  0.2,  1. ],\n",
       "       [ 5. ,  3.6,  1.4,  0.2,  1. ],\n",
       "       [ 5.4,  3.9,  1.7,  0.4,  1. ],\n",
       "       [ 4.6,  3.4,  1.4,  0.3,  1. ],\n",
       "       [ 5. ,  3.4,  1.5,  0.2,  1. ],\n",
       "       [ 4.4,  2.9,  1.4,  0.2,  1. ],\n",
       "       [ 4.9,  3.1,  1.5,  0.1,  1. ],\n",
       "       [ 5.4,  3.7,  1.5,  0.2,  1. ],\n",
       "       [ 4.8,  3.4,  1.6,  0.2,  1. ],\n",
       "       [ 4.8,  3. ,  1.4,  0.1,  1. ],\n",
       "       [ 4.3,  3. ,  1.1,  0.1,  1. ],\n",
       "       [ 5.8,  4. ,  1.2,  0.2,  1. ],\n",
       "       [ 5.7,  4.4,  1.5,  0.4,  1. ],\n",
       "       [ 5.4,  3.9,  1.3,  0.4,  1. ],\n",
       "       [ 5.1,  3.5,  1.4,  0.3,  1. ],\n",
       "       [ 5.7,  3.8,  1.7,  0.3,  1. ],\n",
       "       [ 5.1,  3.8,  1.5,  0.3,  1. ],\n",
       "       [ 5.4,  3.4,  1.7,  0.2,  1. ],\n",
       "       [ 5.1,  3.7,  1.5,  0.4,  1. ],\n",
       "       [ 4.6,  3.6,  1. ,  0.2,  1. ],\n",
       "       [ 5.1,  3.3,  1.7,  0.5,  1. ],\n",
       "       [ 4.8,  3.4,  1.9,  0.2,  1. ],\n",
       "       [ 5. ,  3. ,  1.6,  0.2,  1. ],\n",
       "       [ 5. ,  3.4,  1.6,  0.4,  1. ],\n",
       "       [ 5.2,  3.5,  1.5,  0.2,  1. ],\n",
       "       [ 5.2,  3.4,  1.4,  0.2,  1. ],\n",
       "       [ 4.7,  3.2,  1.6,  0.2,  1. ],\n",
       "       [ 4.8,  3.1,  1.6,  0.2,  1. ],\n",
       "       [ 5.4,  3.4,  1.5,  0.4,  1. ],\n",
       "       [ 5.2,  4.1,  1.5,  0.1,  1. ],\n",
       "       [ 5.5,  4.2,  1.4,  0.2,  1. ],\n",
       "       [ 4.9,  3.1,  1.5,  0.2,  1. ],\n",
       "       [ 5. ,  3.2,  1.2,  0.2,  1. ],\n",
       "       [ 5.5,  3.5,  1.3,  0.2,  1. ],\n",
       "       [ 4.9,  3.6,  1.4,  0.1,  1. ],\n",
       "       [ 4.4,  3. ,  1.3,  0.2,  1. ],\n",
       "       [ 5.1,  3.4,  1.5,  0.2,  1. ],\n",
       "       [ 5. ,  3.5,  1.3,  0.3,  1. ],\n",
       "       [ 4.5,  2.3,  1.3,  0.3,  1. ],\n",
       "       [ 4.4,  3.2,  1.3,  0.2,  1. ],\n",
       "       [ 5. ,  3.5,  1.6,  0.6,  1. ],\n",
       "       [ 5.1,  3.8,  1.9,  0.4,  1. ],\n",
       "       [ 4.8,  3. ,  1.4,  0.3,  1. ],\n",
       "       [ 5.1,  3.8,  1.6,  0.2,  1. ],\n",
       "       [ 4.6,  3.2,  1.4,  0.2,  1. ],\n",
       "       [ 5.3,  3.7,  1.5,  0.2,  1. ],\n",
       "       [ 5. ,  3.3,  1.4,  0.2,  1. ],\n",
       "       [ 7. ,  3.2,  4.7,  1.4,  2. ],\n",
       "       [ 6.4,  3.2,  4.5,  1.5,  2. ],\n",
       "       [ 6.9,  3.1,  4.9,  1.5,  2. ],\n",
       "       [ 5.5,  2.3,  4. ,  1.3,  2. ],\n",
       "       [ 6.5,  2.8,  4.6,  1.5,  2. ],\n",
       "       [ 5.7,  2.8,  4.5,  1.3,  2. ],\n",
       "       [ 6.3,  3.3,  4.7,  1.6,  2. ],\n",
       "       [ 4.9,  2.4,  3.3,  1. ,  2. ],\n",
       "       [ 6.6,  2.9,  4.6,  1.3,  2. ],\n",
       "       [ 5.2,  2.7,  3.9,  1.4,  2. ],\n",
       "       [ 5. ,  2. ,  3.5,  1. ,  2. ],\n",
       "       [ 5.9,  3. ,  4.2,  1.5,  2. ],\n",
       "       [ 6. ,  2.2,  4. ,  1. ,  2. ],\n",
       "       [ 6.1,  2.9,  4.7,  1.4,  2. ],\n",
       "       [ 5.6,  2.9,  3.6,  1.3,  2. ],\n",
       "       [ 6.7,  3.1,  4.4,  1.4,  2. ],\n",
       "       [ 5.6,  3. ,  4.5,  1.5,  2. ],\n",
       "       [ 5.8,  2.7,  4.1,  1. ,  2. ],\n",
       "       [ 6.2,  2.2,  4.5,  1.5,  2. ],\n",
       "       [ 5.6,  2.5,  3.9,  1.1,  2. ],\n",
       "       [ 5.9,  3.2,  4.8,  1.8,  2. ],\n",
       "       [ 6.1,  2.8,  4. ,  1.3,  2. ],\n",
       "       [ 6.3,  2.5,  4.9,  1.5,  2. ],\n",
       "       [ 6.1,  2.8,  4.7,  1.2,  2. ],\n",
       "       [ 6.4,  2.9,  4.3,  1.3,  2. ],\n",
       "       [ 6.6,  3. ,  4.4,  1.4,  2. ],\n",
       "       [ 6.8,  2.8,  4.8,  1.4,  2. ],\n",
       "       [ 6.7,  3. ,  5. ,  1.7,  2. ],\n",
       "       [ 6. ,  2.9,  4.5,  1.5,  2. ],\n",
       "       [ 5.7,  2.6,  3.5,  1. ,  2. ],\n",
       "       [ 5.5,  2.4,  3.8,  1.1,  2. ],\n",
       "       [ 5.5,  2.4,  3.7,  1. ,  2. ],\n",
       "       [ 5.8,  2.7,  3.9,  1.2,  2. ],\n",
       "       [ 6. ,  2.7,  5.1,  1.6,  2. ],\n",
       "       [ 5.4,  3. ,  4.5,  1.5,  2. ],\n",
       "       [ 6. ,  3.4,  4.5,  1.6,  2. ],\n",
       "       [ 6.7,  3.1,  4.7,  1.5,  2. ],\n",
       "       [ 6.3,  2.3,  4.4,  1.3,  2. ],\n",
       "       [ 5.6,  3. ,  4.1,  1.3,  2. ],\n",
       "       [ 5.5,  2.5,  4. ,  1.3,  2. ],\n",
       "       [ 5.5,  2.6,  4.4,  1.2,  2. ],\n",
       "       [ 6.1,  3. ,  4.6,  1.4,  2. ],\n",
       "       [ 5.8,  2.6,  4. ,  1.2,  2. ],\n",
       "       [ 5. ,  2.3,  3.3,  1. ,  2. ],\n",
       "       [ 5.6,  2.7,  4.2,  1.3,  2. ],\n",
       "       [ 5.7,  3. ,  4.2,  1.2,  2. ],\n",
       "       [ 5.7,  2.9,  4.2,  1.3,  2. ],\n",
       "       [ 6.2,  2.9,  4.3,  1.3,  2. ],\n",
       "       [ 5.1,  2.5,  3. ,  1.1,  2. ],\n",
       "       [ 5.7,  2.8,  4.1,  1.3,  2. ],\n",
       "       [ 6.3,  3.3,  6. ,  2.5,  3. ],\n",
       "       [ 5.8,  2.7,  5.1,  1.9,  3. ],\n",
       "       [ 7.1,  3. ,  5.9,  2.1,  3. ],\n",
       "       [ 6.3,  2.9,  5.6,  1.8,  3. ],\n",
       "       [ 6.5,  3. ,  5.8,  2.2,  3. ],\n",
       "       [ 7.6,  3. ,  6.6,  2.1,  3. ],\n",
       "       [ 4.9,  2.5,  4.5,  1.7,  3. ],\n",
       "       [ 7.3,  2.9,  6.3,  1.8,  3. ],\n",
       "       [ 6.7,  2.5,  5.8,  1.8,  3. ],\n",
       "       [ 7.2,  3.6,  6.1,  2.5,  3. ],\n",
       "       [ 6.5,  3.2,  5.1,  2. ,  3. ],\n",
       "       [ 6.4,  2.7,  5.3,  1.9,  3. ],\n",
       "       [ 6.8,  3. ,  5.5,  2.1,  3. ],\n",
       "       [ 5.7,  2.5,  5. ,  2. ,  3. ],\n",
       "       [ 5.8,  2.8,  5.1,  2.4,  3. ],\n",
       "       [ 6.4,  3.2,  5.3,  2.3,  3. ],\n",
       "       [ 6.5,  3. ,  5.5,  1.8,  3. ],\n",
       "       [ 7.7,  3.8,  6.7,  2.2,  3. ],\n",
       "       [ 7.7,  2.6,  6.9,  2.3,  3. ],\n",
       "       [ 6. ,  2.2,  5. ,  1.5,  3. ],\n",
       "       [ 6.9,  3.2,  5.7,  2.3,  3. ],\n",
       "       [ 5.6,  2.8,  4.9,  2. ,  3. ],\n",
       "       [ 7.7,  2.8,  6.7,  2. ,  3. ],\n",
       "       [ 6.3,  2.7,  4.9,  1.8,  3. ],\n",
       "       [ 6.7,  3.3,  5.7,  2.1,  3. ],\n",
       "       [ 7.2,  3.2,  6. ,  1.8,  3. ],\n",
       "       [ 6.2,  2.8,  4.8,  1.8,  3. ],\n",
       "       [ 6.1,  3. ,  4.9,  1.8,  3. ],\n",
       "       [ 6.4,  2.8,  5.6,  2.1,  3. ],\n",
       "       [ 7.2,  3. ,  5.8,  1.6,  3. ],\n",
       "       [ 7.4,  2.8,  6.1,  1.9,  3. ],\n",
       "       [ 7.9,  3.8,  6.4,  2. ,  3. ],\n",
       "       [ 6.4,  2.8,  5.6,  2.2,  3. ],\n",
       "       [ 6.3,  2.8,  5.1,  1.5,  3. ],\n",
       "       [ 6.1,  2.6,  5.6,  1.4,  3. ],\n",
       "       [ 7.7,  3. ,  6.1,  2.3,  3. ],\n",
       "       [ 6.3,  3.4,  5.6,  2.4,  3. ],\n",
       "       [ 6.4,  3.1,  5.5,  1.8,  3. ],\n",
       "       [ 6. ,  3. ,  4.8,  1.8,  3. ],\n",
       "       [ 6.9,  3.1,  5.4,  2.1,  3. ],\n",
       "       [ 6.7,  3.1,  5.6,  2.4,  3. ],\n",
       "       [ 6.9,  3.1,  5.1,  2.3,  3. ],\n",
       "       [ 5.8,  2.7,  5.1,  1.9,  3. ],\n",
       "       [ 6.8,  3.2,  5.9,  2.3,  3. ],\n",
       "       [ 6.7,  3.3,  5.7,  2.5,  3. ],\n",
       "       [ 6.7,  3. ,  5.2,  2.3,  3. ],\n",
       "       [ 6.3,  2.5,  5. ,  1.9,  3. ],\n",
       "       [ 6.5,  3. ,  5.2,  2. ,  3. ],\n",
       "       [ 6.2,  3.4,  5.4,  2.3,  3. ],\n",
       "       [ 5.9,  3. ,  5.1,  1.8,  3. ],\n",
       "       [10. , 10. , 10. , 10. , 10. ]])"
      ]
     },
     "metadata": {},
     "execution_count": 89
    }
   ],
   "source": [
    "np.append(iris,[[10,10,10,10,10]], axis=0)"
   ]
  },
  {
   "cell_type": "code",
   "execution_count": 90,
   "metadata": {},
   "outputs": [
    {
     "output_type": "execute_result",
     "data": {
      "text/plain": [
       "array([ 1, 42,  2,  3,  4,  5,  6,  7,  8,  9, 10, 11, 12, 13, 14, 15, 16,\n",
       "       17, 18, 19, 20])"
      ]
     },
     "metadata": {},
     "execution_count": 90
    }
   ],
   "source": [
    "import numpy\n",
    "np.insert(notre_tableau, 1, 42)\n",
    "# L'élément 42 a été ajouté à l'index 1,\n",
    "# donc à la place de la valeur 2, et la valeur 2 se retrouve alors à l'index 2."
   ]
  },
  {
   "cell_type": "code",
   "execution_count": 91,
   "metadata": {},
   "outputs": [
    {
     "output_type": "execute_result",
     "data": {
      "text/plain": [
       "array([ 1, 42, 43, 44, 45, 46,  2,  3,  4,  5,  6,  7,  8,  9, 10, 11, 12,\n",
       "       13, 14, 15, 16, 17, 18, 19, 20])"
      ]
     },
     "metadata": {},
     "execution_count": 91
    }
   ],
   "source": [
    "import numpy\n",
    "np.insert(notre_tableau, 1, [42,43,44,45,46])"
   ]
  },
  {
   "cell_type": "code",
   "execution_count": 92,
   "metadata": {},
   "outputs": [
    {
     "output_type": "execute_result",
     "data": {
      "text/plain": [
       "array([[ 5.1,  3.5,  1.4,  0.2,  1. ],\n",
       "       [10. , 10. , 10. , 10. , 10. ],\n",
       "       [ 4.9,  3. ,  1.4,  0.2,  1. ],\n",
       "       [ 4.7,  3.2,  1.3,  0.2,  1. ],\n",
       "       [ 4.6,  3.1,  1.5,  0.2,  1. ],\n",
       "       [ 5. ,  3.6,  1.4,  0.2,  1. ],\n",
       "       [ 5.4,  3.9,  1.7,  0.4,  1. ],\n",
       "       [ 4.6,  3.4,  1.4,  0.3,  1. ],\n",
       "       [ 5. ,  3.4,  1.5,  0.2,  1. ],\n",
       "       [ 4.4,  2.9,  1.4,  0.2,  1. ],\n",
       "       [ 4.9,  3.1,  1.5,  0.1,  1. ],\n",
       "       [ 5.4,  3.7,  1.5,  0.2,  1. ],\n",
       "       [ 4.8,  3.4,  1.6,  0.2,  1. ],\n",
       "       [ 4.8,  3. ,  1.4,  0.1,  1. ],\n",
       "       [ 4.3,  3. ,  1.1,  0.1,  1. ],\n",
       "       [ 5.8,  4. ,  1.2,  0.2,  1. ],\n",
       "       [ 5.7,  4.4,  1.5,  0.4,  1. ],\n",
       "       [ 5.4,  3.9,  1.3,  0.4,  1. ],\n",
       "       [ 5.1,  3.5,  1.4,  0.3,  1. ],\n",
       "       [ 5.7,  3.8,  1.7,  0.3,  1. ],\n",
       "       [ 5.1,  3.8,  1.5,  0.3,  1. ],\n",
       "       [ 5.4,  3.4,  1.7,  0.2,  1. ],\n",
       "       [ 5.1,  3.7,  1.5,  0.4,  1. ],\n",
       "       [ 4.6,  3.6,  1. ,  0.2,  1. ],\n",
       "       [ 5.1,  3.3,  1.7,  0.5,  1. ],\n",
       "       [ 4.8,  3.4,  1.9,  0.2,  1. ],\n",
       "       [ 5. ,  3. ,  1.6,  0.2,  1. ],\n",
       "       [ 5. ,  3.4,  1.6,  0.4,  1. ],\n",
       "       [ 5.2,  3.5,  1.5,  0.2,  1. ],\n",
       "       [ 5.2,  3.4,  1.4,  0.2,  1. ],\n",
       "       [ 4.7,  3.2,  1.6,  0.2,  1. ],\n",
       "       [ 4.8,  3.1,  1.6,  0.2,  1. ],\n",
       "       [ 5.4,  3.4,  1.5,  0.4,  1. ],\n",
       "       [ 5.2,  4.1,  1.5,  0.1,  1. ],\n",
       "       [ 5.5,  4.2,  1.4,  0.2,  1. ],\n",
       "       [ 4.9,  3.1,  1.5,  0.2,  1. ],\n",
       "       [ 5. ,  3.2,  1.2,  0.2,  1. ],\n",
       "       [ 5.5,  3.5,  1.3,  0.2,  1. ],\n",
       "       [ 4.9,  3.6,  1.4,  0.1,  1. ],\n",
       "       [ 4.4,  3. ,  1.3,  0.2,  1. ],\n",
       "       [ 5.1,  3.4,  1.5,  0.2,  1. ],\n",
       "       [ 5. ,  3.5,  1.3,  0.3,  1. ],\n",
       "       [ 4.5,  2.3,  1.3,  0.3,  1. ],\n",
       "       [ 4.4,  3.2,  1.3,  0.2,  1. ],\n",
       "       [ 5. ,  3.5,  1.6,  0.6,  1. ],\n",
       "       [ 5.1,  3.8,  1.9,  0.4,  1. ],\n",
       "       [ 4.8,  3. ,  1.4,  0.3,  1. ],\n",
       "       [ 5.1,  3.8,  1.6,  0.2,  1. ],\n",
       "       [ 4.6,  3.2,  1.4,  0.2,  1. ],\n",
       "       [ 5.3,  3.7,  1.5,  0.2,  1. ],\n",
       "       [ 5. ,  3.3,  1.4,  0.2,  1. ],\n",
       "       [ 7. ,  3.2,  4.7,  1.4,  2. ],\n",
       "       [ 6.4,  3.2,  4.5,  1.5,  2. ],\n",
       "       [ 6.9,  3.1,  4.9,  1.5,  2. ],\n",
       "       [ 5.5,  2.3,  4. ,  1.3,  2. ],\n",
       "       [ 6.5,  2.8,  4.6,  1.5,  2. ],\n",
       "       [ 5.7,  2.8,  4.5,  1.3,  2. ],\n",
       "       [ 6.3,  3.3,  4.7,  1.6,  2. ],\n",
       "       [ 4.9,  2.4,  3.3,  1. ,  2. ],\n",
       "       [ 6.6,  2.9,  4.6,  1.3,  2. ],\n",
       "       [ 5.2,  2.7,  3.9,  1.4,  2. ],\n",
       "       [ 5. ,  2. ,  3.5,  1. ,  2. ],\n",
       "       [ 5.9,  3. ,  4.2,  1.5,  2. ],\n",
       "       [ 6. ,  2.2,  4. ,  1. ,  2. ],\n",
       "       [ 6.1,  2.9,  4.7,  1.4,  2. ],\n",
       "       [ 5.6,  2.9,  3.6,  1.3,  2. ],\n",
       "       [ 6.7,  3.1,  4.4,  1.4,  2. ],\n",
       "       [ 5.6,  3. ,  4.5,  1.5,  2. ],\n",
       "       [ 5.8,  2.7,  4.1,  1. ,  2. ],\n",
       "       [ 6.2,  2.2,  4.5,  1.5,  2. ],\n",
       "       [ 5.6,  2.5,  3.9,  1.1,  2. ],\n",
       "       [ 5.9,  3.2,  4.8,  1.8,  2. ],\n",
       "       [ 6.1,  2.8,  4. ,  1.3,  2. ],\n",
       "       [ 6.3,  2.5,  4.9,  1.5,  2. ],\n",
       "       [ 6.1,  2.8,  4.7,  1.2,  2. ],\n",
       "       [ 6.4,  2.9,  4.3,  1.3,  2. ],\n",
       "       [ 6.6,  3. ,  4.4,  1.4,  2. ],\n",
       "       [ 6.8,  2.8,  4.8,  1.4,  2. ],\n",
       "       [ 6.7,  3. ,  5. ,  1.7,  2. ],\n",
       "       [ 6. ,  2.9,  4.5,  1.5,  2. ],\n",
       "       [ 5.7,  2.6,  3.5,  1. ,  2. ],\n",
       "       [ 5.5,  2.4,  3.8,  1.1,  2. ],\n",
       "       [ 5.5,  2.4,  3.7,  1. ,  2. ],\n",
       "       [ 5.8,  2.7,  3.9,  1.2,  2. ],\n",
       "       [ 6. ,  2.7,  5.1,  1.6,  2. ],\n",
       "       [ 5.4,  3. ,  4.5,  1.5,  2. ],\n",
       "       [ 6. ,  3.4,  4.5,  1.6,  2. ],\n",
       "       [ 6.7,  3.1,  4.7,  1.5,  2. ],\n",
       "       [ 6.3,  2.3,  4.4,  1.3,  2. ],\n",
       "       [ 5.6,  3. ,  4.1,  1.3,  2. ],\n",
       "       [ 5.5,  2.5,  4. ,  1.3,  2. ],\n",
       "       [ 5.5,  2.6,  4.4,  1.2,  2. ],\n",
       "       [ 6.1,  3. ,  4.6,  1.4,  2. ],\n",
       "       [ 5.8,  2.6,  4. ,  1.2,  2. ],\n",
       "       [ 5. ,  2.3,  3.3,  1. ,  2. ],\n",
       "       [ 5.6,  2.7,  4.2,  1.3,  2. ],\n",
       "       [ 5.7,  3. ,  4.2,  1.2,  2. ],\n",
       "       [ 5.7,  2.9,  4.2,  1.3,  2. ],\n",
       "       [ 6.2,  2.9,  4.3,  1.3,  2. ],\n",
       "       [ 5.1,  2.5,  3. ,  1.1,  2. ],\n",
       "       [ 5.7,  2.8,  4.1,  1.3,  2. ],\n",
       "       [ 6.3,  3.3,  6. ,  2.5,  3. ],\n",
       "       [ 5.8,  2.7,  5.1,  1.9,  3. ],\n",
       "       [ 7.1,  3. ,  5.9,  2.1,  3. ],\n",
       "       [ 6.3,  2.9,  5.6,  1.8,  3. ],\n",
       "       [ 6.5,  3. ,  5.8,  2.2,  3. ],\n",
       "       [ 7.6,  3. ,  6.6,  2.1,  3. ],\n",
       "       [ 4.9,  2.5,  4.5,  1.7,  3. ],\n",
       "       [ 7.3,  2.9,  6.3,  1.8,  3. ],\n",
       "       [ 6.7,  2.5,  5.8,  1.8,  3. ],\n",
       "       [ 7.2,  3.6,  6.1,  2.5,  3. ],\n",
       "       [ 6.5,  3.2,  5.1,  2. ,  3. ],\n",
       "       [ 6.4,  2.7,  5.3,  1.9,  3. ],\n",
       "       [ 6.8,  3. ,  5.5,  2.1,  3. ],\n",
       "       [ 5.7,  2.5,  5. ,  2. ,  3. ],\n",
       "       [ 5.8,  2.8,  5.1,  2.4,  3. ],\n",
       "       [ 6.4,  3.2,  5.3,  2.3,  3. ],\n",
       "       [ 6.5,  3. ,  5.5,  1.8,  3. ],\n",
       "       [ 7.7,  3.8,  6.7,  2.2,  3. ],\n",
       "       [ 7.7,  2.6,  6.9,  2.3,  3. ],\n",
       "       [ 6. ,  2.2,  5. ,  1.5,  3. ],\n",
       "       [ 6.9,  3.2,  5.7,  2.3,  3. ],\n",
       "       [ 5.6,  2.8,  4.9,  2. ,  3. ],\n",
       "       [ 7.7,  2.8,  6.7,  2. ,  3. ],\n",
       "       [ 6.3,  2.7,  4.9,  1.8,  3. ],\n",
       "       [ 6.7,  3.3,  5.7,  2.1,  3. ],\n",
       "       [ 7.2,  3.2,  6. ,  1.8,  3. ],\n",
       "       [ 6.2,  2.8,  4.8,  1.8,  3. ],\n",
       "       [ 6.1,  3. ,  4.9,  1.8,  3. ],\n",
       "       [ 6.4,  2.8,  5.6,  2.1,  3. ],\n",
       "       [ 7.2,  3. ,  5.8,  1.6,  3. ],\n",
       "       [ 7.4,  2.8,  6.1,  1.9,  3. ],\n",
       "       [ 7.9,  3.8,  6.4,  2. ,  3. ],\n",
       "       [ 6.4,  2.8,  5.6,  2.2,  3. ],\n",
       "       [ 6.3,  2.8,  5.1,  1.5,  3. ],\n",
       "       [ 6.1,  2.6,  5.6,  1.4,  3. ],\n",
       "       [ 7.7,  3. ,  6.1,  2.3,  3. ],\n",
       "       [ 6.3,  3.4,  5.6,  2.4,  3. ],\n",
       "       [ 6.4,  3.1,  5.5,  1.8,  3. ],\n",
       "       [ 6. ,  3. ,  4.8,  1.8,  3. ],\n",
       "       [ 6.9,  3.1,  5.4,  2.1,  3. ],\n",
       "       [ 6.7,  3.1,  5.6,  2.4,  3. ],\n",
       "       [ 6.9,  3.1,  5.1,  2.3,  3. ],\n",
       "       [ 5.8,  2.7,  5.1,  1.9,  3. ],\n",
       "       [ 6.8,  3.2,  5.9,  2.3,  3. ],\n",
       "       [ 6.7,  3.3,  5.7,  2.5,  3. ],\n",
       "       [ 6.7,  3. ,  5.2,  2.3,  3. ],\n",
       "       [ 6.3,  2.5,  5. ,  1.9,  3. ],\n",
       "       [ 6.5,  3. ,  5.2,  2. ,  3. ],\n",
       "       [ 6.2,  3.4,  5.4,  2.3,  3. ],\n",
       "       [ 5.9,  3. ,  5.1,  1.8,  3. ]])"
      ]
     },
     "metadata": {},
     "execution_count": 92
    }
   ],
   "source": [
    "import numpy as np \n",
    "np.insert(iris, 1, [10,10,10,10,10], axis=0)\n",
    "# On vient d'insérer une ligne en deuxiéme position du tableau iris, contenant cinq valeurs"
   ]
  },
  {
   "cell_type": "code",
   "execution_count": 93,
   "metadata": {},
   "outputs": [
    {
     "output_type": "execute_result",
     "data": {
      "text/plain": [
       "array([ 5.1, 10. , 10. , 10. , 10. , 10. ,  3.5,  1.4,  0.2,  1. ,  4.9,\n",
       "        3. ,  1.4,  0.2,  1. ,  4.7,  3.2,  1.3,  0.2,  1. ,  4.6,  3.1,\n",
       "        1.5,  0.2,  1. ,  5. ,  3.6,  1.4,  0.2,  1. ,  5.4,  3.9,  1.7,\n",
       "        0.4,  1. ,  4.6,  3.4,  1.4,  0.3,  1. ,  5. ,  3.4,  1.5,  0.2,\n",
       "        1. ,  4.4,  2.9,  1.4,  0.2,  1. ,  4.9,  3.1,  1.5,  0.1,  1. ,\n",
       "        5.4,  3.7,  1.5,  0.2,  1. ,  4.8,  3.4,  1.6,  0.2,  1. ,  4.8,\n",
       "        3. ,  1.4,  0.1,  1. ,  4.3,  3. ,  1.1,  0.1,  1. ,  5.8,  4. ,\n",
       "        1.2,  0.2,  1. ,  5.7,  4.4,  1.5,  0.4,  1. ,  5.4,  3.9,  1.3,\n",
       "        0.4,  1. ,  5.1,  3.5,  1.4,  0.3,  1. ,  5.7,  3.8,  1.7,  0.3,\n",
       "        1. ,  5.1,  3.8,  1.5,  0.3,  1. ,  5.4,  3.4,  1.7,  0.2,  1. ,\n",
       "        5.1,  3.7,  1.5,  0.4,  1. ,  4.6,  3.6,  1. ,  0.2,  1. ,  5.1,\n",
       "        3.3,  1.7,  0.5,  1. ,  4.8,  3.4,  1.9,  0.2,  1. ,  5. ,  3. ,\n",
       "        1.6,  0.2,  1. ,  5. ,  3.4,  1.6,  0.4,  1. ,  5.2,  3.5,  1.5,\n",
       "        0.2,  1. ,  5.2,  3.4,  1.4,  0.2,  1. ,  4.7,  3.2,  1.6,  0.2,\n",
       "        1. ,  4.8,  3.1,  1.6,  0.2,  1. ,  5.4,  3.4,  1.5,  0.4,  1. ,\n",
       "        5.2,  4.1,  1.5,  0.1,  1. ,  5.5,  4.2,  1.4,  0.2,  1. ,  4.9,\n",
       "        3.1,  1.5,  0.2,  1. ,  5. ,  3.2,  1.2,  0.2,  1. ,  5.5,  3.5,\n",
       "        1.3,  0.2,  1. ,  4.9,  3.6,  1.4,  0.1,  1. ,  4.4,  3. ,  1.3,\n",
       "        0.2,  1. ,  5.1,  3.4,  1.5,  0.2,  1. ,  5. ,  3.5,  1.3,  0.3,\n",
       "        1. ,  4.5,  2.3,  1.3,  0.3,  1. ,  4.4,  3.2,  1.3,  0.2,  1. ,\n",
       "        5. ,  3.5,  1.6,  0.6,  1. ,  5.1,  3.8,  1.9,  0.4,  1. ,  4.8,\n",
       "        3. ,  1.4,  0.3,  1. ,  5.1,  3.8,  1.6,  0.2,  1. ,  4.6,  3.2,\n",
       "        1.4,  0.2,  1. ,  5.3,  3.7,  1.5,  0.2,  1. ,  5. ,  3.3,  1.4,\n",
       "        0.2,  1. ,  7. ,  3.2,  4.7,  1.4,  2. ,  6.4,  3.2,  4.5,  1.5,\n",
       "        2. ,  6.9,  3.1,  4.9,  1.5,  2. ,  5.5,  2.3,  4. ,  1.3,  2. ,\n",
       "        6.5,  2.8,  4.6,  1.5,  2. ,  5.7,  2.8,  4.5,  1.3,  2. ,  6.3,\n",
       "        3.3,  4.7,  1.6,  2. ,  4.9,  2.4,  3.3,  1. ,  2. ,  6.6,  2.9,\n",
       "        4.6,  1.3,  2. ,  5.2,  2.7,  3.9,  1.4,  2. ,  5. ,  2. ,  3.5,\n",
       "        1. ,  2. ,  5.9,  3. ,  4.2,  1.5,  2. ,  6. ,  2.2,  4. ,  1. ,\n",
       "        2. ,  6.1,  2.9,  4.7,  1.4,  2. ,  5.6,  2.9,  3.6,  1.3,  2. ,\n",
       "        6.7,  3.1,  4.4,  1.4,  2. ,  5.6,  3. ,  4.5,  1.5,  2. ,  5.8,\n",
       "        2.7,  4.1,  1. ,  2. ,  6.2,  2.2,  4.5,  1.5,  2. ,  5.6,  2.5,\n",
       "        3.9,  1.1,  2. ,  5.9,  3.2,  4.8,  1.8,  2. ,  6.1,  2.8,  4. ,\n",
       "        1.3,  2. ,  6.3,  2.5,  4.9,  1.5,  2. ,  6.1,  2.8,  4.7,  1.2,\n",
       "        2. ,  6.4,  2.9,  4.3,  1.3,  2. ,  6.6,  3. ,  4.4,  1.4,  2. ,\n",
       "        6.8,  2.8,  4.8,  1.4,  2. ,  6.7,  3. ,  5. ,  1.7,  2. ,  6. ,\n",
       "        2.9,  4.5,  1.5,  2. ,  5.7,  2.6,  3.5,  1. ,  2. ,  5.5,  2.4,\n",
       "        3.8,  1.1,  2. ,  5.5,  2.4,  3.7,  1. ,  2. ,  5.8,  2.7,  3.9,\n",
       "        1.2,  2. ,  6. ,  2.7,  5.1,  1.6,  2. ,  5.4,  3. ,  4.5,  1.5,\n",
       "        2. ,  6. ,  3.4,  4.5,  1.6,  2. ,  6.7,  3.1,  4.7,  1.5,  2. ,\n",
       "        6.3,  2.3,  4.4,  1.3,  2. ,  5.6,  3. ,  4.1,  1.3,  2. ,  5.5,\n",
       "        2.5,  4. ,  1.3,  2. ,  5.5,  2.6,  4.4,  1.2,  2. ,  6.1,  3. ,\n",
       "        4.6,  1.4,  2. ,  5.8,  2.6,  4. ,  1.2,  2. ,  5. ,  2.3,  3.3,\n",
       "        1. ,  2. ,  5.6,  2.7,  4.2,  1.3,  2. ,  5.7,  3. ,  4.2,  1.2,\n",
       "        2. ,  5.7,  2.9,  4.2,  1.3,  2. ,  6.2,  2.9,  4.3,  1.3,  2. ,\n",
       "        5.1,  2.5,  3. ,  1.1,  2. ,  5.7,  2.8,  4.1,  1.3,  2. ,  6.3,\n",
       "        3.3,  6. ,  2.5,  3. ,  5.8,  2.7,  5.1,  1.9,  3. ,  7.1,  3. ,\n",
       "        5.9,  2.1,  3. ,  6.3,  2.9,  5.6,  1.8,  3. ,  6.5,  3. ,  5.8,\n",
       "        2.2,  3. ,  7.6,  3. ,  6.6,  2.1,  3. ,  4.9,  2.5,  4.5,  1.7,\n",
       "        3. ,  7.3,  2.9,  6.3,  1.8,  3. ,  6.7,  2.5,  5.8,  1.8,  3. ,\n",
       "        7.2,  3.6,  6.1,  2.5,  3. ,  6.5,  3.2,  5.1,  2. ,  3. ,  6.4,\n",
       "        2.7,  5.3,  1.9,  3. ,  6.8,  3. ,  5.5,  2.1,  3. ,  5.7,  2.5,\n",
       "        5. ,  2. ,  3. ,  5.8,  2.8,  5.1,  2.4,  3. ,  6.4,  3.2,  5.3,\n",
       "        2.3,  3. ,  6.5,  3. ,  5.5,  1.8,  3. ,  7.7,  3.8,  6.7,  2.2,\n",
       "        3. ,  7.7,  2.6,  6.9,  2.3,  3. ,  6. ,  2.2,  5. ,  1.5,  3. ,\n",
       "        6.9,  3.2,  5.7,  2.3,  3. ,  5.6,  2.8,  4.9,  2. ,  3. ,  7.7,\n",
       "        2.8,  6.7,  2. ,  3. ,  6.3,  2.7,  4.9,  1.8,  3. ,  6.7,  3.3,\n",
       "        5.7,  2.1,  3. ,  7.2,  3.2,  6. ,  1.8,  3. ,  6.2,  2.8,  4.8,\n",
       "        1.8,  3. ,  6.1,  3. ,  4.9,  1.8,  3. ,  6.4,  2.8,  5.6,  2.1,\n",
       "        3. ,  7.2,  3. ,  5.8,  1.6,  3. ,  7.4,  2.8,  6.1,  1.9,  3. ,\n",
       "        7.9,  3.8,  6.4,  2. ,  3. ,  6.4,  2.8,  5.6,  2.2,  3. ,  6.3,\n",
       "        2.8,  5.1,  1.5,  3. ,  6.1,  2.6,  5.6,  1.4,  3. ,  7.7,  3. ,\n",
       "        6.1,  2.3,  3. ,  6.3,  3.4,  5.6,  2.4,  3. ,  6.4,  3.1,  5.5,\n",
       "        1.8,  3. ,  6. ,  3. ,  4.8,  1.8,  3. ,  6.9,  3.1,  5.4,  2.1,\n",
       "        3. ,  6.7,  3.1,  5.6,  2.4,  3. ,  6.9,  3.1,  5.1,  2.3,  3. ,\n",
       "        5.8,  2.7,  5.1,  1.9,  3. ,  6.8,  3.2,  5.9,  2.3,  3. ,  6.7,\n",
       "        3.3,  5.7,  2.5,  3. ,  6.7,  3. ,  5.2,  2.3,  3. ,  6.3,  2.5,\n",
       "        5. ,  1.9,  3. ,  6.5,  3. ,  5.2,  2. ,  3. ,  6.2,  3.4,  5.4,\n",
       "        2.3,  3. ,  5.9,  3. ,  5.1,  1.8,  3. ])"
      ]
     },
     "metadata": {},
     "execution_count": 93
    }
   ],
   "source": [
    "import numpy as np \n",
    "np.insert(iris, 1, [10,10,10,10,10])"
   ]
  },
  {
   "source": [
    "# 4.1.2 Supprimer des éléments d'un tableau"
   ],
   "cell_type": "markdown",
   "metadata": {}
  },
  {
   "cell_type": "code",
   "execution_count": 95,
   "metadata": {},
   "outputs": [
    {
     "output_type": "execute_result",
     "data": {
      "text/plain": [
       "array([[5.1, 1.4, 0.2, 1. ],\n",
       "       [4.9, 1.4, 0.2, 1. ],\n",
       "       [4.7, 1.3, 0.2, 1. ],\n",
       "       [4.6, 1.5, 0.2, 1. ],\n",
       "       [5. , 1.4, 0.2, 1. ],\n",
       "       [5.4, 1.7, 0.4, 1. ],\n",
       "       [4.6, 1.4, 0.3, 1. ],\n",
       "       [5. , 1.5, 0.2, 1. ],\n",
       "       [4.4, 1.4, 0.2, 1. ],\n",
       "       [4.9, 1.5, 0.1, 1. ],\n",
       "       [5.4, 1.5, 0.2, 1. ],\n",
       "       [4.8, 1.6, 0.2, 1. ],\n",
       "       [4.8, 1.4, 0.1, 1. ],\n",
       "       [4.3, 1.1, 0.1, 1. ],\n",
       "       [5.8, 1.2, 0.2, 1. ],\n",
       "       [5.7, 1.5, 0.4, 1. ],\n",
       "       [5.4, 1.3, 0.4, 1. ],\n",
       "       [5.1, 1.4, 0.3, 1. ],\n",
       "       [5.7, 1.7, 0.3, 1. ],\n",
       "       [5.1, 1.5, 0.3, 1. ],\n",
       "       [5.4, 1.7, 0.2, 1. ],\n",
       "       [5.1, 1.5, 0.4, 1. ],\n",
       "       [4.6, 1. , 0.2, 1. ],\n",
       "       [5.1, 1.7, 0.5, 1. ],\n",
       "       [4.8, 1.9, 0.2, 1. ],\n",
       "       [5. , 1.6, 0.2, 1. ],\n",
       "       [5. , 1.6, 0.4, 1. ],\n",
       "       [5.2, 1.5, 0.2, 1. ],\n",
       "       [5.2, 1.4, 0.2, 1. ],\n",
       "       [4.7, 1.6, 0.2, 1. ],\n",
       "       [4.8, 1.6, 0.2, 1. ],\n",
       "       [5.4, 1.5, 0.4, 1. ],\n",
       "       [5.2, 1.5, 0.1, 1. ],\n",
       "       [5.5, 1.4, 0.2, 1. ],\n",
       "       [4.9, 1.5, 0.2, 1. ],\n",
       "       [5. , 1.2, 0.2, 1. ],\n",
       "       [5.5, 1.3, 0.2, 1. ],\n",
       "       [4.9, 1.4, 0.1, 1. ],\n",
       "       [4.4, 1.3, 0.2, 1. ],\n",
       "       [5.1, 1.5, 0.2, 1. ],\n",
       "       [5. , 1.3, 0.3, 1. ],\n",
       "       [4.5, 1.3, 0.3, 1. ],\n",
       "       [4.4, 1.3, 0.2, 1. ],\n",
       "       [5. , 1.6, 0.6, 1. ],\n",
       "       [5.1, 1.9, 0.4, 1. ],\n",
       "       [4.8, 1.4, 0.3, 1. ],\n",
       "       [5.1, 1.6, 0.2, 1. ],\n",
       "       [4.6, 1.4, 0.2, 1. ],\n",
       "       [5.3, 1.5, 0.2, 1. ],\n",
       "       [5. , 1.4, 0.2, 1. ],\n",
       "       [7. , 4.7, 1.4, 2. ],\n",
       "       [6.4, 4.5, 1.5, 2. ],\n",
       "       [6.9, 4.9, 1.5, 2. ],\n",
       "       [5.5, 4. , 1.3, 2. ],\n",
       "       [6.5, 4.6, 1.5, 2. ],\n",
       "       [5.7, 4.5, 1.3, 2. ],\n",
       "       [6.3, 4.7, 1.6, 2. ],\n",
       "       [4.9, 3.3, 1. , 2. ],\n",
       "       [6.6, 4.6, 1.3, 2. ],\n",
       "       [5.2, 3.9, 1.4, 2. ],\n",
       "       [5. , 3.5, 1. , 2. ],\n",
       "       [5.9, 4.2, 1.5, 2. ],\n",
       "       [6. , 4. , 1. , 2. ],\n",
       "       [6.1, 4.7, 1.4, 2. ],\n",
       "       [5.6, 3.6, 1.3, 2. ],\n",
       "       [6.7, 4.4, 1.4, 2. ],\n",
       "       [5.6, 4.5, 1.5, 2. ],\n",
       "       [5.8, 4.1, 1. , 2. ],\n",
       "       [6.2, 4.5, 1.5, 2. ],\n",
       "       [5.6, 3.9, 1.1, 2. ],\n",
       "       [5.9, 4.8, 1.8, 2. ],\n",
       "       [6.1, 4. , 1.3, 2. ],\n",
       "       [6.3, 4.9, 1.5, 2. ],\n",
       "       [6.1, 4.7, 1.2, 2. ],\n",
       "       [6.4, 4.3, 1.3, 2. ],\n",
       "       [6.6, 4.4, 1.4, 2. ],\n",
       "       [6.8, 4.8, 1.4, 2. ],\n",
       "       [6.7, 5. , 1.7, 2. ],\n",
       "       [6. , 4.5, 1.5, 2. ],\n",
       "       [5.7, 3.5, 1. , 2. ],\n",
       "       [5.5, 3.8, 1.1, 2. ],\n",
       "       [5.5, 3.7, 1. , 2. ],\n",
       "       [5.8, 3.9, 1.2, 2. ],\n",
       "       [6. , 5.1, 1.6, 2. ],\n",
       "       [5.4, 4.5, 1.5, 2. ],\n",
       "       [6. , 4.5, 1.6, 2. ],\n",
       "       [6.7, 4.7, 1.5, 2. ],\n",
       "       [6.3, 4.4, 1.3, 2. ],\n",
       "       [5.6, 4.1, 1.3, 2. ],\n",
       "       [5.5, 4. , 1.3, 2. ],\n",
       "       [5.5, 4.4, 1.2, 2. ],\n",
       "       [6.1, 4.6, 1.4, 2. ],\n",
       "       [5.8, 4. , 1.2, 2. ],\n",
       "       [5. , 3.3, 1. , 2. ],\n",
       "       [5.6, 4.2, 1.3, 2. ],\n",
       "       [5.7, 4.2, 1.2, 2. ],\n",
       "       [5.7, 4.2, 1.3, 2. ],\n",
       "       [6.2, 4.3, 1.3, 2. ],\n",
       "       [5.1, 3. , 1.1, 2. ],\n",
       "       [5.7, 4.1, 1.3, 2. ],\n",
       "       [6.3, 6. , 2.5, 3. ],\n",
       "       [5.8, 5.1, 1.9, 3. ],\n",
       "       [7.1, 5.9, 2.1, 3. ],\n",
       "       [6.3, 5.6, 1.8, 3. ],\n",
       "       [6.5, 5.8, 2.2, 3. ],\n",
       "       [7.6, 6.6, 2.1, 3. ],\n",
       "       [4.9, 4.5, 1.7, 3. ],\n",
       "       [7.3, 6.3, 1.8, 3. ],\n",
       "       [6.7, 5.8, 1.8, 3. ],\n",
       "       [7.2, 6.1, 2.5, 3. ],\n",
       "       [6.5, 5.1, 2. , 3. ],\n",
       "       [6.4, 5.3, 1.9, 3. ],\n",
       "       [6.8, 5.5, 2.1, 3. ],\n",
       "       [5.7, 5. , 2. , 3. ],\n",
       "       [5.8, 5.1, 2.4, 3. ],\n",
       "       [6.4, 5.3, 2.3, 3. ],\n",
       "       [6.5, 5.5, 1.8, 3. ],\n",
       "       [7.7, 6.7, 2.2, 3. ],\n",
       "       [7.7, 6.9, 2.3, 3. ],\n",
       "       [6. , 5. , 1.5, 3. ],\n",
       "       [6.9, 5.7, 2.3, 3. ],\n",
       "       [5.6, 4.9, 2. , 3. ],\n",
       "       [7.7, 6.7, 2. , 3. ],\n",
       "       [6.3, 4.9, 1.8, 3. ],\n",
       "       [6.7, 5.7, 2.1, 3. ],\n",
       "       [7.2, 6. , 1.8, 3. ],\n",
       "       [6.2, 4.8, 1.8, 3. ],\n",
       "       [6.1, 4.9, 1.8, 3. ],\n",
       "       [6.4, 5.6, 2.1, 3. ],\n",
       "       [7.2, 5.8, 1.6, 3. ],\n",
       "       [7.4, 6.1, 1.9, 3. ],\n",
       "       [7.9, 6.4, 2. , 3. ],\n",
       "       [6.4, 5.6, 2.2, 3. ],\n",
       "       [6.3, 5.1, 1.5, 3. ],\n",
       "       [6.1, 5.6, 1.4, 3. ],\n",
       "       [7.7, 6.1, 2.3, 3. ],\n",
       "       [6.3, 5.6, 2.4, 3. ],\n",
       "       [6.4, 5.5, 1.8, 3. ],\n",
       "       [6. , 4.8, 1.8, 3. ],\n",
       "       [6.9, 5.4, 2.1, 3. ],\n",
       "       [6.7, 5.6, 2.4, 3. ],\n",
       "       [6.9, 5.1, 2.3, 3. ],\n",
       "       [5.8, 5.1, 1.9, 3. ],\n",
       "       [6.8, 5.9, 2.3, 3. ],\n",
       "       [6.7, 5.7, 2.5, 3. ],\n",
       "       [6.7, 5.2, 2.3, 3. ],\n",
       "       [6.3, 5. , 1.9, 3. ],\n",
       "       [6.5, 5.2, 2. , 3. ],\n",
       "       [6.2, 5.4, 2.3, 3. ],\n",
       "       [5.9, 5.1, 1.8, 3. ]])"
      ]
     },
     "metadata": {},
     "execution_count": 95
    }
   ],
   "source": [
    "np.delete(iris, 1, axis = 1)\n",
    "# On suprime la colonne 2 (à l'index 1)"
   ]
  },
  {
   "cell_type": "code",
   "execution_count": 96,
   "metadata": {},
   "outputs": [
    {
     "output_type": "execute_result",
     "data": {
      "text/plain": [
       "array([[5.1, 3.5, 1.4, 0.2, 1. ],\n",
       "       [5.4, 3.9, 1.7, 0.4, 1. ],\n",
       "       [4.6, 3.4, 1.4, 0.3, 1. ],\n",
       "       [5. , 3.4, 1.5, 0.2, 1. ],\n",
       "       [4.4, 2.9, 1.4, 0.2, 1. ],\n",
       "       [4.9, 3.1, 1.5, 0.1, 1. ],\n",
       "       [5.4, 3.7, 1.5, 0.2, 1. ],\n",
       "       [4.8, 3.4, 1.6, 0.2, 1. ],\n",
       "       [4.8, 3. , 1.4, 0.1, 1. ],\n",
       "       [4.3, 3. , 1.1, 0.1, 1. ],\n",
       "       [5.8, 4. , 1.2, 0.2, 1. ],\n",
       "       [5.7, 4.4, 1.5, 0.4, 1. ],\n",
       "       [5.4, 3.9, 1.3, 0.4, 1. ],\n",
       "       [5.1, 3.5, 1.4, 0.3, 1. ],\n",
       "       [5.7, 3.8, 1.7, 0.3, 1. ],\n",
       "       [5.1, 3.8, 1.5, 0.3, 1. ],\n",
       "       [5.4, 3.4, 1.7, 0.2, 1. ],\n",
       "       [5.1, 3.7, 1.5, 0.4, 1. ],\n",
       "       [4.6, 3.6, 1. , 0.2, 1. ],\n",
       "       [5.1, 3.3, 1.7, 0.5, 1. ],\n",
       "       [4.8, 3.4, 1.9, 0.2, 1. ],\n",
       "       [5. , 3. , 1.6, 0.2, 1. ],\n",
       "       [5. , 3.4, 1.6, 0.4, 1. ],\n",
       "       [5.2, 3.5, 1.5, 0.2, 1. ],\n",
       "       [5.2, 3.4, 1.4, 0.2, 1. ],\n",
       "       [4.7, 3.2, 1.6, 0.2, 1. ],\n",
       "       [4.8, 3.1, 1.6, 0.2, 1. ],\n",
       "       [5.4, 3.4, 1.5, 0.4, 1. ],\n",
       "       [5.2, 4.1, 1.5, 0.1, 1. ],\n",
       "       [5.5, 4.2, 1.4, 0.2, 1. ],\n",
       "       [4.9, 3.1, 1.5, 0.2, 1. ],\n",
       "       [5. , 3.2, 1.2, 0.2, 1. ],\n",
       "       [5.5, 3.5, 1.3, 0.2, 1. ],\n",
       "       [4.9, 3.6, 1.4, 0.1, 1. ],\n",
       "       [4.4, 3. , 1.3, 0.2, 1. ],\n",
       "       [5.1, 3.4, 1.5, 0.2, 1. ],\n",
       "       [5. , 3.5, 1.3, 0.3, 1. ],\n",
       "       [4.5, 2.3, 1.3, 0.3, 1. ],\n",
       "       [4.4, 3.2, 1.3, 0.2, 1. ],\n",
       "       [5. , 3.5, 1.6, 0.6, 1. ],\n",
       "       [5.1, 3.8, 1.9, 0.4, 1. ],\n",
       "       [4.8, 3. , 1.4, 0.3, 1. ],\n",
       "       [5.1, 3.8, 1.6, 0.2, 1. ],\n",
       "       [4.6, 3.2, 1.4, 0.2, 1. ],\n",
       "       [5.3, 3.7, 1.5, 0.2, 1. ],\n",
       "       [5. , 3.3, 1.4, 0.2, 1. ],\n",
       "       [7. , 3.2, 4.7, 1.4, 2. ],\n",
       "       [6.4, 3.2, 4.5, 1.5, 2. ],\n",
       "       [6.9, 3.1, 4.9, 1.5, 2. ],\n",
       "       [5.5, 2.3, 4. , 1.3, 2. ],\n",
       "       [6.5, 2.8, 4.6, 1.5, 2. ],\n",
       "       [5.7, 2.8, 4.5, 1.3, 2. ],\n",
       "       [6.3, 3.3, 4.7, 1.6, 2. ],\n",
       "       [4.9, 2.4, 3.3, 1. , 2. ],\n",
       "       [6.6, 2.9, 4.6, 1.3, 2. ],\n",
       "       [5.2, 2.7, 3.9, 1.4, 2. ],\n",
       "       [5. , 2. , 3.5, 1. , 2. ],\n",
       "       [5.9, 3. , 4.2, 1.5, 2. ],\n",
       "       [6. , 2.2, 4. , 1. , 2. ],\n",
       "       [6.1, 2.9, 4.7, 1.4, 2. ],\n",
       "       [5.6, 2.9, 3.6, 1.3, 2. ],\n",
       "       [6.7, 3.1, 4.4, 1.4, 2. ],\n",
       "       [5.6, 3. , 4.5, 1.5, 2. ],\n",
       "       [5.8, 2.7, 4.1, 1. , 2. ],\n",
       "       [6.2, 2.2, 4.5, 1.5, 2. ],\n",
       "       [5.6, 2.5, 3.9, 1.1, 2. ],\n",
       "       [5.9, 3.2, 4.8, 1.8, 2. ],\n",
       "       [6.1, 2.8, 4. , 1.3, 2. ],\n",
       "       [6.3, 2.5, 4.9, 1.5, 2. ],\n",
       "       [6.1, 2.8, 4.7, 1.2, 2. ],\n",
       "       [6.4, 2.9, 4.3, 1.3, 2. ],\n",
       "       [6.6, 3. , 4.4, 1.4, 2. ],\n",
       "       [6.8, 2.8, 4.8, 1.4, 2. ],\n",
       "       [6.7, 3. , 5. , 1.7, 2. ],\n",
       "       [6. , 2.9, 4.5, 1.5, 2. ],\n",
       "       [5.7, 2.6, 3.5, 1. , 2. ],\n",
       "       [5.5, 2.4, 3.8, 1.1, 2. ],\n",
       "       [5.5, 2.4, 3.7, 1. , 2. ],\n",
       "       [5.8, 2.7, 3.9, 1.2, 2. ],\n",
       "       [6. , 2.7, 5.1, 1.6, 2. ],\n",
       "       [5.4, 3. , 4.5, 1.5, 2. ],\n",
       "       [6. , 3.4, 4.5, 1.6, 2. ],\n",
       "       [6.7, 3.1, 4.7, 1.5, 2. ],\n",
       "       [6.3, 2.3, 4.4, 1.3, 2. ],\n",
       "       [5.6, 3. , 4.1, 1.3, 2. ],\n",
       "       [5.5, 2.5, 4. , 1.3, 2. ],\n",
       "       [5.5, 2.6, 4.4, 1.2, 2. ],\n",
       "       [6.1, 3. , 4.6, 1.4, 2. ],\n",
       "       [5.8, 2.6, 4. , 1.2, 2. ],\n",
       "       [5. , 2.3, 3.3, 1. , 2. ],\n",
       "       [5.6, 2.7, 4.2, 1.3, 2. ],\n",
       "       [5.7, 3. , 4.2, 1.2, 2. ],\n",
       "       [5.7, 2.9, 4.2, 1.3, 2. ],\n",
       "       [6.2, 2.9, 4.3, 1.3, 2. ],\n",
       "       [5.1, 2.5, 3. , 1.1, 2. ],\n",
       "       [5.7, 2.8, 4.1, 1.3, 2. ],\n",
       "       [6.3, 3.3, 6. , 2.5, 3. ],\n",
       "       [5.8, 2.7, 5.1, 1.9, 3. ],\n",
       "       [7.1, 3. , 5.9, 2.1, 3. ],\n",
       "       [6.3, 2.9, 5.6, 1.8, 3. ],\n",
       "       [6.5, 3. , 5.8, 2.2, 3. ],\n",
       "       [7.6, 3. , 6.6, 2.1, 3. ],\n",
       "       [4.9, 2.5, 4.5, 1.7, 3. ],\n",
       "       [7.3, 2.9, 6.3, 1.8, 3. ],\n",
       "       [6.7, 2.5, 5.8, 1.8, 3. ],\n",
       "       [7.2, 3.6, 6.1, 2.5, 3. ],\n",
       "       [6.5, 3.2, 5.1, 2. , 3. ],\n",
       "       [6.4, 2.7, 5.3, 1.9, 3. ],\n",
       "       [6.8, 3. , 5.5, 2.1, 3. ],\n",
       "       [5.7, 2.5, 5. , 2. , 3. ],\n",
       "       [5.8, 2.8, 5.1, 2.4, 3. ],\n",
       "       [6.4, 3.2, 5.3, 2.3, 3. ],\n",
       "       [6.5, 3. , 5.5, 1.8, 3. ],\n",
       "       [7.7, 3.8, 6.7, 2.2, 3. ],\n",
       "       [7.7, 2.6, 6.9, 2.3, 3. ],\n",
       "       [6. , 2.2, 5. , 1.5, 3. ],\n",
       "       [6.9, 3.2, 5.7, 2.3, 3. ],\n",
       "       [5.6, 2.8, 4.9, 2. , 3. ],\n",
       "       [7.7, 2.8, 6.7, 2. , 3. ],\n",
       "       [6.3, 2.7, 4.9, 1.8, 3. ],\n",
       "       [6.7, 3.3, 5.7, 2.1, 3. ],\n",
       "       [7.2, 3.2, 6. , 1.8, 3. ],\n",
       "       [6.2, 2.8, 4.8, 1.8, 3. ],\n",
       "       [6.1, 3. , 4.9, 1.8, 3. ],\n",
       "       [6.4, 2.8, 5.6, 2.1, 3. ],\n",
       "       [7.2, 3. , 5.8, 1.6, 3. ],\n",
       "       [7.4, 2.8, 6.1, 1.9, 3. ],\n",
       "       [7.9, 3.8, 6.4, 2. , 3. ],\n",
       "       [6.4, 2.8, 5.6, 2.2, 3. ],\n",
       "       [6.3, 2.8, 5.1, 1.5, 3. ],\n",
       "       [6.1, 2.6, 5.6, 1.4, 3. ],\n",
       "       [7.7, 3. , 6.1, 2.3, 3. ],\n",
       "       [6.3, 3.4, 5.6, 2.4, 3. ],\n",
       "       [6.4, 3.1, 5.5, 1.8, 3. ],\n",
       "       [6. , 3. , 4.8, 1.8, 3. ],\n",
       "       [6.9, 3.1, 5.4, 2.1, 3. ],\n",
       "       [6.7, 3.1, 5.6, 2.4, 3. ],\n",
       "       [6.9, 3.1, 5.1, 2.3, 3. ],\n",
       "       [5.8, 2.7, 5.1, 1.9, 3. ],\n",
       "       [6.8, 3.2, 5.9, 2.3, 3. ],\n",
       "       [6.7, 3.3, 5.7, 2.5, 3. ],\n",
       "       [6.7, 3. , 5.2, 2.3, 3. ],\n",
       "       [6.3, 2.5, 5. , 1.9, 3. ],\n",
       "       [6.5, 3. , 5.2, 2. , 3. ],\n",
       "       [6.2, 3.4, 5.4, 2.3, 3. ],\n",
       "       [5.9, 3. , 5.1, 1.8, 3. ]])"
      ]
     },
     "metadata": {},
     "execution_count": 96
    }
   ],
   "source": [
    "np.delete(iris, [1,2,3,4], axis = 0)\n",
    "# On supprime les lignes à l'index 1, 2, 3 et 4"
   ]
  },
  {
   "cell_type": "code",
   "execution_count": 97,
   "metadata": {},
   "outputs": [
    {
     "output_type": "execute_result",
     "data": {
      "text/plain": [
       "array([ 1,  3,  4,  5,  6,  7,  8,  9, 10, 11, 12, 13, 14, 15, 16, 17, 18,\n",
       "       19, 20])"
      ]
     },
     "metadata": {},
     "execution_count": 97
    }
   ],
   "source": [
    "np.delete(notre_tableau, 1)"
   ]
  },
  {
   "source": [
    "# 4.2 Diviser un tableau NumPy (split, hsplit et vsplit)\n",
    "# 4.2.1 Sur un tableau à une dimension"
   ],
   "cell_type": "markdown",
   "metadata": {}
  },
  {
   "cell_type": "code",
   "execution_count": 99,
   "metadata": {},
   "outputs": [
    {
     "output_type": "execute_result",
     "data": {
      "text/plain": [
       "array([ 1,  2,  3,  4,  5,  6,  7,  8,  9, 10, 11, 12, 13, 14, 15, 16, 17,\n",
       "       18, 19, 20])"
      ]
     },
     "metadata": {},
     "execution_count": 99
    }
   ],
   "source": [
    "notre_tableau"
   ]
  },
  {
   "cell_type": "code",
   "execution_count": 100,
   "metadata": {},
   "outputs": [
    {
     "output_type": "stream",
     "name": "stdout",
     "text": [
      "[1 2] [3 4 5 6] [ 7  8  9 10 11 12 13 14 15 16 17 18 19 20]\n"
     ]
    }
   ],
   "source": [
    "import numpy as np \n",
    "notre_tableau1, notre_tableau2, notre_tableau3 = np.split(notre_tableau, [2, 6])\n",
    "print(notre_tableau1, notre_tableau2, notre_tableau3)"
   ]
  },
  {
   "source": [
    "# 4.2.2 Sur un tableau à deux dimensions."
   ],
   "cell_type": "markdown",
   "metadata": {}
  },
  {
   "cell_type": "code",
   "execution_count": 103,
   "metadata": {},
   "outputs": [
    {
     "output_type": "stream",
     "name": "stdout",
     "text": [
      "Avant division\n[[ 2.  5.  6.]\n [ 9. 10. 11.]\n [ 5.  6.  9.]]\nAprès division\n[[ 2.  5.  6.]\n [ 9. 10. 11.]]\n[[5. 6. 9.]]\n"
     ]
    }
   ],
   "source": [
    "tableau=np.array([[2,5,6],[9,10,11],[5,6,9]], dtype=\"float\")\n",
    "print(\"Avant division\")\n",
    "print(tableau)\n",
    "tableau1, tableau2 = np.vsplit(array, [2])\n",
    "print(\"Après division\")\n",
    "print(tableau1)\n",
    "print(tableau2)"
   ]
  },
  {
   "cell_type": "code",
   "execution_count": 104,
   "metadata": {},
   "outputs": [
    {
     "output_type": "stream",
     "name": "stdout",
     "text": [
      "Avant division\n[[ 2.  5.  6.]\n [ 9. 10. 11.]\n [ 5.  6.  9.]]\nAprès division\n[[ 2.  5.]\n [ 9. 10.]\n [ 5.  6.]]\n[[ 6.]\n [11.]\n [ 9.]]\n"
     ]
    }
   ],
   "source": [
    "array= np.array([[2,5,6],[9,10,11],[5,6,9]], dtype=\"float\")\n",
    "print(\"Avant division\")\n",
    "print(array)\n",
    "array1, array2 = np.hsplit(array, [2])\n",
    "print(\"Après division\")\n",
    "print(array1)\n",
    "print(array2)"
   ]
  },
  {
   "source": [
    "# 4.3 Concaténer/ combiner des tableaux\n",
    "# 4.3.1 La fonction concatenate()"
   ],
   "cell_type": "markdown",
   "metadata": {}
  },
  {
   "cell_type": "code",
   "execution_count": 106,
   "metadata": {},
   "outputs": [
    {
     "output_type": "stream",
     "name": "stdout",
     "text": [
      "[1 2 3 4 5]\n[6 7 8 9]\n"
     ]
    },
    {
     "output_type": "execute_result",
     "data": {
      "text/plain": [
       "array([1, 2, 3, 4, 5, 6, 7, 8, 9])"
      ]
     },
     "metadata": {},
     "execution_count": 106
    }
   ],
   "source": [
    "array1 = np.array([1, 2, 3, 4, 5])\n",
    "array2 = np.array([6, 7, 8, 9])\n",
    "print(array1)\n",
    "print(array2)\n",
    "np.concatenate([array1, array2])"
   ]
  },
  {
   "cell_type": "code",
   "execution_count": 107,
   "metadata": {},
   "outputs": [
    {
     "output_type": "stream",
     "name": "stdout",
     "text": [
      "[[1. 2. 3.]\n [4. 5. 6.]\n [7. 8. 9.]]\n[[ 2.  5.  6.]\n [ 9. 10. 11.]\n [ 5.  6.  9.]]\n"
     ]
    },
    {
     "output_type": "execute_result",
     "data": {
      "text/plain": [
       "array([[ 1.,  2.,  3.],\n",
       "       [ 4.,  5.,  6.],\n",
       "       [ 7.,  8.,  9.],\n",
       "       [ 2.,  5.,  6.],\n",
       "       [ 9., 10., 11.],\n",
       "       [ 5.,  6.,  9.]])"
      ]
     },
     "metadata": {},
     "execution_count": 107
    }
   ],
   "source": [
    "array1= np.array([[1,2,3], [4,5,6], [7,8,9]], dtype=\"float\")\n",
    "array2= np.array([[2,5,6,],[9,10,11],[5,6,9]], dtype=\"float\")\n",
    "print(array1)\n",
    "print(array2)\n",
    "np.concatenate([array1, array2])"
   ]
  },
  {
   "cell_type": "code",
   "execution_count": 108,
   "metadata": {},
   "outputs": [
    {
     "output_type": "execute_result",
     "data": {
      "text/plain": [
       "array([[ 1.,  2.,  3.],\n",
       "       [ 4.,  5.,  6.],\n",
       "       [ 7.,  8.,  9.],\n",
       "       [ 2.,  5.,  6.],\n",
       "       [ 9., 10., 11.],\n",
       "       [ 5.,  6.,  9.],\n",
       "       [ 4., 10., 13.],\n",
       "       [ 7., 14., 15.]])"
      ]
     },
     "metadata": {},
     "execution_count": 108
    }
   ],
   "source": [
    "array3= np.array([[4,10,13],[7,14,15]], dtype=\"float\")\n",
    "np.concatenate([array1, array2, array3])"
   ]
  },
  {
   "source": [
    "# 4.3.2 La fonction vstack() et hstack()"
   ],
   "cell_type": "markdown",
   "metadata": {}
  },
  {
   "cell_type": "code",
   "execution_count": 110,
   "metadata": {},
   "outputs": [
    {
     "output_type": "stream",
     "name": "stdout",
     "text": [
      "[15 16 47]\n---\n[[1. 2. 3.]\n [4. 5. 6.]\n [7. 8. 9.]]\n---\n[[15. 16. 47.]\n [ 1.  2.  3.]\n [ 4.  5.  6.]\n [ 7.  8.  9.]]\n"
     ]
    }
   ],
   "source": [
    "# hstack() (verticale)\n",
    "import numpy as np \n",
    "array1 = np.array([15,16,47])\n",
    "array2 = np.array([[1,2,3],[4,5,6],[7,8,9]], dtype=\"float\")\n",
    "print(array1)\n",
    "print(\"---\")\n",
    "print(array2)\n",
    "print(\"---\")\n",
    "print(np.vstack([array1, array2]))\n",
    "array1 = np.array([15],[16],[47])\n",
    "print(\"---\")\n",
    "print(array1)\n",
    "print(\"---\")\n",
    "print(array2)\n",
    "print(\"---\")\n",
    "print(np.hstack([array1, array2]))"
   ]
  },
  {
   "cell_type": "code",
   "execution_count": 116,
   "metadata": {},
   "outputs": [
    {
     "output_type": "stream",
     "name": "stdout",
     "text": [
      "---\n[[15]\n [16]\n [47]]\n---\n[[1. 2. 3.]\n [4. 5. 6.]\n [7. 8. 9.]]\n---\n[[15.  1.  2.  3.]\n [16.  4.  5.  6.]\n [47.  7.  8.  9.]]\n"
     ]
    }
   ],
   "source": [
    "# et hstack()(horizontal)\n",
    "array1 = np.array([[15],[16],[47]])\n",
    "print(\"---\")\n",
    "print(array1)\n",
    "print(\"---\")\n",
    "print(array2)\n",
    "print(\"---\")\n",
    "print(np.hstack([array1, array2]))"
   ]
  },
  {
   "source": [
    "# Test"
   ],
   "cell_type": "markdown",
   "metadata": {}
  },
  {
   "cell_type": "code",
   "execution_count": 119,
   "metadata": {},
   "outputs": [
    {
     "output_type": "stream",
     "name": "stdout",
     "text": [
      "[3.33333333 3.1        3.06666667 3.06666667 3.33333333 3.66666667\n 3.13333333 3.3        2.9        3.16666667 3.53333333 3.26666667\n 3.06666667 2.8        3.66666667 3.86666667 3.53333333 3.33333333\n 3.73333333 3.46666667 3.5        3.43333333 3.06666667 3.36666667\n 3.36666667 3.2        3.33333333 3.4        3.33333333 3.16666667\n 3.16666667 3.43333333 3.6        3.7        3.16666667 3.13333333\n 3.43333333 3.3        2.9        3.33333333 3.26666667 2.7\n 2.96666667 3.36666667 3.6        3.06666667 3.5        3.06666667\n 3.5        3.23333333 4.96666667 4.7        4.96666667 3.93333333\n 4.63333333 4.33333333 4.76666667 3.53333333 4.7        3.93333333\n 3.5        4.36666667 4.06666667 4.56666667 4.03333333 4.73333333\n 4.36666667 4.2        4.3        4.         4.63333333 4.3\n 4.56666667 4.53333333 4.53333333 4.66666667 4.8        4.9\n 4.46666667 3.93333333 3.9        3.86666667 4.13333333 4.6\n 4.3        4.63333333 4.83333333 4.33333333 4.23333333 4.\n 4.16666667 4.56666667 4.13333333 3.53333333 4.16666667 4.3\n 4.26666667 4.46666667 3.53333333 4.2        5.2        4.53333333\n 5.33333333 4.93333333 5.1        5.73333333 3.96666667 5.5\n 5.         5.63333333 4.93333333 4.8        5.1        4.4\n 4.56666667 4.96666667 5.         6.06666667 5.73333333 4.4\n 5.26666667 4.43333333 5.73333333 4.63333333 5.23333333 5.46666667\n 4.6        4.66666667 4.93333333 5.33333333 5.43333333 6.03333333\n 4.93333333 4.73333333 4.76666667 5.6        5.1        5.\n 4.6        5.13333333 5.13333333 5.03333333 4.53333333 5.3\n 5.23333333 4.96666667 4.6        4.9        5.         4.66666667]\n[[5.1        3.5        1.4        0.2        1.         3.33333333]\n [4.9        3.         1.4        0.2        1.         3.1       ]\n [4.7        3.2        1.3        0.2        1.         3.06666667]\n [4.6        3.1        1.5        0.2        1.         3.06666667]\n [5.         3.6        1.4        0.2        1.         3.33333333]\n [5.4        3.9        1.7        0.4        1.         3.66666667]\n [4.6        3.4        1.4        0.3        1.         3.13333333]\n [5.         3.4        1.5        0.2        1.         3.3       ]\n [4.4        2.9        1.4        0.2        1.         2.9       ]\n [4.9        3.1        1.5        0.1        1.         3.16666667]\n [5.4        3.7        1.5        0.2        1.         3.53333333]\n [4.8        3.4        1.6        0.2        1.         3.26666667]\n [4.8        3.         1.4        0.1        1.         3.06666667]\n [4.3        3.         1.1        0.1        1.         2.8       ]\n [5.8        4.         1.2        0.2        1.         3.66666667]\n [5.7        4.4        1.5        0.4        1.         3.86666667]\n [5.4        3.9        1.3        0.4        1.         3.53333333]\n [5.1        3.5        1.4        0.3        1.         3.33333333]\n [5.7        3.8        1.7        0.3        1.         3.73333333]\n [5.1        3.8        1.5        0.3        1.         3.46666667]\n [5.4        3.4        1.7        0.2        1.         3.5       ]\n [5.1        3.7        1.5        0.4        1.         3.43333333]\n [4.6        3.6        1.         0.2        1.         3.06666667]\n [5.1        3.3        1.7        0.5        1.         3.36666667]\n [4.8        3.4        1.9        0.2        1.         3.36666667]\n [5.         3.         1.6        0.2        1.         3.2       ]\n [5.         3.4        1.6        0.4        1.         3.33333333]\n [5.2        3.5        1.5        0.2        1.         3.4       ]\n [5.2        3.4        1.4        0.2        1.         3.33333333]\n [4.7        3.2        1.6        0.2        1.         3.16666667]\n [4.8        3.1        1.6        0.2        1.         3.16666667]\n [5.4        3.4        1.5        0.4        1.         3.43333333]\n [5.2        4.1        1.5        0.1        1.         3.6       ]\n [5.5        4.2        1.4        0.2        1.         3.7       ]\n [4.9        3.1        1.5        0.2        1.         3.16666667]\n [5.         3.2        1.2        0.2        1.         3.13333333]\n [5.5        3.5        1.3        0.2        1.         3.43333333]\n [4.9        3.6        1.4        0.1        1.         3.3       ]\n [4.4        3.         1.3        0.2        1.         2.9       ]\n [5.1        3.4        1.5        0.2        1.         3.33333333]\n [5.         3.5        1.3        0.3        1.         3.26666667]\n [4.5        2.3        1.3        0.3        1.         2.7       ]\n [4.4        3.2        1.3        0.2        1.         2.96666667]\n [5.         3.5        1.6        0.6        1.         3.36666667]\n [5.1        3.8        1.9        0.4        1.         3.6       ]\n [4.8        3.         1.4        0.3        1.         3.06666667]\n [5.1        3.8        1.6        0.2        1.         3.5       ]\n [4.6        3.2        1.4        0.2        1.         3.06666667]\n [5.3        3.7        1.5        0.2        1.         3.5       ]\n [5.         3.3        1.4        0.2        1.         3.23333333]\n [7.         3.2        4.7        1.4        2.         4.96666667]\n [6.4        3.2        4.5        1.5        2.         4.7       ]\n [6.9        3.1        4.9        1.5        2.         4.96666667]\n [5.5        2.3        4.         1.3        2.         3.93333333]\n [6.5        2.8        4.6        1.5        2.         4.63333333]\n [5.7        2.8        4.5        1.3        2.         4.33333333]\n [6.3        3.3        4.7        1.6        2.         4.76666667]\n [4.9        2.4        3.3        1.         2.         3.53333333]\n [6.6        2.9        4.6        1.3        2.         4.7       ]\n [5.2        2.7        3.9        1.4        2.         3.93333333]\n [5.         2.         3.5        1.         2.         3.5       ]\n [5.9        3.         4.2        1.5        2.         4.36666667]\n [6.         2.2        4.         1.         2.         4.06666667]\n [6.1        2.9        4.7        1.4        2.         4.56666667]\n [5.6        2.9        3.6        1.3        2.         4.03333333]\n [6.7        3.1        4.4        1.4        2.         4.73333333]\n [5.6        3.         4.5        1.5        2.         4.36666667]\n [5.8        2.7        4.1        1.         2.         4.2       ]\n [6.2        2.2        4.5        1.5        2.         4.3       ]\n [5.6        2.5        3.9        1.1        2.         4.        ]\n [5.9        3.2        4.8        1.8        2.         4.63333333]\n [6.1        2.8        4.         1.3        2.         4.3       ]\n [6.3        2.5        4.9        1.5        2.         4.56666667]\n [6.1        2.8        4.7        1.2        2.         4.53333333]\n [6.4        2.9        4.3        1.3        2.         4.53333333]\n [6.6        3.         4.4        1.4        2.         4.66666667]\n [6.8        2.8        4.8        1.4        2.         4.8       ]\n [6.7        3.         5.         1.7        2.         4.9       ]\n [6.         2.9        4.5        1.5        2.         4.46666667]\n [5.7        2.6        3.5        1.         2.         3.93333333]\n [5.5        2.4        3.8        1.1        2.         3.9       ]\n [5.5        2.4        3.7        1.         2.         3.86666667]\n [5.8        2.7        3.9        1.2        2.         4.13333333]\n [6.         2.7        5.1        1.6        2.         4.6       ]\n [5.4        3.         4.5        1.5        2.         4.3       ]\n [6.         3.4        4.5        1.6        2.         4.63333333]\n [6.7        3.1        4.7        1.5        2.         4.83333333]\n [6.3        2.3        4.4        1.3        2.         4.33333333]\n [5.6        3.         4.1        1.3        2.         4.23333333]\n [5.5        2.5        4.         1.3        2.         4.        ]\n [5.5        2.6        4.4        1.2        2.         4.16666667]\n [6.1        3.         4.6        1.4        2.         4.56666667]\n [5.8        2.6        4.         1.2        2.         4.13333333]\n [5.         2.3        3.3        1.         2.         3.53333333]\n [5.6        2.7        4.2        1.3        2.         4.16666667]\n [5.7        3.         4.2        1.2        2.         4.3       ]\n [5.7        2.9        4.2        1.3        2.         4.26666667]\n [6.2        2.9        4.3        1.3        2.         4.46666667]\n [5.1        2.5        3.         1.1        2.         3.53333333]\n [5.7        2.8        4.1        1.3        2.         4.2       ]\n [6.3        3.3        6.         2.5        3.         5.2       ]\n [5.8        2.7        5.1        1.9        3.         4.53333333]\n [7.1        3.         5.9        2.1        3.         5.33333333]\n [6.3        2.9        5.6        1.8        3.         4.93333333]\n [6.5        3.         5.8        2.2        3.         5.1       ]\n [7.6        3.         6.6        2.1        3.         5.73333333]\n [4.9        2.5        4.5        1.7        3.         3.96666667]\n [7.3        2.9        6.3        1.8        3.         5.5       ]\n [6.7        2.5        5.8        1.8        3.         5.        ]\n [7.2        3.6        6.1        2.5        3.         5.63333333]\n [6.5        3.2        5.1        2.         3.         4.93333333]\n [6.4        2.7        5.3        1.9        3.         4.8       ]\n [6.8        3.         5.5        2.1        3.         5.1       ]\n [5.7        2.5        5.         2.         3.         4.4       ]\n [5.8        2.8        5.1        2.4        3.         4.56666667]\n [6.4        3.2        5.3        2.3        3.         4.96666667]\n [6.5        3.         5.5        1.8        3.         5.        ]\n [7.7        3.8        6.7        2.2        3.         6.06666667]\n [7.7        2.6        6.9        2.3        3.         5.73333333]\n [6.         2.2        5.         1.5        3.         4.4       ]\n [6.9        3.2        5.7        2.3        3.         5.26666667]\n [5.6        2.8        4.9        2.         3.         4.43333333]\n [7.7        2.8        6.7        2.         3.         5.73333333]\n [6.3        2.7        4.9        1.8        3.         4.63333333]\n [6.7        3.3        5.7        2.1        3.         5.23333333]\n [7.2        3.2        6.         1.8        3.         5.46666667]\n [6.2        2.8        4.8        1.8        3.         4.6       ]\n [6.1        3.         4.9        1.8        3.         4.66666667]\n [6.4        2.8        5.6        2.1        3.         4.93333333]\n [7.2        3.         5.8        1.6        3.         5.33333333]\n [7.4        2.8        6.1        1.9        3.         5.43333333]\n [7.9        3.8        6.4        2.         3.         6.03333333]\n [6.4        2.8        5.6        2.2        3.         4.93333333]\n [6.3        2.8        5.1        1.5        3.         4.73333333]\n [6.1        2.6        5.6        1.4        3.         4.76666667]\n [7.7        3.         6.1        2.3        3.         5.6       ]\n [6.3        3.4        5.6        2.4        3.         5.1       ]\n [6.4        3.1        5.5        1.8        3.         5.        ]\n [6.         3.         4.8        1.8        3.         4.6       ]\n [6.9        3.1        5.4        2.1        3.         5.13333333]\n [6.7        3.1        5.6        2.4        3.         5.13333333]\n [6.9        3.1        5.1        2.3        3.         5.03333333]\n [5.8        2.7        5.1        1.9        3.         4.53333333]\n [6.8        3.2        5.9        2.3        3.         5.3       ]\n [6.7        3.3        5.7        2.5        3.         5.23333333]\n [6.7        3.         5.2        2.3        3.         4.96666667]\n [6.3        2.5        5.         1.9        3.         4.6       ]\n [6.5        3.         5.2        2.         3.         4.9       ]\n [6.2        3.4        5.4        2.3        3.         5.        ]\n [5.9        3.         5.1        1.8        3.         4.66666667]]\n"
     ]
    }
   ],
   "source": [
    "mean_column = np.mean(iris[:,0:3], axis = 1)\n",
    "print(mean_column)\n",
    "new_iris = np.insert(iris, 5,mean_column, axis=1)\n",
    "print(new_iris)"
   ]
  },
  {
   "cell_type": "code",
   "execution_count": 122,
   "metadata": {},
   "outputs": [
    {
     "output_type": "stream",
     "name": "stdout",
     "text": [
      "[[5.1   3.5   1.4   0.2   1.    2.55 ]\n [4.9   3.    1.4   0.2   1.    2.375]\n [4.7   3.2   1.3   0.2   1.    2.35 ]\n [4.6   3.1   1.5   0.2   1.    2.35 ]\n [5.    3.6   1.4   0.2   1.    2.55 ]\n [5.4   3.9   1.7   0.4   1.    2.85 ]\n [4.6   3.4   1.4   0.3   1.    2.425]\n [5.    3.4   1.5   0.2   1.    2.525]\n [4.4   2.9   1.4   0.2   1.    2.225]\n [4.9   3.1   1.5   0.1   1.    2.4  ]\n [5.4   3.7   1.5   0.2   1.    2.7  ]\n [4.8   3.4   1.6   0.2   1.    2.5  ]\n [4.8   3.    1.4   0.1   1.    2.325]\n [4.3   3.    1.1   0.1   1.    2.125]\n [5.8   4.    1.2   0.2   1.    2.8  ]\n [5.7   4.4   1.5   0.4   1.    3.   ]\n [5.4   3.9   1.3   0.4   1.    2.75 ]\n [5.1   3.5   1.4   0.3   1.    2.575]\n [5.7   3.8   1.7   0.3   1.    2.875]\n [5.1   3.8   1.5   0.3   1.    2.675]\n [5.4   3.4   1.7   0.2   1.    2.675]\n [5.1   3.7   1.5   0.4   1.    2.675]\n [4.6   3.6   1.    0.2   1.    2.35 ]\n [5.1   3.3   1.7   0.5   1.    2.65 ]\n [4.8   3.4   1.9   0.2   1.    2.575]\n [5.    3.    1.6   0.2   1.    2.45 ]\n [5.    3.4   1.6   0.4   1.    2.6  ]\n [5.2   3.5   1.5   0.2   1.    2.6  ]\n [5.2   3.4   1.4   0.2   1.    2.55 ]\n [4.7   3.2   1.6   0.2   1.    2.425]\n [4.8   3.1   1.6   0.2   1.    2.425]\n [5.4   3.4   1.5   0.4   1.    2.675]\n [5.2   4.1   1.5   0.1   1.    2.725]\n [5.5   4.2   1.4   0.2   1.    2.825]\n [4.9   3.1   1.5   0.2   1.    2.425]\n [5.    3.2   1.2   0.2   1.    2.4  ]\n [5.5   3.5   1.3   0.2   1.    2.625]\n [4.9   3.6   1.4   0.1   1.    2.5  ]\n [4.4   3.    1.3   0.2   1.    2.225]\n [5.1   3.4   1.5   0.2   1.    2.55 ]\n [5.    3.5   1.3   0.3   1.    2.525]\n [4.5   2.3   1.3   0.3   1.    2.1  ]\n [4.4   3.2   1.3   0.2   1.    2.275]\n [5.    3.5   1.6   0.6   1.    2.675]\n [5.1   3.8   1.9   0.4   1.    2.8  ]\n [4.8   3.    1.4   0.3   1.    2.375]\n [5.1   3.8   1.6   0.2   1.    2.675]\n [4.6   3.2   1.4   0.2   1.    2.35 ]\n [5.3   3.7   1.5   0.2   1.    2.675]\n [5.    3.3   1.4   0.2   1.    2.475]\n [7.    3.2   4.7   1.4   2.    4.075]\n [6.4   3.2   4.5   1.5   2.    3.9  ]\n [6.9   3.1   4.9   1.5   2.    4.1  ]\n [5.5   2.3   4.    1.3   2.    3.275]\n [6.5   2.8   4.6   1.5   2.    3.85 ]\n [5.7   2.8   4.5   1.3   2.    3.575]\n [6.3   3.3   4.7   1.6   2.    3.975]\n [4.9   2.4   3.3   1.    2.    2.9  ]\n [6.6   2.9   4.6   1.3   2.    3.85 ]\n [5.2   2.7   3.9   1.4   2.    3.3  ]\n [5.    2.    3.5   1.    2.    2.875]\n [5.9   3.    4.2   1.5   2.    3.65 ]\n [6.    2.2   4.    1.    2.    3.3  ]\n [6.1   2.9   4.7   1.4   2.    3.775]\n [5.6   2.9   3.6   1.3   2.    3.35 ]\n [6.7   3.1   4.4   1.4   2.    3.9  ]\n [5.6   3.    4.5   1.5   2.    3.65 ]\n [5.8   2.7   4.1   1.    2.    3.4  ]\n [6.2   2.2   4.5   1.5   2.    3.6  ]\n [5.6   2.5   3.9   1.1   2.    3.275]\n [5.9   3.2   4.8   1.8   2.    3.925]\n [6.1   2.8   4.    1.3   2.    3.55 ]\n [6.3   2.5   4.9   1.5   2.    3.8  ]\n [6.1   2.8   4.7   1.2   2.    3.7  ]\n [6.4   2.9   4.3   1.3   2.    3.725]\n [6.6   3.    4.4   1.4   2.    3.85 ]\n [6.8   2.8   4.8   1.4   2.    3.95 ]\n [6.7   3.    5.    1.7   2.    4.1  ]\n [6.    2.9   4.5   1.5   2.    3.725]\n [5.7   2.6   3.5   1.    2.    3.2  ]\n [5.5   2.4   3.8   1.1   2.    3.2  ]\n [5.5   2.4   3.7   1.    2.    3.15 ]\n [5.8   2.7   3.9   1.2   2.    3.4  ]\n [6.    2.7   5.1   1.6   2.    3.85 ]\n [5.4   3.    4.5   1.5   2.    3.6  ]\n [6.    3.4   4.5   1.6   2.    3.875]\n [6.7   3.1   4.7   1.5   2.    4.   ]\n [6.3   2.3   4.4   1.3   2.    3.575]\n [5.6   3.    4.1   1.3   2.    3.5  ]\n [5.5   2.5   4.    1.3   2.    3.325]\n [5.5   2.6   4.4   1.2   2.    3.425]\n [6.1   3.    4.6   1.4   2.    3.775]\n [5.8   2.6   4.    1.2   2.    3.4  ]\n [5.    2.3   3.3   1.    2.    2.9  ]\n [5.6   2.7   4.2   1.3   2.    3.45 ]\n [5.7   3.    4.2   1.2   2.    3.525]\n [5.7   2.9   4.2   1.3   2.    3.525]\n [6.2   2.9   4.3   1.3   2.    3.675]\n [5.1   2.5   3.    1.1   2.    2.925]\n [5.7   2.8   4.1   1.3   2.    3.475]\n [6.3   3.3   6.    2.5   3.    4.525]\n [5.8   2.7   5.1   1.9   3.    3.875]\n [7.1   3.    5.9   2.1   3.    4.525]\n [6.3   2.9   5.6   1.8   3.    4.15 ]\n [6.5   3.    5.8   2.2   3.    4.375]\n [7.6   3.    6.6   2.1   3.    4.825]\n [4.9   2.5   4.5   1.7   3.    3.4  ]\n [7.3   2.9   6.3   1.8   3.    4.575]\n [6.7   2.5   5.8   1.8   3.    4.2  ]\n [7.2   3.6   6.1   2.5   3.    4.85 ]\n [6.5   3.2   5.1   2.    3.    4.2  ]\n [6.4   2.7   5.3   1.9   3.    4.075]\n [6.8   3.    5.5   2.1   3.    4.35 ]\n [5.7   2.5   5.    2.    3.    3.8  ]\n [5.8   2.8   5.1   2.4   3.    4.025]\n [6.4   3.2   5.3   2.3   3.    4.3  ]\n [6.5   3.    5.5   1.8   3.    4.2  ]\n [7.7   3.8   6.7   2.2   3.    5.1  ]\n [7.7   2.6   6.9   2.3   3.    4.875]\n [6.    2.2   5.    1.5   3.    3.675]\n [6.9   3.2   5.7   2.3   3.    4.525]\n [5.6   2.8   4.9   2.    3.    3.825]\n [7.7   2.8   6.7   2.    3.    4.8  ]\n [6.3   2.7   4.9   1.8   3.    3.925]\n [6.7   3.3   5.7   2.1   3.    4.45 ]\n [7.2   3.2   6.    1.8   3.    4.55 ]\n [6.2   2.8   4.8   1.8   3.    3.9  ]\n [6.1   3.    4.9   1.8   3.    3.95 ]\n [6.4   2.8   5.6   2.1   3.    4.225]\n [7.2   3.    5.8   1.6   3.    4.4  ]\n [7.4   2.8   6.1   1.9   3.    4.55 ]\n [7.9   3.8   6.4   2.    3.    5.025]\n [6.4   2.8   5.6   2.2   3.    4.25 ]\n [6.3   2.8   5.1   1.5   3.    3.925]\n [6.1   2.6   5.6   1.4   3.    3.925]\n [7.7   3.    6.1   2.3   3.    4.775]\n [6.3   3.4   5.6   2.4   3.    4.425]\n [6.4   3.1   5.5   1.8   3.    4.2  ]\n [6.    3.    4.8   1.8   3.    3.9  ]\n [6.9   3.1   5.4   2.1   3.    4.375]\n [6.7   3.1   5.6   2.4   3.    4.45 ]\n [6.9   3.1   5.1   2.3   3.    4.35 ]\n [5.8   2.7   5.1   1.9   3.    3.875]\n [6.8   3.2   5.9   2.3   3.    4.55 ]\n [6.7   3.3   5.7   2.5   3.    4.55 ]\n [6.7   3.    5.2   2.3   3.    4.3  ]\n [6.3   2.5   5.    1.9   3.    3.925]\n [6.5   3.    5.2   2.    3.    4.175]\n [6.2   3.4   5.4   2.3   3.    4.325]\n [5.9   3.    5.1   1.8   3.    3.95 ]]\n"
     ]
    }
   ],
   "source": [
    "iris_mean = np.mean(iris[:,:4], axis=1)\n",
    "iris_mean\n",
    "print(np.insert(iris, 5,iris_mean, axis=1))"
   ]
  },
  {
   "cell_type": "code",
   "execution_count": 123,
   "metadata": {},
   "outputs": [
    {
     "output_type": "stream",
     "name": "stdout",
     "text": [
      "[[5.1        3.5        1.4        0.2        1.        ]\n [4.9        3.         1.4        0.2        1.        ]\n [4.7        3.2        1.3        0.2        1.        ]\n [4.6        3.1        1.5        0.2        1.        ]\n [5.         3.6        1.4        0.2        1.        ]\n [5.4        3.9        1.7        0.4        1.        ]\n [4.6        3.4        1.4        0.3        1.        ]\n [5.         3.4        1.5        0.2        1.        ]\n [4.4        2.9        1.4        0.2        1.        ]\n [4.9        3.1        1.5        0.1        1.        ]\n [5.4        3.7        1.5        0.2        1.        ]\n [4.8        3.4        1.6        0.2        1.        ]\n [4.8        3.         1.4        0.1        1.        ]\n [4.3        3.         1.1        0.1        1.        ]\n [5.8        4.         1.2        0.2        1.        ]\n [5.7        4.4        1.5        0.4        1.        ]\n [5.4        3.9        1.3        0.4        1.        ]\n [5.1        3.5        1.4        0.3        1.        ]\n [5.7        3.8        1.7        0.3        1.        ]\n [5.1        3.8        1.5        0.3        1.        ]\n [5.4        3.4        1.7        0.2        1.        ]\n [5.1        3.7        1.5        0.4        1.        ]\n [4.6        3.6        1.         0.2        1.        ]\n [5.1        3.3        1.7        0.5        1.        ]\n [4.8        3.4        1.9        0.2        1.        ]\n [5.         3.         1.6        0.2        1.        ]\n [5.         3.4        1.6        0.4        1.        ]\n [5.2        3.5        1.5        0.2        1.        ]\n [5.2        3.4        1.4        0.2        1.        ]\n [4.7        3.2        1.6        0.2        1.        ]\n [4.8        3.1        1.6        0.2        1.        ]\n [5.4        3.4        1.5        0.4        1.        ]\n [5.2        4.1        1.5        0.1        1.        ]\n [5.5        4.2        1.4        0.2        1.        ]\n [4.9        3.1        1.5        0.2        1.        ]\n [5.         3.2        1.2        0.2        1.        ]\n [5.5        3.5        1.3        0.2        1.        ]\n [4.9        3.6        1.4        0.1        1.        ]\n [4.4        3.         1.3        0.2        1.        ]\n [5.1        3.4        1.5        0.2        1.        ]\n [5.         3.5        1.3        0.3        1.        ]\n [4.5        2.3        1.3        0.3        1.        ]\n [4.4        3.2        1.3        0.2        1.        ]\n [5.         3.5        1.6        0.6        1.        ]\n [5.1        3.8        1.9        0.4        1.        ]\n [4.8        3.         1.4        0.3        1.        ]\n [5.1        3.8        1.6        0.2        1.        ]\n [4.6        3.2        1.4        0.2        1.        ]\n [5.3        3.7        1.5        0.2        1.        ]\n [5.         3.3        1.4        0.2        1.        ]\n [7.         3.2        4.7        1.4        2.        ]\n [6.4        3.2        4.5        1.5        2.        ]\n [6.9        3.1        4.9        1.5        2.        ]\n [5.5        2.3        4.         1.3        2.        ]\n [6.5        2.8        4.6        1.5        2.        ]\n [5.7        2.8        4.5        1.3        2.        ]\n [6.3        3.3        4.7        1.6        2.        ]\n [4.9        2.4        3.3        1.         2.        ]\n [6.6        2.9        4.6        1.3        2.        ]\n [5.2        2.7        3.9        1.4        2.        ]\n [5.         2.         3.5        1.         2.        ]\n [5.9        3.         4.2        1.5        2.        ]\n [6.         2.2        4.         1.         2.        ]\n [6.1        2.9        4.7        1.4        2.        ]\n [5.6        2.9        3.6        1.3        2.        ]\n [6.7        3.1        4.4        1.4        2.        ]\n [5.6        3.         4.5        1.5        2.        ]\n [5.8        2.7        4.1        1.         2.        ]\n [6.2        2.2        4.5        1.5        2.        ]\n [5.6        2.5        3.9        1.1        2.        ]\n [5.9        3.2        4.8        1.8        2.        ]\n [6.1        2.8        4.         1.3        2.        ]\n [6.3        2.5        4.9        1.5        2.        ]\n [6.1        2.8        4.7        1.2        2.        ]\n [6.4        2.9        4.3        1.3        2.        ]\n [6.6        3.         4.4        1.4        2.        ]\n [6.8        2.8        4.8        1.4        2.        ]\n [6.7        3.         5.         1.7        2.        ]\n [6.         2.9        4.5        1.5        2.        ]\n [5.7        2.6        3.5        1.         2.        ]\n [5.5        2.4        3.8        1.1        2.        ]\n [5.5        2.4        3.7        1.         2.        ]\n [5.8        2.7        3.9        1.2        2.        ]\n [6.         2.7        5.1        1.6        2.        ]\n [5.4        3.         4.5        1.5        2.        ]\n [6.         3.4        4.5        1.6        2.        ]\n [6.7        3.1        4.7        1.5        2.        ]\n [6.3        2.3        4.4        1.3        2.        ]\n [5.6        3.         4.1        1.3        2.        ]\n [5.5        2.5        4.         1.3        2.        ]\n [5.5        2.6        4.4        1.2        2.        ]\n [6.1        3.         4.6        1.4        2.        ]\n [5.8        2.6        4.         1.2        2.        ]\n [5.         2.3        3.3        1.         2.        ]\n [5.6        2.7        4.2        1.3        2.        ]\n [5.7        3.         4.2        1.2        2.        ]\n [5.7        2.9        4.2        1.3        2.        ]\n [6.2        2.9        4.3        1.3        2.        ]\n [5.1        2.5        3.         1.1        2.        ]\n [5.7        2.8        4.1        1.3        2.        ]\n [6.3        3.3        6.         2.5        3.        ]\n [5.8        2.7        5.1        1.9        3.        ]\n [7.1        3.         5.9        2.1        3.        ]\n [6.3        2.9        5.6        1.8        3.        ]\n [6.5        3.         5.8        2.2        3.        ]\n [7.6        3.         6.6        2.1        3.        ]\n [4.9        2.5        4.5        1.7        3.        ]\n [7.3        2.9        6.3        1.8        3.        ]\n [6.7        2.5        5.8        1.8        3.        ]\n [7.2        3.6        6.1        2.5        3.        ]\n [6.5        3.2        5.1        2.         3.        ]\n [6.4        2.7        5.3        1.9        3.        ]\n [6.8        3.         5.5        2.1        3.        ]\n [5.7        2.5        5.         2.         3.        ]\n [5.8        2.8        5.1        2.4        3.        ]\n [6.4        3.2        5.3        2.3        3.        ]\n [6.5        3.         5.5        1.8        3.        ]\n [7.7        3.8        6.7        2.2        3.        ]\n [7.7        2.6        6.9        2.3        3.        ]\n [6.         2.2        5.         1.5        3.        ]\n [6.9        3.2        5.7        2.3        3.        ]\n [5.6        2.8        4.9        2.         3.        ]\n [7.7        2.8        6.7        2.         3.        ]\n [6.3        2.7        4.9        1.8        3.        ]\n [6.7        3.3        5.7        2.1        3.        ]\n [7.2        3.2        6.         1.8        3.        ]\n [6.2        2.8        4.8        1.8        3.        ]\n [6.1        3.         4.9        1.8        3.        ]\n [6.4        2.8        5.6        2.1        3.        ]\n [7.2        3.         5.8        1.6        3.        ]\n [7.4        2.8        6.1        1.9        3.        ]\n [7.9        3.8        6.4        2.         3.        ]\n [6.4        2.8        5.6        2.2        3.        ]\n [6.3        2.8        5.1        1.5        3.        ]\n [6.1        2.6        5.6        1.4        3.        ]\n [7.7        3.         6.1        2.3        3.        ]\n [6.3        3.4        5.6        2.4        3.        ]\n [6.4        3.1        5.5        1.8        3.        ]\n [6.         3.         4.8        1.8        3.        ]\n [6.9        3.1        5.4        2.1        3.        ]\n [6.7        3.1        5.6        2.4        3.        ]\n [6.9        3.1        5.1        2.3        3.        ]\n [5.8        2.7        5.1        1.9        3.        ]\n [6.8        3.2        5.9        2.3        3.        ]\n [6.7        3.3        5.7        2.5        3.        ]\n [6.7        3.         5.2        2.3        3.        ]\n [6.3        2.5        5.         1.9        3.        ]\n [6.5        3.         5.2        2.         3.        ]\n [6.2        3.4        5.4        2.3        3.        ]\n [5.9        3.         5.1        1.8        3.        ]\n [5.84333333 3.05733333 3.758      1.19933333 2.        ]]\n"
     ]
    }
   ],
   "source": [
    "moyenne = np.mean(iris, axis = 0)\n",
    "\n",
    "print(np.insert(iris, iris.shape[0], moyenne, axis = 0 ))"
   ]
  },
  {
   "cell_type": "code",
   "execution_count": null,
   "metadata": {},
   "outputs": [],
   "source": []
  }
 ],
 "metadata": {
  "kernelspec": {
   "name": "python385jvsc74a57bd064b474f71659f9be32f34132c3eef93d33d176ead871b80ca6db3fa26bc83f65",
   "display_name": "Python 3.8.5 64-bit ('base': conda)"
  },
  "language_info": {
   "codemirror_mode": {
    "name": "ipython",
    "version": 3
   },
   "file_extension": ".py",
   "mimetype": "text/x-python",
   "name": "python",
   "nbconvert_exporter": "python",
   "pygments_lexer": "ipython3",
   "version": "3.8.5"
  },
  "metadata": {
   "interpreter": {
    "hash": "64b474f71659f9be32f34132c3eef93d33d176ead871b80ca6db3fa26bc83f65"
   }
  }
 },
 "nbformat": 4,
 "nbformat_minor": 4
}