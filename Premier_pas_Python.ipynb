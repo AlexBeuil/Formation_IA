{
 "cells": [
  {
   "cell_type": "code",
   "execution_count": 1,
   "metadata": {},
   "outputs": [
    {
     "name": "stdout",
     "output_type": "stream",
     "text": [
      "1\n"
     ]
    }
   ],
   "source": [
    "a = 1\n",
    "print(a)"
   ]
  },
  {
   "cell_type": "code",
   "execution_count": 2,
   "metadata": {},
   "outputs": [
    {
     "name": "stdout",
     "output_type": "stream",
     "text": [
      "<class 'int'>\n",
      "<class 'float'>\n",
      "<class 'str'>\n"
     ]
    }
   ],
   "source": [
    "# Les types de variables\n",
    "\n",
    "a = 1\n",
    "print(type(a))\n",
    "b = 1.0\n",
    "print(type(b))\n",
    "c = 'bonjour'\n",
    "print(type(c))"
   ]
  },
  {
   "cell_type": "code",
   "execution_count": 3,
   "metadata": {},
   "outputs": [
    {
     "name": "stdout",
     "output_type": "stream",
     "text": [
      "<class 'float'>\n",
      "4.140000000000001\n"
     ]
    }
   ],
   "source": [
    "# Opérations entre types différents\n",
    "\n",
    "a = 1\n",
    "b = 3.14\n",
    "c = a + b\n",
    "print(type(c))\n",
    "print(c) "
   ]
  },
  {
   "cell_type": "code",
   "execution_count": 4,
   "metadata": {},
   "outputs": [
    {
     "name": "stdout",
     "output_type": "stream",
     "text": [
      "4.5\n",
      "<class 'float'>\n",
      "4\n",
      "<class 'int'>\n"
     ]
    }
   ],
   "source": [
    "# Opérations entre types différents\n",
    "\n",
    "a = 9\n",
    "\n",
    "b = a/2\n",
    "print(b)\n",
    "print(type(b))\n",
    "\n",
    "b = a//2\n",
    "print(b)\n",
    "print(type(b))"
   ]
  },
  {
   "cell_type": "code",
   "execution_count": 5,
   "metadata": {},
   "outputs": [
    {
     "name": "stdout",
     "output_type": "stream",
     "text": [
      "124\n",
      "<class 'int'>\n"
     ]
    }
   ],
   "source": [
    "# Convertir un type en un autre - str to int\n",
    "\n",
    "a = '123'\n",
    "b = int(a)\n",
    "print(b+1)\n",
    "print(type(b))"
   ]
  },
  {
   "cell_type": "code",
   "execution_count": 6,
   "metadata": {},
   "outputs": [
    {
     "name": "stdout",
     "output_type": "stream",
     "text": [
      "124.5\n",
      "<class 'float'>\n"
     ]
    }
   ],
   "source": [
    "# Convertir un type en un autre - str to float\n",
    "\n",
    "a = '123.5'\n",
    "b = float(a)\n",
    "print(b+1)\n",
    "print(type(b))"
   ]
  },
  {
   "cell_type": "code",
   "execution_count": 7,
   "metadata": {},
   "outputs": [
    {
     "name": "stdout",
     "output_type": "stream",
     "text": [
      "123\n",
      "<class 'int'>\n"
     ]
    }
   ],
   "source": [
    "# Convertir un type en un autre - float to int\n",
    "\n",
    "a = 123.5\n",
    "b = int(a)\n",
    "print(b)\n",
    "print(type(b))"
   ]
  },
  {
   "cell_type": "code",
   "execution_count": 8,
   "metadata": {},
   "outputs": [
    {
     "name": "stdout",
     "output_type": "stream",
     "text": [
      "<class 'str'>\n",
      "<class 'str'>\n",
      "7 3.14\n"
     ]
    }
   ],
   "source": [
    "# Convertir un type en un autre - int/float to str\n",
    "\n",
    "a = 7 \n",
    "b = 3.14\n",
    "\n",
    "c = str(a)\n",
    "d = str(b)\n",
    "\n",
    "print(type(c))\n",
    "print(type(d))\n",
    "print(c, d)"
   ]
  },
  {
   "cell_type": "code",
   "execution_count": 9,
   "metadata": {},
   "outputs": [
    {
     "name": "stdout",
     "output_type": "stream",
     "text": [
      "False\n",
      "True\n",
      "False\n",
      "True\n",
      "False\n"
     ]
    }
   ],
   "source": [
    "# Détermine la valeur retournée, True ou False, par chaque expression conditionelle :\n",
    "\n",
    "A = B = True\n",
    "C = D = False\n",
    "print( (A or B) and (C or D) )\n",
    "print( A or ( B and C) )\n",
    "print( A and B and (C or D) )\n",
    "print( (A and B) or (not C) )\n",
    "print( (not A) or D )"
   ]
  },
  {
   "cell_type": "code",
   "execution_count": 10,
   "metadata": {},
   "outputs": [
    {
     "name": "stdout",
     "output_type": "stream",
     "text": [
      "7\n",
      "-2\n",
      "7\n",
      "17\n",
      "8.988\n"
     ]
    }
   ],
   "source": [
    "# Donner les valeurs retournées par chacune des expresiions suivantes :\n",
    "\n",
    "print( abs(-3) + max(3,4) )\n",
    "print( min(4, 8, 0, -2) )\n",
    "print( max( min(7,8), min(4,6) ) )\n",
    "print( round(8.324) + round(8.88) )\n",
    "print( round(8.9875136,3) )"
   ]
  },
  {
   "cell_type": "code",
   "execution_count": 1,
   "metadata": {},
   "outputs": [
    {
     "name": "stdout",
     "output_type": "stream",
     "text": [
      "325\n",
      "-1.837959396219991 4.171292729553325\n"
     ]
    }
   ],
   "source": [
    "# 1. Trouver les solutions de 3x²-7x=23\n",
    "\n",
    "from math import *\n",
    "\n",
    "a = 3\n",
    "b = -7\n",
    "c = -23\n",
    "delta = b**2-4*a*c\n",
    "print(delta)\n",
    "\n",
    "x1 = (-b-(sqrt(delta)))/(2*a)\n",
    "x2 = (-b+(sqrt(delta)))/(2*a)\n",
    "\n",
    "print(x1, x2)"
   ]
  },
  {
   "cell_type": "code",
   "execution_count": 12,
   "metadata": {},
   "outputs": [
    {
     "name": "stdout",
     "output_type": "stream",
     "text": [
      "veuillez entrer un rayon : 12\n",
      "veuillez entrer un rayon : 11\n",
      "l'aire du cône est de 1658.7609210954108\n"
     ]
    }
   ],
   "source": [
    "# 2. Ecrire un programme qui, à partir de la saisie d'un rayon et d'une hauteur, calcule le volume d'un cône droit.\n",
    "\n",
    "from math import *\n",
    "# π × R² × h ÷ 3\n",
    "\n",
    "R = int(input('veuillez entrer un rayon : '))\n",
    "h = int(input('veuillez entrer un rayon : '))\n",
    "v = (pi*R**2*h)/3\n",
    "print(\"l'aire du cône est de\" , v)"
   ]
  },
  {
   "cell_type": "code",
   "execution_count": null,
   "metadata": {},
   "outputs": [],
   "source": []
  },
  {
   "cell_type": "code",
   "execution_count": null,
   "metadata": {},
   "outputs": [],
   "source": []
  }
 ],
 "metadata": {
  "kernelspec": {
   "display_name": "Python 3",
   "language": "python",
   "name": "python3"
  },
  "language_info": {
   "codemirror_mode": {
    "name": "ipython",
    "version": 3
   },
   "file_extension": ".py",
   "mimetype": "text/x-python",
   "name": "python",
   "nbconvert_exporter": "python",
   "pygments_lexer": "ipython3",
   "version": "3.8.5"
  }
 },
 "nbformat": 4,
 "nbformat_minor": 4
}
