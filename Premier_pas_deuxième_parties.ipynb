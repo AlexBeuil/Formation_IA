{
 "cells": [
  {
   "cell_type": "code",
   "execution_count": 1,
   "metadata": {},
   "outputs": [
    {
     "name": "stdout",
     "output_type": "stream",
     "text": [
      "Vive la data avec un grand D\n"
     ]
    }
   ],
   "source": [
    "a = \"Devdata\"\n",
    "\n",
    "if a == \"Devdata\":\n",
    "    print(\"Vive la data avec un grand D\")\n",
    "else : \n",
    "    print(\"Ho ! Es ce qu'il a de la data à Cannes ?\")"
   ]
  },
  {
   "cell_type": "code",
   "execution_count": 3,
   "metadata": {},
   "outputs": [
    {
     "name": "stdout",
     "output_type": "stream",
     "text": [
      "Vive la data\n"
     ]
    }
   ],
   "source": [
    "a = \"devdata\"\n",
    "\n",
    "if a == \"Devdata\":\n",
    "    print(\"Vive la data avec un grand D\")\n",
    "elif a == \"devdata\":\n",
    "    print(\"Vive la data\")\n",
    "else : \n",
    "    print(\"Ho ! Es ce qu'il a de la data à Cannes ?\")"
   ]
  },
  {
   "cell_type": "code",
   "execution_count": 16,
   "metadata": {},
   "outputs": [
    {
     "name": "stdout",
     "output_type": "stream",
     "text": [
      "[4.7, 53, 2019, 'formation', 'Monpellier']\n"
     ]
    }
   ],
   "source": [
    "maListe = [ 4.7, 53, 2019, \"formation\", \"Monpellier\"]\n",
    "print(maListe)"
   ]
  },
  {
   "cell_type": "code",
   "execution_count": 9,
   "metadata": {},
   "outputs": [
    {
     "name": "stdout",
     "output_type": "stream",
     "text": [
      "4.7\n",
      "53\n",
      "2019\n",
      "formation\n",
      "Monpellier\n"
     ]
    }
   ],
   "source": [
    "print(maListe[0])\n",
    "print(maListe[1])\n",
    "print(maListe[2])\n",
    "print(maListe[3])\n",
    "print(maListe[4])"
   ]
  },
  {
   "cell_type": "code",
   "execution_count": 17,
   "metadata": {},
   "outputs": [
    {
     "name": "stdout",
     "output_type": "stream",
     "text": [
      "DevData\n"
     ]
    }
   ],
   "source": [
    "maListe[0] = \"DevData\"\n",
    "print(maListe[0])"
   ]
  },
  {
   "cell_type": "code",
   "execution_count": 18,
   "metadata": {},
   "outputs": [
    {
     "name": "stdout",
     "output_type": "stream",
     "text": [
      "DevData\n",
      "53\n",
      "2019\n",
      "formation\n",
      "Monpellier\n"
     ]
    }
   ],
   "source": [
    "for i in maListe:\n",
    "    print(i)"
   ]
  },
  {
   "cell_type": "code",
   "execution_count": 19,
   "metadata": {},
   "outputs": [
    {
     "name": "stdout",
     "output_type": "stream",
     "text": [
      "D\n",
      "e\n",
      "v\n",
      "D\n",
      "a\n",
      "t\n",
      "a\n"
     ]
    }
   ],
   "source": [
    "a = \"DevData\"\n",
    "\n",
    "for i in a:\n",
    "    print(i)"
   ]
  },
  {
   "cell_type": "code",
   "execution_count": 20,
   "metadata": {},
   "outputs": [
    {
     "name": "stdout",
     "output_type": "stream",
     "text": [
      "x a pour valeur 1\n",
      "x a pour valeur 2\n",
      "x a pour valeur 4\n",
      "x a pour valeur 8\n",
      "Fin\n"
     ]
    }
   ],
   "source": [
    "x = 1\n",
    "\n",
    "while x < 10:\n",
    "    print(\"x a pour valeur\", x)\n",
    "    x = x * 2\n",
    "    \n",
    "print(\"Fin\")"
   ]
  },
  {
   "cell_type": "code",
   "execution_count": 21,
   "metadata": {},
   "outputs": [
    {
     "name": "stdout",
     "output_type": "stream",
     "text": [
      "0\n",
      "1\n",
      "2\n",
      "3\n",
      "4\n"
     ]
    }
   ],
   "source": [
    "for i in range(5):\n",
    "    print(i)"
   ]
  },
  {
   "cell_type": "code",
   "execution_count": 22,
   "metadata": {},
   "outputs": [
    {
     "name": "stdout",
     "output_type": "stream",
     "text": [
      "5\n",
      "6\n",
      "7\n",
      "8\n",
      "9\n"
     ]
    }
   ],
   "source": [
    "for i in range(5, 10):\n",
    "    print(i)"
   ]
  },
  {
   "cell_type": "code",
   "execution_count": 23,
   "metadata": {},
   "outputs": [
    {
     "name": "stdout",
     "output_type": "stream",
     "text": [
      "5\n",
      "7\n",
      "9\n"
     ]
    }
   ],
   "source": [
    "for i in range(5, 10, 2):\n",
    "    print(i)"
   ]
  },
  {
   "cell_type": "code",
   "execution_count": 24,
   "metadata": {},
   "outputs": [
    {
     "name": "stdout",
     "output_type": "stream",
     "text": [
      "[2, 3, 10, 29, 66, 127, 218, 345, 514, 731]\n"
     ]
    }
   ],
   "source": [
    "maListe = [i**3 + 2 for i in range(10)]\n",
    "print(maListe)"
   ]
  },
  {
   "cell_type": "code",
   "execution_count": 27,
   "metadata": {},
   "outputs": [
    {
     "name": "stdout",
     "output_type": "stream",
     "text": [
      "Entrez un nombre: 4\n",
      "4 est Paire\n"
     ]
    }
   ],
   "source": [
    "# 1. Ecrire un programme qui à partir d’une saisie d’un nombre vous dit s’il est paire ou impaire.\n",
    "\n",
    "n = int(input(\"Entrez un nombre: \"))\n",
    "\n",
    "if (n % 2) == 0:\n",
    "   print(\"{0} est Paire\".format(n))\n",
    "else:\n",
    "   print(\"{0} est Impaire\".format(n))"
   ]
  },
  {
   "cell_type": "code",
   "execution_count": 55,
   "metadata": {},
   "outputs": [
    {
     "name": "stdout",
     "output_type": "stream",
     "text": [
      "Première longueur3\n",
      "Deuxième longueur4\n",
      "Troisième longueur5\n",
      "Le triangle est rectangle\n"
     ]
    }
   ],
   "source": [
    "# 2. Etant donné les longueurs des cotés d’un triangle (hypoténuse, coté\n",
    "#    adjacent) écrire un programme qui vérifie si un triangle est rectangle.\n",
    "\n",
    "a = int(input(\"Première longueur\"))\n",
    "b = int(input(\"Deuxième longueur\"))\n",
    "c = int(input(\"Troisième longueur\"))\n",
    "\n",
    "if a**2 + b**2 == c**2:\n",
    "    print(\"Le triangle est rectangle\")\n",
    "else:\n",
    "    print(\"Le triangle n'est pas rectangle\")"
   ]
  },
  {
   "cell_type": "code",
   "execution_count": 31,
   "metadata": {},
   "outputs": [
    {
     "name": "stdout",
     "output_type": "stream",
     "text": [
      "12\n",
      "le prix TTC 28.799999999999997\n",
      "0\n"
     ]
    }
   ],
   "source": [
    "# 3. Créer un programme qui donne le prix TTC après avoir saisie le prix HT.\n",
    "#    Ce programme doit se répéter pour pouvoir entrer plusieurs prix à la\n",
    "#    suite et ne s’arrêter que si l’utilisateur rentre 0.\n",
    "\n",
    "prixht = int(input())\n",
    "while prixht != 0:\n",
    "    print(\"le prix TTC\", ((prixht*20)/100)* prixht)\n",
    "    prixht = int(input())"
   ]
  },
  {
   "cell_type": "code",
   "execution_count": 56,
   "metadata": {},
   "outputs": [
    {
     "name": "stdout",
     "output_type": "stream",
     "text": [
      "[1, 2, 3, 4, 5, 7, 8, 9]\n"
     ]
    }
   ],
   "source": [
    "# 4. Soit les listes L1 = [2, 7, 3, 1, 5, 7, 1] et L2 = [8, 5, 9, 4, 1, 1, 5]. Produisez\n",
    "#    une liste L3 qui contient une seul et unique fois tout les éléments de L1\n",
    "#    et L2.\n",
    "\n",
    "L1 = [2, 7, 3, 1, 5, 7, 1]\n",
    "L2 = [8, 5, 9, 4, 1, 1, 5]\n",
    "L3 = []\n",
    "\n",
    "for i in L1:\n",
    "    if L3.count(i)==0:\n",
    "        L3.append(i)\n",
    "    else:\n",
    "        None\n",
    "for i in L2:\n",
    "    if L3.count(i)==0:\n",
    "        L3.append(i)\n",
    "    else:\n",
    "        None\n",
    "L3.sort()\n",
    "print(L3)"
   ]
  },
  {
   "cell_type": "code",
   "execution_count": 58,
   "metadata": {},
   "outputs": [
    {
     "name": "stdout",
     "output_type": "stream",
     "text": [
      "La liste est un palindrome\n"
     ]
    }
   ],
   "source": [
    "# 5. Ecrire un programme qui vérifie si la liste [1, 2, 3, 4, 3, 2, 1] et un\n",
    "#    palindrome.\n",
    "\n",
    "L = [1, 2, 3, 4, 3, 2, 1]\n",
    "Lp = L.copy()\n",
    "Lp.reverse()\n",
    "if L==Lp:\n",
    "    print(\"La liste est un palindrome\")\n",
    "else:\n",
    "    print(\"La liste n'est pas un palindrome\") "
   ]
  },
  {
   "cell_type": "code",
   "execution_count": 1,
   "metadata": {},
   "outputs": [
    {
     "name": "stdout",
     "output_type": "stream",
     "text": [
      "o\n",
      "j\n",
      "njou\n",
      "BONJOUR\n",
      "Bonsoir\n",
      "3\n"
     ]
    }
   ],
   "source": [
    "# Donner les valeurs retournées par chacunes des expressions suivantes:\n",
    "\n",
    "A = \"Bonjour\"\n",
    "print(A[1])\n",
    "print(A[-4])\n",
    "print(A[2 :-1])\n",
    "print(A.upper() )\n",
    "print(A.replace(\"jour\",\"soir\"))\n",
    "print(A.find(\"jour\"))"
   ]
  },
  {
   "cell_type": "code",
   "execution_count": 16,
   "metadata": {
    "scrolled": true
   },
   "outputs": [
    {
     "name": "stdout",
     "output_type": "stream",
     "text": [
      "Veuillez renseigner le verbe du premier groupe que vous souhaitez conjuguer : chanter\n",
      "je chante\n",
      "tu chantes\n",
      "il chante\n",
      "nous chantons\n",
      "vous chantez\n",
      "ils chantent\n"
     ]
    }
   ],
   "source": [
    "# 1. Ecrire un programme qui demande à un utilisateur de saisir un verbe \n",
    "# du premier groupe et affiche la conjugaison du verbe au présent de \n",
    "# l'indicatif.\n",
    "\n",
    "verbe = str(input(\"Veuillez renseigner le verbe du premier groupe que vous souhaitez conjuguer : \"))\n",
    "\n",
    "verbe2 = verbe[0:-2]\n",
    "\n",
    "if verbe[-2:]==\"er\":\n",
    "    print(\"je \" + verbe2 + \"e\")\n",
    "    print(\"tu \" + verbe2 + \"es\")\n",
    "    print(\"il \" + verbe2 + \"e\")\n",
    "    print(\"nous \" + verbe2 + \"ons\")\n",
    "    print(\"vous \" + verbe2 + \"ez\")\n",
    "    print(\"ils \" + verbe2 + \"ent\")\n",
    "else:\n",
    "    print(\"ce n'est pas un verbe du premier groupe\")"
   ]
  },
  {
   "cell_type": "code",
   "execution_count": 6,
   "metadata": {
    "scrolled": true
   },
   "outputs": [
    {
     "name": "stdout",
     "output_type": "stream",
     "text": [
      "saisir un mot :japon\n",
      "saisir un mot :savon\n"
     ]
    },
    {
     "data": {
      "text/plain": [
       "2"
      ]
     },
     "execution_count": 6,
     "metadata": {},
     "output_type": "execute_result"
    }
   ],
   "source": [
    "# 2. La distance de Hamming entre deux mots de même longueur est le nombre\n",
    "# d’endroits où les lettres sont différentes.\n",
    "m1 = str(input(\"saisir un mot :\"))\n",
    "m2 = str(input(\"saisir un mot :\"))\n",
    "def dist_hamming(m1,m2):\n",
    "    d = 0\n",
    "    for a,b in zip(m1,m2):\n",
    "        if a!=b:\n",
    "            d += 1\n",
    "    return d\n",
    "\n",
    "dist_hamming(m1,m2)\n",
    "\n",
    "# zip est une fonction interne qui prend deux ou plusieurs \n",
    "# séquences et retourne une liste "
   ]
  },
  {
   "cell_type": "code",
   "execution_count": 7,
   "metadata": {},
   "outputs": [
    {
     "name": "stdout",
     "output_type": "stream",
     "text": [
      "japon\n",
      "nopaj"
     ]
    }
   ],
   "source": [
    "# 3. Demandez à l’utilisateur d’entrer un mot au clavier. Ensuite, \n",
    "# écrivez-le à l’envers, c’est-à-dire de droite à gauche.\n",
    "\n",
    "mot = input()\n",
    "\n",
    "for i in range(len(mot)):\n",
    "    index = len(mot) -i -1\n",
    "    index = -i-1\n",
    "    print(mot[index],end=\"\")\n",
    "    \n",
    "# Index\n",
    "# (mot[index],end=\"\") \n",
    "# Renvoie la position du premier élément de la liste \n",
    "# en commençant à compter les positions à partir de zéro)."
   ]
  },
  {
   "cell_type": "code",
   "execution_count": 14,
   "metadata": {},
   "outputs": [
    {
     "name": "stdout",
     "output_type": "stream",
     "text": [
      "Saisissez un nombre quelconque : 43\n",
      "Saisissez un second nombre quelconque : 23\n",
      "Saisissez un troisième nombre quelconque : 51\n",
      "Il n'y a pas de solution !\n"
     ]
    }
   ],
   "source": [
    "# 4. Calculer les solutions, si elles existe, du polynôme\n",
    "#   ax2 + bx + c = 0\n",
    "\n",
    "#x = int(input(\"Entrez une valeur pour x : \"))\n",
    "\n",
    "#for k in range(1):\n",
    "#    valeur = 3*x*x+5*x+1\n",
    "#    print(\"f(x)=\", valeur)\n",
    "\n",
    "from math import *\n",
    "a = float(input(\"Saisissez un nombre quelconque : \"))\n",
    "b = float(input(\"Saisissez un second nombre quelconque : \"))\n",
    "c = float(input(\"Saisissez un troisième nombre quelconque : \"))\n",
    "delta = b**2 - 4*a*c\n",
    "\n",
    "if delta > 0:\n",
    "    x1 = (-b-(sqrt(delta)))/(2*a)\n",
    "    x2 = (-b+(sqrt(delta)))/(2*a)\n",
    "    \n",
    "elif delta == 0:\n",
    "    x1 = -b/(2*a)\n",
    "\n",
    "else:\n",
    "    print(\"Il n'y a pas de solution !\")"
   ]
  },
  {
   "cell_type": "code",
   "execution_count": 5,
   "metadata": {
    "scrolled": true
   },
   "outputs": [
    {
     "name": "stdout",
     "output_type": "stream",
     "text": [
      "Entrez le nombre n : \n",
      "23\n",
      "Somme : 0\n",
      "Somme : 1\n",
      "Somme : 3\n",
      "Somme : 6\n",
      "Somme : 10\n",
      "Somme : 15\n",
      "Somme : 21\n",
      "Somme : 28\n",
      "Somme : 36\n",
      "Somme : 45\n",
      "Somme : 55\n",
      "Somme : 66\n",
      "Somme : 78\n",
      "Somme : 91\n",
      "Somme : 105\n",
      "Somme : 120\n",
      "Somme : 136\n",
      "Somme : 153\n",
      "Somme : 171\n",
      "Somme : 190\n",
      "Somme : 210\n",
      "Somme : 231\n",
      "Somme : 253\n",
      "Somme : 276\n"
     ]
    }
   ],
   "source": [
    "# 5. Additionner les n premiers entiers.\n",
    "\n",
    "print(\"Entrez le nombre n : \")\n",
    "n = int(input())\n",
    "somme = 0\n",
    "\n",
    "for i in range(n+1):\n",
    "    somme = somme + i\n",
    "    print(\"Somme :\", somme)"
   ]
  },
  {
   "cell_type": "code",
   "execution_count": 10,
   "metadata": {},
   "outputs": [
    {
     "name": "stdout",
     "output_type": "stream",
     "text": [
      "XX01234567890123456789012345678901234567890123456789\n",
      "0.50000000000000000000000000000000000000000000000000\n",
      "0.25000000000000000000000000000000000000000000000000\n",
      "0.12500000000000000000000000000000000000000000000000\n",
      "0.06250000000000000000000000000000000000000000000000\n",
      "0.03125000000000000000000000000000000000000000000000\n",
      "0.01562500000000000000000000000000000000000000000000\n",
      "0.00781250000000000000000000000000000000000000000000\n",
      "0.00390625000000000000000000000000000000000000000000\n",
      "0.00195312500000000000000000000000000000000000000000\n",
      "0.00097656250000000000000000000000000000000000000000\n",
      "0.00048828125000000000000000000000000000000000000000\n",
      "0.00024414062500000000000000000000000000000000000000\n",
      "0.00012207031250000000000000000000000000000000000000\n",
      "0.00006103515625000000000000000000000000000000000000\n",
      "0.00003051757812500000000000000000000000000000000000\n",
      "0.00001525878906250000000000000000000000000000000000\n",
      "0.00000762939453125000000000000000000000000000000000\n",
      "0.00000381469726562500000000000000000000000000000000\n",
      "0.00000190734863281250000000000000000000000000000000\n",
      "0.00000095367431640625000000000000000000000000000000\n",
      "0.00000047683715820312500000000000000000000000000000\n",
      "0.00000023841857910156250000000000000000000000000000\n",
      "0.00000011920928955078125000000000000000000000000000\n",
      "0.00000005960464477539062500000000000000000000000000\n",
      "0.00000002980232238769531250000000000000000000000000\n",
      "0.00000001490116119384765625000000000000000000000000\n",
      "0.00000000745058059692382812500000000000000000000000\n",
      "0.00000000372529029846191406250000000000000000000000\n",
      "0.00000000186264514923095703125000000000000000000000\n",
      "0.00000000093132257461547851562500000000000000000000\n",
      "0.00000000046566128730773925781250000000000000000000\n",
      "0.00000000023283064365386962890625000000000000000000\n",
      "0.00000000011641532182693481445312500000000000000000\n",
      "0.00000000005820766091346740722656250000000000000000\n",
      "0.00000000002910383045673370361328125000000000000000\n",
      "0.00000000001455191522836685180664062500000000000000\n",
      "0.00000000000727595761418342590332031250000000000000\n",
      "0.00000000000363797880709171295166015625000000000000\n",
      "0.00000000000181898940354585647583007812500000000000\n",
      "0.00000000000090949470177292823791503906250000000000\n",
      "0.00000000000045474735088646411895751953125000000000\n",
      "0.00000000000022737367544323205947875976562500000000\n",
      "0.00000000000011368683772161602973937988281250000000\n",
      "0.00000000000005684341886080801486968994140625000000\n",
      "0.00000000000002842170943040400743484497070312500000\n",
      "0.00000000000001421085471520200371742248535156250000\n",
      "0.00000000000000710542735760100185871124267578125000\n",
      "0.00000000000000355271367880050092935562133789062500\n",
      "0.00000000000000177635683940025046467781066894531250\n",
      "0.00000000000000088817841970012523233890533447265625\n"
     ]
    }
   ],
   "source": [
    "# 6. L'infiniment petit.\n",
    "# Vous allez diviser succesivement par 2 la valeur 1, ceci 50 fois.\n",
    "# A chaque fois, afficher le résultat sous la forme d'un nombre ayant \n",
    "# 50 chiffres après la virgule. Pour valider votre résultat, aiifcher\n",
    "# au démarrage la chaine : \n",
    "# \"XX0123456789023456789012345678901234567890123456789\".\n",
    "\n",
    "\n",
    "val = 1\n",
    "print(\"XX\" + \"0123456789\" * 5)\n",
    "for i in range(50):\n",
    "    val = val / 2\n",
    "    print(\"{0:51.50f}\".format(val))\n"
   ]
  },
  {
   "cell_type": "code",
   "execution_count": 11,
   "metadata": {},
   "outputs": [
    {
     "name": "stdout",
     "output_type": "stream",
     "text": [
      "Réponse : 18\n"
     ]
    }
   ],
   "source": [
    "# 5. Compter les nombres à deux chiffres ayant le chiffre 7.\n",
    "\n",
    "nb = 0\n",
    "\n",
    "for i in range(10,99):\n",
    "    dizaine = i // 10\n",
    "    unite = i - 10 * dizaine\n",
    "    if dizaine == 7 or unite == 7:\n",
    "        nb = nb + 1\n",
    "print(\"Réponse :\", nb)\n"
   ]
  },
  {
   "cell_type": "code",
   "execution_count": 4,
   "metadata": {},
   "outputs": [
    {
     "name": "stdout",
     "output_type": "stream",
     "text": [
      "Entrez un mot\n",
      "japon\n",
      "Nombre de consonnes : 3\n"
     ]
    }
   ],
   "source": [
    "# 6. Compter les consonnes dans un mot.\n",
    "\n",
    "\n",
    "print(\"Entrez un mot\")\n",
    "\n",
    "mot = input()\n",
    "mot = mot.upper()\n",
    "nb_voyelles = 0\n",
    "nb_lettres = len(mot)\n",
    "\n",
    "for i in range(nb_lettres):\n",
    "    lettre = mot[i]\n",
    "    if lettre == \"A\" or lettre == \"E\" or lettre == \"I\" or lettre == \"O\" or lettre == \"U\" or lettre == \"Y\" :\n",
    "        nb_voyelles = nb_voyelles + 1\n",
    "\n",
    "nb_consonnes = nb_lettres - nb_voyelles\n",
    "\n",
    "print(\"Nombre de consonnes :\", nb_consonnes)"
   ]
  },
  {
   "cell_type": "code",
   "execution_count": 6,
   "metadata": {
    "scrolled": true
   },
   "outputs": [
    {
     "name": "stdout",
     "output_type": "stream",
     "text": [
      "Entrez le nom à coder : \n",
      "alexandre\n",
      "CODE :  DOHADQGUH\n",
      "\n",
      "----------\n",
      "Entrez le nom à décoder : \n",
      "DOHADQGUH\n",
      "EN CLAIR :  ALEXANDRE\n"
     ]
    }
   ],
   "source": [
    "#7. Encoder et décrypter un nom \n",
    "print(\"Entrez le nom à coder : \")\n",
    "\n",
    "nom = input()\n",
    "nom = nom.upper()\n",
    "SECRET = \"\"\n",
    "\n",
    "for i in range(len(nom)):\n",
    "    ascii = ord(nom[i])\n",
    "    code = ascii + 3\n",
    "    if code > ord('Z') :\n",
    "        code -= 26 # code = code - 26\n",
    "    SECRET += chr(code) # secret = secret + chr(code)\n",
    "    \n",
    "print(\"CODE : \",SECRET)\n",
    "print(\"\\n----------\")\n",
    "\n",
    "print(\"Entrez le nom à décoder : \")\n",
    "\n",
    "nom = input()\n",
    "nom = nom.upper()\n",
    "DECODE = \"\"\n",
    "\n",
    "for i in range(len(nom)):\n",
    "    ascii = ord(nom[i])\n",
    "    code = ascii - 3\n",
    "    if code < ord('A') :\n",
    "        code += 26 # code = code + 26\n",
    "    DECODE += chr(code) # DECODE = DECODE + chr(ord)\n",
    "    \n",
    "print(\"EN CLAIR : \",DECODE)"
   ]
  },
  {
   "cell_type": "code",
   "execution_count": 9,
   "metadata": {
    "scrolled": true
   },
   "outputs": [
    {
     "name": "stdout",
     "output_type": "stream",
     "text": [
      "html\n",
      "head\n",
      "title\n",
      "/title\n",
      "/head\n",
      "body\n",
      "/body\n",
      "/html\n"
     ]
    }
   ],
   "source": [
    "# 8. Afficher les balises d'une page HTML.\n",
    "\n",
    "code=\"<html> <head> <title> Mon Titre </title> </head> <body> Texte sur la page </body> </html>\"\n",
    "for i in range(len(code)):\n",
    "    if code[i] =='<':\n",
    "        u=i\n",
    "        v=code.find('>',i)\n",
    "        print(code[u+1:v])\n"
   ]
  },
  {
   "cell_type": "code",
   "execution_count": 23,
   "metadata": {
    "scrolled": true
   },
   "outputs": [
    {
     "name": "stdout",
     "output_type": "stream",
     "text": [
      "Entrez le nombre de jours dans le mois : \n",
      "1\n",
      "Entrez le premier jour du mois : 1 pour lundi, 7 pour dimanche\n",
      "1\n",
      "LUN MAR MER JEU VEN SAM DIM\n",
      "  1 "
     ]
    }
   ],
   "source": [
    "# 9. Afficher le calendrier du mois.\n",
    "\n",
    "print(\"Entrez le nombre de jours dans le mois : \")\n",
    "nbjours = int(input())\n",
    "print(\"Entrez le premier jour du mois : 1 pour lundi, 7 pour dimanche\")\n",
    "ColDepart = int(input())\n",
    "print(\"LUN MAR MER JEU VEN SAM DIM\")\n",
    "NbColVides = ColDepart - 1\n",
    "LargeurCol = 4\n",
    "print( \" \" * LargeurCol * NbColVides, end=\"\")\n",
    "ColCourante = ColDepart # 1 col du lundi, 7 col du dimanche\n",
    "\n",
    "for i in range(nbjours) :\n",
    "    print(\"{0:3d} \".format(i+1), end=\"\")\n",
    "    ColCourante = ColCourante + 1\n",
    "    if ColCourante == 8 :\n",
    "        print() # une nouvelle ligne commence\n",
    "        ColCourante = 1"
   ]
  },
  {
   "cell_type": "code",
   "execution_count": 25,
   "metadata": {},
   "outputs": [
    {
     "name": "stdout",
     "output_type": "stream",
     "text": [
      "veuillez entre un nombre de tirage voulue: 4\n",
      "[1, 0, 0, 0]\n",
      "nombre de faces tirés:1/4\n",
      "nombre de pile tirés : 3/4\n"
     ]
    }
   ],
   "source": [
    "# 10. Statistiques avec pile ou face.\n",
    "# 0 = pile 1 = face\n",
    "import random\n",
    "\n",
    "nb_tirages=int(input('veuillez entre un nombre de tirage voulue: '))\n",
    "\n",
    "counter=[random.randrange(0,2) for i in range(nb_tirages)]\n",
    "print(counter)\n",
    "print(f'nombre de faces tirés:{sum(counter)}/{nb_tirages}') \n",
    "print(f'nombre de pile tirés : { len( counter)-sum( counter)}/{ nb_tirages}')"
   ]
  },
  {
   "cell_type": "code",
   "execution_count": null,
   "metadata": {},
   "outputs": [],
   "source": []
  }
 ],
 "metadata": {
  "kernelspec": {
   "display_name": "Python 3",
   "language": "python",
   "name": "python3"
  },
  "language_info": {
   "codemirror_mode": {
    "name": "ipython",
    "version": 3
   },
   "file_extension": ".py",
   "mimetype": "text/x-python",
   "name": "python",
   "nbconvert_exporter": "python",
   "pygments_lexer": "ipython3",
   "version": "3.8.5"
  }
 },
 "nbformat": 4,
 "nbformat_minor": 4
}
