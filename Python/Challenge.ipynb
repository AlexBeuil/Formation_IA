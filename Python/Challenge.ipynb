{
 "metadata": {
  "language_info": {
   "codemirror_mode": {
    "name": "ipython",
    "version": 3
   },
   "file_extension": ".py",
   "mimetype": "text/x-python",
   "name": "python",
   "nbconvert_exporter": "python",
   "pygments_lexer": "ipython3",
   "version": "3.8.5"
  },
  "orig_nbformat": 2,
  "kernelspec": {
   "name": "python385jvsc74a57bd064b474f71659f9be32f34132c3eef93d33d176ead871b80ca6db3fa26bc83f65",
   "display_name": "Python 3.8.5 64-bit ('base': conda)"
  },
  "metadata": {
   "interpreter": {
    "hash": "64b474f71659f9be32f34132c3eef93d33d176ead871b80ca6db3fa26bc83f65"
   }
  }
 },
 "nbformat": 4,
 "nbformat_minor": 2,
 "cells": [
  {
   "source": [
    "# Introduction au dataset"
   ],
   "cell_type": "markdown",
   "metadata": {}
  },
  {
   "source": [
    "# Lire all-ages.csv dans un DataFrame et l'assigner à la variable all_ages. \n",
    "# Lire recent-grads.csv dans un DataFrame et l'assigner à la variable recent_grads."
   ],
   "cell_type": "markdown",
   "metadata": {}
  },
  {
   "cell_type": "code",
   "execution_count": 14,
   "metadata": {},
   "outputs": [
    {
     "output_type": "stream",
     "name": "stdout",
     "text": [
      "     Major_code                                            Major  \\\n0          1100                              GENERAL AGRICULTURE   \n1          1101            AGRICULTURE PRODUCTION AND MANAGEMENT   \n2          1102                           AGRICULTURAL ECONOMICS   \n3          1103                                  ANIMAL SCIENCES   \n4          1104                                     FOOD SCIENCE   \n..          ...                                              ...   \n168        6211                           HOSPITALITY MANAGEMENT   \n169        6212    MANAGEMENT INFORMATION SYSTEMS AND STATISTICS   \n170        6299  MISCELLANEOUS BUSINESS & MEDICAL ADMINISTRATION   \n171        6402                                          HISTORY   \n172        6403                            UNITED STATES HISTORY   \n\n                      Major_category   Total  Employed  \\\n0    Agriculture & Natural Resources  128148     90245   \n1    Agriculture & Natural Resources   95326     76865   \n2    Agriculture & Natural Resources   33955     26321   \n3    Agriculture & Natural Resources  103549     81177   \n4    Agriculture & Natural Resources   24280     17281   \n..                               ...     ...       ...   \n168                         Business  200854    163393   \n169                         Business  156673    134478   \n170                         Business  102753     77471   \n171        Humanities & Liberal Arts  712509    478416   \n172        Humanities & Liberal Arts   17746     11887   \n\n     Employed_full_time_year_round  Unemployed  Unemployment_rate  Median  \\\n0                            74078        2423           0.026147   50000   \n1                            64240        2266           0.028636   54000   \n2                            22810         821           0.030248   63000   \n3                            64937        3619           0.042679   46000   \n4                            12722         894           0.049188   62000   \n..                             ...         ...                ...     ...   \n168                         122499        8862           0.051447   49000   \n169                         118249        6186           0.043977   72000   \n170                          61603        4308           0.052679   53000   \n171                         354163       33725           0.065851   50000   \n172                           8204         943           0.073500   50000   \n\n     P25th     P75th  \n0    34000   80000.0  \n1    36000   80000.0  \n2    40000   98000.0  \n3    30000   72000.0  \n4    38500   90000.0  \n..     ...       ...  \n168  33000   70000.0  \n169  50000  100000.0  \n170  36000   83000.0  \n171  35000   80000.0  \n172  39000   81000.0  \n\n[173 rows x 11 columns]\n     Rank  Major_code                                      Major  \\\n0       1        2419                      PETROLEUM ENGINEERING   \n1       2        2416             MINING AND MINERAL ENGINEERING   \n2       3        2415                  METALLURGICAL ENGINEERING   \n3       4        2417  NAVAL ARCHITECTURE AND MARINE ENGINEERING   \n4       5        2405                       CHEMICAL ENGINEERING   \n..    ...         ...                                        ...   \n168   169        3609                                    ZOOLOGY   \n169   170        5201                     EDUCATIONAL PSYCHOLOGY   \n170   171        5202                        CLINICAL PSYCHOLOGY   \n171   172        5203                      COUNSELING PSYCHOLOGY   \n172   173        3501                            LIBRARY SCIENCE   \n\n               Major_category  Total  Sample_size    Men  Women  ShareWomen  \\\n0                 Engineering   2339           36   2057    282    0.120564   \n1                 Engineering    756            7    679     77    0.101852   \n2                 Engineering    856            3    725    131    0.153037   \n3                 Engineering   1258           16   1123    135    0.107313   \n4                 Engineering  32260          289  21239  11021    0.341631   \n..                        ...    ...          ...    ...    ...         ...   \n168    Biology & Life Science   8409           47   3050   5359    0.637293   \n169  Psychology & Social Work   2854            7    522   2332    0.817099   \n170  Psychology & Social Work   2838           13    568   2270    0.799859   \n171  Psychology & Social Work   4626           21    931   3695    0.798746   \n172                 Education   1098            2    134    964    0.877960   \n\n     Employed  ...  Part_time  Full_time_year_round  Unemployed  \\\n0        1976  ...        270                  1207          37   \n1         640  ...        170                   388          85   \n2         648  ...        133                   340          16   \n3         758  ...        150                   692          40   \n4       25694  ...       5180                 16697        1672   \n..        ...  ...        ...                   ...         ...   \n168      6259  ...       2190                  3602         304   \n169      2125  ...        572                  1211         148   \n170      2101  ...        648                  1293         368   \n171      3777  ...        965                  2738         214   \n172       742  ...        237                   410          87   \n\n     Unemployment_rate  Median  P25th   P75th  College_jobs  Non_college_jobs  \\\n0             0.018381  110000  95000  125000          1534               364   \n1             0.117241   75000  55000   90000           350               257   \n2             0.024096   73000  50000  105000           456               176   \n3             0.050125   70000  43000   80000           529               102   \n4             0.061098   65000  50000   75000         18314              4440   \n..                 ...     ...    ...     ...           ...               ...   \n168           0.046320   26000  20000   39000          2771              2947   \n169           0.065112   25000  24000   34000          1488               615   \n170           0.149048   25000  25000   40000           986               870   \n171           0.053621   23400  19200   26000          2403              1245   \n172           0.104946   22000  20000   22000           288               338   \n\n     Low_wage_jobs  \n0              193  \n1               50  \n2                0  \n3                0  \n4              972  \n..             ...  \n168            743  \n169             82  \n170            622  \n171            308  \n172            192  \n\n[173 rows x 21 columns]\n"
     ]
    }
   ],
   "source": [
    "import pandas as pd \n",
    "\n",
    "all_ages = pd.read_csv(\"/home/simplon/Documents/Python_cours/Challenge_8.2/all-ages.csv\")\n",
    "recent_grads = pd.read_csv(\"/home/simplon/Documents/Python_cours/Challenge_8.2/recent-grads.csv\")\n",
    "print(all_ages)\n",
    "print(recent_grads)"
   ]
  },
  {
   "source": [
    "# Afficher les 5 premiéres lignes de all_ages et recent_grads. "
   ],
   "cell_type": "markdown",
   "metadata": {}
  },
  {
   "cell_type": "code",
   "execution_count": 15,
   "metadata": {},
   "outputs": [
    {
     "output_type": "execute_result",
     "data": {
      "text/plain": [
       "   Major_code                                  Major  \\\n",
       "0        1100                    GENERAL AGRICULTURE   \n",
       "1        1101  AGRICULTURE PRODUCTION AND MANAGEMENT   \n",
       "2        1102                 AGRICULTURAL ECONOMICS   \n",
       "3        1103                        ANIMAL SCIENCES   \n",
       "4        1104                           FOOD SCIENCE   \n",
       "\n",
       "                    Major_category   Total  Employed  \\\n",
       "0  Agriculture & Natural Resources  128148     90245   \n",
       "1  Agriculture & Natural Resources   95326     76865   \n",
       "2  Agriculture & Natural Resources   33955     26321   \n",
       "3  Agriculture & Natural Resources  103549     81177   \n",
       "4  Agriculture & Natural Resources   24280     17281   \n",
       "\n",
       "   Employed_full_time_year_round  Unemployed  Unemployment_rate  Median  \\\n",
       "0                          74078        2423           0.026147   50000   \n",
       "1                          64240        2266           0.028636   54000   \n",
       "2                          22810         821           0.030248   63000   \n",
       "3                          64937        3619           0.042679   46000   \n",
       "4                          12722         894           0.049188   62000   \n",
       "\n",
       "   P25th    P75th  \n",
       "0  34000  80000.0  \n",
       "1  36000  80000.0  \n",
       "2  40000  98000.0  \n",
       "3  30000  72000.0  \n",
       "4  38500  90000.0  "
      ],
      "text/html": "<div>\n<style scoped>\n    .dataframe tbody tr th:only-of-type {\n        vertical-align: middle;\n    }\n\n    .dataframe tbody tr th {\n        vertical-align: top;\n    }\n\n    .dataframe thead th {\n        text-align: right;\n    }\n</style>\n<table border=\"1\" class=\"dataframe\">\n  <thead>\n    <tr style=\"text-align: right;\">\n      <th></th>\n      <th>Major_code</th>\n      <th>Major</th>\n      <th>Major_category</th>\n      <th>Total</th>\n      <th>Employed</th>\n      <th>Employed_full_time_year_round</th>\n      <th>Unemployed</th>\n      <th>Unemployment_rate</th>\n      <th>Median</th>\n      <th>P25th</th>\n      <th>P75th</th>\n    </tr>\n  </thead>\n  <tbody>\n    <tr>\n      <th>0</th>\n      <td>1100</td>\n      <td>GENERAL AGRICULTURE</td>\n      <td>Agriculture &amp; Natural Resources</td>\n      <td>128148</td>\n      <td>90245</td>\n      <td>74078</td>\n      <td>2423</td>\n      <td>0.026147</td>\n      <td>50000</td>\n      <td>34000</td>\n      <td>80000.0</td>\n    </tr>\n    <tr>\n      <th>1</th>\n      <td>1101</td>\n      <td>AGRICULTURE PRODUCTION AND MANAGEMENT</td>\n      <td>Agriculture &amp; Natural Resources</td>\n      <td>95326</td>\n      <td>76865</td>\n      <td>64240</td>\n      <td>2266</td>\n      <td>0.028636</td>\n      <td>54000</td>\n      <td>36000</td>\n      <td>80000.0</td>\n    </tr>\n    <tr>\n      <th>2</th>\n      <td>1102</td>\n      <td>AGRICULTURAL ECONOMICS</td>\n      <td>Agriculture &amp; Natural Resources</td>\n      <td>33955</td>\n      <td>26321</td>\n      <td>22810</td>\n      <td>821</td>\n      <td>0.030248</td>\n      <td>63000</td>\n      <td>40000</td>\n      <td>98000.0</td>\n    </tr>\n    <tr>\n      <th>3</th>\n      <td>1103</td>\n      <td>ANIMAL SCIENCES</td>\n      <td>Agriculture &amp; Natural Resources</td>\n      <td>103549</td>\n      <td>81177</td>\n      <td>64937</td>\n      <td>3619</td>\n      <td>0.042679</td>\n      <td>46000</td>\n      <td>30000</td>\n      <td>72000.0</td>\n    </tr>\n    <tr>\n      <th>4</th>\n      <td>1104</td>\n      <td>FOOD SCIENCE</td>\n      <td>Agriculture &amp; Natural Resources</td>\n      <td>24280</td>\n      <td>17281</td>\n      <td>12722</td>\n      <td>894</td>\n      <td>0.049188</td>\n      <td>62000</td>\n      <td>38500</td>\n      <td>90000.0</td>\n    </tr>\n  </tbody>\n</table>\n</div>"
     },
     "metadata": {},
     "execution_count": 15
    }
   ],
   "source": [
    "first_rows_all_ages = all_ages.loc[0:4]\n",
    "first_rows_all_ages"
   ]
  },
  {
   "cell_type": "code",
   "execution_count": 16,
   "metadata": {},
   "outputs": [
    {
     "output_type": "execute_result",
     "data": {
      "text/plain": [
       "   Rank  Major_code                                      Major Major_category  \\\n",
       "0     1        2419                      PETROLEUM ENGINEERING    Engineering   \n",
       "1     2        2416             MINING AND MINERAL ENGINEERING    Engineering   \n",
       "2     3        2415                  METALLURGICAL ENGINEERING    Engineering   \n",
       "3     4        2417  NAVAL ARCHITECTURE AND MARINE ENGINEERING    Engineering   \n",
       "4     5        2405                       CHEMICAL ENGINEERING    Engineering   \n",
       "\n",
       "   Total  Sample_size    Men  Women  ShareWomen  Employed  ...  Part_time  \\\n",
       "0   2339           36   2057    282    0.120564      1976  ...        270   \n",
       "1    756            7    679     77    0.101852       640  ...        170   \n",
       "2    856            3    725    131    0.153037       648  ...        133   \n",
       "3   1258           16   1123    135    0.107313       758  ...        150   \n",
       "4  32260          289  21239  11021    0.341631     25694  ...       5180   \n",
       "\n",
       "   Full_time_year_round  Unemployed  Unemployment_rate  Median  P25th   P75th  \\\n",
       "0                  1207          37           0.018381  110000  95000  125000   \n",
       "1                   388          85           0.117241   75000  55000   90000   \n",
       "2                   340          16           0.024096   73000  50000  105000   \n",
       "3                   692          40           0.050125   70000  43000   80000   \n",
       "4                 16697        1672           0.061098   65000  50000   75000   \n",
       "\n",
       "   College_jobs  Non_college_jobs  Low_wage_jobs  \n",
       "0          1534               364            193  \n",
       "1           350               257             50  \n",
       "2           456               176              0  \n",
       "3           529               102              0  \n",
       "4         18314              4440            972  \n",
       "\n",
       "[5 rows x 21 columns]"
      ],
      "text/html": "<div>\n<style scoped>\n    .dataframe tbody tr th:only-of-type {\n        vertical-align: middle;\n    }\n\n    .dataframe tbody tr th {\n        vertical-align: top;\n    }\n\n    .dataframe thead th {\n        text-align: right;\n    }\n</style>\n<table border=\"1\" class=\"dataframe\">\n  <thead>\n    <tr style=\"text-align: right;\">\n      <th></th>\n      <th>Rank</th>\n      <th>Major_code</th>\n      <th>Major</th>\n      <th>Major_category</th>\n      <th>Total</th>\n      <th>Sample_size</th>\n      <th>Men</th>\n      <th>Women</th>\n      <th>ShareWomen</th>\n      <th>Employed</th>\n      <th>...</th>\n      <th>Part_time</th>\n      <th>Full_time_year_round</th>\n      <th>Unemployed</th>\n      <th>Unemployment_rate</th>\n      <th>Median</th>\n      <th>P25th</th>\n      <th>P75th</th>\n      <th>College_jobs</th>\n      <th>Non_college_jobs</th>\n      <th>Low_wage_jobs</th>\n    </tr>\n  </thead>\n  <tbody>\n    <tr>\n      <th>0</th>\n      <td>1</td>\n      <td>2419</td>\n      <td>PETROLEUM ENGINEERING</td>\n      <td>Engineering</td>\n      <td>2339</td>\n      <td>36</td>\n      <td>2057</td>\n      <td>282</td>\n      <td>0.120564</td>\n      <td>1976</td>\n      <td>...</td>\n      <td>270</td>\n      <td>1207</td>\n      <td>37</td>\n      <td>0.018381</td>\n      <td>110000</td>\n      <td>95000</td>\n      <td>125000</td>\n      <td>1534</td>\n      <td>364</td>\n      <td>193</td>\n    </tr>\n    <tr>\n      <th>1</th>\n      <td>2</td>\n      <td>2416</td>\n      <td>MINING AND MINERAL ENGINEERING</td>\n      <td>Engineering</td>\n      <td>756</td>\n      <td>7</td>\n      <td>679</td>\n      <td>77</td>\n      <td>0.101852</td>\n      <td>640</td>\n      <td>...</td>\n      <td>170</td>\n      <td>388</td>\n      <td>85</td>\n      <td>0.117241</td>\n      <td>75000</td>\n      <td>55000</td>\n      <td>90000</td>\n      <td>350</td>\n      <td>257</td>\n      <td>50</td>\n    </tr>\n    <tr>\n      <th>2</th>\n      <td>3</td>\n      <td>2415</td>\n      <td>METALLURGICAL ENGINEERING</td>\n      <td>Engineering</td>\n      <td>856</td>\n      <td>3</td>\n      <td>725</td>\n      <td>131</td>\n      <td>0.153037</td>\n      <td>648</td>\n      <td>...</td>\n      <td>133</td>\n      <td>340</td>\n      <td>16</td>\n      <td>0.024096</td>\n      <td>73000</td>\n      <td>50000</td>\n      <td>105000</td>\n      <td>456</td>\n      <td>176</td>\n      <td>0</td>\n    </tr>\n    <tr>\n      <th>3</th>\n      <td>4</td>\n      <td>2417</td>\n      <td>NAVAL ARCHITECTURE AND MARINE ENGINEERING</td>\n      <td>Engineering</td>\n      <td>1258</td>\n      <td>16</td>\n      <td>1123</td>\n      <td>135</td>\n      <td>0.107313</td>\n      <td>758</td>\n      <td>...</td>\n      <td>150</td>\n      <td>692</td>\n      <td>40</td>\n      <td>0.050125</td>\n      <td>70000</td>\n      <td>43000</td>\n      <td>80000</td>\n      <td>529</td>\n      <td>102</td>\n      <td>0</td>\n    </tr>\n    <tr>\n      <th>4</th>\n      <td>5</td>\n      <td>2405</td>\n      <td>CHEMICAL ENGINEERING</td>\n      <td>Engineering</td>\n      <td>32260</td>\n      <td>289</td>\n      <td>21239</td>\n      <td>11021</td>\n      <td>0.341631</td>\n      <td>25694</td>\n      <td>...</td>\n      <td>5180</td>\n      <td>16697</td>\n      <td>1672</td>\n      <td>0.061098</td>\n      <td>65000</td>\n      <td>50000</td>\n      <td>75000</td>\n      <td>18314</td>\n      <td>4440</td>\n      <td>972</td>\n    </tr>\n  </tbody>\n</table>\n<p>5 rows × 21 columns</p>\n</div>"
     },
     "metadata": {},
     "execution_count": 16
    }
   ],
   "source": [
    "first_rows_recent_grads = recent_grads.loc[0:4]\n",
    "first_rows_recent_grads"
   ]
  },
  {
   "source": [
    "# Nombre d'étudiants par catégorie de Major"
   ],
   "cell_type": "markdown",
   "metadata": {}
  },
  {
   "source": [
    "# Retourner les valeurs uniques de Major_category. \n",
    "# - Utiliser la méthode Series.unique() (équivalent du distinct en SQL) pour retourner les valeurs uniques d'une Series. "
   ],
   "cell_type": "markdown",
   "metadata": {}
  },
  {
   "cell_type": "code",
   "execution_count": 17,
   "metadata": {},
   "outputs": [
    {
     "output_type": "execute_result",
     "data": {
      "text/plain": [
       "array(['Agriculture & Natural Resources', 'Biology & Life Science',\n",
       "       'Engineering', 'Humanities & Liberal Arts',\n",
       "       'Communications & Journalism', 'Computers & Mathematics',\n",
       "       'Industrial Arts & Consumer Services', 'Education',\n",
       "       'Law & Public Policy', 'Interdisciplinary', 'Health',\n",
       "       'Social Science', 'Physical Sciences', 'Physical Sciences ',\n",
       "       'Psychology & Social Work', 'Industrial Arts & Consumer Services ',\n",
       "       'Arts', 'Business'], dtype=object)"
      ]
     },
     "metadata": {},
     "execution_count": 17
    }
   ],
   "source": [
    "Major_category_1 = all_ages[\"Major_category\"].unique()\n",
    "Major_category_1"
   ]
  },
  {
   "cell_type": "code",
   "execution_count": 18,
   "metadata": {},
   "outputs": [
    {
     "output_type": "execute_result",
     "data": {
      "text/plain": [
       "array(['Engineering', 'Business', 'Physical Sciences',\n",
       "       'Law & Public Policy', 'Computers & Mathematics',\n",
       "       'Agriculture & Natural Resources',\n",
       "       'Industrial Arts & Consumer Services', 'Arts', 'Health',\n",
       "       'Social Science', 'Physical Sciences ', 'Biology & Life Science',\n",
       "       'Education', 'Humanities & Liberal Arts',\n",
       "       'Psychology & Social Work', 'Industrial Arts & Consumer Services ',\n",
       "       'Communications & Journalism', 'Interdisciplinary'], dtype=object)"
      ]
     },
     "metadata": {},
     "execution_count": 18
    }
   ],
   "source": [
    "Major_category_2 = recent_grads[\"Major_category\"].unique()\n",
    "Major_category_2"
   ]
  },
  {
   "source": [
    "# Pour chaque valeur unique (utilisation d'une boucle for?): "
   ],
   "cell_type": "markdown",
   "metadata": {}
  },
  {
   "cell_type": "code",
   "execution_count": 19,
   "metadata": {},
   "outputs": [],
   "source": [
    "# Retourner toutes les lignes ou Major_category vaut cette valeur unique. \n",
    "\n",
    "# Calculer le nombre total d'étudiants représentant cette catégorie de major (colonne Total à sommer). \n",
    "\n",
    "# Vous garderez en mémoire ce résultat sous la forme d'un dictionnaire contenant une Major_category en clé et le nombre d'étudiants en valeur. "
   ]
  },
  {
   "cell_type": "code",
   "execution_count": 20,
   "metadata": {},
   "outputs": [
    {
     "output_type": "stream",
     "name": "stdout",
     "text": [
      "{'Agriculture & Natural Resources': 632437, 'Biology & Life Science': 1338186, 'Engineering': 3576013, 'Humanities & Liberal Arts': 3738335, 'Communications & Journalism': 1803822, 'Computers & Mathematics': 1781378, 'Industrial Arts & Consumer Services': 1018072, 'Education': 4700118, 'Law & Public Policy': 902926, 'Interdisciplinary': 45199, 'Health': 2950859, 'Social Science': 2654125, 'Physical Sciences': 1013152, 'Physical Sciences ': 12166, 'Psychology & Social Work': 1987278, 'Industrial Arts & Consumer Services ': 15726, 'Arts': 1805865, 'Business': 9858741}\n"
     ]
    }
   ],
   "source": [
    "major_total_all_ages = {}\n",
    "\n",
    "for valeur_unique in Major_category_1:\n",
    "    is_major = (all_ages[\"Major_category\"] == valeur_unique)\n",
    "    total_edutiant = all_ages[is_major][\"Total\"].sum()\n",
    "    major_total_all_ages[valeur_unique] = total_edutiant\n",
    "\n",
    "print(major_total_all_ages)"
   ]
  },
  {
   "cell_type": "code",
   "execution_count": 21,
   "metadata": {},
   "outputs": [
    {
     "output_type": "stream",
     "name": "stdout",
     "text": [
      "{'Engineering': 537583, 'Business': 1302376, 'Physical Sciences': 183363, 'Law & Public Policy': 179107, 'Computers & Mathematics': 299008, 'Agriculture & Natural Resources': 79981, 'Industrial Arts & Consumer Services': 227357, 'Arts': 357130, 'Health': 463230, 'Social Science': 529966, 'Physical Sciences ': 2116, 'Biology & Life Science': 453862, 'Education': 559129, 'Humanities & Liberal Arts': 713468, 'Psychology & Social Work': 481007, 'Industrial Arts & Consumer Services ': 2435, 'Communications & Journalism': 392601, 'Interdisciplinary': 12296}\n"
     ]
    }
   ],
   "source": [
    "major_total_recent_grads = {}\n",
    "\n",
    "for valeur_unique_1 in Major_category_2:\n",
    "    is_major = (recent_grads[\"Major_category\"] == valeur_unique_1)\n",
    "    total_edutiant_1 = recent_grads[is_major][\"Total\"].sum()\n",
    "    major_total_recent_grads[valeur_unique_1] = total_edutiant_1\n",
    "\n",
    "print(major_total_recent_grads)"
   ]
  },
  {
   "source": [
    "# Nombre d'étudiants par catégorie de Major"
   ],
   "cell_type": "markdown",
   "metadata": {}
  },
  {
   "cell_type": "code",
   "execution_count": 22,
   "metadata": {},
   "outputs": [],
   "source": [
    "# Mission:\n",
    "# • Créer une fonction dans laquelle vous utiliserez la colonne Total pour\n",
    "# calculer le nombre d'étudiants pour chaque catégorie de Major\n",
    "# (Major_category) dans chaque dataset.\n",
    "# • Stocker le résultat dans 2 dictionnaires distincts\n",
    "# • La clé pour chaque dictionnaire sera Major_category et la valeur le total d'étudiants\n",
    "# • Pour le dataset all_ages, stocker le résultat dans un dictionnaire qu'on nommera\n",
    "# aa_car_counts\n",
    "# • Pour le dataset recent_grads, stocker le résultat dans un dictionnaire qu'on nommera\n",
    "# rg_cat_counts\n",
    "# • Autre méthode: Utiliser un pivot de table.\n",
    "# • Afficher les 2 dictionnaires."
   ]
  },
  {
   "cell_type": "code",
   "execution_count": 26,
   "metadata": {},
   "outputs": [
    {
     "output_type": "execute_result",
     "data": {
      "text/plain": [
       "<function __main__.calculate_major_cat_totals(df)>"
      ]
     },
     "metadata": {},
     "execution_count": 26
    }
   ],
   "source": [
    "def calculate_major_cat_totals(df):\n",
    "    cats = df['Major_category'].unique()\n",
    "    counts_dictionary = {}\n",
    "    \n",
    "    for c in cats:\n",
    "        major_df = df[df[\"Major_category\"] == c]\n",
    "        total = major_df[\"Total\"].sum()\n",
    "        counts_dictionary[c] = total\n",
    "    return counts_dictionary\n",
    "calculate_major_cat_totals"
   ]
  },
  {
   "cell_type": "code",
   "execution_count": 28,
   "metadata": {},
   "outputs": [],
   "source": [
    "import numpy as np\n",
    "aa_cat_counts = dict(all_ages.pivot_table(index=\"Major_category\", values=\"Total\", aggfunc=np.sum))"
   ]
  },
  {
   "source": [
    "# Taux de jobs à faible salaire"
   ],
   "cell_type": "markdown",
   "metadata": {}
  },
  {
   "cell_type": "code",
   "execution_count": 24,
   "metadata": {},
   "outputs": [],
   "source": [
    "# • Utiliser les colonnes \"Low_wage_jobs\" et \"Total\" pour calculer la\n",
    "# proportion de jeunes diplômés qui ont du trouver des jobs à faible\n",
    "# salaire (recent_grads).\n",
    "# • Souvenez-vous que vous pouvez utiliser la méthode Series.sum() pour\n",
    "# retourner la somme des valeurs d'une colonne\n",
    "# • Stocker le résultat dans la variable low_wage_proportion et afficher\n",
    "# le."
   ]
  },
  {
   "cell_type": "code",
   "execution_count": 29,
   "metadata": {},
   "outputs": [
    {
     "output_type": "stream",
     "name": "stdout",
     "text": [
      "6776015\n667610\n9.852546076122913 % de jeunes diplomés ont du trouver des jobs à faible salaire\n"
     ]
    }
   ],
   "source": [
    "#Taux de jobs à faible salaire\n",
    "TOTAL=recent_grads[\"Total\"].sum()\n",
    "print(TOTAL)\n",
    "tot_low_wage_jobs = recent_grads[\"Low_wage_jobs\"].sum()\n",
    "print(tot_low_wage_jobs)\n",
    "\n",
    "low_wage_proportion= (tot_low_wage_jobs/TOTAL)*100\n",
    "print(low_wage_proportion, '% de jeunes diplomés ont du trouver des jobs à faible salaire')"
   ]
  },
  {
   "source": [
    "# Comparer des datasets"
   ],
   "cell_type": "markdown",
   "metadata": {}
  },
  {
   "cell_type": "code",
   "execution_count": 25,
   "metadata": {},
   "outputs": [],
   "source": [
    "# • Utiliser une boucle for pour parcourir toutes les majors.\n",
    "# • Pour chaque Major et chaque DataFrame, filtrer seulement les lignes du\n",
    "# DataFrame correspondant à cette major\n",
    "# • Comparer les valeurs pour la colonne \"Unemployment_rate\" pour voir lequel\n",
    "# des 2 DataFrames possèdent la valeur la plus basse\n",
    "# • Incrémenter (cad ajouter 1) à la variable rg_lower_count si la valeur pour\n",
    "# Unemployment_rate est plus petite dans le dataframe recent_grads que dans\n",
    "# le dataframe all_ages\n",
    "# • Afficher le résultat rg_lower_count."
   ]
  },
  {
   "cell_type": "code",
   "execution_count": 30,
   "metadata": {},
   "outputs": [
    {
     "output_type": "stream",
     "name": "stdout",
     "text": [
      "(173,)\n",
      "(173,)\n",
      "rg_lower_count = 42\n"
     ]
    }
   ],
   "source": [
    "majors_1 = all_ages[\"Major\"]\n",
    "majors_2 = recent_grads[\"Major\"]\n",
    "print(majors_1.shape)\n",
    "print(majors_2.shape)\n",
    "\n",
    "rg_lower_count = 0\n",
    "\n",
    "for major in majors_1:\n",
    "    is_major_1 = (all_ages[\"Major\"] == major)\n",
    "    is_major_2 = (recent_grads[\"Major\"] == major)\n",
    "    valeur_1 = all_ages[is_major_1][\"Unemployment_rate\"].tolist()\n",
    "    valeur_2 = recent_grads[is_major_2][\"Unemployment_rate\"].tolist()\n",
    "    if len(valeur_1) > 0 and len(valeur_2) > 0:\n",
    "        if valeur_1 > valeur_2:\n",
    "            rg_lower_count += 1\n",
    "\n",
    "print(\"rg_lower_count =\",rg_lower_count)"
   ]
  },
  {
   "cell_type": "code",
   "execution_count": null,
   "metadata": {},
   "outputs": [],
   "source": []
  }
 ]
}