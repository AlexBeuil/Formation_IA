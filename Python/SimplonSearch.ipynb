{
 "metadata": {
  "language_info": {
   "codemirror_mode": {
    "name": "ipython",
    "version": 3
   },
   "file_extension": ".py",
   "mimetype": "text/x-python",
   "name": "python",
   "nbconvert_exporter": "python",
   "pygments_lexer": "ipython3",
   "version": "3.8.5"
  },
  "orig_nbformat": 2,
  "kernelspec": {
   "name": "python385jvsc74a57bd064b474f71659f9be32f34132c3eef93d33d176ead871b80ca6db3fa26bc83f65",
   "display_name": "Python 3.8.5 64-bit ('base': conda)"
  },
  "metadata": {
   "interpreter": {
    "hash": "64b474f71659f9be32f34132c3eef93d33d176ead871b80ca6db3fa26bc83f65"
   }
  }
 },
 "nbformat": 4,
 "nbformat_minor": 2,
 "cells": [
  {
   "source": [
    "1 - Proposer une fonction almost(mot, s) qui trouve dans un texte s toute les\n",
    "occurrence d’un mot dont une lettre a pu éventuellement être enlevée.\n",
    "Exemple : si mot vaut « alphonse », une réponse acceptable vaut est\n",
    "« alponse »."
   ],
   "cell_type": "markdown",
   "metadata": {}
  },
  {
   "cell_type": "code",
   "execution_count": 1,
   "metadata": {},
   "outputs": [],
   "source": [
    "from re import *\n",
    "\n",
    "def almost(mot, s):\n",
    "    s = \" \" + sub(\"[,.]\", \"\", s) + \" \"\n",
    "    found = findall(\"\\s\"+mot+\"\\s\", s)\n",
    "    for i in range(len(mot)):\n",
    "        motif = mot[:i]+mot[i+1:]\n",
    "        found += findall(\"\\s\"+motif+\"\\s\", s)\n",
    "    return found"
   ]
  },
  {
   "source": [
    "2 - Proposez une fonction pluslarge(mot, s) qui trouve dans un texte s toutes les\n",
    "occurrences d’un mot dont une lettre a pu éventuellement être enlevée, ajouté\n",
    "ou remplacé par une autre."
   ],
   "cell_type": "markdown",
   "metadata": {}
  },
  {
   "cell_type": "code",
   "execution_count": 2,
   "metadata": {},
   "outputs": [
    {
     "output_type": "stream",
     "name": "stdout",
     "text": [
      "<class 'list'>\n['trois', ' troisx ', 'etrois', 'tris']\n"
     ]
    }
   ],
   "source": [
    "from re import *\n",
    "\n",
    "s= \"Les etrois tris, lys trois gros, les troisx roi.\"\n",
    "\n",
    "\n",
    "def pluslarge(mot,s):\n",
    "\n",
    "    \n",
    "    z = \" \"+sub(\"[.,]\",\"\",s)+\" \"\n",
    "    # Cas 1 : Une lettre en plus à la fin \n",
    "    motif_1 = \"\\s\"+mot+\"[^\\s]\\s\"\n",
    "    \n",
    "    found = findall(\"\\s(\"+mot+\")\\s\",z)\n",
    "    found += findall(motif_1, \" \"+z)\n",
    "\n",
    "\n",
    "    for i in range(len(mot)):\n",
    "        #motif = \"\\s\"+mot[:i]+mot[i+1:]+\"\\s\"\n",
    "        \n",
    "        # Cas 2 : Une lettre remplacée où lettre manquante\n",
    "        motif_2 = \"\\s(\"+mot[:i]+\"[^\"+mot[i]+\"]?\"+mot[i+1:]+\")\\s\"\n",
    "        # Cas 3: Une lettre en plus\n",
    "        motif_3 = \"\\s(\"+mot[:i]+\"[^\\s]\"+mot[i:]+\")\\s\"\n",
    "\n",
    "\n",
    "        found += findall(motif_2, \" \"+z)\n",
    "        found += findall(motif_3, \" \"+z)\n",
    "\n",
    "\n",
    "\n",
    "    return found\n",
    "\n",
    "\n",
    "liste_mot_trouver = pluslarge(\"trois\",s)\n",
    "print(type(liste_mot_trouver))\n",
    "print(liste_mot_trouver)"
   ]
  },
  {
   "cell_type": "code",
   "execution_count": 3,
   "metadata": {},
   "outputs": [
    {
     "output_type": "stream",
     "name": "stdout",
     "text": [
      "[' trois ', ' troisx ', ' tris ']\n[' les ', ' Les ', ' lys ']\n"
     ]
    }
   ],
   "source": [
    "# 2.\n",
    "\n",
    "def pluslarge(mot, s):\n",
    "    z = \" \"+sub(\"[,.]\", \"\", s)+ \" \"\n",
    "    found = findall(\"\\s\"+mot+\"[^\\s]?\\s\", z)\n",
    "    for i in range(len(mot)):\n",
    "        # Je cherche le mot avec une lettre remplacé\n",
    "        motif = \"\\s\"+mot[:i]+\"[^\"+mot[i]+\"]?\"\n",
    "        motif += mot[i+1:]+\"\\s\"\n",
    "        found += findall(motif, \" \"+z)\n",
    "        # Je cherche le mot avec une lettre en plus\n",
    "        motif += \"\\s\"+mot[:i]+\"[^\\s]\"+mot[i:]+\"\\s\"\n",
    "        found += findall(motif, \" \"+z)\n",
    "    return found\n",
    "\n",
    "print(pluslarge(\"trois\", s))\n",
    "print(pluslarge(\"les\", s))"
   ]
  },
  {
   "source": [
    "3 - Proposez une fonction score(p, s) qui prend en argument une phrase p et lui\n",
    "attribue un score en fonction de la présence des mots qu’elle contient dans s :\n",
    "cinq points par mot exact, un point par mot approché."
   ],
   "cell_type": "markdown",
   "metadata": {}
  },
  {
   "cell_type": "code",
   "execution_count": 4,
   "metadata": {},
   "outputs": [
    {
     "output_type": "stream",
     "name": "stdout",
     "text": [
      "3\n"
     ]
    }
   ],
   "source": [
    "p = \"Le petit bonhomme en mousse\" \n",
    "s = \"Ce superbe matelas en mousse naturelle\"\n",
    "\n",
    "# p = phrase recherchée\n",
    "def score(p,s):\n",
    "    score = 0\n",
    "    \n",
    "    s = s.replace(\",\",\"\")\n",
    "    s = s.replace(\",\",\"\")\n",
    "\n",
    "    p = p.replace(\",\",\"\")\n",
    "    p = p.replace(\",\",\"\")\n",
    "\n",
    "    p_liste = p.split()\n",
    "\n",
    "    for word in p_liste:\n",
    "        liste_found = pluslarge(word, s)\n",
    "\n",
    "        for words in liste_found:\n",
    "            if words == word:\n",
    "                score += 5\n",
    "            else:\n",
    "                score += 1\n",
    "\n",
    "    return score\n",
    "\n",
    "print(score(p,s))"
   ]
  },
  {
   "cell_type": "code",
   "execution_count": 5,
   "metadata": {},
   "outputs": [
    {
     "output_type": "stream",
     "name": "stdout",
     "text": [
      "0\n11\n"
     ]
    }
   ],
   "source": [
    "# 3.\n",
    "\n",
    "def score(p, s):\n",
    "    sc = 0\n",
    "    q = \" \"+sub(\"[,.]\",\"\", p)+\" \"\n",
    "    z = \" \" + sub(\"[,.]\",\"\", s)\n",
    "    for x in p.split():\n",
    "        sc += len(pluslarge(x, s))\n",
    "        sc += 4*z.count(\" \"+x+\" \")\n",
    "    return sc\n",
    "p=\"Le petit bonhomme en mousse\"\n",
    "t = \"Ce superbe matelas en mousse naturelle\"\n",
    "print(score(\"les trois gros\", s))\n",
    "print(score(p, t))"
   ]
  },
  {
   "source": [
    "4 - Modifiez les fonctions précédentes de façons à ce qu’elles donnent un bonus\n",
    "de 20 points si deux mots successifs dans la phrase initial sont également\n",
    "successif dans le texte parcouru (les mots exacts).\n",
    "Exemple : Si on cherche « Le petit bonhomme en mouse » dans « Ce superbe\n",
    "matelas en mousse naturelle »."
   ],
   "cell_type": "markdown",
   "metadata": {}
  },
  {
   "cell_type": "code",
   "execution_count": 6,
   "metadata": {},
   "outputs": [
    {
     "output_type": "stream",
     "name": "stdout",
     "text": [
      "0\n31\n"
     ]
    }
   ],
   "source": [
    "def score(p, s):\n",
    "    sc = 0\n",
    "    q = \" \"+sub(\"[,.]\",\"\", p)+\" \"\n",
    "    z = \" \" + sub(\"[,.]\",\"\", s)+\" \"\n",
    "    mot = p.split()\n",
    "    for x in mot:\n",
    "        for i in pluslarge(x, z):\n",
    "            sc += 5 if i in q else 1\n",
    "    for y in range(len(mot)-1):\n",
    "        if \" \" + mot[y] + \" \" + mot[y+1] + \" \" in z:\n",
    "            sc += 20 \n",
    "        \n",
    "            #sc += len(pluslarge(x, s))\n",
    "            #sc += 4*z.count(\" \"+x+\" \")\n",
    "    return sc\n",
    "p = \"Le petit bonhomme en mousse\"\n",
    "t = \"Ce superbe matelas en mousse naturelle\"\n",
    "print(score(\"les trois gros\", s))\n",
    "print(score(p, t))"
   ]
  },
  {
   "source": [
    "# Facultatif"
   ],
   "cell_type": "markdown",
   "metadata": {}
  },
  {
   "source": [
    "1. Importé « os » et utilisez la fonction os.listdir() afin de récupérer dans une liste\n",
    "des fichier présent dans dossiers."
   ],
   "cell_type": "markdown",
   "metadata": {}
  },
  {
   "cell_type": "code",
   "execution_count": 8,
   "metadata": {},
   "outputs": [
    {
     "output_type": "stream",
     "name": "stdout",
     "text": [
      "Pandas.txt : 65\nMatplotlib.txt : 64\nSeaborn.txt : 37\nNumpy.txt : 30\n"
     ]
    }
   ],
   "source": [
    "import os\n",
    "liste = os.listdir('/home/simplon/Documents/Python_cours/SimplonSearch_Moteur_de_recherche/textes')\n",
    "results={}\n",
    "\n",
    "recherche = \"analyse et visualisation\"\n",
    "\n",
    "for file in liste:\n",
    "    filin = open(\"/home/simplon/Documents/Python_cours/SimplonSearch_Moteur_de_recherche/textes/\"+file, \"r\", encoding=\"utf-8\")\n",
    "    filin = filin.read()\n",
    "    results[file] = score(recherche, filin)\n",
    "    \n",
    "tuples = sorted(results.items(), key=lambda item: item[1], reverse=True)\n",
    "\n",
    "for i, j in tuples :\n",
    "    print(i + \" : \" + str(j))"
   ]
  },
  {
   "cell_type": "code",
   "execution_count": null,
   "metadata": {},
   "outputs": [],
   "source": []
  }
 ]
}