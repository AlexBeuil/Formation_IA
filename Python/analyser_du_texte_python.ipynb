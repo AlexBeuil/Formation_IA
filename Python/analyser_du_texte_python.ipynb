{
 "metadata": {
  "language_info": {
   "codemirror_mode": {
    "name": "ipython",
    "version": 3
   },
   "file_extension": ".py",
   "mimetype": "text/x-python",
   "name": "python",
   "nbconvert_exporter": "python",
   "pygments_lexer": "ipython3",
   "version": "3.8.5"
  },
  "orig_nbformat": 2,
  "kernelspec": {
   "name": "python385jvsc74a57bd064b474f71659f9be32f34132c3eef93d33d176ead871b80ca6db3fa26bc83f65",
   "display_name": "Python 3.8.5 64-bit ('base': conda)"
  },
  "metadata": {
   "interpreter": {
    "hash": "64b474f71659f9be32f34132c3eef93d33d176ead871b80ca6db3fa26bc83f65"
   }
  }
 },
 "nbformat": 4,
 "nbformat_minor": 2,
 "cells": [
  {
   "cell_type": "code",
   "execution_count": 2,
   "metadata": {},
   "outputs": [
    {
     "output_type": "stream",
     "name": "stdout",
     "text": [
      "intérieur de test 3\naprès test 3\n"
     ]
    }
   ],
   "source": [
    "a = 2 \n",
    "\n",
    "def test():\n",
    "    global a \n",
    "    a = 3\n",
    "    print(\"intérieur de test\", a)\n",
    "\n",
    "test()\n",
    "print(\"après test\", a)"
   ]
  },
  {
   "source": [
    "# les fonctions récursives"
   ],
   "cell_type": "markdown",
   "metadata": {}
  },
  {
   "cell_type": "code",
   "execution_count": 1,
   "metadata": {},
   "outputs": [
    {
     "output_type": "stream",
     "name": "stdout",
     "text": [
      "je m'appelle pour x= 10\nje m'appelle pour x= 5.0\nje m'appelle pour x= 2.5\nje ne m'appele pas pour x= 1.25\n"
     ]
    },
    {
     "output_type": "execute_result",
     "data": {
      "text/plain": [
       "4"
      ]
     },
     "metadata": {},
     "execution_count": 1
    }
   ],
   "source": [
    "def recursive(x):\n",
    "    if x / 2 < 1 :\n",
    "        print(\"je ne m'appele pas pour x=\",x)\n",
    "        return 1\n",
    "    else:\n",
    "        print(\"je m'appelle pour x=\",x)\n",
    "        return recursive (x/2) + 1\n",
    "recursive(10)"
   ]
  },
  {
   "source": [
    "# Conversion de chaines"
   ],
   "cell_type": "markdown",
   "metadata": {}
  },
  {
   "cell_type": "code",
   "execution_count": 3,
   "metadata": {},
   "outputs": [],
   "source": [
    "s1 = \"Du passe faisons table rase\"\n",
    "l1 = [i for i in s1]\n",
    "l2 = s1.split(\"as\")\n",
    "l3 = s1.split()"
   ]
  },
  {
   "cell_type": "code",
   "execution_count": 4,
   "metadata": {},
   "outputs": [
    {
     "output_type": "stream",
     "name": "stdout",
     "text": [
      "D u   p\n['Du p', 'se faisons table r', 'e']\n['Du', 'passe', 'faisons', 'table', 'rase']\n"
     ]
    }
   ],
   "source": [
    "print(l1[0], l1[1], l1[2], l1[3])\n",
    "print(l2)\n",
    "print(l3)"
   ]
  },
  {
   "cell_type": "code",
   "execution_count": 5,
   "metadata": {},
   "outputs": [],
   "source": [
    "l1 = [\"H\", \"e\", \"l\", \"l\", \"o\", \" \", \"W\"]\n",
    "l2 = [\"Du\", \"passe\", \"faisons\", \"table\", \"rase\"]\n",
    "s1 = \"\".join(l1)\n",
    "s2 = \" \".join(l2)"
   ]
  },
  {
   "cell_type": "code",
   "execution_count": 6,
   "metadata": {},
   "outputs": [
    {
     "output_type": "stream",
     "name": "stdout",
     "text": [
      "Hello W\nDu passe faisons table rase\n"
     ]
    }
   ],
   "source": [
    "print(s1)\n",
    "print(s2)"
   ]
  },
  {
   "source": [
    "# Rechercher et remplacer"
   ],
   "cell_type": "markdown",
   "metadata": {}
  },
  {
   "cell_type": "code",
   "execution_count": 8,
   "metadata": {},
   "outputs": [
    {
     "output_type": "stream",
     "name": "stdout",
     "text": [
      "faisons TABLE\n"
     ]
    }
   ],
   "source": [
    "s1 = \"Faisons table rase\"\n",
    "s2 = s1[:8].lower() + s1[8:13].upper()\n",
    "print(s2)"
   ]
  },
  {
   "cell_type": "code",
   "execution_count": 9,
   "metadata": {},
   "outputs": [
    {
     "output_type": "stream",
     "name": "stdout",
     "text": [
      "3\n"
     ]
    }
   ],
   "source": [
    "s1 = \"Ce texte contient deux fois le mot texte.\"\n",
    "print(s1.find(\"texte\", 0))"
   ]
  },
  {
   "cell_type": "code",
   "execution_count": 10,
   "metadata": {},
   "outputs": [
    {
     "output_type": "stream",
     "name": "stdout",
     "text": [
      "35\n"
     ]
    }
   ],
   "source": [
    "print(s1.find(\"texte\", 4))"
   ]
  },
  {
   "cell_type": "code",
   "execution_count": 11,
   "metadata": {},
   "outputs": [
    {
     "output_type": "stream",
     "name": "stdout",
     "text": [
      "-1\n"
     ]
    }
   ],
   "source": [
    "print(s1.find(\"texte, 36\"))"
   ]
  },
  {
   "cell_type": "code",
   "execution_count": 12,
   "metadata": {},
   "outputs": [
    {
     "output_type": "stream",
     "name": "stdout",
     "text": [
      "3\n35\n-1\n"
     ]
    }
   ],
   "source": [
    "s1 = \"Ce texte contient deux fois le mot texte.\"\n",
    "max= 0\n",
    "while max > -1:\n",
    "    max = s1.find(\"texte\", max+1)\n",
    "    print(max)"
   ]
  },
  {
   "cell_type": "code",
   "execution_count": 16,
   "metadata": {},
   "outputs": [
    {
     "output_type": "stream",
     "name": "stdout",
     "text": [
      "Le prix est de $2.15 \n20\nLe prix est de $deux \n16\n"
     ]
    }
   ],
   "source": [
    "s1 = \"Le prix est de deux euros.\"\n",
    "if \"euros\" in s1:\n",
    "    i = s1.index(\"euros\")\n",
    "    s2 = s1[:i-5] + \"$\" + s1[i-5:i]\n",
    "    j = s2.find(\"deux\")\n",
    "    s3 = s2[:j] + \"2.15\" + s2[j+4:]\n",
    "    print(s3)\n",
    "    print(i) # position du mot euros (premier caractere)\n",
    "    print(s2)\n",
    "    print(j)"
   ]
  },
  {
   "cell_type": "code",
   "execution_count": 18,
   "metadata": {},
   "outputs": [
    {
     "output_type": "stream",
     "name": "stdout",
     "text": [
      "Le prix est de $2.15\n"
     ]
    }
   ],
   "source": [
    "s1 = \"Le prix est de deux euros\"\n",
    "s2 = s1.replace(\"deux euros\", \"$2.15\")\n",
    "print(s2)"
   ]
  },
  {
   "cell_type": "code",
   "execution_count": 19,
   "metadata": {},
   "outputs": [
    {
     "output_type": "stream",
     "name": "stdout",
     "text": [
      "nombre\nmot\n?\n"
     ]
    }
   ],
   "source": [
    "s = \"300 seulement ?\"\n",
    "l = s.split()\n",
    "for mot in l:\n",
    "    if mot.isalpha():\n",
    "        print(\"mot\")\n",
    "    if mot.isnumeric():\n",
    "        print(\"nombre\")\n",
    "    if not mot.isalnum():\n",
    "        print(\"?\")"
   ]
  },
  {
   "source": [
    "# Expressions rationnelles / reguliere"
   ],
   "cell_type": "markdown",
   "metadata": {}
  },
  {
   "cell_type": "code",
   "execution_count": 23,
   "metadata": {},
   "outputs": [
    {
     "output_type": "stream",
     "name": "stdout",
     "text": [
      "['Le', 'Argentine']\n['PIB', 'Argentine', 'baisse', 'depuis']\n"
     ]
    }
   ],
   "source": [
    "from re import findall\n",
    "\n",
    "s = \"Le PIB de l'Argentine baisse depuis 3 ans\"\n",
    "l1 = findall(\"[A-Z][a-z]+\", s)\n",
    "l2 = findall(\"[a-zA-Z]*[iI][a-zA-Z]*\",s)\n",
    "print(l1)\n",
    "print(l2)"
   ]
  },
  {
   "cell_type": "code",
   "execution_count": null,
   "metadata": {},
   "outputs": [],
   "source": []
  },
  {
   "cell_type": "code",
   "execution_count": 28,
   "metadata": {},
   "outputs": [
    {
     "output_type": "stream",
     "name": "stdout",
     "text": [
      "['0678828383', '09.34.67.12.11', '03 11 23 20 38', '03.11 23 2038']\n"
     ]
    }
   ],
   "source": [
    "from re import  findall\n",
    "\n",
    "motif = \"0[1-9](?:[\\s\\.]?[0-9]{2}){4}\"\n",
    "n1 = \"0678828383\"\n",
    "n2 = \"09.34.67.12.11\"\n",
    "n3 = \"03 11 23 20 38,\"\n",
    "n4 = \"03 11 23 20,\"\n",
    "n5 = \"03.11 23 2038,\"\n",
    "n6 = \"03-23-20-20-38\"\n",
    "s = n1+n2+n3+n4+n5+n6\n",
    "print(findall(motif, s))"
   ]
  },
  {
   "cell_type": "code",
   "execution_count": 29,
   "metadata": {},
   "outputs": [
    {
     "output_type": "stream",
     "name": "stdout",
     "text": [
      "Un texte >HTML/>avec des balises et même type=\"text/javascript\">var i = 5 ;/script> du javascript dedans.\n"
     ]
    }
   ],
   "source": [
    "from re import sub\n",
    "\n",
    "s = 'Un texte <strong>HTML<strong/>avec des balises'\n",
    "s += ' et même<script type=\"text/javascript\">'\n",
    "s += 'var i = 5 ;</script> du javascript dedans.'\n",
    "s1 = sub('<[a-z]*', '', s)\n",
    "print(s1)"
   ]
  },
  {
   "cell_type": "code",
   "execution_count": 31,
   "metadata": {},
   "outputs": [
    {
     "output_type": "stream",
     "name": "stdout",
     "text": [
      "Un texte  du javascript dedans.\nUn texte HTMLavec des balises et même var i = 5 ; du javascript dedans.\nUn texte HTMLavec des balises et même var i = 5 ; du javascript dedans.\n"
     ]
    }
   ],
   "source": [
    "from re import  sub \n",
    "\n",
    "s = 'Un texte <strong>HTML<strong/>avec des balises'\n",
    "s += ' et même<script type=\"text/javascript\">'\n",
    "s += ' var i = 5 ;</script> du javascript dedans.'\n",
    "s1 = sub('<.*>', '', s)\n",
    "s2 = sub('<[a-z\\\\/\"=\\s]*>', '', s)\n",
    "s3 = sub('<[^>]*>', '', s)\n",
    "print(s1)\n",
    "print(s2)\n",
    "print(s3)"
   ]
  },
  {
   "source": [
    "# Exercice :"
   ],
   "cell_type": "markdown",
   "metadata": {}
  },
  {
   "cell_type": "code",
   "execution_count": null,
   "metadata": {},
   "outputs": [],
   "source": [
    "# 1. Ecrire une fonction hascap(s) qui renvoie tout les mots de la chaîne\n",
    "# s commençant par une majuscule.\n",
    "# Pour ce faire utiliser la fonction ord() pour obtenir le code ASCII des lettres\n",
    "# (Les lettres majuscule ont un code allant de 65 à 90)."
   ]
  },
  {
   "cell_type": "code",
   "execution_count": 1,
   "metadata": {},
   "outputs": [
    {
     "output_type": "stream",
     "name": "stdout",
     "text": [
      "['Il', 'Divine', 'Enfant']\n"
     ]
    }
   ],
   "source": [
    "def hascap(s):\n",
    "    mots = s.split()\n",
    "    majs = []\n",
    "    for m in mots:\n",
    "        if ord(m[0]) in range(65, 91):\n",
    "            majs.append(m)\n",
    "    return majs\n",
    "print(hascap(\"Il est venu le Divine Enfant\"))"
   ]
  },
  {
   "cell_type": "code",
   "execution_count": 6,
   "metadata": {},
   "outputs": [],
   "source": [
    "# 2. Proposer une fonction inflation(s) qui va doubler la valeur de tout\n",
    "#les nombre dans la chaine s. Exemple : « Le prix est de 27 euros »\n",
    "#devient « Le prix est de 54 euros ».\n",
    "# Utiliser la fonction enumerate() pour lancer une boucle for (Taper dans\n",
    "# Google « enumerate boucle for ».)"
   ]
  },
  {
   "cell_type": "code",
   "execution_count": 4,
   "metadata": {},
   "outputs": [
    {
     "output_type": "stream",
     "name": "stdout",
     "text": [
      "Le prix est de 54 euros\n"
     ]
    }
   ],
   "source": [
    "liste1 = \"Le prix est de 27 euros\"\n",
    "liste2 = liste1.split()\n",
    "\n",
    "def inflation(liste2):\n",
    "    for x,mot in enumerate(liste2) :\n",
    "        if mot.isnumeric():\n",
    "            double = int(mot)*2\n",
    "\n",
    "    return print(\"Le prix est de {} euros\".format(double))\n",
    "\n",
    "inflation(liste2)"
   ]
  },
  {
   "cell_type": "code",
   "execution_count": 5,
   "metadata": {},
   "outputs": [
    {
     "output_type": "stream",
     "name": "stdout",
     "text": [
      "Le prix est de 54 euros\n"
     ]
    }
   ],
   "source": [
    "def inflation(s):\n",
    "    mots = s.split()\n",
    "    for i, m in enumerate(mots):\n",
    "        if m.isnumeric():\n",
    "            mots[i]  = str(2*int(m))\n",
    "    return \" \".join(mots)\n",
    "print(inflation(\"Le prix est de 27 euros\"))"
   ]
  },
  {
   "cell_type": "code",
   "execution_count": null,
   "metadata": {},
   "outputs": [],
   "source": [
    "# 3. Proposer une fonction lignes qui à partir d’une long chaîne s (>100\n",
    "# caractères) renvoie une liste de chaîne de caractères contenant\n",
    "# chacun 24 caractères maximum et terminant par un espace.\n",
    "\n",
    "# Voici un exemple de chaîne sur le quel vous pouvez travailler :\n",
    "# s = \"Onze ans déjà que cela passe vite Vous \"\n",
    "# s += \"vous étiez servis simplement de vos armes la \"\n",
    "# s += \"mort n‘éblouit pas les yeux des partisans Vous \"\n",
    "# s += \"aviez vos portraits sur les murs de nos villes \""
   ]
  },
  {
   "cell_type": "code",
   "execution_count": 6,
   "metadata": {},
   "outputs": [
    {
     "output_type": "stream",
     "name": "stdout",
     "text": [
      "['Onze ans déjà que cela ', 'passe vite Vous vous ', 'étiez servis ', 'simplement de vos ', 'armes la mort ', \"n'eblouit pas les yeux \", 'des partisants Vous ', 'aviez vos portraits ', 'sur les murs de nos ', 'villes ']\n"
     ]
    }
   ],
   "source": [
    "def lignes(s):\n",
    "    mots = s.split()\n",
    "    lignes  = ['']\n",
    "    for m in mots:\n",
    "        m += \" \"\n",
    "        if len(lignes[-1])+len(m)<24:\n",
    "            lignes[-1] += (m)\n",
    "        else:\n",
    "            lignes.append(m)\n",
    "    return lignes\n",
    "s = \"Onze ans déjà que cela passe vite Vous \"\n",
    "s += \"vous étiez servis simplement de vos armes la \"\n",
    "s += \"mort n'eblouit pas les yeux des partisants Vous \"\n",
    "s += \"aviez vos portraits sur les murs de nos villes\"\n",
    "print(lignes(s))"
   ]
  },
  {
   "cell_type": "code",
   "execution_count": null,
   "metadata": {},
   "outputs": [],
   "source": [
    "# 4. Proposer un programme qui renvoie la liste de tout les nombres (y\n",
    "# compris décimaux et négatifs) d’une chaîne de caractères.\n",
    "# A tester sur la chaîne : « Les 2 maquereaux valent 6.50 euros »."
   ]
  },
  {
   "cell_type": "code",
   "execution_count": 22,
   "metadata": {},
   "outputs": [
    {
     "output_type": "stream",
     "name": "stdout",
     "text": [
      "['2', '6.50']\n"
     ]
    }
   ],
   "source": [
    "from re import  findall\n",
    "\n",
    "a = \"Les 2 marquereaux valent 6.50 euros.\"\n",
    "x1 = findall('[0-9]+\\.*[0-9]*', a)\n",
    "print(x1)"
   ]
  },
  {
   "cell_type": "code",
   "execution_count": null,
   "metadata": {},
   "outputs": [],
   "source": [
    "# 5. Proposer une fonction arrondi(s) qui dans la chaîne s troncature\n",
    "# tout les nombre décimaux. On autorise les nombres négatifs.\n",
    "# Pour ce faire, vous avez la possibilité d’utiliser :\n",
    "# des () pour désigner des blocs de données dans l’expression rationnelle.\n",
    "# pour remplacer chacun des blocs l’expression est r’\\1\\2’."
   ]
  },
  {
   "cell_type": "code",
   "execution_count": 24,
   "metadata": {},
   "outputs": [
    {
     "output_type": "stream",
     "name": "stdout",
     "text": [
      "il a 8 et 20 euros sur son compte \n"
     ]
    }
   ],
   "source": [
    "import re \n",
    "\n",
    "P = \"il a 8.45 et 20.43 euros sur son compte \"\n",
    "\n",
    "def test(s):\n",
    "    s = re.sub(\"[.,][0-9]+\", \"\", s)\n",
    "    print(s)\n",
    "\n",
    "test(P)"
   ]
  },
  {
   "cell_type": "code",
   "execution_count": 7,
   "metadata": {},
   "outputs": [
    {
     "output_type": "stream",
     "name": "stdout",
     "text": [
      "L'evolution sur 3 jours est de 7 points\n"
     ]
    }
   ],
   "source": [
    "from re import *\n",
    "\n",
    "def tronc(s):\n",
    "    motif = r\"(-?)([0-9]+)[,.]?[0-9]*\"\n",
    "    return sub(motif, r\"\\1\\2\", s)\n",
    "s = \"L'evolution sur 3,5 jours est de 7.23 points\"\n",
    "print(tronc(s))"
   ]
  },
  {
   "cell_type": "code",
   "execution_count": null,
   "metadata": {},
   "outputs": [],
   "source": []
  }
 ]
}