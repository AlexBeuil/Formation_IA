{
 "metadata": {
  "language_info": {
   "codemirror_mode": {
    "name": "ipython",
    "version": 3
   },
   "file_extension": ".py",
   "mimetype": "text/x-python",
   "name": "python",
   "nbconvert_exporter": "python",
   "pygments_lexer": "ipython3",
   "version": "3.8.5"
  },
  "orig_nbformat": 2,
  "kernelspec": {
   "name": "python385jvsc74a57bd064b474f71659f9be32f34132c3eef93d33d176ead871b80ca6db3fa26bc83f65",
   "display_name": "Python 3.8.5 64-bit ('base': conda)"
  },
  "metadata": {
   "interpreter": {
    "hash": "64b474f71659f9be32f34132c3eef93d33d176ead871b80ca6db3fa26bc83f65"
   }
  }
 },
 "nbformat": 4,
 "nbformat_minor": 2,
 "cells": [
  {
   "cell_type": "code",
   "execution_count": 2,
   "metadata": {},
   "outputs": [],
   "source": [
    "import random \n",
    "\n",
    "\n",
    "class Case:\n",
    "    def __init__(self,x,y):\n",
    "        self.x=x\n",
    "        self.y=y\n",
    "    def adjacentes(self,jeu):\n",
    "        #(i.x-1 <= self.x <= i.x+1) and (i.y-1 <= self.y <= i.y+1) and not(self.x==i.x and self.y==i.x)\n",
    "        l=[]\n",
    "        for i in jeu.listeDesCases:\n",
    "            if i.x == self.x and i.y == self.y:\n",
    "                None\n",
    "            else :\n",
    "                if ( i.x == self.x or i.x==(self.x+1) or i.x==(self.x-1)) and ( i.y == self.y or i.y==(self.y+1) or i.y==(self.y-1)):\n",
    "                    l.append(i)\n",
    "        return l\n",
    "    def __repr__(self):\n",
    "        return repr((self.x,self.y))"
   ]
  },
  {
   "cell_type": "code",
   "execution_count": 3,
   "metadata": {},
   "outputs": [],
   "source": [
    "class Jeu:\n",
    "    def __init__(self,listeDesCases,listeDesCreatures,tour,actif):\n",
    "        self.listeDesCases=listeDesCases\n",
    "        self.listeDesCreatures=listeDesCreatures\n",
    "        self.tour=tour\n",
    "        self.actif=actif\n",
    "    def estOccuper(self,case):\n",
    "        for i in self.listeDesCreatures:\n",
    "            print(i.position)\n",
    "            if i.position == case:\n",
    "                return True\n",
    "        return False\n",
    "    def deplacer(self,creature,case):\n",
    "        if self.estOccuper(case):\n",
    "            self.tour=0\n",
    "            creature.position=case\n",
    "            print(\"Vainqueur : \",creature)\n",
    "            return None\n",
    "        else :\n",
    "            creature.position=case\n",
    "            self.tour+=1\n",
    "            if self.actif == self.listeDesCreatures[0]:\n",
    "                self.actif= self.listeDesCreatures[1]\n",
    "            else :\n",
    "                self.actif= self.listeDesCreatures[0]\n",
    "            return case\n",
    "    def __repr__(self):\n",
    "        return repr((self.listeDesCases,self.listeDesCreatures,self.tour,self.actif))\n",
    "\n",
    "class Creature:\n",
    "    def __init__(self,nom,position):\n",
    "        self.nom=nom\n",
    "        self.position=position\n",
    "    def choisirCible(self,jeu):\n",
    "        for i in self.position.adjacentes(jeu):\n",
    "            if jeu.estOccuper(i):\n",
    "                return i\n",
    "        return random.choice(self.position.adjacentes(jeu))\n",
    "    def __repr__(self):\n",
    "        return repr((self.nom,self.position))"
   ]
  },
  {
   "cell_type": "code",
   "execution_count": 8,
   "metadata": {},
   "outputs": [
    {
     "output_type": "stream",
     "name": "stdout",
     "text": [
      "[(1, 1), (1, 2), (1, 3), (1, 4), (2, 1), (2, 2), (2, 3), (2, 4), (3, 1), (3, 2), (3, 3), (3, 4), (4, 1), (4, 2), (4, 3), (4, 4)]\n"
     ]
    },
    {
     "output_type": "execute_result",
     "data": {
      "text/plain": [
       "[('Chien à 3 têtes', (1, 1)), ('Tirex à 3 têtes', (4, 4))]"
      ]
     },
     "metadata": {},
     "execution_count": 8
    }
   ],
   "source": [
    "listeCase=[]\n",
    "for i in range(1,5):\n",
    "    for j in range(1,5):\n",
    "        l=Case(i,j)\n",
    "        listeCase.append(l)\n",
    "print(listeCase)\n",
    "listeCreature=[Creature('Chien à 3 têtes',Case(1,1)),Creature('Tirex à 3 têtes',Case(4,4))]\n",
    "listeCreature"
   ]
  },
  {
   "cell_type": "code",
   "execution_count": 11,
   "metadata": {},
   "outputs": [],
   "source": [
    "jeu1=Jeu(listeCase,listeCreature,1,listeCreature[0])"
   ]
  },
  {
   "cell_type": "code",
   "execution_count": 12,
   "metadata": {},
   "outputs": [
    {
     "output_type": "stream",
     "name": "stdout",
     "text": [
      "actif : ('Chien à 3 têtes', (1, 1))\n(1, 1)\n(4, 4)\n(1, 1)\n(4, 4)\n(1, 1)\n(4, 4)\n(1, 1)\n(4, 4)\n[('Chien à 3 têtes', (1, 2)), ('Tirex à 3 têtes', (4, 4))]\nactif : ('Tirex à 3 têtes', (4, 4))\n(1, 2)\n(4, 4)\n(1, 2)\n(4, 4)\n(1, 2)\n(4, 4)\n(1, 2)\n(4, 4)\n[('Chien à 3 têtes', (1, 2)), ('Tirex à 3 têtes', (4, 3))]\nactif : ('Chien à 3 têtes', (1, 2))\n(1, 2)\n(4, 3)\n(1, 2)\n(4, 3)\n(1, 2)\n(4, 3)\n(1, 2)\n(4, 3)\n(1, 2)\n(4, 3)\n(1, 2)\n(4, 3)\n[('Chien à 3 têtes', (2, 2)), ('Tirex à 3 têtes', (4, 3))]\nactif : ('Tirex à 3 têtes', (4, 3))\n(2, 2)\n(4, 3)\n(2, 2)\n(4, 3)\n(2, 2)\n(4, 3)\n(2, 2)\n(4, 3)\n(2, 2)\n(4, 3)\n(2, 2)\n(4, 3)\n[('Chien à 3 têtes', (2, 2)), ('Tirex à 3 têtes', (3, 4))]\nactif : ('Chien à 3 têtes', (2, 2))\n(2, 2)\n(3, 4)\n(2, 2)\n(3, 4)\n(2, 2)\n(3, 4)\n(2, 2)\n(3, 4)\n(2, 2)\n(3, 4)\n(2, 2)\n(3, 4)\n(2, 2)\n(3, 4)\n(2, 2)\n(3, 4)\n(2, 2)\n(3, 4)\n[('Chien à 3 têtes', (1, 3)), ('Tirex à 3 têtes', (3, 4))]\nactif : ('Tirex à 3 têtes', (3, 4))\n(1, 3)\n(3, 4)\n(1, 3)\n(3, 4)\n(1, 3)\n(3, 4)\n(1, 3)\n(3, 4)\n(1, 3)\n(3, 4)\n(1, 3)\n(3, 4)\n[('Chien à 3 têtes', (1, 3)), ('Tirex à 3 têtes', (2, 3))]\nactif : ('Chien à 3 têtes', (1, 3))\n(1, 3)\n(2, 3)\n(1, 3)\n(2, 3)\n(1, 3)\n(2, 3)\n(1, 3)\n(2, 3)\n(1, 3)\n(2, 3)\nVainqueur :  ('Chien à 3 têtes', (2, 3))\n[('Chien à 3 têtes', (2, 3)), ('Tirex à 3 têtes', (2, 3))]\n"
     ]
    }
   ],
   "source": [
    "while jeu1.tour>0:\n",
    "    print(\"actif :\",jeu1.actif)\n",
    "    jeu1.deplacer(jeu1.actif,jeu1.actif.choisirCible(jeu1))\n",
    "    print(jeu1.listeDesCreatures)"
   ]
  },
  {
   "cell_type": "code",
   "execution_count": null,
   "metadata": {},
   "outputs": [],
   "source": []
  }
 ]
}