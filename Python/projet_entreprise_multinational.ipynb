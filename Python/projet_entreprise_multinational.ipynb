{
 "metadata": {
  "language_info": {
   "codemirror_mode": {
    "name": "ipython",
    "version": 3
   },
   "file_extension": ".py",
   "mimetype": "text/x-python",
   "name": "python",
   "nbconvert_exporter": "python",
   "pygments_lexer": "ipython3",
   "version": "3.8.8"
  },
  "orig_nbformat": 2,
  "kernelspec": {
   "name": "python388jvsc74a57bd064b474f71659f9be32f34132c3eef93d33d176ead871b80ca6db3fa26bc83f65",
   "display_name": "Python 3.8.8 64-bit ('base': conda)"
  },
  "metadata": {
   "interpreter": {
    "hash": "64b474f71659f9be32f34132c3eef93d33d176ead871b80ca6db3fa26bc83f65"
   }
  }
 },
 "nbformat": 4,
 "nbformat_minor": 2,
 "cells": [
  {
   "source": [
    "# Projet entreprise multinational corporation – Part 1"
   ],
   "cell_type": "markdown",
   "metadata": {}
  },
  {
   "source": [
    "Contexte :\n",
    "Une entreprise multinational spécialisé dans la data définir une grille salarial pour ces employés à\n",
    "travers le monde en fonction de leurs niveaux d’étude, leurs postes, leurs compétences entre autres.\n",
    "Elle réunit dans un fichier Excel toutes les informations sur ses employés ainsi que les réponse à\n",
    "plusieurs réponses auxquels ils ont répondus.\n",
    "Pour traiter ces données avec la plus grande facilité il conviendra de les intégrer dans une base de\n",
    "données structurés."
   ],
   "cell_type": "markdown",
   "metadata": {}
  },
  {
   "source": [
    "Pour ce faire :\n",
    "\n",
    "Il faudra dans un premier temps mener une brève analyse exploratoire qui aura seulement\n",
    "pour but d’identifier le type des variables (et donc le type des colonnes de la base de\n",
    "données que vous allez créer et leurs longueurs) et de déterminer s’il y a des valeurs\n",
    "manquantes.\n",
    "\n",
    "- Pour cela utiliser ma méthode pandas.read_excel() (pensez à ignorer les 3 premiers\n",
    "lignes)\n",
    "- Avec l’attribut dtypes de votre dataframe vous obtiendrais le type de toute les\n",
    "colonnes.\n",
    "- Avec la méthode Series.value_counts() vous aurait les différentes modalités des\n",
    "variables de types object. Ce qui vous donnera un bon aperçus."
   ],
   "cell_type": "markdown",
   "metadata": {}
  },
  {
   "source": [
    "Vous devrait ensuite modéliser la base de données que vous jugerais la plus adapté à vos\n",
    "données en utilisant la méthode MERISE.\n",
    "\n",
    "- Idéalement parmi les colonnes de type int il y aura « TelecommuteDaysPerWeek ».\n",
    "- Les colonnes « OtherJobDuties » et « KindsOfTasksPerformed » contenant plusieurs\n",
    "modalité dans une cellules donneront naissances à des tables qui leurs sont dédier\n",
    "ainsi qu’à des tables de liaisons."
   ],
   "cell_type": "markdown",
   "metadata": {}
  },
  {
   "cell_type": "code",
   "execution_count": 1,
   "metadata": {},
   "outputs": [],
   "source": [
    "import pandas as pd \n",
    "\n",
    "dataframe = pd.read_excel(\"jeu_de_données/Data_Professional_Salary_Survey_Responses_1.xlsx\")"
   ]
  },
  {
   "cell_type": "code",
   "execution_count": 2,
   "metadata": {},
   "outputs": [
    {
     "output_type": "execute_result",
     "data": {
      "text/plain": [
       "       Survey Year               Timestamp  SalaryUSD         Country  \\\n",
       "0             2021 2020-12-10 08:22:42.696    65000.0          Sweden   \n",
       "1             2021 2020-12-10 08:23:22.242   145000.0   United States   \n",
       "2             2021 2020-12-10 08:23:37.909   105000.0   United States   \n",
       "3             2021 2020-12-10 08:23:48.152    46482.0  United Kingdom   \n",
       "4             2021 2020-12-10 08:24:03.600    98800.0   United States   \n",
       "...            ...                     ...        ...             ...   \n",
       "10336         2017 2017-01-14 15:50:23.936    36549.0  United Kingdom   \n",
       "10337         2017 2017-01-15 01:01:21.212    65000.0    Saudi Arabia   \n",
       "10338         2017 2017-01-15 03:25:47.422    85000.0     Netherlands   \n",
       "10339         2017 2017-01-15 03:37:35.305    90000.0   United States   \n",
       "10340         2017 2017-01-15 03:37:59.149    23000.0        Portugal   \n",
       "\n",
       "      PostalCode       PrimaryDatabase  YearsWithThisDatabase  \\\n",
       "0            NaN  Microsoft SQL Server                      4   \n",
       "1          76063  Microsoft SQL Server                     15   \n",
       "2          43240  Microsoft SQL Server                     12   \n",
       "3            NaN  Microsoft SQL Server                     10   \n",
       "4            468  Microsoft SQL Server                      5   \n",
       "...          ...                   ...                    ...   \n",
       "10336  Not Asked  Microsoft SQL Server                      3   \n",
       "10337  Not Asked  Microsoft SQL Server                      7   \n",
       "10338  Not Asked  Microsoft SQL Server                     17   \n",
       "10339  Not Asked  Microsoft SQL Server                      8   \n",
       "10340  Not Asked  Microsoft SQL Server                      4   \n",
       "\n",
       "                                        OtherDatabases    EmploymentStatus  \\\n",
       "0                                 Microsoft SQL Server  Full time employee   \n",
       "1                            Azure SQL DB (any flavor)  Full time employee   \n",
       "2                PostgreSQL, Azure SQL DB (any flavor)  Full time employee   \n",
       "3                            Azure SQL DB (any flavor)  Full time employee   \n",
       "4                                                  DB2  Full time employee   \n",
       "...                                                ...                 ...   \n",
       "10336                                              NaN  Full time employee   \n",
       "10337  Oracle, MySQL/MariaDB, Microsoft Access, SQLite  Full time employee   \n",
       "10338                                           Oracle  Full time employee   \n",
       "10339                                    MySQL/MariaDB  Full time employee   \n",
       "10340                PostgreSQL, DB2, Microsoft Access  Full time employee   \n",
       "\n",
       "                                                JobTitle  ...  \\\n",
       "0      Developer: Business Intelligence (SSRS, PowerB...  ...   \n",
       "1      DBA (Production Focus - build & troubleshoot s...  ...   \n",
       "2      DBA (General - splits time evenly between writ...  ...   \n",
       "3      DBA (Production Focus - build & troubleshoot s...  ...   \n",
       "4      Developer: Business Intelligence (SSRS, PowerB...  ...   \n",
       "...                                                  ...  ...   \n",
       "10336                                                DBA  ...   \n",
       "10337                                                DBA  ...   \n",
       "10338                                              Other  ...   \n",
       "10339                                                DBA  ...   \n",
       "10340                                          Architect  ...   \n",
       "\n",
       "      NewestVersionInProduction  OldestVersionInProduction  \\\n",
       "0               SQL Server 2016            SQL Server 2016   \n",
       "1               SQL Server 2019            SQL Server 2014   \n",
       "2               SQL Server 2017          SQL Server 2008R2   \n",
       "3               SQL Server 2019            SQL Server 2012   \n",
       "4               SQL Server 2019            SQL Server 2012   \n",
       "...                         ...                        ...   \n",
       "10336                 Not Asked                  Not Asked   \n",
       "10337                 Not Asked                  Not Asked   \n",
       "10338                 Not Asked                  Not Asked   \n",
       "10339                 Not Asked                  Not Asked   \n",
       "10340                 Not Asked                  Not Asked   \n",
       "\n",
       "      PopulationOfLargestCityWithin20Miles  \\\n",
       "0                         <= 20,000 (town)   \n",
       "1                         1M+ (metropolis)   \n",
       "2                     300K-1M (large city)   \n",
       "3                     300K-1M (large city)   \n",
       "4                         100K-299K (city)   \n",
       "...                                    ...   \n",
       "10336                            Not Asked   \n",
       "10337                            Not Asked   \n",
       "10338                            Not Asked   \n",
       "10339                            Not Asked   \n",
       "10340                            Not Asked   \n",
       "\n",
       "                            EmploymentSector  \\\n",
       "0                           Private business   \n",
       "1                           Private business   \n",
       "2                           Private business   \n",
       "3      Education (K-12, college, university)   \n",
       "4                           Private business   \n",
       "...                                      ...   \n",
       "10336                       Private business   \n",
       "10337                       Private business   \n",
       "10338                       Private business   \n",
       "10339                       Private business   \n",
       "10340                       Private business   \n",
       "\n",
       "                           LookingForAnotherJob  \\\n",
       "0                                     Not Asked   \n",
       "1                                     Not Asked   \n",
       "2                                     Not Asked   \n",
       "3                                     Not Asked   \n",
       "4                                     Not Asked   \n",
       "...                                         ...   \n",
       "10336                                        No   \n",
       "10337    Yes, but only passively (just curious)   \n",
       "10338    Yes, but only passively (just curious)   \n",
       "10339  Yes, actively looking for something else   \n",
       "10340    Yes, but only passively (just curious)   \n",
       "\n",
       "                          CareerPlansThisYear     Gender OtherJobDuties  \\\n",
       "0      Stay with the same employer, same role       Male      Not Asked   \n",
       "1      Stay with the same employer, same role       Male      Not Asked   \n",
       "2      Stay with the same employer, same role       Male      Not Asked   \n",
       "3      Stay with the same employer, same role       Male      Not Asked   \n",
       "4      Stay with the same employer, same role       Male      Not Asked   \n",
       "...                                       ...        ...            ...   \n",
       "10336                               Not Asked  Not Asked      Not Asked   \n",
       "10337                               Not Asked  Not Asked      Not Asked   \n",
       "10338                               Not Asked  Not Asked      Not Asked   \n",
       "10339                               Not Asked  Not Asked      Not Asked   \n",
       "10340                               Not Asked  Not Asked      Not Asked   \n",
       "\n",
       "      KindsOfTasksPerformed Counter  \n",
       "0                 Not Asked       1  \n",
       "1                 Not Asked       1  \n",
       "2                 Not Asked       1  \n",
       "3                 Not Asked       1  \n",
       "4                 Not Asked       1  \n",
       "...                     ...     ...  \n",
       "10336             Not Asked       1  \n",
       "10337             Not Asked       1  \n",
       "10338             Not Asked       1  \n",
       "10339             Not Asked       1  \n",
       "10340             Not Asked       1  \n",
       "\n",
       "[10341 rows x 31 columns]"
      ],
      "text/html": "<div>\n<style scoped>\n    .dataframe tbody tr th:only-of-type {\n        vertical-align: middle;\n    }\n\n    .dataframe tbody tr th {\n        vertical-align: top;\n    }\n\n    .dataframe thead th {\n        text-align: right;\n    }\n</style>\n<table border=\"1\" class=\"dataframe\">\n  <thead>\n    <tr style=\"text-align: right;\">\n      <th></th>\n      <th>Survey Year</th>\n      <th>Timestamp</th>\n      <th>SalaryUSD</th>\n      <th>Country</th>\n      <th>PostalCode</th>\n      <th>PrimaryDatabase</th>\n      <th>YearsWithThisDatabase</th>\n      <th>OtherDatabases</th>\n      <th>EmploymentStatus</th>\n      <th>JobTitle</th>\n      <th>...</th>\n      <th>NewestVersionInProduction</th>\n      <th>OldestVersionInProduction</th>\n      <th>PopulationOfLargestCityWithin20Miles</th>\n      <th>EmploymentSector</th>\n      <th>LookingForAnotherJob</th>\n      <th>CareerPlansThisYear</th>\n      <th>Gender</th>\n      <th>OtherJobDuties</th>\n      <th>KindsOfTasksPerformed</th>\n      <th>Counter</th>\n    </tr>\n  </thead>\n  <tbody>\n    <tr>\n      <th>0</th>\n      <td>2021</td>\n      <td>2020-12-10 08:22:42.696</td>\n      <td>65000.0</td>\n      <td>Sweden</td>\n      <td>NaN</td>\n      <td>Microsoft SQL Server</td>\n      <td>4</td>\n      <td>Microsoft SQL Server</td>\n      <td>Full time employee</td>\n      <td>Developer: Business Intelligence (SSRS, PowerB...</td>\n      <td>...</td>\n      <td>SQL Server 2016</td>\n      <td>SQL Server 2016</td>\n      <td>&lt;= 20,000 (town)</td>\n      <td>Private business</td>\n      <td>Not Asked</td>\n      <td>Stay with the same employer, same role</td>\n      <td>Male</td>\n      <td>Not Asked</td>\n      <td>Not Asked</td>\n      <td>1</td>\n    </tr>\n    <tr>\n      <th>1</th>\n      <td>2021</td>\n      <td>2020-12-10 08:23:22.242</td>\n      <td>145000.0</td>\n      <td>United States</td>\n      <td>76063</td>\n      <td>Microsoft SQL Server</td>\n      <td>15</td>\n      <td>Azure SQL DB (any flavor)</td>\n      <td>Full time employee</td>\n      <td>DBA (Production Focus - build &amp; troubleshoot s...</td>\n      <td>...</td>\n      <td>SQL Server 2019</td>\n      <td>SQL Server 2014</td>\n      <td>1M+ (metropolis)</td>\n      <td>Private business</td>\n      <td>Not Asked</td>\n      <td>Stay with the same employer, same role</td>\n      <td>Male</td>\n      <td>Not Asked</td>\n      <td>Not Asked</td>\n      <td>1</td>\n    </tr>\n    <tr>\n      <th>2</th>\n      <td>2021</td>\n      <td>2020-12-10 08:23:37.909</td>\n      <td>105000.0</td>\n      <td>United States</td>\n      <td>43240</td>\n      <td>Microsoft SQL Server</td>\n      <td>12</td>\n      <td>PostgreSQL, Azure SQL DB (any flavor)</td>\n      <td>Full time employee</td>\n      <td>DBA (General - splits time evenly between writ...</td>\n      <td>...</td>\n      <td>SQL Server 2017</td>\n      <td>SQL Server 2008R2</td>\n      <td>300K-1M (large city)</td>\n      <td>Private business</td>\n      <td>Not Asked</td>\n      <td>Stay with the same employer, same role</td>\n      <td>Male</td>\n      <td>Not Asked</td>\n      <td>Not Asked</td>\n      <td>1</td>\n    </tr>\n    <tr>\n      <th>3</th>\n      <td>2021</td>\n      <td>2020-12-10 08:23:48.152</td>\n      <td>46482.0</td>\n      <td>United Kingdom</td>\n      <td>NaN</td>\n      <td>Microsoft SQL Server</td>\n      <td>10</td>\n      <td>Azure SQL DB (any flavor)</td>\n      <td>Full time employee</td>\n      <td>DBA (Production Focus - build &amp; troubleshoot s...</td>\n      <td>...</td>\n      <td>SQL Server 2019</td>\n      <td>SQL Server 2012</td>\n      <td>300K-1M (large city)</td>\n      <td>Education (K-12, college, university)</td>\n      <td>Not Asked</td>\n      <td>Stay with the same employer, same role</td>\n      <td>Male</td>\n      <td>Not Asked</td>\n      <td>Not Asked</td>\n      <td>1</td>\n    </tr>\n    <tr>\n      <th>4</th>\n      <td>2021</td>\n      <td>2020-12-10 08:24:03.600</td>\n      <td>98800.0</td>\n      <td>United States</td>\n      <td>468</td>\n      <td>Microsoft SQL Server</td>\n      <td>5</td>\n      <td>DB2</td>\n      <td>Full time employee</td>\n      <td>Developer: Business Intelligence (SSRS, PowerB...</td>\n      <td>...</td>\n      <td>SQL Server 2019</td>\n      <td>SQL Server 2012</td>\n      <td>100K-299K (city)</td>\n      <td>Private business</td>\n      <td>Not Asked</td>\n      <td>Stay with the same employer, same role</td>\n      <td>Male</td>\n      <td>Not Asked</td>\n      <td>Not Asked</td>\n      <td>1</td>\n    </tr>\n    <tr>\n      <th>...</th>\n      <td>...</td>\n      <td>...</td>\n      <td>...</td>\n      <td>...</td>\n      <td>...</td>\n      <td>...</td>\n      <td>...</td>\n      <td>...</td>\n      <td>...</td>\n      <td>...</td>\n      <td>...</td>\n      <td>...</td>\n      <td>...</td>\n      <td>...</td>\n      <td>...</td>\n      <td>...</td>\n      <td>...</td>\n      <td>...</td>\n      <td>...</td>\n      <td>...</td>\n      <td>...</td>\n    </tr>\n    <tr>\n      <th>10336</th>\n      <td>2017</td>\n      <td>2017-01-14 15:50:23.936</td>\n      <td>36549.0</td>\n      <td>United Kingdom</td>\n      <td>Not Asked</td>\n      <td>Microsoft SQL Server</td>\n      <td>3</td>\n      <td>NaN</td>\n      <td>Full time employee</td>\n      <td>DBA</td>\n      <td>...</td>\n      <td>Not Asked</td>\n      <td>Not Asked</td>\n      <td>Not Asked</td>\n      <td>Private business</td>\n      <td>No</td>\n      <td>Not Asked</td>\n      <td>Not Asked</td>\n      <td>Not Asked</td>\n      <td>Not Asked</td>\n      <td>1</td>\n    </tr>\n    <tr>\n      <th>10337</th>\n      <td>2017</td>\n      <td>2017-01-15 01:01:21.212</td>\n      <td>65000.0</td>\n      <td>Saudi Arabia</td>\n      <td>Not Asked</td>\n      <td>Microsoft SQL Server</td>\n      <td>7</td>\n      <td>Oracle, MySQL/MariaDB, Microsoft Access, SQLite</td>\n      <td>Full time employee</td>\n      <td>DBA</td>\n      <td>...</td>\n      <td>Not Asked</td>\n      <td>Not Asked</td>\n      <td>Not Asked</td>\n      <td>Private business</td>\n      <td>Yes, but only passively (just curious)</td>\n      <td>Not Asked</td>\n      <td>Not Asked</td>\n      <td>Not Asked</td>\n      <td>Not Asked</td>\n      <td>1</td>\n    </tr>\n    <tr>\n      <th>10338</th>\n      <td>2017</td>\n      <td>2017-01-15 03:25:47.422</td>\n      <td>85000.0</td>\n      <td>Netherlands</td>\n      <td>Not Asked</td>\n      <td>Microsoft SQL Server</td>\n      <td>17</td>\n      <td>Oracle</td>\n      <td>Full time employee</td>\n      <td>Other</td>\n      <td>...</td>\n      <td>Not Asked</td>\n      <td>Not Asked</td>\n      <td>Not Asked</td>\n      <td>Private business</td>\n      <td>Yes, but only passively (just curious)</td>\n      <td>Not Asked</td>\n      <td>Not Asked</td>\n      <td>Not Asked</td>\n      <td>Not Asked</td>\n      <td>1</td>\n    </tr>\n    <tr>\n      <th>10339</th>\n      <td>2017</td>\n      <td>2017-01-15 03:37:35.305</td>\n      <td>90000.0</td>\n      <td>United States</td>\n      <td>Not Asked</td>\n      <td>Microsoft SQL Server</td>\n      <td>8</td>\n      <td>MySQL/MariaDB</td>\n      <td>Full time employee</td>\n      <td>DBA</td>\n      <td>...</td>\n      <td>Not Asked</td>\n      <td>Not Asked</td>\n      <td>Not Asked</td>\n      <td>Private business</td>\n      <td>Yes, actively looking for something else</td>\n      <td>Not Asked</td>\n      <td>Not Asked</td>\n      <td>Not Asked</td>\n      <td>Not Asked</td>\n      <td>1</td>\n    </tr>\n    <tr>\n      <th>10340</th>\n      <td>2017</td>\n      <td>2017-01-15 03:37:59.149</td>\n      <td>23000.0</td>\n      <td>Portugal</td>\n      <td>Not Asked</td>\n      <td>Microsoft SQL Server</td>\n      <td>4</td>\n      <td>PostgreSQL, DB2, Microsoft Access</td>\n      <td>Full time employee</td>\n      <td>Architect</td>\n      <td>...</td>\n      <td>Not Asked</td>\n      <td>Not Asked</td>\n      <td>Not Asked</td>\n      <td>Private business</td>\n      <td>Yes, but only passively (just curious)</td>\n      <td>Not Asked</td>\n      <td>Not Asked</td>\n      <td>Not Asked</td>\n      <td>Not Asked</td>\n      <td>1</td>\n    </tr>\n  </tbody>\n</table>\n<p>10341 rows × 31 columns</p>\n</div>"
     },
     "metadata": {},
     "execution_count": 2
    }
   ],
   "source": [
    "dataframe"
   ]
  },
  {
   "cell_type": "code",
   "execution_count": 3,
   "metadata": {},
   "outputs": [
    {
     "output_type": "execute_result",
     "data": {
      "text/plain": [
       "Survey Year                                      int64\n",
       "Timestamp                               datetime64[ns]\n",
       "SalaryUSD                                      float64\n",
       "Country                                         object\n",
       "PostalCode                                      object\n",
       "PrimaryDatabase                                 object\n",
       "YearsWithThisDatabase                            int64\n",
       "OtherDatabases                                  object\n",
       "EmploymentStatus                                object\n",
       "JobTitle                                        object\n",
       "ManageStaff                                     object\n",
       "YearsWithThisTypeOfJob                           int64\n",
       "HowManyCompanies                                object\n",
       "OtherPeopleOnYourTeam                           object\n",
       "CompanyEmployeesOverall                         object\n",
       "DatabaseServers                                 object\n",
       "Education                                       object\n",
       "EducationIsComputerRelated                      object\n",
       "Certifications                                  object\n",
       "HoursWorkedPerWeek                              object\n",
       "TelecommuteDaysPerWeek                          object\n",
       "NewestVersionInProduction                       object\n",
       "OldestVersionInProduction                       object\n",
       "PopulationOfLargestCityWithin20Miles            object\n",
       "EmploymentSector                                object\n",
       "LookingForAnotherJob                            object\n",
       "CareerPlansThisYear                             object\n",
       "Gender                                          object\n",
       "OtherJobDuties                                  object\n",
       "KindsOfTasksPerformed                           object\n",
       "Counter                                          int64\n",
       "dtype: object"
      ]
     },
     "metadata": {},
     "execution_count": 3
    }
   ],
   "source": [
    "dataframe.dtypes"
   ]
  },
  {
   "cell_type": "code",
   "execution_count": 4,
   "metadata": {},
   "outputs": [
    {
     "output_type": "stream",
     "name": "stdout",
     "text": [
      "--- Survey Year ---\n\n\n2018    3094\n2017    2898\n2021    1747\n2020    1723\n2019     879\nName: Survey Year, dtype: int64\n\n\n--- Timestamp ---\n\n\n2019-12-11 11:25:39.735    2\n2017-01-05 11:48:25.283    2\n2017-12-20 08:12:38.482    2\n2018-12-12 12:53:51.550    1\n2020-12-17 05:56:58.652    1\n                          ..\n2017-12-20 08:25:33.452    1\n2017-12-13 07:25:58.092    1\n2017-12-15 11:59:37.493    1\n2018-12-12 07:23:30.983    1\n2019-01-03 01:12:19.445    1\nName: Timestamp, Length: 10338, dtype: int64\n\n\n--- SalaryUSD ---\n\n\n110000.0    280\n100000.0    270\n120000.0    265\n90000.0     237\n80000.0     227\n           ... \n15348.0       1\n65240.0       1\n72446.0       1\n127059.0      1\n48650.0       1\nName: SalaryUSD, Length: 1655, dtype: int64\n\n\n--- Country ---\n\n\nUnited States     6807\nUnited Kingdom     934\nCanada             378\nAustralia          255\nIndia              171\n                  ... \nCyprus               1\nBolivia              1\nBermuda              1\nGhana                1\nAlbania              1\nName: Country, Length: 97, dtype: int64\n\n\n--- PostalCode ---\n\n\nNot Asked    2898\n2000           20\n3000           20\n6000           15\n98101          15\n             ... \n33430           1\n33132           1\n53037           1\n91307           1\nG1              1\nName: PostalCode, Length: 3663, dtype: int64\n\n\n--- PrimaryDatabase ---\n\n\nMicrosoft SQL Server       9553\nOracle                      330\nOther                        95\nPostgreSQL                   93\nAzure SQL DB                 77\nMySQL/MariaDB                67\nAmazon RDS (any flavor)      32\nDB2                          25\nMicrosoft Access             23\nMongoDB                      12\nSAP                          11\nTeradata                     11\nSQLite                        5\nCassandra                     5\nElasticsearch                 2\nName: PrimaryDatabase, dtype: int64\n\n\n--- YearsWithThisDatabase ---\n\n\n10       1164\n15        936\n20        842\n5         752\n8         603\n6         561\n3         539\n4         529\n7         527\n12        487\n2         431\n18        367\n1         345\n17        344\n16        265\n13        257\n9         251\n11        223\n14        220\n25        155\n19        139\n22        119\n21         82\n23         70\n24         34\n30         30\n0          21\n26         10\n28          8\n27          7\n29          5\n32          3\n33          2\n31          2\n2020        1\n2003        1\n30331       1\n1997        1\n1050        1\n34          1\n2017        1\n38          1\n53716       1\n2000        1\n40          1\nName: YearsWithThisDatabase, dtype: int64\n\n\n--- OtherDatabases ---\n\n\nMicrosoft SQL Server                                                                            898\nOracle                                                                                          366\nMicrosoft Access                                                                                324\nMySQL/MariaDB                                                                                   251\nAzure SQL DB                                                                                    199\n                                                                                               ... \nMicrosoft SQL Server, Oracle, MySQL/MariaDB, PostgreSQL, DB2, Microsoft Access, Azure SQL DB      1\nMicrosoft SQL Server, MySQL/MariaDB, Microsoft Access, Teradata, Azure SQL DB (any flavor)        1\nMicrosoft SQL Server, Oracle, PostgreSQL, MongoDB, Azure SQL DB (any flavor), CosmosDB            1\nMySQL/MariaDB, Microsoft Access, Informix                                                         1\nMicrosoft SQL Server, MySQL/MariaDB, Microsoft Access, Btrieve                                    1\nName: OtherDatabases, Length: 1948, dtype: int64\n\n\n--- EmploymentStatus ---\n\n\nFull time employee                                                   9151\nFull time employee of a consulting/contracting company                754\nIndependent consultant, contractor, freelancer,  or company owner     299\nIndependent or freelancer or company owner                            104\nPart time                                                              33\nName: EmploymentStatus, dtype: int64\n\n\n--- JobTitle ---\n\n\nDBA (General - splits time evenly between writing & tuning queries AND building & troubleshooting servers)    1906\nDBA                                                                                                           1514\nDBA (Production Focus - build & troubleshoot servers, HA/DR)                                                  1230\nDeveloper: T-SQL                                                                                               995\nArchitect                                                                                                      794\nDeveloper: Business Intelligence (SSRS, PowerBI, etc)                                                          737\nDeveloper: App code (C#, JS, etc)                                                                              680\nManager                                                                                                        625\nAnalyst                                                                                                        593\nEngineer                                                                                                       516\nDBA (Development Focus - tunes queries, indexes, does deployments)                                             496\nOther                                                                                                          170\nData Scientist                                                                                                  74\nSystems Administrator                                                                                            2\nPrincipal database engineer                                                                                      1\nAnalytics consultant                                                                                             1\nSr Consultant                                                                                                    1\nSales                                                                                                            1\nDevOps, Sr Software Engineer DBA                                                                                 1\nDBA / BI Developer                                                                                               1\nConsultant                                                                                                       1\nDatabase Specialist                                                                                              1\nTechnician                                                                                                       1\nName: JobTitle, dtype: int64\n\n\n--- ManageStaff ---\n\n\nNo     7948\nYes    2393\nName: ManageStaff, dtype: int64\n\n\n--- YearsWithThisTypeOfJob ---\n\n\n1       1113\n2       1086\n3       1037\n5       1009\n10       818\n4        806\n6        610\n7        517\n8        487\n15       451\n20       409\n12       296\n9        228\n11       158\n25       157\n18       149\n13       140\n17       130\n14       118\n16       111\n0         83\n19        73\n22        70\n21        55\n30        52\n23        41\n24        20\n28        15\n27        15\n35        14\n32        12\n26        11\n33        11\n29        10\n31         6\n40         4\n38         4\n37         4\n34         3\n36         2\n1997       1\n45         1\n2020       1\n44         1\n42         1\n39         1\nName: YearsWithThisTypeOfJob, dtype: int64\n\n\n--- HowManyCompanies ---\n\n\nNot Asked                                                             5992\n1 (this is the only company where I've had this kind of position)     1539\n2 (I worked at another similar position elsewhere before this one)    1240\n3                                                                      726\n4                                                                      368\n6 or more                                                              266\n5                                                                      210\nName: HowManyCompanies, dtype: int64\n\n\n--- OtherPeopleOnYourTeam ---\n\n\nNone           3924\n1              2144\n2              1300\nMore than 5    1125\n3               884\n4               581\n5               383\nName: OtherPeopleOnYourTeam, dtype: int64\n\n\n--- CompanyEmployeesOverall ---\n\n\nNot Asked       7715\n1000 or more     377\n10               132\n100-249          126\n6-99             123\n                ... \n162                1\n143                1\n140                1\n127                1\n122                1\nName: CompanyEmployeesOverall, Length: 148, dtype: int64\n\n\n--- DatabaseServers ---\n\n\nNot Asked    1747\n10            636\n5             545\n3             511\n20            508\n             ... \n284             1\n270             1\n265             1\n257             1\n226             1\nName: DatabaseServers, Length: 268, dtype: int64\n\n\n--- Education ---\n\n\nBachelors (4 years)           3650\nNot Asked                     3470\nMasters                       1230\nNone (no degree completed)    1180\nAssociates (2 years)           760\nDoctorate/PhD                   51\nName: Education, dtype: int64\n\n\n--- EducationIsComputerRelated ---\n\n\nYes          3768\nNot Asked    3470\nNo           1891\nName: EducationIsComputerRelated, dtype: int64\n\n\n--- Certifications ---\n\n\nNot Asked                           3470\nNo, I never have                    3347\nYes, and they're currently valid    1807\nYes, but they expired               1717\nName: Certifications, dtype: int64\n\n\n--- HoursWorkedPerWeek ---\n\n\nNot Asked    3470\n40           2951\n45           1248\n50            872\n42            265\n38            254\n35            204\n37            195\n60            155\n55            150\n48             82\n44             71\n43             61\n36             46\n30             44\n41             38\n46             36\n65             27\n39             22\n47             22\n70             18\n32             15\n80              9\n8               8\n52              7\n24              6\n90              6\n54              6\n20              5\n10              4\n53              4\n25              4\n75              4\n9               3\n58              2\n100             2\n85              2\n68              2\n49              2\n57              1\n59              1\n200             1\n160             1\n150             1\n93              1\n28              1\n11              1\n82              1\n22              1\n78              1\n76              1\n12              1\n56              1\n5               1\n15              1\n64              1\n6               1\n3               1\nName: HoursWorkedPerWeek, dtype: int64\n\n\n--- TelecommuteDaysPerWeek ---\n\n\nNone, or less than 1 day per week    4023\nNot Asked                            3470\n1                                    1140\n5 or more                             787\n2                                     536\n3                                     241\n4                                     144\nName: TelecommuteDaysPerWeek, dtype: int64\n\n\n--- NewestVersionInProduction ---\n\n\nNot Asked                                           6871\nSQL Server 2017                                     1234\nSQL Server 2016                                      933\nSQL Server 2019                                      919\nSQL Server 2014                                      155\n                                                    ... \nWe have SQL server but I don't know the versions       1\nDont use SQL server                                    1\nWe don’t                                               1\n?                                                      1\nAzure SQL                                              1\nName: NewestVersionInProduction, Length: 70, dtype: int64\n\n\n--- OldestVersionInProduction ---\n\n\nNot Asked            6871\nSQL Server 2008R2     857\nSQL Server 2012       827\nSQL Server 2016       429\nSQL Server 2014       407\n                     ... \nSQL 2005 (Sigh)         1\nNot used                1\nSQL SERVER 2000         1\nRedshift                1\nAzure                   1\nName: OldestVersionInProduction, Length: 97, dtype: int64\n\n\n--- PopulationOfLargestCityWithin20Miles ---\n\n\nNot Asked               5992\n1M+ (metropolis)        1663\n300K-1M (large city)    1310\n100K-299K (city)         876\n20K-99K (large town)     370\n<= 20,000 (town)         130\nName: PopulationOfLargestCityWithin20Miles, dtype: int64\n\n\n--- EmploymentSector ---\n\n\nPrivate business                         8577\nState/province government                 440\nNon-profit                                395\nLocal government                          374\nFederal government                        274\nEducation (K-12, college, university)     272\nStudent                                     9\nName: EmploymentSector, dtype: int64\n\n\n--- LookingForAnotherJob ---\n\n\nNot Asked                                   3470\nNo                                          3414\nYes, but only passively (just curious)      2923\nYes, actively looking for something else     534\nName: LookingForAnotherJob, dtype: int64\n\n\n--- CareerPlansThisYear ---\n\n\nStay with the same employer, same role            4524\nNot Asked                                         2898\nStay with the same employer,  but change roles     864\nStay with the same role, but change employers      848\nPrefer not to say                                  609\nChange both employers and roles                    598\nName: CareerPlansThisYear, dtype: int64\n\n\n--- Gender ---\n\n\nMale                       6619\nNot Asked                  2898\nFemale                      710\nPrefer not to say            91\nNon-binary/third gender      22\nNone                          1\nName: Gender, dtype: int64\n\n\n--- OtherJobDuties ---\n\n\nNot Asked                                                                                                                                                                                                                                                                                                                                                              6368\nDBA (Development Focus - tunes queries, indexes, does deployments)                                                                                                                                                                                                                                                                                                      247\nDeveloper: T-SQL                                                                                                                                                                                                                                                                                                                                                        212\nDBA (General - splits time evenly between writing & tuning queries AND building & troubleshooting servers)                                                                                                                                                                                                                                                              155\nDeveloper: Business Intelligence (SSRS, PowerBI, etc)                                                                                                                                                                                                                                                                                                                   119\n                                                                                                                                                                                                                                                                                                                                                                       ... \nArchitect, Data Scientist, DBA (Development Focus - tunes queries, indexes, does deployments), DBA (Production Focus - build & troubleshoot servers, HA/DR), Developer: Business Intelligence (SSRS, PowerBI, etc), Developer: T-SQL                                                                                                                                      1\nDBA (Production Focus - build & troubleshoot servers, HA/DR), DBA (General - splits time evenly between writing & tuning queries AND building & troubleshooting servers), Developer: App code (C#, JS, etc), Developer: T-SQL                                                                                                                                             1\nDBA (Development Focus - tunes queries, indexes, does deployments), DBA (Production Focus - build & troubleshoot servers, HA/DR), DBA (General - splits time evenly between writing & tuning queries AND building & troubleshooting servers), Engineer                                                                                                                    1\nArchitect, DBA (Development Focus - tunes queries, indexes, does deployments), DBA (Production Focus - build & troubleshoot servers, HA/DR), DBA (General - splits time evenly between writing & tuning queries AND building & troubleshooting servers), Developer: App code (C#, JS, etc), Developer: Business Intelligence (SSRS, PowerBI, etc), Developer: T-SQL       1\nAnalyst, DBA (Production Focus - build & troubleshoot servers, HA/DR), Developer: Business Intelligence (SSRS, PowerBI, etc), Engineer                                                                                                                                                                                                                                    1\nName: OtherJobDuties, Length: 551, dtype: int64\n\n\n--- KindsOfTasksPerformed ---\n\n\nNot Asked                                                                                                                                         6368\nBuild scripts & automation tools, Manual tasks, Meetings & management, Projects                                                                    186\nBuild scripts & automation tools, Manual tasks, Projects                                                                                           150\nBuild scripts & automation tools, Manual tasks, Meetings & management, Projects, R&D, Training/teaching                                            132\nBuild scripts & automation tools, Manual tasks, Meetings & management, On-call as part of a rotation, Projects, R&D, Training/teaching             125\n                                                                                                                                                  ... \nMeetings & management, On-call 24/7/365, R&D, Training/teaching                                                                                      1\nManual tasks, On-call as part of a rotation, R&D                                                                                                     1\nManual tasks, Meetings & management, On-call as part of a rotation, On-call 24/7/365, Projects, R&D, Training/teaching                               1\nBuild scripts & automation tools, Manual tasks, Meetings & management, On-call as part of a rotation, On-call 24/7/365, R&D, Training/teaching       1\nR&D, Training/teaching                                                                                                                               1\nName: KindsOfTasksPerformed, Length: 211, dtype: int64\n\n\n--- Counter ---\n\n\n1    10341\nName: Counter, dtype: int64\n\n\n"
     ]
    }
   ],
   "source": [
    "for i in dataframe.columns:\n",
    "    print(\"---\",i,\"---\")\n",
    "    print(\"\\n\")\n",
    "    print(dataframe[i].value_counts())\n",
    "    print(\"\\n\")"
   ]
  },
  {
   "cell_type": "code",
   "execution_count": null,
   "metadata": {},
   "outputs": [],
   "source": []
  }
 ]
}