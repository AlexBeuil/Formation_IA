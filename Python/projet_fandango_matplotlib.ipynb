{
 "cells": [
  {
   "cell_type": "markdown",
   "metadata": {},
   "source": [
    "# Projet Fandango"
   ]
  },
  {
   "cell_type": "markdown",
   "metadata": {},
   "source": [
    "## Contexte\n",
    "\n",
    "Le jeux de données contient 147 films depuis 2015 et possède des\n",
    "reviews de critiques et d’utilisateurs et propose une moyenne des\n",
    "notes des critiques et des utilisateurs.\n",
    "\n",
    "Sur le site Fandango les notes des films semble sensiblement mieux\n",
    "noté que sur les autres sites. De plus Fandango a la particularité de\n",
    "vendre ces propres ticket de cinémas.\n",
    "\n",
    "• Les notes sont-elles sur/sous évalué par Fandango pour augmenter\n",
    "ces vente ?"
   ]
  },
  {
   "cell_type": "markdown",
   "metadata": {},
   "source": [
    "### Diagrammes en barres et graphiques à nuage de points\n",
    "> Lire 'fandango_scores.csv' dans un dataframe reviews.\n",
    "\n",
    "> Sélectionner les colonnes suivantes et assigner les au dataframe norm_reviews:\n",
    "    \n",
    ">- 'FILM'\n",
    "\n",
    ">- 'RT_user_norm'\n",
    "\n",
    ">- 'Metacritic_user_nom'\n",
    "\n",
    ">- 'IMDB_norm'\n",
    "\n",
    ">- 'Fandango_Ratingvalue'\n",
    "\n",
    ">- 'Fandango_Stars'\n",
    "\n",
    "> Afficher les premières lignes de norm_reviews."
   ]
  },
  {
   "cell_type": "code",
   "execution_count": 1,
   "metadata": {},
   "outputs": [
    {
     "data": {
      "text/html": [
       "<div>\n",
       "<style scoped>\n",
       "    .dataframe tbody tr th:only-of-type {\n",
       "        vertical-align: middle;\n",
       "    }\n",
       "\n",
       "    .dataframe tbody tr th {\n",
       "        vertical-align: top;\n",
       "    }\n",
       "\n",
       "    .dataframe thead th {\n",
       "        text-align: right;\n",
       "    }\n",
       "</style>\n",
       "<table border=\"1\" class=\"dataframe\">\n",
       "  <thead>\n",
       "    <tr style=\"text-align: right;\">\n",
       "      <th></th>\n",
       "      <th>FILM</th>\n",
       "      <th>RT_user_norm</th>\n",
       "      <th>Metacritic_user_nom</th>\n",
       "      <th>IMDB_norm</th>\n",
       "      <th>Fandango_Ratingvalue</th>\n",
       "      <th>Fandango_Stars</th>\n",
       "    </tr>\n",
       "  </thead>\n",
       "  <tbody>\n",
       "    <tr>\n",
       "      <th>0</th>\n",
       "      <td>Avengers: Age of Ultron (2015)</td>\n",
       "      <td>4.3</td>\n",
       "      <td>3.55</td>\n",
       "      <td>3.90</td>\n",
       "      <td>4.5</td>\n",
       "      <td>5.0</td>\n",
       "    </tr>\n",
       "    <tr>\n",
       "      <th>1</th>\n",
       "      <td>Cinderella (2015)</td>\n",
       "      <td>4.0</td>\n",
       "      <td>3.75</td>\n",
       "      <td>3.55</td>\n",
       "      <td>4.5</td>\n",
       "      <td>5.0</td>\n",
       "    </tr>\n",
       "    <tr>\n",
       "      <th>2</th>\n",
       "      <td>Ant-Man (2015)</td>\n",
       "      <td>4.5</td>\n",
       "      <td>4.05</td>\n",
       "      <td>3.90</td>\n",
       "      <td>4.5</td>\n",
       "      <td>5.0</td>\n",
       "    </tr>\n",
       "    <tr>\n",
       "      <th>3</th>\n",
       "      <td>Do You Believe? (2015)</td>\n",
       "      <td>4.2</td>\n",
       "      <td>2.35</td>\n",
       "      <td>2.70</td>\n",
       "      <td>4.5</td>\n",
       "      <td>5.0</td>\n",
       "    </tr>\n",
       "    <tr>\n",
       "      <th>4</th>\n",
       "      <td>Hot Tub Time Machine 2 (2015)</td>\n",
       "      <td>1.4</td>\n",
       "      <td>1.70</td>\n",
       "      <td>2.55</td>\n",
       "      <td>3.0</td>\n",
       "      <td>3.5</td>\n",
       "    </tr>\n",
       "  </tbody>\n",
       "</table>\n",
       "</div>"
      ],
      "text/plain": [
       "                             FILM  RT_user_norm  Metacritic_user_nom  \\\n",
       "0  Avengers: Age of Ultron (2015)           4.3                 3.55   \n",
       "1               Cinderella (2015)           4.0                 3.75   \n",
       "2                  Ant-Man (2015)           4.5                 4.05   \n",
       "3          Do You Believe? (2015)           4.2                 2.35   \n",
       "4   Hot Tub Time Machine 2 (2015)           1.4                 1.70   \n",
       "\n",
       "   IMDB_norm  Fandango_Ratingvalue  Fandango_Stars  \n",
       "0       3.90                   4.5             5.0  \n",
       "1       3.55                   4.5             5.0  \n",
       "2       3.90                   4.5             5.0  \n",
       "3       2.70                   4.5             5.0  \n",
       "4       2.55                   3.0             3.5  "
      ]
     },
     "execution_count": 1,
     "metadata": {},
     "output_type": "execute_result"
    }
   ],
   "source": [
    "import pandas as pd \n",
    "\n",
    "fandango = pd.read_csv(\"/home/simplon/Documents/Python_cours/fandango_score_comparison/fandango_scores.csv\")\n",
    "\n",
    "norm_reviews = fandango[['FILM','RT_user_norm','Metacritic_user_nom','IMDB_norm','Fandango_Ratingvalue',\n",
    "                        'Fandango_Stars']]\n",
    "\n",
    "norm_reviews.head()"
   ]
  },
  {
   "cell_type": "markdown",
   "metadata": {},
   "source": [
    "Diagrammes en barre\n",
    "\n",
    "> Créer un sous-graphique avec plt.subplot() et assigner l'objet Figure à\n",
    "la variable fig et l'objet Axes à la variable ax.\n",
    "\n",
    "> Générer un diagramme en barre avec:\n",
    "    \n",
    ">- Les coordonnées x de toutes les barres définie par bar_positions qui doit\n",
    "prendre les valeurs 1,2,3,4 et 5\n",
    "\n",
    ">- La hauteur de chaque barres définie par bar_heights qui doit prendre les 5\n",
    "colonnes qui nous intéressent pour le film ‘Avengers: Age of Ultron (2015)’.\n",
    "    \n",
    ">- Avec l’argument width vous pouvez gérer l’épaisseur des barres. Fixé-là à 0.5\n",
    "\n",
    "> Afficher le diagramme en barre."
   ]
  },
  {
   "cell_type": "code",
   "execution_count": 2,
   "metadata": {},
   "outputs": [
    {
     "data": {
      "text/html": [
       "<div>\n",
       "<style scoped>\n",
       "    .dataframe tbody tr th:only-of-type {\n",
       "        vertical-align: middle;\n",
       "    }\n",
       "\n",
       "    .dataframe tbody tr th {\n",
       "        vertical-align: top;\n",
       "    }\n",
       "\n",
       "    .dataframe thead th {\n",
       "        text-align: right;\n",
       "    }\n",
       "</style>\n",
       "<table border=\"1\" class=\"dataframe\">\n",
       "  <thead>\n",
       "    <tr style=\"text-align: right;\">\n",
       "      <th></th>\n",
       "      <th>RT_user_norm</th>\n",
       "      <th>Metacritic_user_nom</th>\n",
       "      <th>IMDB_norm</th>\n",
       "      <th>Fandango_Ratingvalue</th>\n",
       "      <th>Fandango_Stars</th>\n",
       "    </tr>\n",
       "    <tr>\n",
       "      <th>FILM</th>\n",
       "      <th></th>\n",
       "      <th></th>\n",
       "      <th></th>\n",
       "      <th></th>\n",
       "      <th></th>\n",
       "    </tr>\n",
       "  </thead>\n",
       "  <tbody>\n",
       "    <tr>\n",
       "      <th>Avengers: Age of Ultron (2015)</th>\n",
       "      <td>4.30</td>\n",
       "      <td>3.55</td>\n",
       "      <td>3.90</td>\n",
       "      <td>4.5</td>\n",
       "      <td>5.0</td>\n",
       "    </tr>\n",
       "    <tr>\n",
       "      <th>Cinderella (2015)</th>\n",
       "      <td>4.00</td>\n",
       "      <td>3.75</td>\n",
       "      <td>3.55</td>\n",
       "      <td>4.5</td>\n",
       "      <td>5.0</td>\n",
       "    </tr>\n",
       "    <tr>\n",
       "      <th>Ant-Man (2015)</th>\n",
       "      <td>4.50</td>\n",
       "      <td>4.05</td>\n",
       "      <td>3.90</td>\n",
       "      <td>4.5</td>\n",
       "      <td>5.0</td>\n",
       "    </tr>\n",
       "    <tr>\n",
       "      <th>Do You Believe? (2015)</th>\n",
       "      <td>4.20</td>\n",
       "      <td>2.35</td>\n",
       "      <td>2.70</td>\n",
       "      <td>4.5</td>\n",
       "      <td>5.0</td>\n",
       "    </tr>\n",
       "    <tr>\n",
       "      <th>Hot Tub Time Machine 2 (2015)</th>\n",
       "      <td>1.40</td>\n",
       "      <td>1.70</td>\n",
       "      <td>2.55</td>\n",
       "      <td>3.0</td>\n",
       "      <td>3.5</td>\n",
       "    </tr>\n",
       "    <tr>\n",
       "      <th>...</th>\n",
       "      <td>...</td>\n",
       "      <td>...</td>\n",
       "      <td>...</td>\n",
       "      <td>...</td>\n",
       "      <td>...</td>\n",
       "    </tr>\n",
       "    <tr>\n",
       "      <th>Mr. Holmes (2015)</th>\n",
       "      <td>3.90</td>\n",
       "      <td>3.95</td>\n",
       "      <td>3.70</td>\n",
       "      <td>4.0</td>\n",
       "      <td>4.0</td>\n",
       "    </tr>\n",
       "    <tr>\n",
       "      <th>'71 (2015)</th>\n",
       "      <td>4.10</td>\n",
       "      <td>3.75</td>\n",
       "      <td>3.60</td>\n",
       "      <td>3.5</td>\n",
       "      <td>3.5</td>\n",
       "    </tr>\n",
       "    <tr>\n",
       "      <th>Two Days, One Night (2014)</th>\n",
       "      <td>3.90</td>\n",
       "      <td>4.40</td>\n",
       "      <td>3.70</td>\n",
       "      <td>3.5</td>\n",
       "      <td>3.5</td>\n",
       "    </tr>\n",
       "    <tr>\n",
       "      <th>Gett: The Trial of Viviane Amsalem (2015)</th>\n",
       "      <td>4.05</td>\n",
       "      <td>3.65</td>\n",
       "      <td>3.90</td>\n",
       "      <td>3.5</td>\n",
       "      <td>3.5</td>\n",
       "    </tr>\n",
       "    <tr>\n",
       "      <th>Kumiko, The Treasure Hunter (2015)</th>\n",
       "      <td>3.15</td>\n",
       "      <td>3.20</td>\n",
       "      <td>3.35</td>\n",
       "      <td>3.5</td>\n",
       "      <td>3.5</td>\n",
       "    </tr>\n",
       "  </tbody>\n",
       "</table>\n",
       "<p>146 rows × 5 columns</p>\n",
       "</div>"
      ],
      "text/plain": [
       "                                           RT_user_norm  Metacritic_user_nom  \\\n",
       "FILM                                                                           \n",
       "Avengers: Age of Ultron (2015)                     4.30                 3.55   \n",
       "Cinderella (2015)                                  4.00                 3.75   \n",
       "Ant-Man (2015)                                     4.50                 4.05   \n",
       "Do You Believe? (2015)                             4.20                 2.35   \n",
       "Hot Tub Time Machine 2 (2015)                      1.40                 1.70   \n",
       "...                                                 ...                  ...   \n",
       "Mr. Holmes (2015)                                  3.90                 3.95   \n",
       "'71 (2015)                                         4.10                 3.75   \n",
       "Two Days, One Night (2014)                         3.90                 4.40   \n",
       "Gett: The Trial of Viviane Amsalem (2015)          4.05                 3.65   \n",
       "Kumiko, The Treasure Hunter (2015)                 3.15                 3.20   \n",
       "\n",
       "                                           IMDB_norm  Fandango_Ratingvalue  \\\n",
       "FILM                                                                         \n",
       "Avengers: Age of Ultron (2015)                  3.90                   4.5   \n",
       "Cinderella (2015)                               3.55                   4.5   \n",
       "Ant-Man (2015)                                  3.90                   4.5   \n",
       "Do You Believe? (2015)                          2.70                   4.5   \n",
       "Hot Tub Time Machine 2 (2015)                   2.55                   3.0   \n",
       "...                                              ...                   ...   \n",
       "Mr. Holmes (2015)                               3.70                   4.0   \n",
       "'71 (2015)                                      3.60                   3.5   \n",
       "Two Days, One Night (2014)                      3.70                   3.5   \n",
       "Gett: The Trial of Viviane Amsalem (2015)       3.90                   3.5   \n",
       "Kumiko, The Treasure Hunter (2015)              3.35                   3.5   \n",
       "\n",
       "                                           Fandango_Stars  \n",
       "FILM                                                       \n",
       "Avengers: Age of Ultron (2015)                        5.0  \n",
       "Cinderella (2015)                                     5.0  \n",
       "Ant-Man (2015)                                        5.0  \n",
       "Do You Believe? (2015)                                5.0  \n",
       "Hot Tub Time Machine 2 (2015)                         3.5  \n",
       "...                                                   ...  \n",
       "Mr. Holmes (2015)                                     4.0  \n",
       "'71 (2015)                                            3.5  \n",
       "Two Days, One Night (2014)                            3.5  \n",
       "Gett: The Trial of Viviane Amsalem (2015)             3.5  \n",
       "Kumiko, The Treasure Hunter (2015)                    3.5  \n",
       "\n",
       "[146 rows x 5 columns]"
      ]
     },
     "execution_count": 2,
     "metadata": {},
     "output_type": "execute_result"
    }
   ],
   "source": [
    "import matplotlib.pyplot as plt\n",
    "from numpy import arange\n",
    "\n",
    "norm_reviews = norm_reviews.set_index('FILM')\n",
    "norm_reviews"
   ]
  },
  {
   "cell_type": "code",
   "execution_count": 3,
   "metadata": {},
   "outputs": [
    {
     "name": "stdout",
     "output_type": "stream",
     "text": [
      "[1 2 3 4 5]\n",
      "RT_user_norm            4.30\n",
      "Metacritic_user_nom     3.55\n",
      "IMDB_norm               3.90\n",
      "Fandango_Ratingvalue    4.50\n",
      "Fandango_Stars          5.00\n",
      "Name: Avengers: Age of Ultron (2015), dtype: float64\n"
     ]
    }
   ],
   "source": [
    "bar_positions = arange(5) + 1\n",
    "\n",
    "num_cols = ['RT_user_norm','Metacritic_user_nom','IMDB_norm','Fandango_Ratingvalue',\n",
    "                        'Fandango_Stars']\n",
    "bar_heights = norm_reviews[num_cols].loc[\"Avengers: Age of Ultron (2015)\"]\n",
    "\n",
    "print(bar_positions)\n",
    "print(bar_heights)"
   ]
  },
  {
   "cell_type": "code",
   "execution_count": 4,
   "metadata": {},
   "outputs": [
    {
     "data": {
      "image/png": "[encoded data removed]",
      "text/plain": [
       "<Figure size 432x288 with 1 Axes>"
      ]
     },
     "metadata": {
      "needs_background": "light"
     },
     "output_type": "display_data"
    }
   ],
   "source": [
    "fig, ax = plt.subplots()\n",
    "ax.bar(bar_positions, bar_heights, width = 0.5)\n",
    "tick_positions = range(1, 6)\n",
    "ax.set_xticks(tick_positions)\n",
    "ax.set_xticklabels(num_cols, rotation = 90)\n",
    "plt.show()"
   ]
  },
  {
   "cell_type": "markdown",
   "metadata": {},
   "source": [
    "## Aligner l'intitulé et le trait sur l'axe x\n",
    "\n",
    "> Créer un sous-graphique et assigner l'objet Figure à la variable fig et l'objet Axes à la\n",
    "variable ax.\n",
    "\n",
    "> Générer un diagramme en barre avec:\n",
    "    \n",
    ">- Les coordonnées x de toutes les barres définie par bar_positions qui doit prendre les valeurs\n",
    "1,2,3,4 et 5\n",
    "\n",
    ">- La hauteur de chaque barres définie par bar_heights qui doit prendre les 5 colonnes qui nous\n",
    "intéressent pour le film ‘Avengers: Age of Ultron (2015)’\n",
    "    \n",
    ">- Avec l’argument width vous pouvez gérer l’épaisseur des barres. Fixé-là à 0.5\n",
    "\n",
    "> Placer les 5 traits correspondant aux barres.\n",
    "\n",
    "> Placer les intitulés de num_cols et faire une rotation de 90 degrés.\n",
    "\n",
    "> Nommer l'axe x par 'Sources de notation'.\n",
    "\n",
    "> Nommer l'axe y par 'Note moyenne'.\n",
    "\n",
    "> Définir le titre par 'Moyenne des notes utilisateurs pour le film Avengers: Age of Ultron\n",
    "(2015)'.\n",
    "\n",
    "> Afficher le diagramme."
   ]
  },
  {
   "cell_type": "code",
   "execution_count": 5,
   "metadata": {},
   "outputs": [
    {
     "data": {
      "image/png": "[encoded data removed]",
      "text/plain": [
       "<Figure size 432x288 with 1 Axes>"
      ]
     },
     "metadata": {
      "needs_background": "light"
     },
     "output_type": "display_data"
    }
   ],
   "source": [
    "bar_positions = arange(5) + 1\n",
    "\n",
    "bar_heights = norm_reviews[num_cols].loc[\"Avengers: Age of Ultron (2015)\"]\n",
    "\n",
    "fig, ax = plt.subplots()\n",
    "\n",
    "ax.bar(bar_positions, bar_heights, width = 0.5)\n",
    "tick_positions = range(1, 6)\n",
    "ax.set_xticks(tick_positions)\n",
    "ax.set_xticklabels(num_cols, rotation = 90)\n",
    "ax.set_xlabel('Sources de notation')\n",
    "ax.set_ylabel(\"Note Moyenne\")\n",
    "ax.set_title(\"Moyenne des notes utilisateurs pour le film Avengers: Age of Ultron (2015)\")\n",
    "plt.show()"
   ]
  },
  {
   "cell_type": "markdown",
   "metadata": {},
   "source": [
    "## Diagramme en barres horizontales\n",
    "\n",
    ">  Créer un sous-graphique et assigner l'objet Figure à la variable fig et l'objet Axes à la\n",
    "variable ax.\n",
    "\n",
    ">  Générer un diagramme en barres avec:\n",
    "    \n",
    ">- bottom pour les positions bar_positions\n",
    "\n",
    ">- width pour la largeur des barres bar_widths\n",
    "\n",
    ">- height fixé à 0.5\n",
    "\n",
    "> Placer les 5 traits correspondants aux barres sur l'axe y.\n",
    "\n",
    ">  Placer les intitulés de num_cols.\n",
    "\n",
    "> Définir l'axe y par 'Sources de notes'.\n",
    "\n",
    "> Définir l'axe x par 'Note moyenne'.\n",
    "\n",
    "> définir le titre par 'Note moyenne utilisateurs pour le film Avengers: Age of Ultron\n",
    "(2015)'.\n",
    "\n",
    ">  Afficher le diagramme en barre."
   ]
  },
  {
   "cell_type": "code",
   "execution_count": 6,
   "metadata": {},
   "outputs": [
    {
     "data": {
      "image/png": "[encoded data removed]",
      "text/plain": [
       "<Figure size 432x288 with 1 Axes>"
      ]
     },
     "metadata": {
      "needs_background": "light"
     },
     "output_type": "display_data"
    }
   ],
   "source": [
    "fig, ax = plt.subplots()\n",
    "\n",
    "ax.barh(bar_positions, bar_heights, height = 0.5)\n",
    "\n",
    "ax.set_xlabel('Note moyenne')\n",
    "ax.set_ylabel(\"Sources de notes\")\n",
    "ax.set_title(\"Note moyenne utilisateurs pour le film Avengers: Age of Ultron (2015)\")\n",
    "ax.set_yticks(bar_positions)\n",
    "ax.set_yticklabels(num_cols)\n",
    "plt.show()"
   ]
  },
  {
   "cell_type": "markdown",
   "metadata": {},
   "source": [
    "## Graphique à nuage de points\n",
    "\n",
    "> Créer un sous-graphique et assigner l'objet Figure à la variable fig et\n",
    "l'objet Axes à la variable ax.\n",
    "\n",
    "> Générer un graphique à nuage de points avec la colonne\n",
    "'Fandango_Ratingvalue' sur l'axe x et et la colonne 'RT_user_norm'\n",
    "pour l'axe y.\n",
    "\n",
    "> Définir pour l'axe x 'Fandango' et 'Rotten Tomatoes' pour l'axe y.\n",
    "\n",
    "> Afficher le graphique résultant."
   ]
  },
  {
   "cell_type": "code",
   "execution_count": 7,
   "metadata": {},
   "outputs": [
    {
     "data": {
      "image/png": "[encoded data removed]",
      "text/plain": [
       "<Figure size 432x288 with 1 Axes>"
      ]
     },
     "metadata": {
      "needs_background": "light"
     },
     "output_type": "display_data"
    }
   ],
   "source": [
    "fig, ax = plt.subplots()\n",
    "\n",
    "ax.plot(norm_reviews[\"Fandango_Ratingvalue\"], norm_reviews[\"RT_user_norm\"],\n",
    "        marker='o', color=\"k\", linestyle='')\n",
    "\n",
    "ax.set_xlabel(\"Fandango\")\n",
    "ax.set_ylabel(\"RT_user_norm\")\n",
    "plt.show()"
   ]
  },
  {
   "cell_type": "markdown",
   "metadata": {},
   "source": [
    "## Intervertir les axes\n",
    "\n",
    "> Assigner à la variable fig la figure retourné par plt.figure()\n",
    "\n",
    "> Nous allons ici créer un graphiques avec deux sous-graphiques à l’aide de la méthode\n",
    "add_subplot() répartie sur une ligne et deux colonnes:\n",
    "    \n",
    ">- Avec fig.add_subplot(...,...,...) assigné à ax1 l’axe de la 1 ère figure.\n",
    "\n",
    ">- Avec fig.add_subplot(...,...,...) assigné à ax1 l’axe de la 2 ème figure.\n",
    "\n",
    "> Pour le sous-graphique associé à la variable ax1.\n",
    "\n",
    ">- Générer un graphique à nuage de points avec la colonne 'Fandango_Ratingvalue' sur l'axe x\n",
    "et la colonne 'RT_user_norm' sur l'axe y\n",
    "\n",
    ">- Définir pour l'axe x 'Fandango' et pour l'axe y 'Rotten Tomatoes'\n",
    "\n",
    "> Pour le sous-graphique associé à la variable ax2.\n",
    "\n",
    ">- Générer un graphique à nuage de points avec la colonne 'RT_user_norm' sur l'axe x et la\n",
    "colonne 'Fandango_Ratingvalue' sur l'axe y\n",
    "\n",
    ">- Définir pour l'axe x 'Rotten Tomatoes' et pour l'axe y 'fandango'\n",
    "\n",
    "> Afficher le graphique résultant."
   ]
  },
  {
   "cell_type": "code",
   "execution_count": 15,
   "metadata": {},
   "outputs": [
    {
     "data": {
      "image/png": "[encoded data removed]",
      "text/plain": [
       "<Figure size 720x360 with 2 Axes>"
      ]
     },
     "metadata": {
      "needs_background": "light"
     },
     "output_type": "display_data"
    }
   ],
   "source": [
    "fig = plt.figure(figsize = [10,5])\n",
    "\n",
    "ax1 = fig.add_subplot(1,2,1)\n",
    "ax2 = fig.add_subplot(1,2,2)\n",
    "\n",
    "ax1.plot(norm_reviews[\"Fandango_Ratingvalue\"], norm_reviews[\"RT_user_norm\"],\n",
    "        marker='o', color=\"k\", linestyle='')\n",
    "ax1.set_xlabel(\"Fandango\")\n",
    "ax1.set_ylabel(\"Rotten Tomatoes\")\n",
    "\n",
    "ax2.plot(norm_reviews[\"RT_user_norm\"], norm_reviews[\"Fandango_Ratingvalue\"], \n",
    "         marker='o', color=\"blue\", linestyle='')\n",
    "ax2.set_xlabel(\"Rotten Tomatoes\")\n",
    "ax2.set_ylabel(\"Fandango\")\n",
    "\n",
    "plt.show()"
   ]
  },
  {
   "cell_type": "markdown",
   "metadata": {},
   "source": [
    "## Comparaison de corrélations\n",
    "Tracer un graphiques avec 3 sous-graphiques:\n",
    "\n",
    "- Pour le sous-graphique associé à la variable ax1:\n",
    "    - Générer un graphique à nuage de points avec la colonne 'Fandango_Ratingvalue' sur l'axe x et la\n",
    "colonne 'RT_user_norm' sur l'axe y\n",
    "    - Définir pour l'axe x 'Fandango' et pour l'axe y 'Rotten Tomatoes'\n",
    "    - Définir les limites des axes x et y en les fixant de 0 à 5 avec .set_xlim(..,..) et set_ylim(..,..)\n",
    "- Pour le sous-graphique associé à la variable ax2:\n",
    "    - Générer un graphique à nuage de points avec la colonne 'Fandango_Ratingvalue' sur l'axe x et la\n",
    "colonne 'Metacritic_user_nom' sur l'axe y\n",
    "    - Définir pour l'axe x 'Fandango' et pour l'axe y 'Metacritic'\n",
    "    - Définir les limites des axes x et y en les fixant de 0 à 5\n",
    "- Pour le sous-graphique associé à la variable ax3:\n",
    "    - Générer un graphique à nuage de points avec la colonne 'Fandango_Ratingvalue' sur l'axe x et la\n",
    "colonne 'IMDB_norm' sur l'axe y\n",
    "    - Définir pour l'axe x 'Fandango' et pour l'axe y 'IMDB'\n",
    "    - Définir les limites des axes x et y en les fixant de 0 à 5\n",
    "- Afficher le graphique."
   ]
  },
  {
   "cell_type": "code",
   "execution_count": 27,
   "metadata": {},
   "outputs": [
    {
     "data": {
      "text/plain": [
       "(0.0, 5.0)"
      ]
     },
     "execution_count": 27,
     "metadata": {},
     "output_type": "execute_result"
    },
    {
     "data": {
      "image/png": "[encoded data removed]",
      "text/plain": [
       "<Figure size 720x360 with 3 Axes>"
      ]
     },
     "metadata": {
      "needs_background": "light"
     },
     "output_type": "display_data"
    }
   ],
   "source": [
    "fig = plt.figure(figsize = (10,5))\n",
    "\n",
    "ax1 = fig.add_subplot(1,3,1)\n",
    "ax2 = fig.add_subplot(1,3,2)\n",
    "ax3 = fig.add_subplot(1,3,3)\n",
    "\n",
    "ax1.plot(norm_reviews[\"Fandango_Ratingvalue\"], norm_reviews[\"RT_user_norm\"],\n",
    "        marker='o', color=\"k\", linestyle='')\n",
    "ax1.set_xlabel(\"Fandango\")\n",
    "ax1.set_ylabel(\"Rotten Tomatoes\")\n",
    "ax1.set_xlim(0,5)\n",
    "ax1.set_ylim(0,5)\n",
    "\n",
    "ax2.plot(norm_reviews[\"Fandango_Ratingvalue\"], norm_reviews[\"Metacritic_user_nom\"], \n",
    "         marker='o', color=\"blue\", linestyle='')\n",
    "ax2.set_xlabel(\"Fandango\")\n",
    "ax2.set_ylabel(\"Metacritic\")\n",
    "ax2.set_xlim(0,5)\n",
    "ax2.set_ylim(0,5)\n",
    "\n",
    "ax3.plot(norm_reviews[\"Fandango_Ratingvalue\"], norm_reviews[\"IMDB_norm\"], \n",
    "         marker='o', color=\"red\", linestyle='')\n",
    "ax3.set_xlabel(\"Fandango\")\n",
    "ax3.set_ylabel(\"IMDB\")\n",
    "ax3.set_xlim(0,5)\n",
    "ax3.set_ylim(0,5)"
   ]
  },
  {
   "cell_type": "code",
   "execution_count": 28,
   "metadata": {},
   "outputs": [
    {
     "data": {
      "text/html": [
       "<div>\n",
       "<style scoped>\n",
       "    .dataframe tbody tr th:only-of-type {\n",
       "        vertical-align: middle;\n",
       "    }\n",
       "\n",
       "    .dataframe tbody tr th {\n",
       "        vertical-align: top;\n",
       "    }\n",
       "\n",
       "    .dataframe thead th {\n",
       "        text-align: right;\n",
       "    }\n",
       "</style>\n",
       "<table border=\"1\" class=\"dataframe\">\n",
       "  <thead>\n",
       "    <tr style=\"text-align: right;\">\n",
       "      <th></th>\n",
       "      <th>RT_user_norm</th>\n",
       "      <th>Metacritic_user_nom</th>\n",
       "      <th>IMDB_norm</th>\n",
       "      <th>Fandango_Ratingvalue</th>\n",
       "      <th>Fandango_Stars</th>\n",
       "    </tr>\n",
       "  </thead>\n",
       "  <tbody>\n",
       "    <tr>\n",
       "      <th>RT_user_norm</th>\n",
       "      <td>1.000000</td>\n",
       "      <td>0.687132</td>\n",
       "      <td>0.895297</td>\n",
       "      <td>0.724329</td>\n",
       "      <td>0.703683</td>\n",
       "    </tr>\n",
       "    <tr>\n",
       "      <th>Metacritic_user_nom</th>\n",
       "      <td>0.687132</td>\n",
       "      <td>1.000000</td>\n",
       "      <td>0.756265</td>\n",
       "      <td>0.336945</td>\n",
       "      <td>0.337497</td>\n",
       "    </tr>\n",
       "    <tr>\n",
       "      <th>IMDB_norm</th>\n",
       "      <td>0.895297</td>\n",
       "      <td>0.756265</td>\n",
       "      <td>1.000000</td>\n",
       "      <td>0.600354</td>\n",
       "      <td>0.587295</td>\n",
       "    </tr>\n",
       "    <tr>\n",
       "      <th>Fandango_Ratingvalue</th>\n",
       "      <td>0.724329</td>\n",
       "      <td>0.336945</td>\n",
       "      <td>0.600354</td>\n",
       "      <td>1.000000</td>\n",
       "      <td>0.959709</td>\n",
       "    </tr>\n",
       "    <tr>\n",
       "      <th>Fandango_Stars</th>\n",
       "      <td>0.703683</td>\n",
       "      <td>0.337497</td>\n",
       "      <td>0.587295</td>\n",
       "      <td>0.959709</td>\n",
       "      <td>1.000000</td>\n",
       "    </tr>\n",
       "  </tbody>\n",
       "</table>\n",
       "</div>"
      ],
      "text/plain": [
       "                      RT_user_norm  Metacritic_user_nom  IMDB_norm  \\\n",
       "RT_user_norm              1.000000             0.687132   0.895297   \n",
       "Metacritic_user_nom       0.687132             1.000000   0.756265   \n",
       "IMDB_norm                 0.895297             0.756265   1.000000   \n",
       "Fandango_Ratingvalue      0.724329             0.336945   0.600354   \n",
       "Fandango_Stars            0.703683             0.337497   0.587295   \n",
       "\n",
       "                      Fandango_Ratingvalue  Fandango_Stars  \n",
       "RT_user_norm                      0.724329        0.703683  \n",
       "Metacritic_user_nom               0.336945        0.337497  \n",
       "IMDB_norm                         0.600354        0.587295  \n",
       "Fandango_Ratingvalue              1.000000        0.959709  \n",
       "Fandango_Stars                    0.959709        1.000000  "
      ]
     },
     "execution_count": 28,
     "metadata": {},
     "output_type": "execute_result"
    }
   ],
   "source": [
    "norm_reviews.corr()"
   ]
  },
  {
   "cell_type": "markdown",
   "metadata": {},
   "source": [
    "# Distribution de fréquences\n",
    "\n",
    "- Utiliser la méthode value_counts() pour retourner le décompte des\n",
    "fréquences de la colonne 'IMDB_norm'. Trier l'objet Series résultant\n",
    "par son index et assigner le résultat à la variable imdb_distribution.\n",
    "\n",
    "- Afficher le résultat.\n",
    "\n",
    "\n",
    "- Créer un sous-graphique et assigner les objets Figure à la variable fig\n",
    "et Axes à la variable ax.\n",
    "\n",
    "- Générer un histogramme des valeurs de la colonne\n",
    "'Fandango_Ratingvalue' en utilisant un range de 0 à 5.\n",
    "\n",
    "- Utiliser plt.show() pour afficher le graphique."
   ]
  },
  {
   "cell_type": "code",
   "execution_count": 33,
   "metadata": {},
   "outputs": [
    {
     "data": {
      "text/plain": [
       "2.00     1\n",
       "2.10     1\n",
       "2.15     1\n",
       "2.20     1\n",
       "2.30     2\n",
       "2.45     2\n",
       "2.50     1\n",
       "2.55     1\n",
       "2.60     2\n",
       "2.70     4\n",
       "2.75     5\n",
       "2.80     2\n",
       "2.85     1\n",
       "2.90     1\n",
       "2.95     3\n",
       "3.00     2\n",
       "3.05     4\n",
       "3.10     1\n",
       "3.15     9\n",
       "3.20     6\n",
       "3.25     4\n",
       "3.30     9\n",
       "3.35     7\n",
       "3.40     1\n",
       "3.45     7\n",
       "3.50     4\n",
       "3.55     7\n",
       "3.60    10\n",
       "3.65     5\n",
       "3.70     8\n",
       "3.75     6\n",
       "3.80     3\n",
       "3.85     4\n",
       "3.90     9\n",
       "3.95     2\n",
       "4.00     1\n",
       "4.05     1\n",
       "4.10     4\n",
       "4.15     1\n",
       "4.20     2\n",
       "4.30     1\n",
       "Name: IMDB_norm, dtype: int64"
      ]
     },
     "execution_count": 33,
     "metadata": {},
     "output_type": "execute_result"
    }
   ],
   "source": [
    "imdb_distribution = norm_reviews['IMDB_norm'].value_counts().sort_index()\n",
    "imdb_distribution"
   ]
  },
  {
   "cell_type": "code",
   "execution_count": 39,
   "metadata": {},
   "outputs": [
    {
     "data": {
      "image/png": "[encoded data removed]",
      "text/plain": [
       "<Figure size 432x288 with 1 Axes>"
      ]
     },
     "metadata": {
      "needs_background": "light"
     },
     "output_type": "display_data"
    }
   ],
   "source": [
    "fig, ax = plt.subplots()\n",
    "\n",
    "\n",
    "ax.hist(norm_reviews['Fandango_Ratingvalue'],range=(0,5), bins = 20)\n",
    "plt.show()"
   ]
  },
  {
   "cell_type": "markdown",
   "metadata": {},
   "source": [
    "# Comparaison d'histogrammes\n",
    "\n",
    "Tracer un graphique avec 4 sous-graphiques:\n",
    "    \n",
    "- Pour le sous-graphique associé à la variable ax1:\n",
    "  - Générer un histogramme des valeurs de la colonne 'Fandango_Ratingvalue' en utilisant 20 classes (argument\n",
    "bins=20) et un intervalle de 0 à 5 (argument range=(0,5)).\n",
    "\n",
    "- Pour le sous-graphique associé à la variable ax2:\n",
    "  - Générer un histogramme des valeurs de la colonne 'RT_user_norm' en utilisant 20 classes (bins) et un\n",
    "intervalle de 0 à 5\n",
    "\n",
    "- Pour le sous-graphique associé à la variable ax3:\n",
    "  - Générer un histogramme des valeurs de la colonne 'Metacritic_user_nom' en utilisant 20 classes (bins) et un\n",
    "intervalle de 0 à 5\n",
    "\n",
    "- Pour le sous-graphique associé à la variable ax4:\n",
    "  - Générer un histogramme des valeurs de la colonne 'IMDB_norm' en utilisant 20 classes (bins) et un intervalle\n",
    "de 0 à 5\n",
    "\n",
    "- Pour tous les graphiques définir l'intervalle sur l'axe y de 0 à 50 en utilisant Axes.set_ylim() et\n",
    "choisir un titre.\n",
    "\n",
    "- Afficher les histogrammes."
   ]
  },
  {
   "cell_type": "code",
   "execution_count": 41,
   "metadata": {},
   "outputs": [
    {
     "data": {
      "text/plain": [
       "Text(0.5, 1.0, 'Notation des films par IMDB')"
      ]
     },
     "execution_count": 41,
     "metadata": {},
     "output_type": "execute_result"
    },
    {
     "data": {
      "image/png": "[encoded data removed]",
      "text/plain": [
       "<Figure size 720x720 with 4 Axes>"
      ]
     },
     "metadata": {
      "needs_background": "light"
     },
     "output_type": "display_data"
    }
   ],
   "source": [
    "fig = plt.figure(figsize = (10,10))\n",
    "\n",
    "ax1 = fig.add_subplot(2,2,1)\n",
    "ax2 = fig.add_subplot(2,2,2)\n",
    "ax3 = fig.add_subplot(2,2,3)\n",
    "ax4 = fig.add_subplot(2,2,4)\n",
    "\n",
    "ax1.hist(norm_reviews[\"Fandango_Ratingvalue\"], bins = 20, range = (0,5))\n",
    "ax1.set_ylim(0,50)\n",
    "ax1.set_title(\"Notation des films par Fandango\")\n",
    "\n",
    "ax2.hist(norm_reviews[\"RT_user_norm\"], bins = 20, range = (0,5))\n",
    "ax2.set_ylim(0,50)\n",
    "ax2.set_title(\"Notation des films par Rotten Tomatoes\")\n",
    "\n",
    "ax3.hist(norm_reviews[\"Metacritic_user_nom\"], bins = 20, range = (0,5))\n",
    "ax3.set_ylim(0,50)\n",
    "ax3.set_title(\"Notation des films par Metacritic\")\n",
    "\n",
    "ax4.hist(norm_reviews[\"IMDB_norm\"], bins = 20, range = (0,5))\n",
    "ax4.set_ylim(0,50)\n",
    "ax4.set_title(\"Notation des films par IMDB\")\n",
    "\n"
   ]
  },
  {
   "cell_type": "markdown",
   "metadata": {},
   "source": [
    "# Plusieurs diagrammes à boîtes\n",
    "\n",
    "- Créer un sous-graphique et assigner les objets Figure à la variable fig\n",
    "et Axes à la variable ax.\n",
    "\n",
    "- Générer un diagramme à boîtes pour chaque colonne de num_cols =\n",
    "['RT_user_norm', 'Metacritic_user_nom', 'IMDB_norm',\n",
    "'Fandango_Ratingvalue'].\n",
    "\n",
    "- Définir pour chaque diagramme un intitulé correspondant au nom de\n",
    "la colonne num_cols et faire une rotation à 90 degrés de cet intitulé.\n",
    "\n",
    "- Définir l'intervalle de l'axe y de 0 à 5.\n",
    "\n",
    "- Afficher le graphique"
   ]
  },
  {
   "cell_type": "code",
   "execution_count": 42,
   "metadata": {},
   "outputs": [
    {
     "data": {
      "image/png": "[encoded data removed]",
      "text/plain": [
       "<Figure size 432x288 with 1 Axes>"
      ]
     },
     "metadata": {
      "needs_background": "light"
     },
     "output_type": "display_data"
    }
   ],
   "source": [
    "fig, ax = plt.subplots()\n",
    "plt.boxplot(norm_reviews[num_cols])\n",
    "ax.set_xticklabels(num_cols, rotation = 90)\n",
    "ax.set_ylim(0,5)\n",
    "\n",
    "plt.show()"
   ]
  },
  {
   "cell_type": "code",
   "execution_count": null,
   "metadata": {},
   "outputs": [],
   "source": []
  }
 ],
 "metadata": {
  "kernelspec": {
   "display_name": "Python 3",
   "language": "python",
   "name": "python3"
  },
  "language_info": {
   "codemirror_mode": {
    "name": "ipython",
    "version": 3
   },
   "file_extension": ".py",
   "mimetype": "text/x-python",
   "name": "python",
   "nbconvert_exporter": "python",
   "pygments_lexer": "ipython3",
   "version": "3.8.5"
  }
 },
 "nbformat": 4,
 "nbformat_minor": 5
}
